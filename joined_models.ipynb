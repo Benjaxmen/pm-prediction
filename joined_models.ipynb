{
 "cells": [
  {
   "cell_type": "code",
   "execution_count": 7,
   "metadata": {},
   "outputs": [],
   "source": [
    "import imageio\n",
    "import os\n",
    "import pydot\n",
    "import numpy as np\n",
    "import pandas as pd\n",
    "from sklearn.model_selection import train_test_split\n",
    "import tensorflow as tf"
   ]
  },
  {
   "cell_type": "code",
   "execution_count": 8,
   "metadata": {},
   "outputs": [],
   "source": [
    "def preprocess_imagery(path):\n",
    "    '''\n",
    "    Pre process satellite imagery. We check for nans in the composite images,\n",
    "    and then we load them into the [0,1] range.\n",
    "    Input: TIF files downloaded from GEE (224x224x7)\n",
    "    '''\n",
    "    # Reading image\n",
    "    path = str(path).strip('b').strip(\"'\")\n",
    "    path=\"C:/Users/benja/Desktop/tesis/GEE_Images/\"+path+\".tif\"\n",
    "    image = (imageio.imread(path))\n",
    "    \"\"\"if np.sum(np.isnan(image)) > 0:\n",
    "        # Taking the mean of the image, per channel\n",
    "        mean = np.nanmean(image, axis=(0, 1))\n",
    "        # Replacing NaN with per channel mean\n",
    "        replacement = np.isnan(image) * mean\n",
    "        image[np.isnan(image)] = replacement[np.isnan(image)]  \n",
    "        nan_channels = np.all(np.isnan(image), axis=(0, 1))\n",
    "        # Replacing NaN with 0 where all values in a channel are NaN\n",
    "        image[:, :, nan_channels] = np.nan_to_num(image[:, :, nan_channels])\n",
    "    # Scale the image to [0, 1] range\n",
    "    image = image / 255\"\"\"\n",
    "    return image"
   ]
  },
  {
   "cell_type": "code",
   "execution_count": 9,
   "metadata": {},
   "outputs": [
    {
     "name": "stdout",
     "output_type": "stream",
     "text": [
      "      mp10    station    mp2.5  dirviento  tamb  so2  velviento     hrel  \\\n",
      "0  178.542  El_bosque  49.7829    221.195   NaN  9.5   0.950428  40.5833   \n",
      "1  178.542  El_bosque  49.7829    221.195   NaN  9.5   0.950428  40.5833   \n",
      "2  178.542  El_bosque  49.7829    221.195   NaN  9.5   0.950428  40.5833   \n",
      "3  178.542  El_bosque  49.7829    221.195   NaN  9.5   0.950428  40.5833   \n",
      "4  146.042  El_bosque  49.7829    221.195   NaN  9.5   0.950428  40.5833   \n",
      "\n",
      "       no2       o3  ...       no        co  region        Date  Year  Month  \\\n",
      "0  30.3333  16.9167  ...  34.8333  0.929165       1  1997-04-02  1997      4   \n",
      "1  30.3333  12.4583  ...  34.8333  0.929165       1  1997-04-03  1997      4   \n",
      "2  30.3333  23.2083  ...  34.8333  0.929165       1  1997-04-04  1997      4   \n",
      "3  30.3333  28.2917  ...  34.8333  0.929165       1  1997-04-05  1997      4   \n",
      "4  30.3333  21.2083  ...  34.8333  1.204160       1  1997-04-06  1997      4   \n",
      "\n",
      "   Day        lat       long  image  \n",
      "0    2 -33.547016 -70.666163   None  \n",
      "1    3 -33.547016 -70.666163   None  \n",
      "2    4 -33.547016 -70.666163   None  \n",
      "3    5 -33.547016 -70.666163   None  \n",
      "4    6 -33.547016 -70.666163   None  \n",
      "\n",
      "[5 rows x 21 columns]\n"
     ]
    }
   ],
   "source": [
    "image_files = [f for f in os.listdir(\"../GEE_Images\")]\n",
    "image_info = []\n",
    "df = pd.read_csv('processed_data.csv')\n",
    "\n",
    "for image in image_files:\n",
    "    name, _ = os.path.splitext(image)\n",
    "    # Extraer estación y fecha de las imágenes\n",
    "    station = '_'.join(name.split(' ')[0].split('_')[:-1])\n",
    "    date = name.split(' ')[0].split('_')[-1]\n",
    "    image_info.append([station, date,name])\n",
    "\n",
    "# Añadimos una columna para asociar imágenes en df\n",
    "df['image'] = None  # Inicialmente sin imágenes asociadas\n",
    "\n",
    "# Ahora asociamos cada imagen a su registro en df\n",
    "for info in image_info:\n",
    "    df.loc[(df['station'] == info[0]) & (df['Date'] == info[1]), 'image'] = info[2]\n",
    "\n",
    "# Verificar que las imágenes se han asignado correctamente\n",
    "print(df.head())\n"
   ]
  },
  {
   "cell_type": "code",
   "execution_count": 10,
   "metadata": {},
   "outputs": [
    {
     "data": {
      "text/plain": [
       "count                             51782\n",
       "unique                            51782\n",
       "top       El_bosque_1997-07-01 00_00_00\n",
       "freq                                  1\n",
       "Name: image, dtype: object"
      ]
     },
     "execution_count": 10,
     "metadata": {},
     "output_type": "execute_result"
    }
   ],
   "source": [
    "df['image'].describe()"
   ]
  },
  {
   "cell_type": "code",
   "execution_count": 11,
   "metadata": {},
   "outputs": [],
   "source": [
    "df_Scaled=df.copy()\n",
    "# Crear un diccionario para almacenar los datos de cada locación\n",
    "df_Scaled.fillna(value=0,inplace=True)\n",
    "grouped_data = {location: location_df.sort_values(by='Date') for location, location_df in df_Scaled.groupby('station')}"
   ]
  },
  {
   "cell_type": "code",
   "execution_count": 12,
   "metadata": {},
   "outputs": [
    {
     "data": {
      "text/plain": [
       "146624                                0\n",
       "146625                                0\n",
       "146626                                0\n",
       "146627                                0\n",
       "146628                                0\n",
       "                      ...              \n",
       "151912                                0\n",
       "151913                                0\n",
       "151914                                0\n",
       "151915                                0\n",
       "151916    talagante_2024-04-22 00_00_00\n",
       "Name: image, Length: 5293, dtype: object"
      ]
     },
     "execution_count": 12,
     "metadata": {},
     "output_type": "execute_result"
    }
   ],
   "source": [
    "grouped_data['talagante']['image']"
   ]
  },
  {
   "cell_type": "code",
   "execution_count": 13,
   "metadata": {},
   "outputs": [
    {
     "name": "stdout",
     "output_type": "stream",
     "text": [
      "El promedio de días entre imágenes es: 3.73\n",
      "El máximo de días entre imágenes es: 494.00\n",
      "El mínimo de días entre imágenes es: 1.00\n",
      "La desviación estándar imágenes es: 13.48\n"
     ]
    }
   ],
   "source": [
    "import numpy as np\n",
    "import pandas as pd\n",
    "\n",
    "# Obtener la serie de fechas e imágenes\n",
    "date_series = grouped_data['talagante']['Date'].values  # Asegúrate de tener una columna 'Date' en el dataset\n",
    "image_series = grouped_data['talagante']['image'].values\n",
    "\n",
    "# Convertir las fechas a formato datetime\n",
    "date_series = pd.to_datetime(date_series)\n",
    "\n",
    "# Crear una lista para almacenar las diferencias de días entre imágenes\n",
    "day_differences = []\n",
    "\n",
    "# Guardar la fecha de la última imagen válida\n",
    "last_image_date = None\n",
    "\n",
    "# Recorrer todas las fechas e imágenes\n",
    "for date, image in zip(date_series, image_series):\n",
    "    if image!=0:  # Si hay una imagen válida\n",
    "        if last_image_date is not None:\n",
    "            # Calcular la diferencia de días con la última imagen válida\n",
    "            days_between = (date - last_image_date).days\n",
    "            day_differences.append(days_between)\n",
    "        \n",
    "        # Actualizar la última fecha con imagen válida\n",
    "        last_image_date = date\n",
    "\n",
    "# Calcular el promedio de días entre imágenes\n",
    "if day_differences:\n",
    "    avg_days_between_images = np.mean(day_differences)\n",
    "    print(f\"El promedio de días entre imágenes es: {avg_days_between_images:.2f}\")\n",
    "    avg_days_between_images = np.max(day_differences)\n",
    "    print(f\"El máximo de días entre imágenes es: {avg_days_between_images:.2f}\")\n",
    "    avg_days_between_images = np.min(day_differences)\n",
    "    print(f\"El mínimo de días entre imágenes es: {avg_days_between_images:.2f}\")\n",
    "    avg_days_between_images = np.std(day_differences)\n",
    "    print(f\"La desviación estándar imágenes es: {avg_days_between_images:.2f}\")\n",
    "else:\n",
    "    print(\"No se encontraron suficientes imágenes para calcular la diferencia.\")\n"
   ]
  },
  {
   "cell_type": "code",
   "execution_count": 14,
   "metadata": {},
   "outputs": [
    {
     "data": {
      "text/plain": [
       "<Axes: ylabel='Count'>"
      ]
     },
     "execution_count": 14,
     "metadata": {},
     "output_type": "execute_result"
    },
    {
     "data": {
      "image/png": "[encoded data removed]",
      "text/plain": [
       "<Figure size 640x480 with 1 Axes>"
      ]
     },
     "metadata": {},
     "output_type": "display_data"
    }
   ],
   "source": [
    "import seaborn as sns\n",
    "sns.histplot(day_differences,bins=100)"
   ]
  },
  {
   "cell_type": "code",
   "execution_count": 76,
   "metadata": {},
   "outputs": [
    {
     "name": "stdout",
     "output_type": "stream",
     "text": [
      "Secuencias con imagen: 4360\n",
      "Secuencias sin imagen: 923\n"
     ]
    }
   ],
   "source": [
    "import pandas as pd\n",
    "\n",
    "# Definir el número de días en cada secuencia (sequence_length)\n",
    "sequence_length = 10  # o el valor que estés usando para la LSTM\n",
    "\n",
    "# Obtener la serie de imágenes\n",
    "image_series = grouped_data['talagante']['image'].values\n",
    "\n",
    "# Variables para contar secuencias con y sin imagen\n",
    "sequences_with_image = 0\n",
    "sequences_without_image = 0\n",
    "\n",
    "# Recorrer los datos de 'image' en bloques de sequence_length\n",
    "for i in range(sequence_length, len(image_series)):\n",
    "    # Seleccionar la secuencia de `sequence_length` días\n",
    "    image_associated = image_series[i-sequence_length:i]\n",
    "    \n",
    "    # Buscar una imagen en la secuencia (la más cercana al último día)\n",
    "    image_file = next((img for img in reversed(image_associated) if img!=0), None)\n",
    "    \n",
    "    if image_file:\n",
    "        sequences_with_image += 1  # Secuencia tiene una imagen válida\n",
    "    else:\n",
    "        sequences_without_image += 1  # Secuencia no tiene imagen\n",
    "\n",
    "# Imprimir los resultados\n",
    "print(f\"Secuencias con imagen: {sequences_with_image}\")\n",
    "print(f\"Secuencias sin imagen: {sequences_without_image}\")\n"
   ]
  },
  {
   "cell_type": "code",
   "execution_count": 16,
   "metadata": {},
   "outputs": [
    {
     "name": "stdout",
     "output_type": "stream",
     "text": [
      "Forma de X: (103015, 7, 17), Forma de y: (103015, 1), Total de imágenes: (103015,)\n",
      "Train set: X=(72110, 7, 17), y=(72110, 1), images=(72110,)\n",
      "Test set: X=(20706, 7, 17), y=(20706, 1), images=(20706,)\n",
      "Validation set: X=(10199, 7, 17), y=(10199, 1), images=(10199,)\n"
     ]
    }
   ],
   "source": [
    "from sklearn.model_selection import train_test_split\n",
    "import numpy as np\n",
    "from sklearn.preprocessing import MinMaxScaler\n",
    "\n",
    "\n",
    "# Definir la longitud de la secuencia para la LSTM\n",
    "sequence_length = 7  # Supongamos que usas 7 días para la LSTM\n",
    "\n",
    "# Variables para almacenar las secuencias, el target y las imágenes\n",
    "X, y, images = [], [], []\n",
    "\n",
    "# Recorre los datos por locación\n",
    "for location, location_df in grouped_data.items():\n",
    "    features = location_df.drop(['Date', 'station', 'mp10', 'image'], axis=1).values\n",
    "    target = location_df['mp10'].values\n",
    "    image_series = location_df['image'].values\n",
    "\n",
    "    for i in range(sequence_length, len(features)):\n",
    "        # Crear secuencia de entrada de `sequence_length` días\n",
    "        sequence_features = features[i-sequence_length:i]\n",
    "        sequence_target = target[i]\n",
    "        \n",
    "        # Buscar una imagen en la secuencia (la más cercana al último día de la secuencia)\n",
    "        image_associated = image_series[i-sequence_length:i]\n",
    "        image_file = next((img for img in reversed(image_associated) if img != 0), None)\n",
    "        \n",
    "        # Añadir solo si hay una imagen válida asociada\n",
    "        if image_file:\n",
    "            X.append(sequence_features)\n",
    "            y.append(sequence_target)\n",
    "            images.append(image_file)\n",
    "\n",
    "# Convertir las listas a arrays de numpy\n",
    "X, y = np.array(X), np.array(y)\n",
    "images = np.array(images)\n",
    "\n",
    "# Normalizar características de entrada\n",
    "scaler_X = MinMaxScaler()\n",
    "X_reshaped = X.reshape(-1, X.shape[-1])\n",
    "X_normalized = scaler_X.fit_transform(X_reshaped)\n",
    "X = X_normalized.reshape(X.shape)\n",
    "\n",
    "scaler_y = MinMaxScaler()\n",
    "y = scaler_y.fit_transform(y.reshape(-1, 1))\n",
    "\n",
    "print(f\"Forma de X: {X.shape}, Forma de y: {y.shape}, Total de imágenes: {images.shape}\")\n",
    "\n",
    "# Dividir los datos en 70% entrenamiento, 20% test, 10% validación\n",
    "X_train, X_temp, y_train, y_temp, images_train, images_temp = train_test_split(X, y, images, test_size=0.30, random_state=42)\n",
    "\n",
    "# Dividir el 30% restante en 20% test y 10% validación\n",
    "X_test, X_val, y_test, y_val, images_test, images_val = train_test_split(X_temp, y_temp, images_temp, test_size=0.33, random_state=42)  # 0.33 * 0.30 = ~0.10\n",
    "\n",
    "# Imprimir las formas para verificar las divisiones\n",
    "print(f\"Train set: X={X_train.shape}, y={y_train.shape}, images={images_train.shape}\")\n",
    "print(f\"Test set: X={X_test.shape}, y={y_test.shape}, images={images_test.shape}\")\n",
    "print(f\"Validation set: X={X_val.shape}, y={y_val.shape}, images={images_val.shape}\")\n"
   ]
  },
  {
   "cell_type": "code",
   "execution_count": 17,
   "metadata": {},
   "outputs": [
    {
     "data": {
      "text/html": [
       "<pre style=\"white-space:pre;overflow-x:auto;line-height:normal;font-family:Menlo,'DejaVu Sans Mono',consolas,'Courier New',monospace\"><span style=\"font-weight: bold\">Model: \"functional_1\"</span>\n",
       "</pre>\n"
      ],
      "text/plain": [
       "\u001b[1mModel: \"functional_1\"\u001b[0m\n"
      ]
     },
     "metadata": {},
     "output_type": "display_data"
    },
    {
     "data": {
      "text/html": [
       "<pre style=\"white-space:pre;overflow-x:auto;line-height:normal;font-family:Menlo,'DejaVu Sans Mono',consolas,'Courier New',monospace\">┏━━━━━━━━━━━━━━━━━━━━━┳━━━━━━━━━━━━━━━━━━━┳━━━━━━━━━━━━┳━━━━━━━━━━━━━━━━━━━┓\n",
       "┃<span style=\"font-weight: bold\"> Layer (type)        </span>┃<span style=\"font-weight: bold\"> Output Shape      </span>┃<span style=\"font-weight: bold\">    Param # </span>┃<span style=\"font-weight: bold\"> Connected to      </span>┃\n",
       "┡━━━━━━━━━━━━━━━━━━━━━╇━━━━━━━━━━━━━━━━━━━╇━━━━━━━━━━━━╇━━━━━━━━━━━━━━━━━━━┩\n",
       "│ input_layer         │ (<span style=\"color: #00d7ff; text-decoration-color: #00d7ff\">None</span>, <span style=\"color: #00af00; text-decoration-color: #00af00\">224</span>, <span style=\"color: #00af00; text-decoration-color: #00af00\">224</span>,  │          <span style=\"color: #00af00; text-decoration-color: #00af00\">0</span> │ -                 │\n",
       "│ (<span style=\"color: #0087ff; text-decoration-color: #0087ff\">InputLayer</span>)        │ <span style=\"color: #00af00; text-decoration-color: #00af00\">6</span>)                │            │                   │\n",
       "├─────────────────────┼───────────────────┼────────────┼───────────────────┤\n",
       "│ conv2d (<span style=\"color: #0087ff; text-decoration-color: #0087ff\">Conv2D</span>)     │ (<span style=\"color: #00d7ff; text-decoration-color: #00d7ff\">None</span>, <span style=\"color: #00af00; text-decoration-color: #00af00\">222</span>, <span style=\"color: #00af00; text-decoration-color: #00af00\">222</span>,  │        <span style=\"color: #00af00; text-decoration-color: #00af00\">880</span> │ input_layer[<span style=\"color: #00af00; text-decoration-color: #00af00\">0</span>][<span style=\"color: #00af00; text-decoration-color: #00af00\">0</span>] │\n",
       "│                     │ <span style=\"color: #00af00; text-decoration-color: #00af00\">16</span>)               │            │                   │\n",
       "├─────────────────────┼───────────────────┼────────────┼───────────────────┤\n",
       "│ average_pooling2d   │ (<span style=\"color: #00d7ff; text-decoration-color: #00d7ff\">None</span>, <span style=\"color: #00af00; text-decoration-color: #00af00\">111</span>, <span style=\"color: #00af00; text-decoration-color: #00af00\">111</span>,  │          <span style=\"color: #00af00; text-decoration-color: #00af00\">0</span> │ conv2d[<span style=\"color: #00af00; text-decoration-color: #00af00\">0</span>][<span style=\"color: #00af00; text-decoration-color: #00af00\">0</span>]      │\n",
       "│ (<span style=\"color: #0087ff; text-decoration-color: #0087ff\">AveragePooling2D</span>)  │ <span style=\"color: #00af00; text-decoration-color: #00af00\">16</span>)               │            │                   │\n",
       "├─────────────────────┼───────────────────┼────────────┼───────────────────┤\n",
       "│ conv2d_1 (<span style=\"color: #0087ff; text-decoration-color: #0087ff\">Conv2D</span>)   │ (<span style=\"color: #00d7ff; text-decoration-color: #00d7ff\">None</span>, <span style=\"color: #00af00; text-decoration-color: #00af00\">109</span>, <span style=\"color: #00af00; text-decoration-color: #00af00\">109</span>,  │      <span style=\"color: #00af00; text-decoration-color: #00af00\">4,640</span> │ average_pooling2… │\n",
       "│                     │ <span style=\"color: #00af00; text-decoration-color: #00af00\">32</span>)               │            │                   │\n",
       "├─────────────────────┼───────────────────┼────────────┼───────────────────┤\n",
       "│ average_pooling2d_1 │ (<span style=\"color: #00d7ff; text-decoration-color: #00d7ff\">None</span>, <span style=\"color: #00af00; text-decoration-color: #00af00\">54</span>, <span style=\"color: #00af00; text-decoration-color: #00af00\">54</span>,    │          <span style=\"color: #00af00; text-decoration-color: #00af00\">0</span> │ conv2d_1[<span style=\"color: #00af00; text-decoration-color: #00af00\">0</span>][<span style=\"color: #00af00; text-decoration-color: #00af00\">0</span>]    │\n",
       "│ (<span style=\"color: #0087ff; text-decoration-color: #0087ff\">AveragePooling2D</span>)  │ <span style=\"color: #00af00; text-decoration-color: #00af00\">32</span>)               │            │                   │\n",
       "├─────────────────────┼───────────────────┼────────────┼───────────────────┤\n",
       "│ conv2d_2 (<span style=\"color: #0087ff; text-decoration-color: #0087ff\">Conv2D</span>)   │ (<span style=\"color: #00d7ff; text-decoration-color: #00d7ff\">None</span>, <span style=\"color: #00af00; text-decoration-color: #00af00\">52</span>, <span style=\"color: #00af00; text-decoration-color: #00af00\">52</span>,    │      <span style=\"color: #00af00; text-decoration-color: #00af00\">9,248</span> │ average_pooling2… │\n",
       "│                     │ <span style=\"color: #00af00; text-decoration-color: #00af00\">32</span>)               │            │                   │\n",
       "├─────────────────────┼───────────────────┼────────────┼───────────────────┤\n",
       "│ average_pooling2d_2 │ (<span style=\"color: #00d7ff; text-decoration-color: #00d7ff\">None</span>, <span style=\"color: #00af00; text-decoration-color: #00af00\">26</span>, <span style=\"color: #00af00; text-decoration-color: #00af00\">26</span>,    │          <span style=\"color: #00af00; text-decoration-color: #00af00\">0</span> │ conv2d_2[<span style=\"color: #00af00; text-decoration-color: #00af00\">0</span>][<span style=\"color: #00af00; text-decoration-color: #00af00\">0</span>]    │\n",
       "│ (<span style=\"color: #0087ff; text-decoration-color: #0087ff\">AveragePooling2D</span>)  │ <span style=\"color: #00af00; text-decoration-color: #00af00\">32</span>)               │            │                   │\n",
       "├─────────────────────┼───────────────────┼────────────┼───────────────────┤\n",
       "│ conv2d_3 (<span style=\"color: #0087ff; text-decoration-color: #0087ff\">Conv2D</span>)   │ (<span style=\"color: #00d7ff; text-decoration-color: #00d7ff\">None</span>, <span style=\"color: #00af00; text-decoration-color: #00af00\">24</span>, <span style=\"color: #00af00; text-decoration-color: #00af00\">24</span>,    │      <span style=\"color: #00af00; text-decoration-color: #00af00\">9,248</span> │ average_pooling2… │\n",
       "│                     │ <span style=\"color: #00af00; text-decoration-color: #00af00\">32</span>)               │            │                   │\n",
       "├─────────────────────┼───────────────────┼────────────┼───────────────────┤\n",
       "│ average_pooling2d_3 │ (<span style=\"color: #00d7ff; text-decoration-color: #00d7ff\">None</span>, <span style=\"color: #00af00; text-decoration-color: #00af00\">12</span>, <span style=\"color: #00af00; text-decoration-color: #00af00\">12</span>,    │          <span style=\"color: #00af00; text-decoration-color: #00af00\">0</span> │ conv2d_3[<span style=\"color: #00af00; text-decoration-color: #00af00\">0</span>][<span style=\"color: #00af00; text-decoration-color: #00af00\">0</span>]    │\n",
       "│ (<span style=\"color: #0087ff; text-decoration-color: #0087ff\">AveragePooling2D</span>)  │ <span style=\"color: #00af00; text-decoration-color: #00af00\">32</span>)               │            │                   │\n",
       "├─────────────────────┼───────────────────┼────────────┼───────────────────┤\n",
       "│ flatten (<span style=\"color: #0087ff; text-decoration-color: #0087ff\">Flatten</span>)   │ (<span style=\"color: #00d7ff; text-decoration-color: #00d7ff\">None</span>, <span style=\"color: #00af00; text-decoration-color: #00af00\">4608</span>)      │          <span style=\"color: #00af00; text-decoration-color: #00af00\">0</span> │ average_pooling2… │\n",
       "├─────────────────────┼───────────────────┼────────────┼───────────────────┤\n",
       "│ input_layer_1       │ (<span style=\"color: #00d7ff; text-decoration-color: #00d7ff\">None</span>, <span style=\"color: #00af00; text-decoration-color: #00af00\">7</span>, <span style=\"color: #00af00; text-decoration-color: #00af00\">17</span>)     │          <span style=\"color: #00af00; text-decoration-color: #00af00\">0</span> │ -                 │\n",
       "│ (<span style=\"color: #0087ff; text-decoration-color: #0087ff\">InputLayer</span>)        │                   │            │                   │\n",
       "├─────────────────────┼───────────────────┼────────────┼───────────────────┤\n",
       "│ dense (<span style=\"color: #0087ff; text-decoration-color: #0087ff\">Dense</span>)       │ (<span style=\"color: #00d7ff; text-decoration-color: #00d7ff\">None</span>, <span style=\"color: #00af00; text-decoration-color: #00af00\">128</span>)       │    <span style=\"color: #00af00; text-decoration-color: #00af00\">589,952</span> │ flatten[<span style=\"color: #00af00; text-decoration-color: #00af00\">0</span>][<span style=\"color: #00af00; text-decoration-color: #00af00\">0</span>]     │\n",
       "├─────────────────────┼───────────────────┼────────────┼───────────────────┤\n",
       "│ lstm (<span style=\"color: #0087ff; text-decoration-color: #0087ff\">LSTM</span>)         │ (<span style=\"color: #00d7ff; text-decoration-color: #00d7ff\">None</span>, <span style=\"color: #00af00; text-decoration-color: #00af00\">7</span>, <span style=\"color: #00af00; text-decoration-color: #00af00\">50</span>)     │     <span style=\"color: #00af00; text-decoration-color: #00af00\">13,600</span> │ input_layer_1[<span style=\"color: #00af00; text-decoration-color: #00af00\">0</span>]… │\n",
       "├─────────────────────┼───────────────────┼────────────┼───────────────────┤\n",
       "│ dropout (<span style=\"color: #0087ff; text-decoration-color: #0087ff\">Dropout</span>)   │ (<span style=\"color: #00d7ff; text-decoration-color: #00d7ff\">None</span>, <span style=\"color: #00af00; text-decoration-color: #00af00\">128</span>)       │          <span style=\"color: #00af00; text-decoration-color: #00af00\">0</span> │ dense[<span style=\"color: #00af00; text-decoration-color: #00af00\">0</span>][<span style=\"color: #00af00; text-decoration-color: #00af00\">0</span>]       │\n",
       "├─────────────────────┼───────────────────┼────────────┼───────────────────┤\n",
       "│ lstm_1 (<span style=\"color: #0087ff; text-decoration-color: #0087ff\">LSTM</span>)       │ (<span style=\"color: #00d7ff; text-decoration-color: #00d7ff\">None</span>, <span style=\"color: #00af00; text-decoration-color: #00af00\">50</span>)        │     <span style=\"color: #00af00; text-decoration-color: #00af00\">20,200</span> │ lstm[<span style=\"color: #00af00; text-decoration-color: #00af00\">0</span>][<span style=\"color: #00af00; text-decoration-color: #00af00\">0</span>]        │\n",
       "├─────────────────────┼───────────────────┼────────────┼───────────────────┤\n",
       "│ concatenate         │ (<span style=\"color: #00d7ff; text-decoration-color: #00d7ff\">None</span>, <span style=\"color: #00af00; text-decoration-color: #00af00\">178</span>)       │          <span style=\"color: #00af00; text-decoration-color: #00af00\">0</span> │ dropout[<span style=\"color: #00af00; text-decoration-color: #00af00\">0</span>][<span style=\"color: #00af00; text-decoration-color: #00af00\">0</span>],    │\n",
       "│ (<span style=\"color: #0087ff; text-decoration-color: #0087ff\">Concatenate</span>)       │                   │            │ lstm_1[<span style=\"color: #00af00; text-decoration-color: #00af00\">0</span>][<span style=\"color: #00af00; text-decoration-color: #00af00\">0</span>]      │\n",
       "├─────────────────────┼───────────────────┼────────────┼───────────────────┤\n",
       "│ dense_1 (<span style=\"color: #0087ff; text-decoration-color: #0087ff\">Dense</span>)     │ (<span style=\"color: #00d7ff; text-decoration-color: #00d7ff\">None</span>, <span style=\"color: #00af00; text-decoration-color: #00af00\">128</span>)       │     <span style=\"color: #00af00; text-decoration-color: #00af00\">22,912</span> │ concatenate[<span style=\"color: #00af00; text-decoration-color: #00af00\">0</span>][<span style=\"color: #00af00; text-decoration-color: #00af00\">0</span>] │\n",
       "├─────────────────────┼───────────────────┼────────────┼───────────────────┤\n",
       "│ dropout_1 (<span style=\"color: #0087ff; text-decoration-color: #0087ff\">Dropout</span>) │ (<span style=\"color: #00d7ff; text-decoration-color: #00d7ff\">None</span>, <span style=\"color: #00af00; text-decoration-color: #00af00\">128</span>)       │          <span style=\"color: #00af00; text-decoration-color: #00af00\">0</span> │ dense_1[<span style=\"color: #00af00; text-decoration-color: #00af00\">0</span>][<span style=\"color: #00af00; text-decoration-color: #00af00\">0</span>]     │\n",
       "├─────────────────────┼───────────────────┼────────────┼───────────────────┤\n",
       "│ dense_2 (<span style=\"color: #0087ff; text-decoration-color: #0087ff\">Dense</span>)     │ (<span style=\"color: #00d7ff; text-decoration-color: #00d7ff\">None</span>, <span style=\"color: #00af00; text-decoration-color: #00af00\">1</span>)         │        <span style=\"color: #00af00; text-decoration-color: #00af00\">129</span> │ dropout_1[<span style=\"color: #00af00; text-decoration-color: #00af00\">0</span>][<span style=\"color: #00af00; text-decoration-color: #00af00\">0</span>]   │\n",
       "└─────────────────────┴───────────────────┴────────────┴───────────────────┘\n",
       "</pre>\n"
      ],
      "text/plain": [
       "┏━━━━━━━━━━━━━━━━━━━━━┳━━━━━━━━━━━━━━━━━━━┳━━━━━━━━━━━━┳━━━━━━━━━━━━━━━━━━━┓\n",
       "┃\u001b[1m \u001b[0m\u001b[1mLayer (type)       \u001b[0m\u001b[1m \u001b[0m┃\u001b[1m \u001b[0m\u001b[1mOutput Shape     \u001b[0m\u001b[1m \u001b[0m┃\u001b[1m \u001b[0m\u001b[1m   Param #\u001b[0m\u001b[1m \u001b[0m┃\u001b[1m \u001b[0m\u001b[1mConnected to     \u001b[0m\u001b[1m \u001b[0m┃\n",
       "┡━━━━━━━━━━━━━━━━━━━━━╇━━━━━━━━━━━━━━━━━━━╇━━━━━━━━━━━━╇━━━━━━━━━━━━━━━━━━━┩\n",
       "│ input_layer         │ (\u001b[38;5;45mNone\u001b[0m, \u001b[38;5;34m224\u001b[0m, \u001b[38;5;34m224\u001b[0m,  │          \u001b[38;5;34m0\u001b[0m │ -                 │\n",
       "│ (\u001b[38;5;33mInputLayer\u001b[0m)        │ \u001b[38;5;34m6\u001b[0m)                │            │                   │\n",
       "├─────────────────────┼───────────────────┼────────────┼───────────────────┤\n",
       "│ conv2d (\u001b[38;5;33mConv2D\u001b[0m)     │ (\u001b[38;5;45mNone\u001b[0m, \u001b[38;5;34m222\u001b[0m, \u001b[38;5;34m222\u001b[0m,  │        \u001b[38;5;34m880\u001b[0m │ input_layer[\u001b[38;5;34m0\u001b[0m][\u001b[38;5;34m0\u001b[0m] │\n",
       "│                     │ \u001b[38;5;34m16\u001b[0m)               │            │                   │\n",
       "├─────────────────────┼───────────────────┼────────────┼───────────────────┤\n",
       "│ average_pooling2d   │ (\u001b[38;5;45mNone\u001b[0m, \u001b[38;5;34m111\u001b[0m, \u001b[38;5;34m111\u001b[0m,  │          \u001b[38;5;34m0\u001b[0m │ conv2d[\u001b[38;5;34m0\u001b[0m][\u001b[38;5;34m0\u001b[0m]      │\n",
       "│ (\u001b[38;5;33mAveragePooling2D\u001b[0m)  │ \u001b[38;5;34m16\u001b[0m)               │            │                   │\n",
       "├─────────────────────┼───────────────────┼────────────┼───────────────────┤\n",
       "│ conv2d_1 (\u001b[38;5;33mConv2D\u001b[0m)   │ (\u001b[38;5;45mNone\u001b[0m, \u001b[38;5;34m109\u001b[0m, \u001b[38;5;34m109\u001b[0m,  │      \u001b[38;5;34m4,640\u001b[0m │ average_pooling2… │\n",
       "│                     │ \u001b[38;5;34m32\u001b[0m)               │            │                   │\n",
       "├─────────────────────┼───────────────────┼────────────┼───────────────────┤\n",
       "│ average_pooling2d_1 │ (\u001b[38;5;45mNone\u001b[0m, \u001b[38;5;34m54\u001b[0m, \u001b[38;5;34m54\u001b[0m,    │          \u001b[38;5;34m0\u001b[0m │ conv2d_1[\u001b[38;5;34m0\u001b[0m][\u001b[38;5;34m0\u001b[0m]    │\n",
       "│ (\u001b[38;5;33mAveragePooling2D\u001b[0m)  │ \u001b[38;5;34m32\u001b[0m)               │            │                   │\n",
       "├─────────────────────┼───────────────────┼────────────┼───────────────────┤\n",
       "│ conv2d_2 (\u001b[38;5;33mConv2D\u001b[0m)   │ (\u001b[38;5;45mNone\u001b[0m, \u001b[38;5;34m52\u001b[0m, \u001b[38;5;34m52\u001b[0m,    │      \u001b[38;5;34m9,248\u001b[0m │ average_pooling2… │\n",
       "│                     │ \u001b[38;5;34m32\u001b[0m)               │            │                   │\n",
       "├─────────────────────┼───────────────────┼────────────┼───────────────────┤\n",
       "│ average_pooling2d_2 │ (\u001b[38;5;45mNone\u001b[0m, \u001b[38;5;34m26\u001b[0m, \u001b[38;5;34m26\u001b[0m,    │          \u001b[38;5;34m0\u001b[0m │ conv2d_2[\u001b[38;5;34m0\u001b[0m][\u001b[38;5;34m0\u001b[0m]    │\n",
       "│ (\u001b[38;5;33mAveragePooling2D\u001b[0m)  │ \u001b[38;5;34m32\u001b[0m)               │            │                   │\n",
       "├─────────────────────┼───────────────────┼────────────┼───────────────────┤\n",
       "│ conv2d_3 (\u001b[38;5;33mConv2D\u001b[0m)   │ (\u001b[38;5;45mNone\u001b[0m, \u001b[38;5;34m24\u001b[0m, \u001b[38;5;34m24\u001b[0m,    │      \u001b[38;5;34m9,248\u001b[0m │ average_pooling2… │\n",
       "│                     │ \u001b[38;5;34m32\u001b[0m)               │            │                   │\n",
       "├─────────────────────┼───────────────────┼────────────┼───────────────────┤\n",
       "│ average_pooling2d_3 │ (\u001b[38;5;45mNone\u001b[0m, \u001b[38;5;34m12\u001b[0m, \u001b[38;5;34m12\u001b[0m,    │          \u001b[38;5;34m0\u001b[0m │ conv2d_3[\u001b[38;5;34m0\u001b[0m][\u001b[38;5;34m0\u001b[0m]    │\n",
       "│ (\u001b[38;5;33mAveragePooling2D\u001b[0m)  │ \u001b[38;5;34m32\u001b[0m)               │            │                   │\n",
       "├─────────────────────┼───────────────────┼────────────┼───────────────────┤\n",
       "│ flatten (\u001b[38;5;33mFlatten\u001b[0m)   │ (\u001b[38;5;45mNone\u001b[0m, \u001b[38;5;34m4608\u001b[0m)      │          \u001b[38;5;34m0\u001b[0m │ average_pooling2… │\n",
       "├─────────────────────┼───────────────────┼────────────┼───────────────────┤\n",
       "│ input_layer_1       │ (\u001b[38;5;45mNone\u001b[0m, \u001b[38;5;34m7\u001b[0m, \u001b[38;5;34m17\u001b[0m)     │          \u001b[38;5;34m0\u001b[0m │ -                 │\n",
       "│ (\u001b[38;5;33mInputLayer\u001b[0m)        │                   │            │                   │\n",
       "├─────────────────────┼───────────────────┼────────────┼───────────────────┤\n",
       "│ dense (\u001b[38;5;33mDense\u001b[0m)       │ (\u001b[38;5;45mNone\u001b[0m, \u001b[38;5;34m128\u001b[0m)       │    \u001b[38;5;34m589,952\u001b[0m │ flatten[\u001b[38;5;34m0\u001b[0m][\u001b[38;5;34m0\u001b[0m]     │\n",
       "├─────────────────────┼───────────────────┼────────────┼───────────────────┤\n",
       "│ lstm (\u001b[38;5;33mLSTM\u001b[0m)         │ (\u001b[38;5;45mNone\u001b[0m, \u001b[38;5;34m7\u001b[0m, \u001b[38;5;34m50\u001b[0m)     │     \u001b[38;5;34m13,600\u001b[0m │ input_layer_1[\u001b[38;5;34m0\u001b[0m]… │\n",
       "├─────────────────────┼───────────────────┼────────────┼───────────────────┤\n",
       "│ dropout (\u001b[38;5;33mDropout\u001b[0m)   │ (\u001b[38;5;45mNone\u001b[0m, \u001b[38;5;34m128\u001b[0m)       │          \u001b[38;5;34m0\u001b[0m │ dense[\u001b[38;5;34m0\u001b[0m][\u001b[38;5;34m0\u001b[0m]       │\n",
       "├─────────────────────┼───────────────────┼────────────┼───────────────────┤\n",
       "│ lstm_1 (\u001b[38;5;33mLSTM\u001b[0m)       │ (\u001b[38;5;45mNone\u001b[0m, \u001b[38;5;34m50\u001b[0m)        │     \u001b[38;5;34m20,200\u001b[0m │ lstm[\u001b[38;5;34m0\u001b[0m][\u001b[38;5;34m0\u001b[0m]        │\n",
       "├─────────────────────┼───────────────────┼────────────┼───────────────────┤\n",
       "│ concatenate         │ (\u001b[38;5;45mNone\u001b[0m, \u001b[38;5;34m178\u001b[0m)       │          \u001b[38;5;34m0\u001b[0m │ dropout[\u001b[38;5;34m0\u001b[0m][\u001b[38;5;34m0\u001b[0m],    │\n",
       "│ (\u001b[38;5;33mConcatenate\u001b[0m)       │                   │            │ lstm_1[\u001b[38;5;34m0\u001b[0m][\u001b[38;5;34m0\u001b[0m]      │\n",
       "├─────────────────────┼───────────────────┼────────────┼───────────────────┤\n",
       "│ dense_1 (\u001b[38;5;33mDense\u001b[0m)     │ (\u001b[38;5;45mNone\u001b[0m, \u001b[38;5;34m128\u001b[0m)       │     \u001b[38;5;34m22,912\u001b[0m │ concatenate[\u001b[38;5;34m0\u001b[0m][\u001b[38;5;34m0\u001b[0m] │\n",
       "├─────────────────────┼───────────────────┼────────────┼───────────────────┤\n",
       "│ dropout_1 (\u001b[38;5;33mDropout\u001b[0m) │ (\u001b[38;5;45mNone\u001b[0m, \u001b[38;5;34m128\u001b[0m)       │          \u001b[38;5;34m0\u001b[0m │ dense_1[\u001b[38;5;34m0\u001b[0m][\u001b[38;5;34m0\u001b[0m]     │\n",
       "├─────────────────────┼───────────────────┼────────────┼───────────────────┤\n",
       "│ dense_2 (\u001b[38;5;33mDense\u001b[0m)     │ (\u001b[38;5;45mNone\u001b[0m, \u001b[38;5;34m1\u001b[0m)         │        \u001b[38;5;34m129\u001b[0m │ dropout_1[\u001b[38;5;34m0\u001b[0m][\u001b[38;5;34m0\u001b[0m]   │\n",
       "└─────────────────────┴───────────────────┴────────────┴───────────────────┘\n"
      ]
     },
     "metadata": {},
     "output_type": "display_data"
    },
    {
     "data": {
      "text/html": [
       "<pre style=\"white-space:pre;overflow-x:auto;line-height:normal;font-family:Menlo,'DejaVu Sans Mono',consolas,'Courier New',monospace\"><span style=\"font-weight: bold\"> Total params: </span><span style=\"color: #00af00; text-decoration-color: #00af00\">670,809</span> (2.56 MB)\n",
       "</pre>\n"
      ],
      "text/plain": [
       "\u001b[1m Total params: \u001b[0m\u001b[38;5;34m670,809\u001b[0m (2.56 MB)\n"
      ]
     },
     "metadata": {},
     "output_type": "display_data"
    },
    {
     "data": {
      "text/html": [
       "<pre style=\"white-space:pre;overflow-x:auto;line-height:normal;font-family:Menlo,'DejaVu Sans Mono',consolas,'Courier New',monospace\"><span style=\"font-weight: bold\"> Trainable params: </span><span style=\"color: #00af00; text-decoration-color: #00af00\">670,809</span> (2.56 MB)\n",
       "</pre>\n"
      ],
      "text/plain": [
       "\u001b[1m Trainable params: \u001b[0m\u001b[38;5;34m670,809\u001b[0m (2.56 MB)\n"
      ]
     },
     "metadata": {},
     "output_type": "display_data"
    },
    {
     "data": {
      "text/html": [
       "<pre style=\"white-space:pre;overflow-x:auto;line-height:normal;font-family:Menlo,'DejaVu Sans Mono',consolas,'Courier New',monospace\"><span style=\"font-weight: bold\"> Non-trainable params: </span><span style=\"color: #00af00; text-decoration-color: #00af00\">0</span> (0.00 B)\n",
       "</pre>\n"
      ],
      "text/plain": [
       "\u001b[1m Non-trainable params: \u001b[0m\u001b[38;5;34m0\u001b[0m (0.00 B)\n"
      ]
     },
     "metadata": {},
     "output_type": "display_data"
    }
   ],
   "source": [
    "from tensorflow.keras.models import Model\n",
    "from tensorflow.keras.layers import Input, Conv2D, AveragePooling2D, Flatten, Dense, Dropout\n",
    "from tensorflow.keras.layers import LSTM, Concatenate\n",
    "from tensorflow.keras.layers import AveragePooling2D, Flatten, Dropout\n",
    "import tensorflow as tf\n",
    "\n",
    "# Definir la métrica personalizada SMAPE\n",
    "def smape(y_true, y_pred):\n",
    "    epsilon = tf.keras.backend.epsilon()  # Pequeño valor para evitar divisiones por cero\n",
    "    denominator = (tf.abs(y_true) + tf.abs(y_pred)) / 2.0 + epsilon\n",
    "    diff = tf.abs(y_true - y_pred) / denominator\n",
    "    return 100.0 * tf.reduce_mean(diff)  # Se devuelve el error en porcentaje\n",
    "\n",
    "\n",
    "# Definir la entrada para las imágenes (224x224x6)\n",
    "image_input = Input(shape=(224, 224, 6))\n",
    "\n",
    "# Red convolucional para procesar la entrada de imágenes\n",
    "x = Conv2D(filters=16, kernel_size=(3, 3), activation='relu')(image_input)\n",
    "x = AveragePooling2D(pool_size=(2, 2))(x)\n",
    "x = Conv2D(filters=32, kernel_size=(3, 3), activation='relu')(x)\n",
    "x = AveragePooling2D(pool_size=(2, 2))(x)\n",
    "x = Conv2D(filters=32, kernel_size=(3, 3), activation='relu')(x)\n",
    "x = AveragePooling2D(pool_size=(2, 2))(x)\n",
    "x = Conv2D(filters=32, kernel_size=(3, 3), activation='relu')(x)\n",
    "x = AveragePooling2D(pool_size=(2, 2))(x)\n",
    "\n",
    "# Aplanar la salida de la capa convolucional\n",
    "x = Flatten()(x)\n",
    "x = Dense(units=128, activation='relu')(x)\n",
    "x = Dropout(rate=0.5)(x)\n",
    "\n",
    "# Definir la entrada para la LSTM (datos secuenciales)\n",
    "sequence_input = Input(shape=(7, 17))  \n",
    "\n",
    "# Red LSTM para procesar la entrada secuencial\n",
    "y = LSTM(units=50, return_sequences=True)(sequence_input)\n",
    "y = LSTM(units=50)(y)\n",
    "\n",
    "# Combinar las salidas de la CNN y la LSTM\n",
    "combined = Concatenate()([x, y])\n",
    "\n",
    "# Añadir capas densas finales para predecir el valor final\n",
    "z = Dense(units=128, activation='relu')(combined)\n",
    "z = Dropout(rate=0.5)(z)\n",
    "z = Dense(units=1, activation='linear')(z)\n",
    "\n",
    "# Crear el modelo con dos entradas\n",
    "model = Model(inputs=[image_input, sequence_input], outputs=z)\n",
    "\n",
    "# Compilar el modelo\n",
    "model.compile(optimizer='adam', loss='mean_absolute_error',metrics=['mean_squared_error','mean_absolute_percentage_error',smape])\n",
    "\n",
    "# Mostrar la arquitectura del modelo\n",
    "model.summary()\n"
   ]
  },
  {
   "cell_type": "code",
   "execution_count": 29,
   "metadata": {},
   "outputs": [],
   "source": [
    "import tensorflow as tf\n",
    "\n",
    "# Generador para combinar imágenes y secuencias\n",
    "def data_generator(image_files, sequences, labels): \n",
    "    for i in range(len(image_files)):\n",
    "        if image_files[i] != '':  # Si la imagen existe\n",
    "            image = preprocess_imagery(image_files[i])  # Cargar y preprocesar la imagen\n",
    "            image = tf.convert_to_tensor(image, dtype=tf.float32)\n",
    "        else:\n",
    "            image = tf.zeros((224, 224, 6), dtype=tf.float32)  # Si no hay imagen, usar un tensor de ceros\n",
    "            \n",
    "        sequence = tf.convert_to_tensor(sequences[i], dtype=tf.float32)  # Secuencia de datos tabulares\n",
    "        label = tf.convert_to_tensor(labels[i], dtype=tf.float32)  # Etiqueta (mp10)+\n",
    "        label=tf.squeeze(label)\n",
    "        \n",
    "        yield (image, sequence), label  # Dos entradas: imagen y secuencia\n",
    "\n",
    "# Crear el dataset\n",
    "def create_combined_dataset(image_files, sequences, labels, batch_size):\n",
    "    dataset = tf.data.Dataset.from_generator(\n",
    "        data_generator,\n",
    "        args=[image_files, sequences, labels],\n",
    "        output_signature=(\n",
    "            (tf.TensorSpec(shape=(224, 224, 6), dtype=tf.float32),  # Especificar el tamaño de las imágenes\n",
    "             tf.TensorSpec(shape=(7, sequences.shape[2]), dtype=tf.float32)),  # Secuencias de 7 días\n",
    "            tf.TensorSpec(shape=(), dtype=tf.float32)  # La etiqueta (mp10)\n",
    "        )\n",
    "    )\n",
    "    dataset = dataset.batch(batch_size)\n",
    "    dataset = dataset.prefetch(buffer_size=tf.data.AUTOTUNE)\n",
    "    return dataset\n",
    "\n",
    "# Ejemplo de uso para crear datasets de entrenamiento, validación y prueba\n",
    "batch_size = 32\n",
    "\n",
    "# Crear datasets\n",
    "train_dataset = create_combined_dataset(images_train, X_train, y_train, batch_size)\n",
    "val_dataset = create_combined_dataset(images_val, X_val, y_val, batch_size)\n",
    "test_dataset = create_combined_dataset(images_test, X_test, y_test, batch_size)\n"
   ]
  },
  {
   "cell_type": "code",
   "execution_count": 27,
   "metadata": {},
   "outputs": [],
   "source": [
    "from tensorflow.keras.callbacks import EarlyStopping\n",
    "\n",
    "# Configurar Early Stopping\n",
    "early_stopping = EarlyStopping(\n",
    "    monitor='val_loss',  # Métrica a monitorear\n",
    "    patience=10,         # Número de épocas de paciencia\n",
    "    restore_best_weights=True  # Restaurar los mejores pesos al final del entrenamiento\n",
    ")\n"
   ]
  },
  {
   "cell_type": "code",
   "execution_count": 20,
   "metadata": {},
   "outputs": [
    {
     "data": {
      "text/plain": [
       "(7, 17)"
      ]
     },
     "execution_count": 20,
     "metadata": {},
     "output_type": "execute_result"
    }
   ],
   "source": [
    "X_train[0].shape"
   ]
  },
  {
   "cell_type": "code",
   "execution_count": 22,
   "metadata": {},
   "outputs": [],
   "source": [
    "checkpoint_path = \"training_1/ckpt.weights.h5\"\n",
    "checkpoint_dir = os.path.dirname(checkpoint_path)\n",
    "\n",
    "# Create a callback that saves the model's weights\n",
    "cp_callback = tf.keras.callbacks.ModelCheckpoint(filepath=checkpoint_path,\n",
    "                                                 save_weights_only=True,\n",
    "                                                 verbose=1)"
   ]
  },
  {
   "cell_type": "code",
   "execution_count": 30,
   "metadata": {},
   "outputs": [
    {
     "name": "stdout",
     "output_type": "stream",
     "text": [
      "Epoch 1/50\n"
     ]
    },
    {
     "name": "stderr",
     "output_type": "stream",
     "text": [
      "C:\\Users\\benja\\AppData\\Local\\Temp\\ipykernel_536\\3065549325.py:10: DeprecationWarning: Starting with ImageIO v3 the behavior of this function will switch to that of iio.v3.imread. To keep the current behavior (and make this warning disappear) use `import imageio.v2 as imageio` or call `imageio.v2.imread` directly.\n",
      "  image = (imageio.imread(path))\n"
     ]
    },
    {
     "name": "stdout",
     "output_type": "stream",
     "text": [
      "\u001b[1m2253/2253\u001b[0m \u001b[32m━━━━━━━━━━━━━━━━━━━━\u001b[0m\u001b[37m\u001b[0m \u001b[1m0s\u001b[0m 278ms/step - loss: 0.0834 - mean_absolute_percentage_error: 682178.6875 - mean_squared_error: 0.4919 - smape: 52.6479\n",
      "Epoch 1: saving model to training_1/ckpt.weights.h5\n",
      "\u001b[1m2253/2253\u001b[0m \u001b[32m━━━━━━━━━━━━━━━━━━━━\u001b[0m\u001b[37m\u001b[0m \u001b[1m693s\u001b[0m 308ms/step - loss: 0.0833 - mean_absolute_percentage_error: 681956.1250 - mean_squared_error: 0.4917 - smape: 52.6462 - val_loss: 0.0183 - val_mean_absolute_percentage_error: 95173.8438 - val_mean_squared_error: 8.9254e-04 - val_smape: 48.0029\n",
      "Epoch 2/50\n",
      "\u001b[1m   1/2253\u001b[0m \u001b[37m━━━━━━━━━━━━━━━━━━━━\u001b[0m \u001b[1m2:19\u001b[0m 62ms/step - loss: 0.0148 - mean_absolute_percentage_error: 24.6654 - mean_squared_error: 3.1867e-04 - smape: 42.5683\n",
      "Epoch 2: saving model to training_1/ckpt.weights.h5\n",
      "\u001b[1m2253/2253\u001b[0m \u001b[32m━━━━━━━━━━━━━━━━━━━━\u001b[0m\u001b[37m\u001b[0m \u001b[1m0s\u001b[0m 52us/step - loss: 0.0148 - mean_absolute_percentage_error: 24.6654 - mean_squared_error: 3.1867e-04 - smape: 21.2936 - val_loss: 0.0180 - val_mean_absolute_percentage_error: 40.5039 - val_mean_squared_error: 5.9094e-04 - val_smape: 19.6837\n",
      "Epoch 3/50\n"
     ]
    },
    {
     "name": "stderr",
     "output_type": "stream",
     "text": [
      "c:\\Users\\benja\\anaconda3\\envs\\ee\\Lib\\contextlib.py:158: UserWarning: Your input ran out of data; interrupting training. Make sure that your dataset or generator can generate at least `steps_per_epoch * epochs` batches. You may need to use the `.repeat()` function when building your dataset.\n",
      "  self.gen.throw(value)\n"
     ]
    },
    {
     "name": "stdout",
     "output_type": "stream",
     "text": [
      "\u001b[1m2253/2253\u001b[0m \u001b[32m━━━━━━━━━━━━━━━━━━━━\u001b[0m\u001b[37m\u001b[0m \u001b[1m0s\u001b[0m 270ms/step - loss: 0.0186 - mean_absolute_percentage_error: 61408.4141 - mean_squared_error: 8.3977e-04 - smape: 48.5684\n",
      "Epoch 3: saving model to training_1/ckpt.weights.h5\n",
      "\u001b[1m2253/2253\u001b[0m \u001b[32m━━━━━━━━━━━━━━━━━━━━\u001b[0m\u001b[37m\u001b[0m \u001b[1m672s\u001b[0m 298ms/step - loss: 0.0186 - mean_absolute_percentage_error: 61412.3477 - mean_squared_error: 8.3976e-04 - smape: 48.5685 - val_loss: 0.0175 - val_mean_absolute_percentage_error: 95981.1484 - val_mean_squared_error: 8.0490e-04 - val_smape: 48.6303\n",
      "Epoch 4/50\n",
      "\u001b[1m   1/2253\u001b[0m \u001b[37m━━━━━━━━━━━━━━━━━━━━\u001b[0m \u001b[1m2:17\u001b[0m 61ms/step - loss: 0.0152 - mean_absolute_percentage_error: 24.6059 - mean_squared_error: 3.1617e-04 - smape: 41.5514\n",
      "Epoch 4: saving model to training_1/ckpt.weights.h5\n",
      "\u001b[1m2253/2253\u001b[0m \u001b[32m━━━━━━━━━━━━━━━━━━━━\u001b[0m\u001b[37m\u001b[0m \u001b[1m0s\u001b[0m 50us/step - loss: 0.0152 - mean_absolute_percentage_error: 24.6059 - mean_squared_error: 3.1617e-04 - smape: 20.7849 - val_loss: 0.0178 - val_mean_absolute_percentage_error: 41.4148 - val_mean_squared_error: 5.7276e-04 - val_smape: 19.7469\n",
      "Epoch 5/50\n",
      "\u001b[1m2253/2253\u001b[0m \u001b[32m━━━━━━━━━━━━━━━━━━━━\u001b[0m\u001b[37m\u001b[0m \u001b[1m0s\u001b[0m 268ms/step - loss: 0.0177 - mean_absolute_percentage_error: 59959.4805 - mean_squared_error: 7.5930e-04 - smape: 49.3733\n",
      "Epoch 5: saving model to training_1/ckpt.weights.h5\n",
      "\u001b[1m2253/2253\u001b[0m \u001b[32m━━━━━━━━━━━━━━━━━━━━\u001b[0m\u001b[37m\u001b[0m \u001b[1m668s\u001b[0m 297ms/step - loss: 0.0177 - mean_absolute_percentage_error: 59962.5664 - mean_squared_error: 7.5929e-04 - smape: 49.3733 - val_loss: 0.0169 - val_mean_absolute_percentage_error: 78888.2734 - val_mean_squared_error: 7.9529e-04 - val_smape: 50.3690\n",
      "Epoch 6/50\n",
      "\u001b[1m   1/2253\u001b[0m \u001b[37m━━━━━━━━━━━━━━━━━━━━\u001b[0m \u001b[1m1:49\u001b[0m 49ms/step - loss: 0.0131 - mean_absolute_percentage_error: 20.8017 - mean_squared_error: 2.8299e-04 - smape: 44.6648\n",
      "Epoch 6: saving model to training_1/ckpt.weights.h5\n",
      "\u001b[1m2253/2253\u001b[0m \u001b[32m━━━━━━━━━━━━━━━━━━━━\u001b[0m\u001b[37m\u001b[0m \u001b[1m0s\u001b[0m 54us/step - loss: 0.0131 - mean_absolute_percentage_error: 20.8017 - mean_squared_error: 2.8299e-04 - smape: 22.3423 - val_loss: 0.0165 - val_mean_absolute_percentage_error: 37.2282 - val_mean_squared_error: 5.2113e-04 - val_smape: 20.1500\n",
      "Epoch 7/50\n",
      "\u001b[1m2253/2253\u001b[0m \u001b[32m━━━━━━━━━━━━━━━━━━━━\u001b[0m\u001b[37m\u001b[0m \u001b[1m0s\u001b[0m 268ms/step - loss: 0.0171 - mean_absolute_percentage_error: 54352.9844 - mean_squared_error: 7.2703e-04 - smape: 49.7815\n",
      "Epoch 7: saving model to training_1/ckpt.weights.h5\n",
      "\u001b[1m2253/2253\u001b[0m \u001b[32m━━━━━━━━━━━━━━━━━━━━\u001b[0m\u001b[37m\u001b[0m \u001b[1m668s\u001b[0m 297ms/step - loss: 0.0171 - mean_absolute_percentage_error: 54356.2109 - mean_squared_error: 7.2702e-04 - smape: 49.7816 - val_loss: 0.0168 - val_mean_absolute_percentage_error: 81244.4141 - val_mean_squared_error: 7.7852e-04 - val_smape: 48.1542\n",
      "Epoch 8/50\n",
      "\u001b[1m   1/2253\u001b[0m \u001b[37m━━━━━━━━━━━━━━━━━━━━\u001b[0m \u001b[1m2:20\u001b[0m 63ms/step - loss: 0.0153 - mean_absolute_percentage_error: 22.7411 - mean_squared_error: 3.7158e-04 - smape: 42.0246\n",
      "Epoch 8: saving model to training_1/ckpt.weights.h5\n",
      "\u001b[1m2253/2253\u001b[0m \u001b[32m━━━━━━━━━━━━━━━━━━━━\u001b[0m\u001b[37m\u001b[0m \u001b[1m0s\u001b[0m 56us/step - loss: 0.0153 - mean_absolute_percentage_error: 22.7411 - mean_squared_error: 3.7158e-04 - smape: 21.0216 - val_loss: 0.0169 - val_mean_absolute_percentage_error: 36.9552 - val_mean_squared_error: 4.9566e-04 - val_smape: 19.1331\n",
      "Epoch 9/50\n",
      "\u001b[1m2253/2253\u001b[0m \u001b[32m━━━━━━━━━━━━━━━━━━━━\u001b[0m\u001b[37m\u001b[0m \u001b[1m0s\u001b[0m 268ms/step - loss: 0.0168 - mean_absolute_percentage_error: 53271.2266 - mean_squared_error: 7.0603e-04 - smape: 50.2191\n",
      "Epoch 9: saving model to training_1/ckpt.weights.h5\n",
      "\u001b[1m2253/2253\u001b[0m \u001b[32m━━━━━━━━━━━━━━━━━━━━\u001b[0m\u001b[37m\u001b[0m \u001b[1m667s\u001b[0m 296ms/step - loss: 0.0168 - mean_absolute_percentage_error: 53274.3711 - mean_squared_error: 7.0602e-04 - smape: 50.2191 - val_loss: 0.0163 - val_mean_absolute_percentage_error: 79879.8672 - val_mean_squared_error: 7.6927e-04 - val_smape: 49.8693\n",
      "Epoch 10/50\n",
      "\u001b[1m   1/2253\u001b[0m \u001b[37m━━━━━━━━━━━━━━━━━━━━\u001b[0m \u001b[1m2:09\u001b[0m 58ms/step - loss: 0.0123 - mean_absolute_percentage_error: 21.3528 - mean_squared_error: 2.1621e-04 - smape: 45.3390\n",
      "Epoch 10: saving model to training_1/ckpt.weights.h5\n",
      "\u001b[1m2253/2253\u001b[0m \u001b[32m━━━━━━━━━━━━━━━━━━━━\u001b[0m\u001b[37m\u001b[0m \u001b[1m0s\u001b[0m 55us/step - loss: 0.0123 - mean_absolute_percentage_error: 21.3528 - mean_squared_error: 2.1621e-04 - smape: 22.6796 - val_loss: 0.0154 - val_mean_absolute_percentage_error: 35.1225 - val_mean_squared_error: 4.6331e-04 - val_smape: 19.8251\n",
      "Epoch 11/50\n",
      "\u001b[1m2253/2253\u001b[0m \u001b[32m━━━━━━━━━━━━━━━━━━━━\u001b[0m\u001b[37m\u001b[0m \u001b[1m0s\u001b[0m 270ms/step - loss: 0.0165 - mean_absolute_percentage_error: 51865.3320 - mean_squared_error: 6.8474e-04 - smape: 50.4744\n",
      "Epoch 11: saving model to training_1/ckpt.weights.h5\n",
      "\u001b[1m2253/2253\u001b[0m \u001b[32m━━━━━━━━━━━━━━━━━━━━\u001b[0m\u001b[37m\u001b[0m \u001b[1m674s\u001b[0m 299ms/step - loss: 0.0165 - mean_absolute_percentage_error: 51868.5312 - mean_squared_error: 6.8473e-04 - smape: 50.4744 - val_loss: 0.0161 - val_mean_absolute_percentage_error: 70480.7109 - val_mean_squared_error: 7.5358e-04 - val_smape: 51.3232\n",
      "Epoch 12/50\n",
      "\u001b[1m   1/2253\u001b[0m \u001b[37m━━━━━━━━━━━━━━━━━━━━\u001b[0m \u001b[1m2:06\u001b[0m 56ms/step - loss: 0.0131 - mean_absolute_percentage_error: 19.9588 - mean_squared_error: 2.7987e-04 - smape: 41.0564\n",
      "Epoch 12: saving model to training_1/ckpt.weights.h5\n",
      "\u001b[1m2253/2253\u001b[0m \u001b[32m━━━━━━━━━━━━━━━━━━━━\u001b[0m\u001b[37m\u001b[0m \u001b[1m0s\u001b[0m 55us/step - loss: 0.0131 - mean_absolute_percentage_error: 19.9588 - mean_squared_error: 2.7987e-04 - smape: 20.5373 - val_loss: 0.0164 - val_mean_absolute_percentage_error: 36.5213 - val_mean_squared_error: 5.3431e-04 - val_smape: 20.9764\n",
      "Epoch 13/50\n",
      "\u001b[1m2253/2253\u001b[0m \u001b[32m━━━━━━━━━━━━━━━━━━━━\u001b[0m\u001b[37m\u001b[0m \u001b[1m0s\u001b[0m 271ms/step - loss: 0.0163 - mean_absolute_percentage_error: 51888.8984 - mean_squared_error: 6.7478e-04 - smape: 50.5379\n",
      "Epoch 13: saving model to training_1/ckpt.weights.h5\n",
      "\u001b[1m2253/2253\u001b[0m \u001b[32m━━━━━━━━━━━━━━━━━━━━\u001b[0m\u001b[37m\u001b[0m \u001b[1m675s\u001b[0m 300ms/step - loss: 0.0163 - mean_absolute_percentage_error: 51892.1250 - mean_squared_error: 6.7477e-04 - smape: 50.5379 - val_loss: 0.0160 - val_mean_absolute_percentage_error: 68433.4141 - val_mean_squared_error: 7.5737e-04 - val_smape: 51.5076\n",
      "Epoch 14/50\n",
      "\u001b[1m   1/2253\u001b[0m \u001b[37m━━━━━━━━━━━━━━━━━━━━\u001b[0m \u001b[1m1:54\u001b[0m 51ms/step - loss: 0.0139 - mean_absolute_percentage_error: 22.7009 - mean_squared_error: 2.8996e-04 - smape: 44.0389\n",
      "Epoch 14: saving model to training_1/ckpt.weights.h5\n",
      "\u001b[1m2253/2253\u001b[0m \u001b[32m━━━━━━━━━━━━━━━━━━━━\u001b[0m\u001b[37m\u001b[0m \u001b[1m0s\u001b[0m 57us/step - loss: 0.0139 - mean_absolute_percentage_error: 22.7009 - mean_squared_error: 2.8996e-04 - smape: 22.0292 - val_loss: 0.0158 - val_mean_absolute_percentage_error: 34.5536 - val_mean_squared_error: 4.5809e-04 - val_smape: 20.3901\n",
      "Epoch 15/50\n",
      "\u001b[1m2253/2253\u001b[0m \u001b[32m━━━━━━━━━━━━━━━━━━━━\u001b[0m\u001b[37m\u001b[0m \u001b[1m0s\u001b[0m 268ms/step - loss: 0.0161 - mean_absolute_percentage_error: 51630.3516 - mean_squared_error: 6.6666e-04 - smape: 50.7075\n",
      "Epoch 15: saving model to training_1/ckpt.weights.h5\n",
      "\u001b[1m2253/2253\u001b[0m \u001b[32m━━━━━━━━━━━━━━━━━━━━\u001b[0m\u001b[37m\u001b[0m \u001b[1m667s\u001b[0m 296ms/step - loss: 0.0161 - mean_absolute_percentage_error: 51633.4961 - mean_squared_error: 6.6666e-04 - smape: 50.7075 - val_loss: 0.0156 - val_mean_absolute_percentage_error: 67451.2109 - val_mean_squared_error: 7.2081e-04 - val_smape: 51.7101\n",
      "Epoch 16/50\n",
      "\u001b[1m   1/2253\u001b[0m \u001b[37m━━━━━━━━━━━━━━━━━━━━\u001b[0m \u001b[1m2:11\u001b[0m 59ms/step - loss: 0.0114 - mean_absolute_percentage_error: 16.9730 - mean_squared_error: 2.3723e-04 - smape: 40.3310\n",
      "Epoch 16: saving model to training_1/ckpt.weights.h5\n",
      "\u001b[1m2253/2253\u001b[0m \u001b[32m━━━━━━━━━━━━━━━━━━━━\u001b[0m\u001b[37m\u001b[0m \u001b[1m0s\u001b[0m 52us/step - loss: 0.0114 - mean_absolute_percentage_error: 16.9730 - mean_squared_error: 2.3723e-04 - smape: 20.1744 - val_loss: 0.0154 - val_mean_absolute_percentage_error: 34.5982 - val_mean_squared_error: 5.0191e-04 - val_smape: 20.4250\n",
      "Epoch 17/50\n",
      "\u001b[1m2253/2253\u001b[0m \u001b[32m━━━━━━━━━━━━━━━━━━━━\u001b[0m\u001b[37m\u001b[0m \u001b[1m0s\u001b[0m 268ms/step - loss: 0.0160 - mean_absolute_percentage_error: 50104.6211 - mean_squared_error: 6.5520e-04 - smape: 50.8826\n",
      "Epoch 17: saving model to training_1/ckpt.weights.h5\n",
      "\u001b[1m2253/2253\u001b[0m \u001b[32m━━━━━━━━━━━━━━━━━━━━\u001b[0m\u001b[37m\u001b[0m \u001b[1m669s\u001b[0m 297ms/step - loss: 0.0160 - mean_absolute_percentage_error: 50107.6953 - mean_squared_error: 6.5520e-04 - smape: 50.8826 - val_loss: 0.0157 - val_mean_absolute_percentage_error: 70301.5078 - val_mean_squared_error: 7.2723e-04 - val_smape: 49.3656\n",
      "Epoch 18/50\n",
      "\u001b[1m   1/2253\u001b[0m \u001b[37m━━━━━━━━━━━━━━━━━━━━\u001b[0m \u001b[1m2:11\u001b[0m 59ms/step - loss: 0.0120 - mean_absolute_percentage_error: 17.8640 - mean_squared_error: 2.5625e-04 - smape: 40.0082\n",
      "Epoch 18: saving model to training_1/ckpt.weights.h5\n",
      "\u001b[1m2253/2253\u001b[0m \u001b[32m━━━━━━━━━━━━━━━━━━━━\u001b[0m\u001b[37m\u001b[0m \u001b[1m0s\u001b[0m 54us/step - loss: 0.0120 - mean_absolute_percentage_error: 17.8640 - mean_squared_error: 2.5625e-04 - smape: 20.0130 - val_loss: 0.0148 - val_mean_absolute_percentage_error: 32.4536 - val_mean_squared_error: 4.2926e-04 - val_smape: 20.0148\n",
      "Epoch 19/50\n",
      "\u001b[1m2253/2253\u001b[0m \u001b[32m━━━━━━━━━━━━━━━━━━━━\u001b[0m\u001b[37m\u001b[0m \u001b[1m0s\u001b[0m 268ms/step - loss: 0.0158 - mean_absolute_percentage_error: 50248.4141 - mean_squared_error: 6.4924e-04 - smape: 50.8971\n",
      "Epoch 19: saving model to training_1/ckpt.weights.h5\n",
      "\u001b[1m2253/2253\u001b[0m \u001b[32m━━━━━━━━━━━━━━━━━━━━\u001b[0m\u001b[37m\u001b[0m \u001b[1m670s\u001b[0m 297ms/step - loss: 0.0158 - mean_absolute_percentage_error: 50251.5898 - mean_squared_error: 6.4923e-04 - smape: 50.8971 - val_loss: 0.0159 - val_mean_absolute_percentage_error: 57101.7617 - val_mean_squared_error: 7.4794e-04 - val_smape: 52.4431\n",
      "Epoch 20/50\n",
      "\u001b[1m   1/2253\u001b[0m \u001b[37m━━━━━━━━━━━━━━━━━━━━\u001b[0m \u001b[1m2:17\u001b[0m 61ms/step - loss: 0.0134 - mean_absolute_percentage_error: 20.6933 - mean_squared_error: 2.9693e-04 - smape: 41.1984\n",
      "Epoch 20: saving model to training_1/ckpt.weights.h5\n",
      "\u001b[1m2253/2253\u001b[0m \u001b[32m━━━━━━━━━━━━━━━━━━━━\u001b[0m\u001b[37m\u001b[0m \u001b[1m0s\u001b[0m 56us/step - loss: 0.0134 - mean_absolute_percentage_error: 20.6933 - mean_squared_error: 2.9693e-04 - smape: 20.6083 - val_loss: 0.0148 - val_mean_absolute_percentage_error: 31.0624 - val_mean_squared_error: 4.3853e-04 - val_smape: 20.9031\n",
      "Epoch 21/50\n",
      "\u001b[1m2253/2253\u001b[0m \u001b[32m━━━━━━━━━━━━━━━━━━━━\u001b[0m\u001b[37m\u001b[0m \u001b[1m0s\u001b[0m 269ms/step - loss: 0.0157 - mean_absolute_percentage_error: 46983.2109 - mean_squared_error: 6.4048e-04 - smape: 51.1297\n",
      "Epoch 21: saving model to training_1/ckpt.weights.h5\n",
      "\u001b[1m2253/2253\u001b[0m \u001b[32m━━━━━━━━━━━━━━━━━━━━\u001b[0m\u001b[37m\u001b[0m \u001b[1m671s\u001b[0m 298ms/step - loss: 0.0157 - mean_absolute_percentage_error: 46986.6172 - mean_squared_error: 6.4047e-04 - smape: 51.1296 - val_loss: 0.0154 - val_mean_absolute_percentage_error: 60770.8789 - val_mean_squared_error: 7.0807e-04 - val_smape: 52.6164\n",
      "Epoch 22/50\n",
      "\u001b[1m   1/2253\u001b[0m \u001b[37m━━━━━━━━━━━━━━━━━━━━\u001b[0m \u001b[1m1:52\u001b[0m 50ms/step - loss: 0.0119 - mean_absolute_percentage_error: 19.3298 - mean_squared_error: 2.2982e-04 - smape: 42.0403\n",
      "Epoch 22: saving model to training_1/ckpt.weights.h5\n",
      "\u001b[1m2253/2253\u001b[0m \u001b[32m━━━━━━━━━━━━━━━━━━━━\u001b[0m\u001b[37m\u001b[0m \u001b[1m0s\u001b[0m 59us/step - loss: 0.0119 - mean_absolute_percentage_error: 19.3298 - mean_squared_error: 2.2982e-04 - smape: 21.0295 - val_loss: 0.0143 - val_mean_absolute_percentage_error: 31.9781 - val_mean_squared_error: 4.6437e-04 - val_smape: 20.8178\n",
      "Epoch 23/50\n",
      "\u001b[1m2253/2253\u001b[0m \u001b[32m━━━━━━━━━━━━━━━━━━━━\u001b[0m\u001b[37m\u001b[0m \u001b[1m0s\u001b[0m 269ms/step - loss: 0.0157 - mean_absolute_percentage_error: 47954.8438 - mean_squared_error: 6.3810e-04 - smape: 51.1077\n",
      "Epoch 23: saving model to training_1/ckpt.weights.h5\n",
      "\u001b[1m2253/2253\u001b[0m \u001b[32m━━━━━━━━━━━━━━━━━━━━\u001b[0m\u001b[37m\u001b[0m \u001b[1m670s\u001b[0m 298ms/step - loss: 0.0157 - mean_absolute_percentage_error: 47957.8516 - mean_squared_error: 6.3809e-04 - smape: 51.1077 - val_loss: 0.0154 - val_mean_absolute_percentage_error: 57403.3164 - val_mean_squared_error: 7.1262e-04 - val_smape: 51.8395\n",
      "Epoch 24/50\n",
      "\u001b[1m   1/2253\u001b[0m \u001b[37m━━━━━━━━━━━━━━━━━━━━\u001b[0m \u001b[1m2:11\u001b[0m 59ms/step - loss: 0.0121 - mean_absolute_percentage_error: 19.0008 - mean_squared_error: 2.4256e-04 - smape: 39.4146\n",
      "Epoch 24: saving model to training_1/ckpt.weights.h5\n",
      "\u001b[1m2253/2253\u001b[0m \u001b[32m━━━━━━━━━━━━━━━━━━━━\u001b[0m\u001b[37m\u001b[0m \u001b[1m0s\u001b[0m 53us/step - loss: 0.0121 - mean_absolute_percentage_error: 19.0008 - mean_squared_error: 2.4256e-04 - smape: 19.7160 - val_loss: 0.0150 - val_mean_absolute_percentage_error: 33.0805 - val_mean_squared_error: 4.8599e-04 - val_smape: 20.7499\n",
      "Epoch 25/50\n",
      "\u001b[1m2253/2253\u001b[0m \u001b[32m━━━━━━━━━━━━━━━━━━━━\u001b[0m\u001b[37m\u001b[0m \u001b[1m0s\u001b[0m 269ms/step - loss: 0.0156 - mean_absolute_percentage_error: 47160.7383 - mean_squared_error: 6.3640e-04 - smape: 51.1914\n",
      "Epoch 25: saving model to training_1/ckpt.weights.h5\n",
      "\u001b[1m2253/2253\u001b[0m \u001b[32m━━━━━━━━━━━━━━━━━━━━\u001b[0m\u001b[37m\u001b[0m \u001b[1m672s\u001b[0m 298ms/step - loss: 0.0156 - mean_absolute_percentage_error: 47163.4492 - mean_squared_error: 6.3640e-04 - smape: 51.1914 - val_loss: 0.0153 - val_mean_absolute_percentage_error: 59520.7852 - val_mean_squared_error: 7.0758e-04 - val_smape: 51.3313\n",
      "Epoch 26/50\n",
      "\u001b[1m   1/2253\u001b[0m \u001b[37m━━━━━━━━━━━━━━━━━━━━\u001b[0m \u001b[1m2:15\u001b[0m 60ms/step - loss: 0.0117 - mean_absolute_percentage_error: 19.2596 - mean_squared_error: 2.2994e-04 - smape: 38.4440\n",
      "Epoch 26: saving model to training_1/ckpt.weights.h5\n",
      "\u001b[1m2253/2253\u001b[0m \u001b[32m━━━━━━━━━━━━━━━━━━━━\u001b[0m\u001b[37m\u001b[0m \u001b[1m0s\u001b[0m 52us/step - loss: 0.0117 - mean_absolute_percentage_error: 19.2596 - mean_squared_error: 2.2994e-04 - smape: 19.2305 - val_loss: 0.0150 - val_mean_absolute_percentage_error: 32.8056 - val_mean_squared_error: 5.1464e-04 - val_smape: 20.3799\n",
      "Epoch 27/50\n",
      "\u001b[1m2253/2253\u001b[0m \u001b[32m━━━━━━━━━━━━━━━━━━━━\u001b[0m\u001b[37m\u001b[0m \u001b[1m0s\u001b[0m 269ms/step - loss: 0.0155 - mean_absolute_percentage_error: 45774.5469 - mean_squared_error: 6.2981e-04 - smape: 51.2457\n",
      "Epoch 27: saving model to training_1/ckpt.weights.h5\n",
      "\u001b[1m2253/2253\u001b[0m \u001b[32m━━━━━━━━━━━━━━━━━━━━\u001b[0m\u001b[37m\u001b[0m \u001b[1m671s\u001b[0m 298ms/step - loss: 0.0155 - mean_absolute_percentage_error: 45777.4414 - mean_squared_error: 6.2980e-04 - smape: 51.2458 - val_loss: 0.0151 - val_mean_absolute_percentage_error: 64911.7344 - val_mean_squared_error: 6.8270e-04 - val_smape: 51.1110\n",
      "Epoch 28/50\n",
      "\u001b[1m   1/2253\u001b[0m \u001b[37m━━━━━━━━━━━━━━━━━━━━\u001b[0m \u001b[1m2:11\u001b[0m 59ms/step - loss: 0.0113 - mean_absolute_percentage_error: 17.6300 - mean_squared_error: 1.8536e-04 - smape: 39.8969\n",
      "Epoch 28: saving model to training_1/ckpt.weights.h5\n",
      "\u001b[1m2253/2253\u001b[0m \u001b[32m━━━━━━━━━━━━━━━━━━━━\u001b[0m\u001b[37m\u001b[0m \u001b[1m0s\u001b[0m 54us/step - loss: 0.0113 - mean_absolute_percentage_error: 17.6300 - mean_squared_error: 1.8536e-04 - smape: 19.9573 - val_loss: 0.0150 - val_mean_absolute_percentage_error: 34.4479 - val_mean_squared_error: 5.1787e-04 - val_smape: 20.8550\n",
      "Epoch 29/50\n",
      "\u001b[1m2253/2253\u001b[0m \u001b[32m━━━━━━━━━━━━━━━━━━━━\u001b[0m\u001b[37m\u001b[0m \u001b[1m0s\u001b[0m 269ms/step - loss: 0.0155 - mean_absolute_percentage_error: 44745.8086 - mean_squared_error: 6.3133e-04 - smape: 51.3177\n",
      "Epoch 29: saving model to training_1/ckpt.weights.h5\n",
      "\u001b[1m2253/2253\u001b[0m \u001b[32m━━━━━━━━━━━━━━━━━━━━\u001b[0m\u001b[37m\u001b[0m \u001b[1m672s\u001b[0m 298ms/step - loss: 0.0155 - mean_absolute_percentage_error: 44748.7227 - mean_squared_error: 6.3133e-04 - smape: 51.3177 - val_loss: 0.0153 - val_mean_absolute_percentage_error: 58954.2070 - val_mean_squared_error: 7.0876e-04 - val_smape: 51.3035\n",
      "Epoch 30/50\n",
      "\u001b[1m   1/2253\u001b[0m \u001b[37m━━━━━━━━━━━━━━━━━━━━\u001b[0m \u001b[1m1:53\u001b[0m 51ms/step - loss: 0.0124 - mean_absolute_percentage_error: 21.1220 - mean_squared_error: 2.7511e-04 - smape: 36.9969\n",
      "Epoch 30: saving model to training_1/ckpt.weights.h5\n",
      "\u001b[1m2253/2253\u001b[0m \u001b[32m━━━━━━━━━━━━━━━━━━━━\u001b[0m\u001b[37m\u001b[0m \u001b[1m0s\u001b[0m 59us/step - loss: 0.0124 - mean_absolute_percentage_error: 21.1220 - mean_squared_error: 2.7511e-04 - smape: 18.5067 - val_loss: 0.0143 - val_mean_absolute_percentage_error: 30.8977 - val_mean_squared_error: 4.5938e-04 - val_smape: 20.6852\n",
      "Epoch 31/50\n",
      "\u001b[1m2253/2253\u001b[0m \u001b[32m━━━━━━━━━━━━━━━━━━━━\u001b[0m\u001b[37m\u001b[0m \u001b[1m0s\u001b[0m 270ms/step - loss: 0.0154 - mean_absolute_percentage_error: 43953.3711 - mean_squared_error: 6.2741e-04 - smape: 51.3286\n",
      "Epoch 31: saving model to training_1/ckpt.weights.h5\n",
      "\u001b[1m2253/2253\u001b[0m \u001b[32m━━━━━━━━━━━━━━━━━━━━\u001b[0m\u001b[37m\u001b[0m \u001b[1m672s\u001b[0m 298ms/step - loss: 0.0154 - mean_absolute_percentage_error: 43956.2773 - mean_squared_error: 6.2740e-04 - smape: 51.3286 - val_loss: 0.0151 - val_mean_absolute_percentage_error: 58115.0703 - val_mean_squared_error: 6.9962e-04 - val_smape: 50.9403\n",
      "Epoch 32/50\n",
      "\u001b[1m   1/2253\u001b[0m \u001b[37m━━━━━━━━━━━━━━━━━━━━\u001b[0m \u001b[1m2:18\u001b[0m 62ms/step - loss: 0.0120 - mean_absolute_percentage_error: 19.7464 - mean_squared_error: 2.1785e-04 - smape: 39.5583\n",
      "Epoch 32: saving model to training_1/ckpt.weights.h5\n",
      "\u001b[1m2253/2253\u001b[0m \u001b[32m━━━━━━━━━━━━━━━━━━━━\u001b[0m\u001b[37m\u001b[0m \u001b[1m0s\u001b[0m 57us/step - loss: 0.0120 - mean_absolute_percentage_error: 19.7464 - mean_squared_error: 2.1785e-04 - smape: 19.7879 - val_loss: 0.0147 - val_mean_absolute_percentage_error: 32.3747 - val_mean_squared_error: 4.7239e-04 - val_smape: 20.3685\n"
     ]
    },
    {
     "ename": "PermissionError",
     "evalue": "[Errno 13] Permission denied: '/trainHistoryDict'",
     "output_type": "error",
     "traceback": [
      "\u001b[1;31m---------------------------------------------------------------------------\u001b[0m",
      "\u001b[1;31mPermissionError\u001b[0m                           Traceback (most recent call last)",
      "Cell \u001b[1;32mIn[30], line 3\u001b[0m\n\u001b[0;32m      1\u001b[0m \u001b[38;5;28;01mimport\u001b[39;00m \u001b[38;5;21;01mpickle\u001b[39;00m\n\u001b[0;32m      2\u001b[0m history\u001b[38;5;241m=\u001b[39mmodel\u001b[38;5;241m.\u001b[39mfit(train_dataset, batch_size\u001b[38;5;241m=\u001b[39m\u001b[38;5;241m32\u001b[39m,epochs\u001b[38;5;241m=\u001b[39m\u001b[38;5;241m50\u001b[39m,steps_per_epoch\u001b[38;5;241m=\u001b[39m\u001b[38;5;28mlen\u001b[39m(X_train)\u001b[38;5;241m/\u001b[39m\u001b[38;5;241m/\u001b[39m\u001b[38;5;241m32\u001b[39m, validation_data\u001b[38;5;241m=\u001b[39mval_dataset,callbacks\u001b[38;5;241m=\u001b[39m[early_stopping,cp_callback],validation_steps\u001b[38;5;241m=\u001b[39m\u001b[38;5;28mlen\u001b[39m(X_val)\u001b[38;5;241m/\u001b[39m\u001b[38;5;241m/\u001b[39m\u001b[38;5;241m32\u001b[39m)\n\u001b[1;32m----> 3\u001b[0m \u001b[38;5;28;01mwith\u001b[39;00m \u001b[38;5;28;43mopen\u001b[39;49m\u001b[43m(\u001b[49m\u001b[38;5;124;43m'\u001b[39;49m\u001b[38;5;124;43m/trainHistoryDict\u001b[39;49m\u001b[38;5;124;43m'\u001b[39;49m\u001b[43m,\u001b[49m\u001b[43m \u001b[49m\u001b[38;5;124;43m'\u001b[39;49m\u001b[38;5;124;43mwb\u001b[39;49m\u001b[38;5;124;43m'\u001b[39;49m\u001b[43m)\u001b[49m \u001b[38;5;28;01mas\u001b[39;00m file_pi:\n\u001b[0;32m      4\u001b[0m     pickle\u001b[38;5;241m.\u001b[39mdump(history\u001b[38;5;241m.\u001b[39mhistory, file_pi)\n",
      "File \u001b[1;32mc:\\Users\\benja\\anaconda3\\envs\\ee\\Lib\\site-packages\\IPython\\core\\interactiveshell.py:324\u001b[0m, in \u001b[0;36m_modified_open\u001b[1;34m(file, *args, **kwargs)\u001b[0m\n\u001b[0;32m    317\u001b[0m \u001b[38;5;28;01mif\u001b[39;00m file \u001b[38;5;129;01min\u001b[39;00m {\u001b[38;5;241m0\u001b[39m, \u001b[38;5;241m1\u001b[39m, \u001b[38;5;241m2\u001b[39m}:\n\u001b[0;32m    318\u001b[0m     \u001b[38;5;28;01mraise\u001b[39;00m \u001b[38;5;167;01mValueError\u001b[39;00m(\n\u001b[0;32m    319\u001b[0m         \u001b[38;5;124mf\u001b[39m\u001b[38;5;124m\"\u001b[39m\u001b[38;5;124mIPython won\u001b[39m\u001b[38;5;124m'\u001b[39m\u001b[38;5;124mt let you open fd=\u001b[39m\u001b[38;5;132;01m{\u001b[39;00mfile\u001b[38;5;132;01m}\u001b[39;00m\u001b[38;5;124m by default \u001b[39m\u001b[38;5;124m\"\u001b[39m\n\u001b[0;32m    320\u001b[0m         \u001b[38;5;124m\"\u001b[39m\u001b[38;5;124mas it is likely to crash IPython. If you know what you are doing, \u001b[39m\u001b[38;5;124m\"\u001b[39m\n\u001b[0;32m    321\u001b[0m         \u001b[38;5;124m\"\u001b[39m\u001b[38;5;124myou can use builtins\u001b[39m\u001b[38;5;124m'\u001b[39m\u001b[38;5;124m open.\u001b[39m\u001b[38;5;124m\"\u001b[39m\n\u001b[0;32m    322\u001b[0m     )\n\u001b[1;32m--> 324\u001b[0m \u001b[38;5;28;01mreturn\u001b[39;00m \u001b[43mio_open\u001b[49m\u001b[43m(\u001b[49m\u001b[43mfile\u001b[49m\u001b[43m,\u001b[49m\u001b[43m \u001b[49m\u001b[38;5;241;43m*\u001b[39;49m\u001b[43margs\u001b[49m\u001b[43m,\u001b[49m\u001b[43m \u001b[49m\u001b[38;5;241;43m*\u001b[39;49m\u001b[38;5;241;43m*\u001b[39;49m\u001b[43mkwargs\u001b[49m\u001b[43m)\u001b[49m\n",
      "\u001b[1;31mPermissionError\u001b[0m: [Errno 13] Permission denied: '/trainHistoryDict'"
     ]
    }
   ],
   "source": [
    "import pickle\n",
    "history=model.fit(train_dataset, batch_size=32,epochs=50,steps_per_epoch=len(X_train)//32, validation_data=val_dataset,callbacks=[early_stopping,cp_callback],validation_steps=len(X_val)//32)\n",
    "\n",
    "\n"
   ]
  },
  {
   "cell_type": "code",
   "execution_count": 49,
   "metadata": {},
   "outputs": [
    {
     "data": {
      "text/plain": [
       "0    0.194503\n",
       "1    0.194503\n",
       "2    0.194503\n",
       "3    0.194503\n",
       "4    0.159098\n",
       "Name: mp10, dtype: float64"
      ]
     },
     "execution_count": 49,
     "metadata": {},
     "output_type": "execute_result"
    }
   ],
   "source": [
    "df_Scaled=df['mp10'].copy()\n",
    "df_Scaled = df_Scaled  / df_Scaled.abs().max()\n"
   ]
  },
  {
   "cell_type": "code",
   "execution_count": 54,
   "metadata": {},
   "outputs": [
    {
     "data": {
      "image/png": "[encoded data removed]",
      "text/plain": [
       "<Figure size 640x480 with 1 Axes>"
      ]
     },
     "metadata": {},
     "output_type": "display_data"
    }
   ],
   "source": [
    "import matplotlib.pyplot as plt\n",
    "s=[df_Scaled.std()]*32\n",
    "colors = ['b', 'g', 'r', 'c', 'm', 'y','k','orange', 'purple', 'brown', 'pink', 'lime', 'teal', 'gray', 'olive', 'navy']\n",
    "\n",
    "    # Grafica los valores de loss\n",
    "plt.plot(history.history['loss'],  color='purple',label='Loss')\n",
    "plt.plot(history.history['val_loss'],color='olive',label='Val_Loss')\n",
    "plt.plot(s,label='Standard Deviation',color='pink')\n",
    "# Agrega etiquetas al gráfico\n",
    "plt.xlabel('Epoch')\n",
    "plt.ylabel('Value')\n",
    "plt.ylim(0,0.06)\n",
    "plt.title('Training & Validation Loss per Epoch')\n",
    "plt.xlim(0,32)\n",
    "\n",
    "plt.legend()\n",
    "\n",
    "plt.grid(True)\n",
    "plt.savefig('val_loss_whole.png',format='png')\n",
    "# Muestra el gráfico\n",
    "plt.show()"
   ]
  },
  {
   "cell_type": "code",
   "execution_count": 57,
   "metadata": {},
   "outputs": [
    {
     "name": "stdout",
     "output_type": "stream",
     "text": [
      "\u001b[1m   36/20706\u001b[0m \u001b[37m━━━━━━━━━━━━━━━━━━━━\u001b[0m \u001b[1m1:34\u001b[0m 5ms/step"
     ]
    },
    {
     "name": "stderr",
     "output_type": "stream",
     "text": [
      "C:\\Users\\benja\\AppData\\Local\\Temp\\ipykernel_536\\3065549325.py:10: DeprecationWarning: Starting with ImageIO v3 the behavior of this function will switch to that of iio.v3.imread. To keep the current behavior (and make this warning disappear) use `import imageio.v2 as imageio` or call `imageio.v2.imread` directly.\n",
      "  image = (imageio.imread(path))\n"
     ]
    },
    {
     "name": "stdout",
     "output_type": "stream",
     "text": [
      "\u001b[1m20706/20706\u001b[0m \u001b[32m━━━━━━━━━━━━━━━━━━━━\u001b[0m\u001b[37m\u001b[0m \u001b[1m158s\u001b[0m 8ms/step\n"
     ]
    }
   ],
   "source": [
    "test_dataset = create_combined_dataset(images_test, X_test, y_test, 1)\n",
    "predict = model.predict(test_dataset,steps=len(y_test))"
   ]
  },
  {
   "cell_type": "code",
   "execution_count": 58,
   "metadata": {},
   "outputs": [
    {
     "name": "stdout",
     "output_type": "stream",
     "text": [
      "MAE: 0.015187220733338938\n",
      "MSE: 0.0006708432247534437\n",
      "R-squared: 0.4793502993498998\n",
      "SMAPE: 27.831136097675735%\n"
     ]
    }
   ],
   "source": [
    "from sklearn.metrics import mean_absolute_error, r2_score, mean_squared_error\n",
    "import numpy as np\n",
    "\n",
    "# Calcular MAE\n",
    "mae = mean_absolute_error(y_test, predict)\n",
    "mse= mean_squared_error(y_test, predict)\n",
    "# Calcular R-squared\n",
    "r2 = r2_score(y_test, predict)\n",
    "def smape(y_true, y_pred):\n",
    "    \"\"\"\n",
    "    Calcula el Symmetric Mean Absolute Percentage Error.\n",
    "    \"\"\"\n",
    "    return 100 * np.mean(2 * np.abs(y_pred - y_true) / (np.abs(y_true) + np.abs(y_pred) + 1e-6))\n",
    "\n",
    "smape = smape(y_test, predict)\n",
    "\n",
    "# Imprimir las métricas\n",
    "print(f\"MAE: {mae}\")\n",
    "print(f\"MSE: {mse}\")\n",
    "print(f\"R-squared: {r2}\")\n",
    "print(f\"SMAPE: {smape}%\")"
   ]
  },
  {
   "cell_type": "code",
   "execution_count": 69,
   "metadata": {},
   "outputs": [
    {
     "data": {
      "image/png": "[encoded data removed]",
      "text/plain": [
       "<Figure size 640x480 with 1 Axes>"
      ]
     },
     "metadata": {},
     "output_type": "display_data"
    }
   ],
   "source": [
    "plt.scatter(y_test, predict, color='blue', alpha=0.5)\n",
    "\n",
    "plt.xlabel('Valores Reales')\n",
    "plt.ylabel('predicciones')\n",
    "plt.xlim(0,1)\n",
    "plt.ylim(0,1)\n",
    "\n",
    "plt.show()"
   ]
  },
  {
   "cell_type": "code",
   "execution_count": 74,
   "metadata": {},
   "outputs": [
    {
     "data": {
      "text/plain": [
       "count    151917.000000\n",
       "mean         55.948889\n",
       "std          34.322277\n",
       "min           0.000000\n",
       "25%          34.208300\n",
       "50%          49.000000\n",
       "75%          69.833300\n",
       "max         917.940000\n",
       "Name: mp10, dtype: float64"
      ]
     },
     "execution_count": 74,
     "metadata": {},
     "output_type": "execute_result"
    }
   ],
   "source": [
    "df['mp10'].describe()"
   ]
  },
  {
   "cell_type": "code",
   "execution_count": 65,
   "metadata": {},
   "outputs": [
    {
     "name": "stderr",
     "output_type": "stream",
     "text": [
      "C:\\Users\\benja\\AppData\\Local\\Temp\\ipykernel_536\\2569167324.py:3: DeprecationWarning: Conversion of an array with ndim > 0 to a scalar is deprecated, and will error in future. Ensure you extract a single element from your array before performing this operation. (Deprecated NumPy 1.25.)\n",
      "  residuos.append(float(y_test[a])-float(y_test[a]))\n"
     ]
    },
    {
     "data": {
      "image/png": "[encoded data removed]",
      "text/plain": [
       "<Figure size 640x480 with 1 Axes>"
      ]
     },
     "metadata": {},
     "output_type": "display_data"
    }
   ],
   "source": [
    "residuos = []\n",
    "for a in range(len(y_test)):\n",
    "    residuos.append(float(y_test[a])-float(y_test[a]))\n",
    "    import seaborn as sns\n",
    "sns.histplot(residuos,kde=True,bins=600)\n",
    "plt.xlim(-0.1,0.1)\n",
    "plt.show()"
   ]
  }
 ],
 "metadata": {
  "kernelspec": {
   "display_name": "ee",
   "language": "python",
   "name": "python3"
  },
  "language_info": {
   "codemirror_mode": {
    "name": "ipython",
    "version": 3
   },
   "file_extension": ".py",
   "mimetype": "text/x-python",
   "name": "python",
   "nbconvert_exporter": "python",
   "pygments_lexer": "ipython3",
   "version": "3.12.3"
  }
 },
 "nbformat": 4,
 "nbformat_minor": 2
}
