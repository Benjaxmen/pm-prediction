{
 "cells": [
  {
   "cell_type": "code",
   "execution_count": 56,
   "metadata": {},
   "outputs": [],
   "source": [
    "import imageio\n",
    "import os\n",
    "import numpy as np\n",
    "import pandas as pd\n",
    "import matplotlib.pyplot as plt\n",
    "from sklearn.model_selection import train_test_split\n",
    "import tensorflow as tf\n",
    "from sklearn.preprocessing import MinMaxScaler\n",
    "import seaborn as sns\n",
    "from tensorflow.keras.models import Model\n",
    "from tensorflow.keras.layers import Input, Conv2D, AveragePooling2D, Flatten, Dense, Dropout, AveragePooling2D, Flatten, Dropout, LSTM, Concatenate\n",
    "from tensorflow.keras.callbacks import EarlyStopping\n",
    "from sklearn.metrics import mean_absolute_error, r2_score, mean_squared_error"
   ]
  },
  {
   "cell_type": "code",
   "execution_count": 57,
   "metadata": {},
   "outputs": [],
   "source": [
    "def preprocess_imagery(path):\n",
    "    '''\n",
    "    Pre process satellite imagery. We check for nans in the composite images,\n",
    "    and then we load them into the [0,1] range.\n",
    "    Input: TIF files downloaded from GEE (224x224x7)\n",
    "    '''\n",
    "    # Reading image\n",
    "    path = str(path).strip('b').strip(\"'\")\n",
    "    path=\"D:/GEE_Images/GEE_Images/\"+path+\".tif\"\n",
    "    image = (imageio.imread(path))\n",
    "    \"\"\"if np.sum(np.isnan(image)) > 0:\n",
    "        # Taking the mean of the image, per channel\n",
    "        mean = np.nanmean(image, axis=(0, 1))\n",
    "        # Replacing NaN with per channel mean\n",
    "        replacement = np.isnan(image) * mean\n",
    "        image[np.isnan(image)] = replacement[np.isnan(image)]  \n",
    "        nan_channels = np.all(np.isnan(image), axis=(0, 1))\n",
    "        # Replacing NaN with 0 where all values in a channel are NaN\n",
    "        image[:, :, nan_channels] = np.nan_to_num(image[:, :, nan_channels])\n",
    "    # Scale the image to [0, 1] range\n",
    "    image = image / 255\"\"\"\n",
    "    return image"
   ]
  },
  {
   "cell_type": "code",
   "execution_count": 24,
   "metadata": {},
   "outputs": [
    {
     "name": "stdout",
     "output_type": "stream",
     "text": [
      "      mp10    station    mp2.5  dirviento  tamb  so2  velviento     hrel  \\\n",
      "0  178.542  El_bosque  49.7829    221.195   NaN  9.5   0.950428  40.5833   \n",
      "1  178.542  El_bosque  49.7829    221.195   NaN  9.5   0.950428  40.5833   \n",
      "2  178.542  El_bosque  49.7829    221.195   NaN  9.5   0.950428  40.5833   \n",
      "3  178.542  El_bosque  49.7829    221.195   NaN  9.5   0.950428  40.5833   \n",
      "4  146.042  El_bosque  49.7829    221.195   NaN  9.5   0.950428  40.5833   \n",
      "\n",
      "       no2       o3  ...       no        co  region        Date  Year  Month  \\\n",
      "0  30.3333  16.9167  ...  34.8333  0.929165       1  1997-04-02  1997      4   \n",
      "1  30.3333  12.4583  ...  34.8333  0.929165       1  1997-04-03  1997      4   \n",
      "2  30.3333  23.2083  ...  34.8333  0.929165       1  1997-04-04  1997      4   \n",
      "3  30.3333  28.2917  ...  34.8333  0.929165       1  1997-04-05  1997      4   \n",
      "4  30.3333  21.2083  ...  34.8333  1.204160       1  1997-04-06  1997      4   \n",
      "\n",
      "   Day        lat       long  image  \n",
      "0    2 -33.547016 -70.666163   None  \n",
      "1    3 -33.547016 -70.666163   None  \n",
      "2    4 -33.547016 -70.666163   None  \n",
      "3    5 -33.547016 -70.666163   None  \n",
      "4    6 -33.547016 -70.666163   None  \n",
      "\n",
      "[5 rows x 21 columns]\n"
     ]
    }
   ],
   "source": [
    "image_files = [f for f in os.listdir(\"../GEE_Images/GEE_Images\")]\n",
    "image_info = []\n",
    "df = pd.read_csv('processed_data.csv')\n",
    "\n",
    "for image in image_files:\n",
    "    name, _ = os.path.splitext(image)\n",
    "    # Extraer estación y fecha de las imágenes\n",
    "    station = '_'.join(name.split(' ')[0].split('_')[:-1])\n",
    "    date = name.split(' ')[0].split('_')[-1]\n",
    "    image_info.append([station, date,name])\n",
    "\n",
    "# Añadimos una columna para asociar imágenes en df\n",
    "df['image'] = None  # Inicialmente sin imágenes asociadas\n",
    "\n",
    "# Ahora asociamos cada imagen a su registro en df\n",
    "for info in image_info:\n",
    "    df.loc[(df['station'] == info[0]) & (df['Date'] == info[1]), 'image'] = info[2]\n",
    "\n",
    "# Verificar que las imágenes se han asignado correctamente\n",
    "print(df.head())\n"
   ]
  },
  {
   "cell_type": "code",
   "execution_count": 26,
   "metadata": {},
   "outputs": [],
   "source": [
    "df_Scaled=df.copy()\n",
    "# Crear un diccionario para almacenar los datos de cada locación\n",
    "df_Scaled.fillna(value=0,inplace=True)\n",
    "grouped_data = {location: location_df.sort_values(by='Date') for location, location_df in df_Scaled.groupby('station')}"
   ]
  },
  {
   "cell_type": "code",
   "execution_count": 27,
   "metadata": {},
   "outputs": [
    {
     "data": {
      "text/plain": [
       "count                             51782\n",
       "unique                            51782\n",
       "top       El_bosque_1997-07-01 00_00_00\n",
       "freq                                  1\n",
       "Name: image, dtype: object"
      ]
     },
     "execution_count": 27,
     "metadata": {},
     "output_type": "execute_result"
    }
   ],
   "source": [
    "df['image'].describe()"
   ]
  },
  {
   "cell_type": "markdown",
   "metadata": {},
   "source": [
    "### Usando 7 días previos para predecir el día siguiente (Sin capping)"
   ]
  },
  {
   "cell_type": "code",
   "execution_count": 28,
   "metadata": {},
   "outputs": [
    {
     "name": "stdout",
     "output_type": "stream",
     "text": [
      "Forma de X: (103015, 7, 17), Forma de y: (103015, 1), Total de imágenes: (103015,)\n",
      "Train set: X=(72110, 7, 17), y=(72110, 1), images=(72110,)\n",
      "Test set: X=(20706, 7, 17), y=(20706, 1), images=(20706,)\n",
      "Validation set: X=(10199, 7, 17), y=(10199, 1), images=(10199,)\n"
     ]
    }
   ],
   "source": [
    "# Definir la longitud de la secuencia para la LSTM\n",
    "sequence_length = 7  # Supongamos que usas 7 días para la LSTM\n",
    "\n",
    "# Variables para almacenar las secuencias, el target y las imágenes\n",
    "X, y, images = [], [], []\n",
    "\n",
    "# Recorre los datos por locación\n",
    "for location, location_df in grouped_data.items():\n",
    "    features = location_df.drop(['Date', 'station', 'mp10', 'image'], axis=1).values\n",
    "    target = location_df['mp10'].values\n",
    "    image_series = location_df['image'].values\n",
    "\n",
    "    for i in range(sequence_length, len(features)):\n",
    "        # Crear secuencia de entrada de `sequence_length` días\n",
    "        sequence_features = features[i-sequence_length:i]\n",
    "        sequence_target = target[i]\n",
    "        \n",
    "        # Buscar una imagen en la secuencia (la más cercana al último día de la secuencia)\n",
    "        image_associated = image_series[i-sequence_length:i]\n",
    "        image_file = next((img for img in reversed(image_associated) if img != 0), None)\n",
    "        \n",
    "        # Añadir solo si hay una imagen válida asociada\n",
    "        if image_file:\n",
    "            X.append(sequence_features)\n",
    "            y.append(sequence_target)\n",
    "            images.append(image_file)\n",
    "\n",
    "# Convertir las listas a arrays de numpy\n",
    "X, y = np.array(X), np.array(y)\n",
    "images = np.array(images)\n",
    "\n",
    "# Normalizar características de entrada\n",
    "scaler_X = MinMaxScaler()\n",
    "X_reshaped = X.reshape(-1, X.shape[-1])\n",
    "X_normalized = scaler_X.fit_transform(X_reshaped)\n",
    "X = X_normalized.reshape(X.shape)\n",
    "\n",
    "scaler_y = MinMaxScaler()\n",
    "y = scaler_y.fit_transform(y.reshape(-1, 1))\n",
    "\n",
    "print(f\"Forma de X: {X.shape}, Forma de y: {y.shape}, Total de imágenes: {images.shape}\")\n",
    "\n",
    "# Dividir los datos en 70% entrenamiento, 20% test, 10% validación\n",
    "X_train, X_temp, y_train, y_temp, images_train, images_temp = train_test_split(X, y, images, test_size=0.30, random_state=42)\n",
    "\n",
    "# Dividir el 30% restante en 20% test y 10% validación\n",
    "X_test, X_val, y_test, y_val, images_test, images_val = train_test_split(X_temp, y_temp, images_temp, test_size=0.33, random_state=42)  # 0.33 * 0.30 = ~0.10\n",
    "\n",
    "# Imprimir las formas para verificar las divisiones\n",
    "print(f\"Train set: X={X_train.shape}, y={y_train.shape}, images={images_train.shape}\")\n",
    "print(f\"Test set: X={X_test.shape}, y={y_test.shape}, images={images_test.shape}\")\n",
    "print(f\"Validation set: X={X_val.shape}, y={y_val.shape}, images={images_val.shape}\")\n"
   ]
  },
  {
   "cell_type": "code",
   "execution_count": 29,
   "metadata": {},
   "outputs": [
    {
     "data": {
      "text/html": [
       "<pre style=\"white-space:pre;overflow-x:auto;line-height:normal;font-family:Menlo,'DejaVu Sans Mono',consolas,'Courier New',monospace\"><span style=\"font-weight: bold\">Model: \"functional\"</span>\n",
       "</pre>\n"
      ],
      "text/plain": [
       "\u001b[1mModel: \"functional\"\u001b[0m\n"
      ]
     },
     "metadata": {},
     "output_type": "display_data"
    },
    {
     "data": {
      "text/html": [
       "<pre style=\"white-space:pre;overflow-x:auto;line-height:normal;font-family:Menlo,'DejaVu Sans Mono',consolas,'Courier New',monospace\">┏━━━━━━━━━━━━━━━━━━━━━┳━━━━━━━━━━━━━━━━━━━┳━━━━━━━━━━━━┳━━━━━━━━━━━━━━━━━━━┓\n",
       "┃<span style=\"font-weight: bold\"> Layer (type)        </span>┃<span style=\"font-weight: bold\"> Output Shape      </span>┃<span style=\"font-weight: bold\">    Param # </span>┃<span style=\"font-weight: bold\"> Connected to      </span>┃\n",
       "┡━━━━━━━━━━━━━━━━━━━━━╇━━━━━━━━━━━━━━━━━━━╇━━━━━━━━━━━━╇━━━━━━━━━━━━━━━━━━━┩\n",
       "│ input_layer         │ (<span style=\"color: #00d7ff; text-decoration-color: #00d7ff\">None</span>, <span style=\"color: #00af00; text-decoration-color: #00af00\">224</span>, <span style=\"color: #00af00; text-decoration-color: #00af00\">224</span>,  │          <span style=\"color: #00af00; text-decoration-color: #00af00\">0</span> │ -                 │\n",
       "│ (<span style=\"color: #0087ff; text-decoration-color: #0087ff\">InputLayer</span>)        │ <span style=\"color: #00af00; text-decoration-color: #00af00\">6</span>)                │            │                   │\n",
       "├─────────────────────┼───────────────────┼────────────┼───────────────────┤\n",
       "│ conv2d (<span style=\"color: #0087ff; text-decoration-color: #0087ff\">Conv2D</span>)     │ (<span style=\"color: #00d7ff; text-decoration-color: #00d7ff\">None</span>, <span style=\"color: #00af00; text-decoration-color: #00af00\">222</span>, <span style=\"color: #00af00; text-decoration-color: #00af00\">222</span>,  │        <span style=\"color: #00af00; text-decoration-color: #00af00\">880</span> │ input_layer[<span style=\"color: #00af00; text-decoration-color: #00af00\">0</span>][<span style=\"color: #00af00; text-decoration-color: #00af00\">0</span>] │\n",
       "│                     │ <span style=\"color: #00af00; text-decoration-color: #00af00\">16</span>)               │            │                   │\n",
       "├─────────────────────┼───────────────────┼────────────┼───────────────────┤\n",
       "│ average_pooling2d   │ (<span style=\"color: #00d7ff; text-decoration-color: #00d7ff\">None</span>, <span style=\"color: #00af00; text-decoration-color: #00af00\">111</span>, <span style=\"color: #00af00; text-decoration-color: #00af00\">111</span>,  │          <span style=\"color: #00af00; text-decoration-color: #00af00\">0</span> │ conv2d[<span style=\"color: #00af00; text-decoration-color: #00af00\">0</span>][<span style=\"color: #00af00; text-decoration-color: #00af00\">0</span>]      │\n",
       "│ (<span style=\"color: #0087ff; text-decoration-color: #0087ff\">AveragePooling2D</span>)  │ <span style=\"color: #00af00; text-decoration-color: #00af00\">16</span>)               │            │                   │\n",
       "├─────────────────────┼───────────────────┼────────────┼───────────────────┤\n",
       "│ conv2d_1 (<span style=\"color: #0087ff; text-decoration-color: #0087ff\">Conv2D</span>)   │ (<span style=\"color: #00d7ff; text-decoration-color: #00d7ff\">None</span>, <span style=\"color: #00af00; text-decoration-color: #00af00\">109</span>, <span style=\"color: #00af00; text-decoration-color: #00af00\">109</span>,  │      <span style=\"color: #00af00; text-decoration-color: #00af00\">4,640</span> │ average_pooling2… │\n",
       "│                     │ <span style=\"color: #00af00; text-decoration-color: #00af00\">32</span>)               │            │                   │\n",
       "├─────────────────────┼───────────────────┼────────────┼───────────────────┤\n",
       "│ average_pooling2d_1 │ (<span style=\"color: #00d7ff; text-decoration-color: #00d7ff\">None</span>, <span style=\"color: #00af00; text-decoration-color: #00af00\">54</span>, <span style=\"color: #00af00; text-decoration-color: #00af00\">54</span>,    │          <span style=\"color: #00af00; text-decoration-color: #00af00\">0</span> │ conv2d_1[<span style=\"color: #00af00; text-decoration-color: #00af00\">0</span>][<span style=\"color: #00af00; text-decoration-color: #00af00\">0</span>]    │\n",
       "│ (<span style=\"color: #0087ff; text-decoration-color: #0087ff\">AveragePooling2D</span>)  │ <span style=\"color: #00af00; text-decoration-color: #00af00\">32</span>)               │            │                   │\n",
       "├─────────────────────┼───────────────────┼────────────┼───────────────────┤\n",
       "│ conv2d_2 (<span style=\"color: #0087ff; text-decoration-color: #0087ff\">Conv2D</span>)   │ (<span style=\"color: #00d7ff; text-decoration-color: #00d7ff\">None</span>, <span style=\"color: #00af00; text-decoration-color: #00af00\">52</span>, <span style=\"color: #00af00; text-decoration-color: #00af00\">52</span>,    │      <span style=\"color: #00af00; text-decoration-color: #00af00\">9,248</span> │ average_pooling2… │\n",
       "│                     │ <span style=\"color: #00af00; text-decoration-color: #00af00\">32</span>)               │            │                   │\n",
       "├─────────────────────┼───────────────────┼────────────┼───────────────────┤\n",
       "│ average_pooling2d_2 │ (<span style=\"color: #00d7ff; text-decoration-color: #00d7ff\">None</span>, <span style=\"color: #00af00; text-decoration-color: #00af00\">26</span>, <span style=\"color: #00af00; text-decoration-color: #00af00\">26</span>,    │          <span style=\"color: #00af00; text-decoration-color: #00af00\">0</span> │ conv2d_2[<span style=\"color: #00af00; text-decoration-color: #00af00\">0</span>][<span style=\"color: #00af00; text-decoration-color: #00af00\">0</span>]    │\n",
       "│ (<span style=\"color: #0087ff; text-decoration-color: #0087ff\">AveragePooling2D</span>)  │ <span style=\"color: #00af00; text-decoration-color: #00af00\">32</span>)               │            │                   │\n",
       "├─────────────────────┼───────────────────┼────────────┼───────────────────┤\n",
       "│ conv2d_3 (<span style=\"color: #0087ff; text-decoration-color: #0087ff\">Conv2D</span>)   │ (<span style=\"color: #00d7ff; text-decoration-color: #00d7ff\">None</span>, <span style=\"color: #00af00; text-decoration-color: #00af00\">24</span>, <span style=\"color: #00af00; text-decoration-color: #00af00\">24</span>,    │      <span style=\"color: #00af00; text-decoration-color: #00af00\">9,248</span> │ average_pooling2… │\n",
       "│                     │ <span style=\"color: #00af00; text-decoration-color: #00af00\">32</span>)               │            │                   │\n",
       "├─────────────────────┼───────────────────┼────────────┼───────────────────┤\n",
       "│ average_pooling2d_3 │ (<span style=\"color: #00d7ff; text-decoration-color: #00d7ff\">None</span>, <span style=\"color: #00af00; text-decoration-color: #00af00\">12</span>, <span style=\"color: #00af00; text-decoration-color: #00af00\">12</span>,    │          <span style=\"color: #00af00; text-decoration-color: #00af00\">0</span> │ conv2d_3[<span style=\"color: #00af00; text-decoration-color: #00af00\">0</span>][<span style=\"color: #00af00; text-decoration-color: #00af00\">0</span>]    │\n",
       "│ (<span style=\"color: #0087ff; text-decoration-color: #0087ff\">AveragePooling2D</span>)  │ <span style=\"color: #00af00; text-decoration-color: #00af00\">32</span>)               │            │                   │\n",
       "├─────────────────────┼───────────────────┼────────────┼───────────────────┤\n",
       "│ flatten (<span style=\"color: #0087ff; text-decoration-color: #0087ff\">Flatten</span>)   │ (<span style=\"color: #00d7ff; text-decoration-color: #00d7ff\">None</span>, <span style=\"color: #00af00; text-decoration-color: #00af00\">4608</span>)      │          <span style=\"color: #00af00; text-decoration-color: #00af00\">0</span> │ average_pooling2… │\n",
       "├─────────────────────┼───────────────────┼────────────┼───────────────────┤\n",
       "│ input_layer_1       │ (<span style=\"color: #00d7ff; text-decoration-color: #00d7ff\">None</span>, <span style=\"color: #00af00; text-decoration-color: #00af00\">7</span>, <span style=\"color: #00af00; text-decoration-color: #00af00\">17</span>)     │          <span style=\"color: #00af00; text-decoration-color: #00af00\">0</span> │ -                 │\n",
       "│ (<span style=\"color: #0087ff; text-decoration-color: #0087ff\">InputLayer</span>)        │                   │            │                   │\n",
       "├─────────────────────┼───────────────────┼────────────┼───────────────────┤\n",
       "│ dense (<span style=\"color: #0087ff; text-decoration-color: #0087ff\">Dense</span>)       │ (<span style=\"color: #00d7ff; text-decoration-color: #00d7ff\">None</span>, <span style=\"color: #00af00; text-decoration-color: #00af00\">128</span>)       │    <span style=\"color: #00af00; text-decoration-color: #00af00\">589,952</span> │ flatten[<span style=\"color: #00af00; text-decoration-color: #00af00\">0</span>][<span style=\"color: #00af00; text-decoration-color: #00af00\">0</span>]     │\n",
       "├─────────────────────┼───────────────────┼────────────┼───────────────────┤\n",
       "│ lstm (<span style=\"color: #0087ff; text-decoration-color: #0087ff\">LSTM</span>)         │ (<span style=\"color: #00d7ff; text-decoration-color: #00d7ff\">None</span>, <span style=\"color: #00af00; text-decoration-color: #00af00\">7</span>, <span style=\"color: #00af00; text-decoration-color: #00af00\">50</span>)     │     <span style=\"color: #00af00; text-decoration-color: #00af00\">13,600</span> │ input_layer_1[<span style=\"color: #00af00; text-decoration-color: #00af00\">0</span>]… │\n",
       "├─────────────────────┼───────────────────┼────────────┼───────────────────┤\n",
       "│ dropout (<span style=\"color: #0087ff; text-decoration-color: #0087ff\">Dropout</span>)   │ (<span style=\"color: #00d7ff; text-decoration-color: #00d7ff\">None</span>, <span style=\"color: #00af00; text-decoration-color: #00af00\">128</span>)       │          <span style=\"color: #00af00; text-decoration-color: #00af00\">0</span> │ dense[<span style=\"color: #00af00; text-decoration-color: #00af00\">0</span>][<span style=\"color: #00af00; text-decoration-color: #00af00\">0</span>]       │\n",
       "├─────────────────────┼───────────────────┼────────────┼───────────────────┤\n",
       "│ lstm_1 (<span style=\"color: #0087ff; text-decoration-color: #0087ff\">LSTM</span>)       │ (<span style=\"color: #00d7ff; text-decoration-color: #00d7ff\">None</span>, <span style=\"color: #00af00; text-decoration-color: #00af00\">50</span>)        │     <span style=\"color: #00af00; text-decoration-color: #00af00\">20,200</span> │ lstm[<span style=\"color: #00af00; text-decoration-color: #00af00\">0</span>][<span style=\"color: #00af00; text-decoration-color: #00af00\">0</span>]        │\n",
       "├─────────────────────┼───────────────────┼────────────┼───────────────────┤\n",
       "│ concatenate         │ (<span style=\"color: #00d7ff; text-decoration-color: #00d7ff\">None</span>, <span style=\"color: #00af00; text-decoration-color: #00af00\">178</span>)       │          <span style=\"color: #00af00; text-decoration-color: #00af00\">0</span> │ dropout[<span style=\"color: #00af00; text-decoration-color: #00af00\">0</span>][<span style=\"color: #00af00; text-decoration-color: #00af00\">0</span>],    │\n",
       "│ (<span style=\"color: #0087ff; text-decoration-color: #0087ff\">Concatenate</span>)       │                   │            │ lstm_1[<span style=\"color: #00af00; text-decoration-color: #00af00\">0</span>][<span style=\"color: #00af00; text-decoration-color: #00af00\">0</span>]      │\n",
       "├─────────────────────┼───────────────────┼────────────┼───────────────────┤\n",
       "│ dense_1 (<span style=\"color: #0087ff; text-decoration-color: #0087ff\">Dense</span>)     │ (<span style=\"color: #00d7ff; text-decoration-color: #00d7ff\">None</span>, <span style=\"color: #00af00; text-decoration-color: #00af00\">128</span>)       │     <span style=\"color: #00af00; text-decoration-color: #00af00\">22,912</span> │ concatenate[<span style=\"color: #00af00; text-decoration-color: #00af00\">0</span>][<span style=\"color: #00af00; text-decoration-color: #00af00\">0</span>] │\n",
       "├─────────────────────┼───────────────────┼────────────┼───────────────────┤\n",
       "│ dropout_1 (<span style=\"color: #0087ff; text-decoration-color: #0087ff\">Dropout</span>) │ (<span style=\"color: #00d7ff; text-decoration-color: #00d7ff\">None</span>, <span style=\"color: #00af00; text-decoration-color: #00af00\">128</span>)       │          <span style=\"color: #00af00; text-decoration-color: #00af00\">0</span> │ dense_1[<span style=\"color: #00af00; text-decoration-color: #00af00\">0</span>][<span style=\"color: #00af00; text-decoration-color: #00af00\">0</span>]     │\n",
       "├─────────────────────┼───────────────────┼────────────┼───────────────────┤\n",
       "│ dense_2 (<span style=\"color: #0087ff; text-decoration-color: #0087ff\">Dense</span>)     │ (<span style=\"color: #00d7ff; text-decoration-color: #00d7ff\">None</span>, <span style=\"color: #00af00; text-decoration-color: #00af00\">1</span>)         │        <span style=\"color: #00af00; text-decoration-color: #00af00\">129</span> │ dropout_1[<span style=\"color: #00af00; text-decoration-color: #00af00\">0</span>][<span style=\"color: #00af00; text-decoration-color: #00af00\">0</span>]   │\n",
       "└─────────────────────┴───────────────────┴────────────┴───────────────────┘\n",
       "</pre>\n"
      ],
      "text/plain": [
       "┏━━━━━━━━━━━━━━━━━━━━━┳━━━━━━━━━━━━━━━━━━━┳━━━━━━━━━━━━┳━━━━━━━━━━━━━━━━━━━┓\n",
       "┃\u001b[1m \u001b[0m\u001b[1mLayer (type)       \u001b[0m\u001b[1m \u001b[0m┃\u001b[1m \u001b[0m\u001b[1mOutput Shape     \u001b[0m\u001b[1m \u001b[0m┃\u001b[1m \u001b[0m\u001b[1m   Param #\u001b[0m\u001b[1m \u001b[0m┃\u001b[1m \u001b[0m\u001b[1mConnected to     \u001b[0m\u001b[1m \u001b[0m┃\n",
       "┡━━━━━━━━━━━━━━━━━━━━━╇━━━━━━━━━━━━━━━━━━━╇━━━━━━━━━━━━╇━━━━━━━━━━━━━━━━━━━┩\n",
       "│ input_layer         │ (\u001b[38;5;45mNone\u001b[0m, \u001b[38;5;34m224\u001b[0m, \u001b[38;5;34m224\u001b[0m,  │          \u001b[38;5;34m0\u001b[0m │ -                 │\n",
       "│ (\u001b[38;5;33mInputLayer\u001b[0m)        │ \u001b[38;5;34m6\u001b[0m)                │            │                   │\n",
       "├─────────────────────┼───────────────────┼────────────┼───────────────────┤\n",
       "│ conv2d (\u001b[38;5;33mConv2D\u001b[0m)     │ (\u001b[38;5;45mNone\u001b[0m, \u001b[38;5;34m222\u001b[0m, \u001b[38;5;34m222\u001b[0m,  │        \u001b[38;5;34m880\u001b[0m │ input_layer[\u001b[38;5;34m0\u001b[0m][\u001b[38;5;34m0\u001b[0m] │\n",
       "│                     │ \u001b[38;5;34m16\u001b[0m)               │            │                   │\n",
       "├─────────────────────┼───────────────────┼────────────┼───────────────────┤\n",
       "│ average_pooling2d   │ (\u001b[38;5;45mNone\u001b[0m, \u001b[38;5;34m111\u001b[0m, \u001b[38;5;34m111\u001b[0m,  │          \u001b[38;5;34m0\u001b[0m │ conv2d[\u001b[38;5;34m0\u001b[0m][\u001b[38;5;34m0\u001b[0m]      │\n",
       "│ (\u001b[38;5;33mAveragePooling2D\u001b[0m)  │ \u001b[38;5;34m16\u001b[0m)               │            │                   │\n",
       "├─────────────────────┼───────────────────┼────────────┼───────────────────┤\n",
       "│ conv2d_1 (\u001b[38;5;33mConv2D\u001b[0m)   │ (\u001b[38;5;45mNone\u001b[0m, \u001b[38;5;34m109\u001b[0m, \u001b[38;5;34m109\u001b[0m,  │      \u001b[38;5;34m4,640\u001b[0m │ average_pooling2… │\n",
       "│                     │ \u001b[38;5;34m32\u001b[0m)               │            │                   │\n",
       "├─────────────────────┼───────────────────┼────────────┼───────────────────┤\n",
       "│ average_pooling2d_1 │ (\u001b[38;5;45mNone\u001b[0m, \u001b[38;5;34m54\u001b[0m, \u001b[38;5;34m54\u001b[0m,    │          \u001b[38;5;34m0\u001b[0m │ conv2d_1[\u001b[38;5;34m0\u001b[0m][\u001b[38;5;34m0\u001b[0m]    │\n",
       "│ (\u001b[38;5;33mAveragePooling2D\u001b[0m)  │ \u001b[38;5;34m32\u001b[0m)               │            │                   │\n",
       "├─────────────────────┼───────────────────┼────────────┼───────────────────┤\n",
       "│ conv2d_2 (\u001b[38;5;33mConv2D\u001b[0m)   │ (\u001b[38;5;45mNone\u001b[0m, \u001b[38;5;34m52\u001b[0m, \u001b[38;5;34m52\u001b[0m,    │      \u001b[38;5;34m9,248\u001b[0m │ average_pooling2… │\n",
       "│                     │ \u001b[38;5;34m32\u001b[0m)               │            │                   │\n",
       "├─────────────────────┼───────────────────┼────────────┼───────────────────┤\n",
       "│ average_pooling2d_2 │ (\u001b[38;5;45mNone\u001b[0m, \u001b[38;5;34m26\u001b[0m, \u001b[38;5;34m26\u001b[0m,    │          \u001b[38;5;34m0\u001b[0m │ conv2d_2[\u001b[38;5;34m0\u001b[0m][\u001b[38;5;34m0\u001b[0m]    │\n",
       "│ (\u001b[38;5;33mAveragePooling2D\u001b[0m)  │ \u001b[38;5;34m32\u001b[0m)               │            │                   │\n",
       "├─────────────────────┼───────────────────┼────────────┼───────────────────┤\n",
       "│ conv2d_3 (\u001b[38;5;33mConv2D\u001b[0m)   │ (\u001b[38;5;45mNone\u001b[0m, \u001b[38;5;34m24\u001b[0m, \u001b[38;5;34m24\u001b[0m,    │      \u001b[38;5;34m9,248\u001b[0m │ average_pooling2… │\n",
       "│                     │ \u001b[38;5;34m32\u001b[0m)               │            │                   │\n",
       "├─────────────────────┼───────────────────┼────────────┼───────────────────┤\n",
       "│ average_pooling2d_3 │ (\u001b[38;5;45mNone\u001b[0m, \u001b[38;5;34m12\u001b[0m, \u001b[38;5;34m12\u001b[0m,    │          \u001b[38;5;34m0\u001b[0m │ conv2d_3[\u001b[38;5;34m0\u001b[0m][\u001b[38;5;34m0\u001b[0m]    │\n",
       "│ (\u001b[38;5;33mAveragePooling2D\u001b[0m)  │ \u001b[38;5;34m32\u001b[0m)               │            │                   │\n",
       "├─────────────────────┼───────────────────┼────────────┼───────────────────┤\n",
       "│ flatten (\u001b[38;5;33mFlatten\u001b[0m)   │ (\u001b[38;5;45mNone\u001b[0m, \u001b[38;5;34m4608\u001b[0m)      │          \u001b[38;5;34m0\u001b[0m │ average_pooling2… │\n",
       "├─────────────────────┼───────────────────┼────────────┼───────────────────┤\n",
       "│ input_layer_1       │ (\u001b[38;5;45mNone\u001b[0m, \u001b[38;5;34m7\u001b[0m, \u001b[38;5;34m17\u001b[0m)     │          \u001b[38;5;34m0\u001b[0m │ -                 │\n",
       "│ (\u001b[38;5;33mInputLayer\u001b[0m)        │                   │            │                   │\n",
       "├─────────────────────┼───────────────────┼────────────┼───────────────────┤\n",
       "│ dense (\u001b[38;5;33mDense\u001b[0m)       │ (\u001b[38;5;45mNone\u001b[0m, \u001b[38;5;34m128\u001b[0m)       │    \u001b[38;5;34m589,952\u001b[0m │ flatten[\u001b[38;5;34m0\u001b[0m][\u001b[38;5;34m0\u001b[0m]     │\n",
       "├─────────────────────┼───────────────────┼────────────┼───────────────────┤\n",
       "│ lstm (\u001b[38;5;33mLSTM\u001b[0m)         │ (\u001b[38;5;45mNone\u001b[0m, \u001b[38;5;34m7\u001b[0m, \u001b[38;5;34m50\u001b[0m)     │     \u001b[38;5;34m13,600\u001b[0m │ input_layer_1[\u001b[38;5;34m0\u001b[0m]… │\n",
       "├─────────────────────┼───────────────────┼────────────┼───────────────────┤\n",
       "│ dropout (\u001b[38;5;33mDropout\u001b[0m)   │ (\u001b[38;5;45mNone\u001b[0m, \u001b[38;5;34m128\u001b[0m)       │          \u001b[38;5;34m0\u001b[0m │ dense[\u001b[38;5;34m0\u001b[0m][\u001b[38;5;34m0\u001b[0m]       │\n",
       "├─────────────────────┼───────────────────┼────────────┼───────────────────┤\n",
       "│ lstm_1 (\u001b[38;5;33mLSTM\u001b[0m)       │ (\u001b[38;5;45mNone\u001b[0m, \u001b[38;5;34m50\u001b[0m)        │     \u001b[38;5;34m20,200\u001b[0m │ lstm[\u001b[38;5;34m0\u001b[0m][\u001b[38;5;34m0\u001b[0m]        │\n",
       "├─────────────────────┼───────────────────┼────────────┼───────────────────┤\n",
       "│ concatenate         │ (\u001b[38;5;45mNone\u001b[0m, \u001b[38;5;34m178\u001b[0m)       │          \u001b[38;5;34m0\u001b[0m │ dropout[\u001b[38;5;34m0\u001b[0m][\u001b[38;5;34m0\u001b[0m],    │\n",
       "│ (\u001b[38;5;33mConcatenate\u001b[0m)       │                   │            │ lstm_1[\u001b[38;5;34m0\u001b[0m][\u001b[38;5;34m0\u001b[0m]      │\n",
       "├─────────────────────┼───────────────────┼────────────┼───────────────────┤\n",
       "│ dense_1 (\u001b[38;5;33mDense\u001b[0m)     │ (\u001b[38;5;45mNone\u001b[0m, \u001b[38;5;34m128\u001b[0m)       │     \u001b[38;5;34m22,912\u001b[0m │ concatenate[\u001b[38;5;34m0\u001b[0m][\u001b[38;5;34m0\u001b[0m] │\n",
       "├─────────────────────┼───────────────────┼────────────┼───────────────────┤\n",
       "│ dropout_1 (\u001b[38;5;33mDropout\u001b[0m) │ (\u001b[38;5;45mNone\u001b[0m, \u001b[38;5;34m128\u001b[0m)       │          \u001b[38;5;34m0\u001b[0m │ dense_1[\u001b[38;5;34m0\u001b[0m][\u001b[38;5;34m0\u001b[0m]     │\n",
       "├─────────────────────┼───────────────────┼────────────┼───────────────────┤\n",
       "│ dense_2 (\u001b[38;5;33mDense\u001b[0m)     │ (\u001b[38;5;45mNone\u001b[0m, \u001b[38;5;34m1\u001b[0m)         │        \u001b[38;5;34m129\u001b[0m │ dropout_1[\u001b[38;5;34m0\u001b[0m][\u001b[38;5;34m0\u001b[0m]   │\n",
       "└─────────────────────┴───────────────────┴────────────┴───────────────────┘\n"
      ]
     },
     "metadata": {},
     "output_type": "display_data"
    },
    {
     "data": {
      "text/html": [
       "<pre style=\"white-space:pre;overflow-x:auto;line-height:normal;font-family:Menlo,'DejaVu Sans Mono',consolas,'Courier New',monospace\"><span style=\"font-weight: bold\"> Total params: </span><span style=\"color: #00af00; text-decoration-color: #00af00\">670,809</span> (2.56 MB)\n",
       "</pre>\n"
      ],
      "text/plain": [
       "\u001b[1m Total params: \u001b[0m\u001b[38;5;34m670,809\u001b[0m (2.56 MB)\n"
      ]
     },
     "metadata": {},
     "output_type": "display_data"
    },
    {
     "data": {
      "text/html": [
       "<pre style=\"white-space:pre;overflow-x:auto;line-height:normal;font-family:Menlo,'DejaVu Sans Mono',consolas,'Courier New',monospace\"><span style=\"font-weight: bold\"> Trainable params: </span><span style=\"color: #00af00; text-decoration-color: #00af00\">670,809</span> (2.56 MB)\n",
       "</pre>\n"
      ],
      "text/plain": [
       "\u001b[1m Trainable params: \u001b[0m\u001b[38;5;34m670,809\u001b[0m (2.56 MB)\n"
      ]
     },
     "metadata": {},
     "output_type": "display_data"
    },
    {
     "data": {
      "text/html": [
       "<pre style=\"white-space:pre;overflow-x:auto;line-height:normal;font-family:Menlo,'DejaVu Sans Mono',consolas,'Courier New',monospace\"><span style=\"font-weight: bold\"> Non-trainable params: </span><span style=\"color: #00af00; text-decoration-color: #00af00\">0</span> (0.00 B)\n",
       "</pre>\n"
      ],
      "text/plain": [
       "\u001b[1m Non-trainable params: \u001b[0m\u001b[38;5;34m0\u001b[0m (0.00 B)\n"
      ]
     },
     "metadata": {},
     "output_type": "display_data"
    }
   ],
   "source": [
    "# Definir la métrica personalizada SMAPE\n",
    "def smape(y_true, y_pred):\n",
    "    epsilon = tf.keras.backend.epsilon()  # Pequeño valor para evitar divisiones por cero\n",
    "    denominator = (tf.abs(y_true) + tf.abs(y_pred)) / 2.0 + epsilon\n",
    "    diff = tf.abs(y_true - y_pred) / denominator\n",
    "    return 100.0 * tf.reduce_mean(diff)  # Se devuelve el error en porcentaje\n",
    "\n",
    "\n",
    "# Definir la entrada para las imágenes (224x224x6)\n",
    "image_input = Input(shape=(224, 224, 6))\n",
    "\n",
    "# Red convolucional para procesar la entrada de imágenes\n",
    "x = Conv2D(filters=16, kernel_size=(3, 3), activation='relu')(image_input)\n",
    "x = AveragePooling2D(pool_size=(2, 2))(x)\n",
    "x = Conv2D(filters=32, kernel_size=(3, 3), activation='relu')(x)\n",
    "x = AveragePooling2D(pool_size=(2, 2))(x)\n",
    "x = Conv2D(filters=32, kernel_size=(3, 3), activation='relu')(x)\n",
    "x = AveragePooling2D(pool_size=(2, 2))(x)\n",
    "x = Conv2D(filters=32, kernel_size=(3, 3), activation='relu')(x)\n",
    "x = AveragePooling2D(pool_size=(2, 2))(x)\n",
    "\n",
    "# Aplanar la salida de la capa convolucional\n",
    "x = Flatten()(x)\n",
    "x = Dense(units=128, activation='relu')(x)\n",
    "x = Dropout(rate=0.5)(x)\n",
    "\n",
    "# Definir la entrada para la LSTM (datos secuenciales)\n",
    "sequence_input = Input(shape=(7, 17))  \n",
    "\n",
    "# Red LSTM para procesar la entrada secuencial\n",
    "y = LSTM(units=50, return_sequences=True)(sequence_input)\n",
    "y = LSTM(units=50)(y)\n",
    "\n",
    "# Combinar las salidas de la CNN y la LSTM\n",
    "combined = Concatenate()([x, y])\n",
    "\n",
    "# Añadir capas densas finales para predecir el valor final\n",
    "z = Dense(units=128, activation='relu')(combined)\n",
    "z = Dropout(rate=0.5)(z)\n",
    "z = Dense(units=1, activation='linear')(z)\n",
    "\n",
    "# Crear el modelo con dos entradas\n",
    "model = Model(inputs=[image_input, sequence_input], outputs=z)\n",
    "\n",
    "# Compilar el modelo\n",
    "model.compile(optimizer='adam', loss='mean_absolute_error',metrics=['mean_squared_error','mean_absolute_percentage_error',smape])\n",
    "\n",
    "# Mostrar la arquitectura del modelo\n",
    "model.summary()\n"
   ]
  },
  {
   "cell_type": "code",
   "execution_count": 35,
   "metadata": {},
   "outputs": [],
   "source": [
    "# Generador para combinar imágenes y secuencias\n",
    "def data_generator(image_files, sequences, labels): \n",
    "    for i in range(len(image_files)):\n",
    "        if image_files[i] != '':  # Si la imagen existe\n",
    "            image = preprocess_imagery(image_files[i])  # Cargar y preprocesar la imagen\n",
    "            image = tf.convert_to_tensor(image, dtype=tf.float32)\n",
    "        else:\n",
    "            image = tf.zeros((224, 224, 6), dtype=tf.float32)  # Si no hay imagen, usar un tensor de ceros\n",
    "            \n",
    "        sequence = tf.convert_to_tensor(sequences[i], dtype=tf.float32)  # Secuencia de datos tabulares\n",
    "        label = tf.convert_to_tensor(labels[i], dtype=tf.float32)  # Etiqueta (mp10)+\n",
    "        label=tf.squeeze(label)\n",
    "        \n",
    "        yield (image, sequence), label  # Dos entradas: imagen y secuencia\n",
    "\n",
    "# Crear el dataset\n",
    "def create_combined_dataset(image_files, sequences, labels, batch_size):\n",
    "    dataset = tf.data.Dataset.from_generator(\n",
    "        data_generator,\n",
    "        args=[image_files, sequences, labels],\n",
    "        output_signature=(\n",
    "            (tf.TensorSpec(shape=(224, 224, 6), dtype=tf.float32),  # Especificar el tamaño de las imágenes\n",
    "             tf.TensorSpec(shape=(7, sequences.shape[2]), dtype=tf.float32)),  # Secuencias de 7 días\n",
    "            tf.TensorSpec(shape=(), dtype=tf.float32)  # La etiqueta (mp10)\n",
    "        )\n",
    "    )\n",
    "    dataset = dataset.batch(batch_size)\n",
    "    dataset = dataset.prefetch(buffer_size=tf.data.AUTOTUNE)\n",
    "    return dataset\n",
    "\n",
    "# Ejemplo de uso para crear datasets de entrenamiento, validación y prueba\n",
    "batch_size = 32\n",
    "\n",
    "# Crear datasets\n",
    "train_dataset = create_combined_dataset(images_train, X_train, y_train, batch_size)\n",
    "val_dataset = create_combined_dataset(images_val, X_val, y_val, batch_size)\n",
    "test_dataset = create_combined_dataset(images_test, X_test, y_test, batch_size)\n"
   ]
  },
  {
   "cell_type": "code",
   "execution_count": 36,
   "metadata": {},
   "outputs": [],
   "source": [
    "# Configurar Early Stopping\n",
    "early_stopping = EarlyStopping(\n",
    "    monitor='val_loss',  # Métrica a monitorear\n",
    "    patience=10,         # Número de épocas de paciencia\n",
    "    restore_best_weights=True  # Restaurar los mejores pesos al final del entrenamiento\n",
    ")\n"
   ]
  },
  {
   "cell_type": "code",
   "execution_count": 37,
   "metadata": {},
   "outputs": [
    {
     "data": {
      "text/plain": [
       "(7, 17)"
      ]
     },
     "execution_count": 37,
     "metadata": {},
     "output_type": "execute_result"
    }
   ],
   "source": [
    "X_train[0].shape"
   ]
  },
  {
   "cell_type": "code",
   "execution_count": 38,
   "metadata": {},
   "outputs": [],
   "source": [
    "checkpoint_path = \"training/ckpt.weights.h5\"\n",
    "checkpoint_dir = os.path.dirname(checkpoint_path)\n",
    "\n",
    "# Create a callback that saves the model's weights\n",
    "cp_callback = tf.keras.callbacks.ModelCheckpoint(filepath=checkpoint_path,\n",
    "                                                 save_weights_only=True,\n",
    "                                                 verbose=1)"
   ]
  },
  {
   "cell_type": "code",
   "execution_count": 39,
   "metadata": {},
   "outputs": [
    {
     "name": "stdout",
     "output_type": "stream",
     "text": [
      "Epoch 1/50\n"
     ]
    },
    {
     "name": "stderr",
     "output_type": "stream",
     "text": [
      "C:\\Users\\benja\\AppData\\Local\\Packages\\PythonSoftwareFoundation.Python.3.12_qbz5n2kfra8p0\\LocalCache\\local-packages\\Python312\\site-packages\\keras\\src\\models\\functional.py:225: UserWarning: The structure of `inputs` doesn't match the expected structure: ['keras_tensor', 'keras_tensor_12']. Received: the structure of inputs=('*', '*')\n",
      "  warnings.warn(\n",
      "C:\\Users\\benja\\AppData\\Local\\Temp\\ipykernel_11080\\2794921389.py:10: DeprecationWarning: Starting with ImageIO v3 the behavior of this function will switch to that of iio.v3.imread. To keep the current behavior (and make this warning disappear) use `import imageio.v2 as imageio` or call `imageio.v2.imread` directly.\n",
      "  image = (imageio.imread(path))\n"
     ]
    },
    {
     "name": "stdout",
     "output_type": "stream",
     "text": [
      "\u001b[1m2253/2253\u001b[0m \u001b[32m━━━━━━━━━━━━━━━━━━━━\u001b[0m\u001b[37m\u001b[0m \u001b[1m0s\u001b[0m 384ms/step - loss: 0.0863 - mean_absolute_percentage_error: 136873.1719 - mean_squared_error: 0.5962 - smape: 52.7968\n",
      "Epoch 1: saving model to training/ckpt.weights.h5\n",
      "\u001b[1m2253/2253\u001b[0m \u001b[32m━━━━━━━━━━━━━━━━━━━━\u001b[0m\u001b[37m\u001b[0m \u001b[1m969s\u001b[0m 429ms/step - loss: 0.0862 - mean_absolute_percentage_error: 136849.4219 - mean_squared_error: 0.5960 - smape: 52.7951 - val_loss: 0.0185 - val_mean_absolute_percentage_error: 92910.3750 - val_mean_squared_error: 9.1084e-04 - val_smape: 49.0097\n",
      "Epoch 2/50\n",
      "\u001b[1m   1/2253\u001b[0m \u001b[37m━━━━━━━━━━━━━━━━━━━━\u001b[0m \u001b[1m2:35\u001b[0m 69ms/step - loss: 0.0152 - mean_absolute_percentage_error: 25.2768 - mean_squared_error: 3.5523e-04 - smape: 39.0289\n",
      "Epoch 2: saving model to training/ckpt.weights.h5\n"
     ]
    },
    {
     "name": "stderr",
     "output_type": "stream",
     "text": [
      "C:\\Program Files\\WindowsApps\\PythonSoftwareFoundation.Python.3.12_3.12.2032.0_x64__qbz5n2kfra8p0\\Lib\\contextlib.py:158: UserWarning: Your input ran out of data; interrupting training. Make sure that your dataset or generator can generate at least `steps_per_epoch * epochs` batches. You may need to use the `.repeat()` function when building your dataset.\n",
      "  self.gen.throw(value)\n"
     ]
    },
    {
     "name": "stdout",
     "output_type": "stream",
     "text": [
      "\u001b[1m2253/2253\u001b[0m \u001b[32m━━━━━━━━━━━━━━━━━━━━\u001b[0m\u001b[37m\u001b[0m \u001b[1m0s\u001b[0m 96us/step - loss: 0.0152 - mean_absolute_percentage_error: 25.2768 - mean_squared_error: 3.5523e-04 - smape: 19.5231 - val_loss: 0.0190 - val_mean_absolute_percentage_error: 43.6166 - val_mean_squared_error: 7.1978e-04 - val_smape: 21.2371\n",
      "Epoch 3/50\n",
      "\u001b[1m2253/2253\u001b[0m \u001b[32m━━━━━━━━━━━━━━━━━━━━\u001b[0m\u001b[37m\u001b[0m \u001b[1m0s\u001b[0m 363ms/step - loss: 0.0187 - mean_absolute_percentage_error: 60771.3320 - mean_squared_error: 8.4582e-04 - smape: 48.6338\n",
      "Epoch 3: saving model to training/ckpt.weights.h5\n",
      "\u001b[1m2253/2253\u001b[0m \u001b[32m━━━━━━━━━━━━━━━━━━━━\u001b[0m\u001b[37m\u001b[0m \u001b[1m915s\u001b[0m 406ms/step - loss: 0.0187 - mean_absolute_percentage_error: 60775.0273 - mean_squared_error: 8.4580e-04 - smape: 48.6339 - val_loss: 0.0174 - val_mean_absolute_percentage_error: 92221.3672 - val_mean_squared_error: 8.3083e-04 - val_smape: 48.9478\n",
      "Epoch 4/50\n",
      "\u001b[1m   1/2253\u001b[0m \u001b[37m━━━━━━━━━━━━━━━━━━━━\u001b[0m \u001b[1m1:59\u001b[0m 53ms/step - loss: 0.0135 - mean_absolute_percentage_error: 21.4849 - mean_squared_error: 2.9093e-04 - smape: 43.0578\n",
      "Epoch 4: saving model to training/ckpt.weights.h5\n",
      "\u001b[1m2253/2253\u001b[0m \u001b[32m━━━━━━━━━━━━━━━━━━━━\u001b[0m\u001b[37m\u001b[0m \u001b[1m0s\u001b[0m 80us/step - loss: 0.0135 - mean_absolute_percentage_error: 21.4849 - mean_squared_error: 2.9093e-04 - smape: 21.5385 - val_loss: 0.0177 - val_mean_absolute_percentage_error: 40.1738 - val_mean_squared_error: 5.5385e-04 - val_smape: 20.0649\n",
      "Epoch 5/50\n",
      "\u001b[1m2253/2253\u001b[0m \u001b[32m━━━━━━━━━━━━━━━━━━━━\u001b[0m\u001b[37m\u001b[0m \u001b[1m0s\u001b[0m 380ms/step - loss: 0.0176 - mean_absolute_percentage_error: 59393.1836 - mean_squared_error: 7.5787e-04 - smape: 49.4282\n",
      "Epoch 5: saving model to training/ckpt.weights.h5\n",
      "\u001b[1m2253/2253\u001b[0m \u001b[32m━━━━━━━━━━━━━━━━━━━━\u001b[0m\u001b[37m\u001b[0m \u001b[1m952s\u001b[0m 422ms/step - loss: 0.0176 - mean_absolute_percentage_error: 59396.5977 - mean_squared_error: 7.5786e-04 - smape: 49.4282 - val_loss: 0.0173 - val_mean_absolute_percentage_error: 80937.2422 - val_mean_squared_error: 8.3068e-04 - val_smape: 50.6977\n",
      "Epoch 6/50\n",
      "\u001b[1m   1/2253\u001b[0m \u001b[37m━━━━━━━━━━━━━━━━━━━━\u001b[0m \u001b[1m2:00\u001b[0m 54ms/step - loss: 0.0162 - mean_absolute_percentage_error: 27.2539 - mean_squared_error: 3.9308e-04 - smape: 47.9302\n",
      "Epoch 6: saving model to training/ckpt.weights.h5\n",
      "\u001b[1m2253/2253\u001b[0m \u001b[32m━━━━━━━━━━━━━━━━━━━━\u001b[0m\u001b[37m\u001b[0m \u001b[1m0s\u001b[0m 78us/step - loss: 0.0162 - mean_absolute_percentage_error: 27.2539 - mean_squared_error: 3.9308e-04 - smape: 23.9757 - val_loss: 0.0178 - val_mean_absolute_percentage_error: 38.1425 - val_mean_squared_error: 5.2971e-04 - val_smape: 20.0739\n",
      "Epoch 7/50\n",
      "\u001b[1m2253/2253\u001b[0m \u001b[32m━━━━━━━━━━━━━━━━━━━━\u001b[0m\u001b[37m\u001b[0m \u001b[1m0s\u001b[0m 359ms/step - loss: 0.0173 - mean_absolute_percentage_error: 58056.9297 - mean_squared_error: 7.3230e-04 - smape: 49.7662\n",
      "Epoch 7: saving model to training/ckpt.weights.h5\n",
      "\u001b[1m2253/2253\u001b[0m \u001b[32m━━━━━━━━━━━━━━━━━━━━\u001b[0m\u001b[37m\u001b[0m \u001b[1m904s\u001b[0m 401ms/step - loss: 0.0173 - mean_absolute_percentage_error: 58060.0977 - mean_squared_error: 7.3229e-04 - smape: 49.7662 - val_loss: 0.0170 - val_mean_absolute_percentage_error: 81688.2578 - val_mean_squared_error: 8.1473e-04 - val_smape: 48.0861\n",
      "Epoch 8/50\n",
      "\u001b[1m   1/2253\u001b[0m \u001b[37m━━━━━━━━━━━━━━━━━━━━\u001b[0m \u001b[1m2:00\u001b[0m 53ms/step - loss: 0.0137 - mean_absolute_percentage_error: 20.8260 - mean_squared_error: 2.9016e-04 - smape: 41.3793\n",
      "Epoch 8: saving model to training/ckpt.weights.h5\n",
      "\u001b[1m2253/2253\u001b[0m \u001b[32m━━━━━━━━━━━━━━━━━━━━\u001b[0m\u001b[37m\u001b[0m \u001b[1m0s\u001b[0m 83us/step - loss: 0.0137 - mean_absolute_percentage_error: 20.8260 - mean_squared_error: 2.9016e-04 - smape: 20.6988 - val_loss: 0.0164 - val_mean_absolute_percentage_error: 35.6302 - val_mean_squared_error: 4.7167e-04 - val_smape: 19.3664\n",
      "Epoch 9/50\n",
      "\u001b[1m2253/2253\u001b[0m \u001b[32m━━━━━━━━━━━━━━━━━━━━\u001b[0m\u001b[37m\u001b[0m \u001b[1m0s\u001b[0m 360ms/step - loss: 0.0169 - mean_absolute_percentage_error: 54891.5898 - mean_squared_error: 7.0975e-04 - smape: 49.9324\n",
      "Epoch 9: saving model to training/ckpt.weights.h5\n",
      "\u001b[1m2253/2253\u001b[0m \u001b[32m━━━━━━━━━━━━━━━━━━━━\u001b[0m\u001b[37m\u001b[0m \u001b[1m906s\u001b[0m 402ms/step - loss: 0.0169 - mean_absolute_percentage_error: 54894.8789 - mean_squared_error: 7.0974e-04 - smape: 49.9325 - val_loss: 0.0162 - val_mean_absolute_percentage_error: 79354.8281 - val_mean_squared_error: 7.5075e-04 - val_smape: 51.4974\n",
      "Epoch 10/50\n",
      "\u001b[1m   1/2253\u001b[0m \u001b[37m━━━━━━━━━━━━━━━━━━━━\u001b[0m \u001b[1m2:03\u001b[0m 55ms/step - loss: 0.0094 - mean_absolute_percentage_error: 14.8661 - mean_squared_error: 1.5024e-04 - smape: 40.6748\n",
      "Epoch 10: saving model to training/ckpt.weights.h5\n",
      "\u001b[1m2253/2253\u001b[0m \u001b[32m━━━━━━━━━━━━━━━━━━━━\u001b[0m\u001b[37m\u001b[0m \u001b[1m0s\u001b[0m 85us/step - loss: 0.0094 - mean_absolute_percentage_error: 14.8661 - mean_squared_error: 1.5024e-04 - smape: 20.3464 - val_loss: 0.0156 - val_mean_absolute_percentage_error: 37.0533 - val_mean_squared_error: 5.1257e-04 - val_smape: 20.8468\n",
      "Epoch 11/50\n",
      "\u001b[1m2253/2253\u001b[0m \u001b[32m━━━━━━━━━━━━━━━━━━━━\u001b[0m\u001b[37m\u001b[0m \u001b[1m0s\u001b[0m 359ms/step - loss: 0.0165 - mean_absolute_percentage_error: 54225.0547 - mean_squared_error: 6.8736e-04 - smape: 50.3983\n",
      "Epoch 11: saving model to training/ckpt.weights.h5\n",
      "\u001b[1m2253/2253\u001b[0m \u001b[32m━━━━━━━━━━━━━━━━━━━━\u001b[0m\u001b[37m\u001b[0m \u001b[1m905s\u001b[0m 402ms/step - loss: 0.0165 - mean_absolute_percentage_error: 54228.3789 - mean_squared_error: 6.8736e-04 - smape: 50.3983 - val_loss: 0.0160 - val_mean_absolute_percentage_error: 74034.0781 - val_mean_squared_error: 7.4961e-04 - val_smape: 50.2881\n",
      "Epoch 12/50\n",
      "\u001b[1m   1/2253\u001b[0m \u001b[37m━━━━━━━━━━━━━━━━━━━━\u001b[0m \u001b[1m1:57\u001b[0m 52ms/step - loss: 0.0128 - mean_absolute_percentage_error: 20.4657 - mean_squared_error: 2.3603e-04 - smape: 41.3969\n",
      "Epoch 12: saving model to training/ckpt.weights.h5\n",
      "\u001b[1m2253/2253\u001b[0m \u001b[32m━━━━━━━━━━━━━━━━━━━━\u001b[0m\u001b[37m\u001b[0m \u001b[1m0s\u001b[0m 82us/step - loss: 0.0128 - mean_absolute_percentage_error: 20.4657 - mean_squared_error: 2.3603e-04 - smape: 20.7076 - val_loss: 0.0160 - val_mean_absolute_percentage_error: 36.1396 - val_mean_squared_error: 5.0622e-04 - val_smape: 20.4353\n",
      "Epoch 13/50\n",
      "\u001b[1m2253/2253\u001b[0m \u001b[32m━━━━━━━━━━━━━━━━━━━━\u001b[0m\u001b[37m\u001b[0m \u001b[1m0s\u001b[0m 359ms/step - loss: 0.0163 - mean_absolute_percentage_error: 53775.7617 - mean_squared_error: 6.7401e-04 - smape: 50.6614\n",
      "Epoch 13: saving model to training/ckpt.weights.h5\n",
      "\u001b[1m2253/2253\u001b[0m \u001b[32m━━━━━━━━━━━━━━━━━━━━\u001b[0m\u001b[37m\u001b[0m \u001b[1m905s\u001b[0m 402ms/step - loss: 0.0163 - mean_absolute_percentage_error: 53779.0430 - mean_squared_error: 6.7400e-04 - smape: 50.6614 - val_loss: 0.0158 - val_mean_absolute_percentage_error: 76237.0000 - val_mean_squared_error: 7.2052e-04 - val_smape: 50.2120\n",
      "Epoch 14/50\n",
      "\u001b[1m   1/2253\u001b[0m \u001b[37m━━━━━━━━━━━━━━━━━━━━\u001b[0m \u001b[1m1:53\u001b[0m 51ms/step - loss: 0.0121 - mean_absolute_percentage_error: 18.3057 - mean_squared_error: 2.4621e-04 - smape: 39.9212\n",
      "Epoch 14: saving model to training/ckpt.weights.h5\n",
      "\u001b[1m2253/2253\u001b[0m \u001b[32m━━━━━━━━━━━━━━━━━━━━\u001b[0m\u001b[37m\u001b[0m \u001b[1m0s\u001b[0m 83us/step - loss: 0.0121 - mean_absolute_percentage_error: 18.3057 - mean_squared_error: 2.4621e-04 - smape: 19.9695 - val_loss: 0.0159 - val_mean_absolute_percentage_error: 37.1783 - val_mean_squared_error: 5.3615e-04 - val_smape: 20.7082\n",
      "Epoch 15/50\n",
      "\u001b[1m2253/2253\u001b[0m \u001b[32m━━━━━━━━━━━━━━━━━━━━\u001b[0m\u001b[37m\u001b[0m \u001b[1m0s\u001b[0m 360ms/step - loss: 0.0161 - mean_absolute_percentage_error: 50786.7969 - mean_squared_error: 6.6291e-04 - smape: 50.6418\n",
      "Epoch 15: saving model to training/ckpt.weights.h5\n",
      "\u001b[1m2253/2253\u001b[0m \u001b[32m━━━━━━━━━━━━━━━━━━━━\u001b[0m\u001b[37m\u001b[0m \u001b[1m908s\u001b[0m 403ms/step - loss: 0.0161 - mean_absolute_percentage_error: 50789.6797 - mean_squared_error: 6.6290e-04 - smape: 50.6418 - val_loss: 0.0155 - val_mean_absolute_percentage_error: 71709.2266 - val_mean_squared_error: 7.1291e-04 - val_smape: 51.3790\n",
      "Epoch 16/50\n",
      "\u001b[1m   1/2253\u001b[0m \u001b[37m━━━━━━━━━━━━━━━━━━━━\u001b[0m \u001b[1m1:53\u001b[0m 51ms/step - loss: 0.0099 - mean_absolute_percentage_error: 14.8390 - mean_squared_error: 1.7877e-04 - smape: 39.1972\n",
      "Epoch 16: saving model to training/ckpt.weights.h5\n",
      "\u001b[1m2253/2253\u001b[0m \u001b[32m━━━━━━━━━━━━━━━━━━━━\u001b[0m\u001b[37m\u001b[0m \u001b[1m0s\u001b[0m 82us/step - loss: 0.0099 - mean_absolute_percentage_error: 14.8390 - mean_squared_error: 1.7877e-04 - smape: 19.6073 - val_loss: 0.0163 - val_mean_absolute_percentage_error: 37.1230 - val_mean_squared_error: 5.0418e-04 - val_smape: 20.7383\n",
      "Epoch 17/50\n",
      "\u001b[1m2253/2253\u001b[0m \u001b[32m━━━━━━━━━━━━━━━━━━━━\u001b[0m\u001b[37m\u001b[0m \u001b[1m0s\u001b[0m 362ms/step - loss: 0.0160 - mean_absolute_percentage_error: 50009.5078 - mean_squared_error: 6.5540e-04 - smape: 50.9206\n",
      "Epoch 17: saving model to training/ckpt.weights.h5\n",
      "\u001b[1m2253/2253\u001b[0m \u001b[32m━━━━━━━━━━━━━━━━━━━━\u001b[0m\u001b[37m\u001b[0m \u001b[1m912s\u001b[0m 405ms/step - loss: 0.0160 - mean_absolute_percentage_error: 50012.6953 - mean_squared_error: 6.5539e-04 - smape: 50.9206 - val_loss: 0.0161 - val_mean_absolute_percentage_error: 66157.6172 - val_mean_squared_error: 7.6074e-04 - val_smape: 51.8871\n",
      "Epoch 18/50\n",
      "\u001b[1m   1/2253\u001b[0m \u001b[37m━━━━━━━━━━━━━━━━━━━━\u001b[0m \u001b[1m1:56\u001b[0m 52ms/step - loss: 0.0132 - mean_absolute_percentage_error: 19.7707 - mean_squared_error: 2.7110e-04 - smape: 41.4965\n",
      "Epoch 18: saving model to training/ckpt.weights.h5\n",
      "\u001b[1m2253/2253\u001b[0m \u001b[32m━━━━━━━━━━━━━━━━━━━━\u001b[0m\u001b[37m\u001b[0m \u001b[1m0s\u001b[0m 82us/step - loss: 0.0132 - mean_absolute_percentage_error: 19.7707 - mean_squared_error: 2.7110e-04 - smape: 20.7575 - val_loss: 0.0155 - val_mean_absolute_percentage_error: 33.4301 - val_mean_squared_error: 4.7512e-04 - val_smape: 20.5007\n",
      "Epoch 19/50\n",
      "\u001b[1m2253/2253\u001b[0m \u001b[32m━━━━━━━━━━━━━━━━━━━━\u001b[0m\u001b[37m\u001b[0m \u001b[1m0s\u001b[0m 361ms/step - loss: 0.0158 - mean_absolute_percentage_error: 49044.7148 - mean_squared_error: 6.5138e-04 - smape: 51.0128\n",
      "Epoch 19: saving model to training/ckpt.weights.h5\n",
      "\u001b[1m2253/2253\u001b[0m \u001b[32m━━━━━━━━━━━━━━━━━━━━\u001b[0m\u001b[37m\u001b[0m \u001b[1m908s\u001b[0m 403ms/step - loss: 0.0158 - mean_absolute_percentage_error: 49047.4805 - mean_squared_error: 6.5137e-04 - smape: 51.0128 - val_loss: 0.0157 - val_mean_absolute_percentage_error: 66403.7891 - val_mean_squared_error: 7.3359e-04 - val_smape: 51.7486\n",
      "Epoch 20/50\n",
      "\u001b[1m   1/2253\u001b[0m \u001b[37m━━━━━━━━━━━━━━━━━━━━\u001b[0m \u001b[1m2:02\u001b[0m 55ms/step - loss: 0.0112 - mean_absolute_percentage_error: 16.7072 - mean_squared_error: 2.1523e-04 - smape: 39.5470\n",
      "Epoch 20: saving model to training/ckpt.weights.h5\n",
      "\u001b[1m2253/2253\u001b[0m \u001b[32m━━━━━━━━━━━━━━━━━━━━\u001b[0m\u001b[37m\u001b[0m \u001b[1m0s\u001b[0m 78us/step - loss: 0.0112 - mean_absolute_percentage_error: 16.7072 - mean_squared_error: 2.1523e-04 - smape: 19.7823 - val_loss: 0.0149 - val_mean_absolute_percentage_error: 33.2533 - val_mean_squared_error: 4.6235e-04 - val_smape: 20.8212\n",
      "Epoch 21/50\n",
      "\u001b[1m2253/2253\u001b[0m \u001b[32m━━━━━━━━━━━━━━━━━━━━\u001b[0m\u001b[37m\u001b[0m \u001b[1m0s\u001b[0m 360ms/step - loss: 0.0157 - mean_absolute_percentage_error: 47404.3750 - mean_squared_error: 6.4570e-04 - smape: 51.1529\n",
      "Epoch 21: saving model to training/ckpt.weights.h5\n",
      "\u001b[1m2253/2253\u001b[0m \u001b[32m━━━━━━━━━━━━━━━━━━━━\u001b[0m\u001b[37m\u001b[0m \u001b[1m907s\u001b[0m 403ms/step - loss: 0.0157 - mean_absolute_percentage_error: 47406.8867 - mean_squared_error: 6.4569e-04 - smape: 51.1528 - val_loss: 0.0156 - val_mean_absolute_percentage_error: 61559.5039 - val_mean_squared_error: 7.2122e-04 - val_smape: 52.4244\n",
      "Epoch 22/50\n",
      "\u001b[1m   1/2253\u001b[0m \u001b[37m━━━━━━━━━━━━━━━━━━━━\u001b[0m \u001b[1m2:00\u001b[0m 54ms/step - loss: 0.0123 - mean_absolute_percentage_error: 19.1121 - mean_squared_error: 2.4815e-04 - smape: 40.8045\n",
      "Epoch 22: saving model to training/ckpt.weights.h5\n",
      "\u001b[1m2253/2253\u001b[0m \u001b[32m━━━━━━━━━━━━━━━━━━━━\u001b[0m\u001b[37m\u001b[0m \u001b[1m0s\u001b[0m 84us/step - loss: 0.0123 - mean_absolute_percentage_error: 19.1121 - mean_squared_error: 2.4815e-04 - smape: 20.4113 - val_loss: 0.0142 - val_mean_absolute_percentage_error: 32.0200 - val_mean_squared_error: 4.3998e-04 - val_smape: 20.8331\n",
      "Epoch 23/50\n",
      "\u001b[1m2253/2253\u001b[0m \u001b[32m━━━━━━━━━━━━━━━━━━━━\u001b[0m\u001b[37m\u001b[0m \u001b[1m0s\u001b[0m 360ms/step - loss: 0.0156 - mean_absolute_percentage_error: 45586.7305 - mean_squared_error: 6.3827e-04 - smape: 51.1845\n",
      "Epoch 23: saving model to training/ckpt.weights.h5\n",
      "\u001b[1m2253/2253\u001b[0m \u001b[32m━━━━━━━━━━━━━━━━━━━━\u001b[0m\u001b[37m\u001b[0m \u001b[1m906s\u001b[0m 402ms/step - loss: 0.0156 - mean_absolute_percentage_error: 45589.2656 - mean_squared_error: 6.3827e-04 - smape: 51.1845 - val_loss: 0.0156 - val_mean_absolute_percentage_error: 64430.2656 - val_mean_squared_error: 7.2949e-04 - val_smape: 50.6024\n",
      "Epoch 24/50\n",
      "\u001b[1m   1/2253\u001b[0m \u001b[37m━━━━━━━━━━━━━━━━━━━━\u001b[0m \u001b[1m1:55\u001b[0m 51ms/step - loss: 0.0124 - mean_absolute_percentage_error: 20.3760 - mean_squared_error: 2.4178e-04 - smape: 39.6221\n",
      "Epoch 24: saving model to training/ckpt.weights.h5\n",
      "\u001b[1m2253/2253\u001b[0m \u001b[32m━━━━━━━━━━━━━━━━━━━━\u001b[0m\u001b[37m\u001b[0m \u001b[1m0s\u001b[0m 83us/step - loss: 0.0124 - mean_absolute_percentage_error: 20.3760 - mean_squared_error: 2.4178e-04 - smape: 19.8198 - val_loss: 0.0150 - val_mean_absolute_percentage_error: 33.0392 - val_mean_squared_error: 4.1453e-04 - val_smape: 20.4476\n",
      "Epoch 25/50\n",
      "\u001b[1m2253/2253\u001b[0m \u001b[32m━━━━━━━━━━━━━━━━━━━━\u001b[0m\u001b[37m\u001b[0m \u001b[1m0s\u001b[0m 361ms/step - loss: 0.0155 - mean_absolute_percentage_error: 44389.3984 - mean_squared_error: 6.3279e-04 - smape: 51.2628\n",
      "Epoch 25: saving model to training/ckpt.weights.h5\n",
      "\u001b[1m2253/2253\u001b[0m \u001b[32m━━━━━━━━━━━━━━━━━━━━\u001b[0m\u001b[37m\u001b[0m \u001b[1m910s\u001b[0m 404ms/step - loss: 0.0155 - mean_absolute_percentage_error: 44392.0977 - mean_squared_error: 6.3278e-04 - smape: 51.2629 - val_loss: 0.0153 - val_mean_absolute_percentage_error: 58503.7422 - val_mean_squared_error: 7.1150e-04 - val_smape: 52.0414\n",
      "Epoch 26/50\n",
      "\u001b[1m   1/2253\u001b[0m \u001b[37m━━━━━━━━━━━━━━━━━━━━\u001b[0m \u001b[1m1:53\u001b[0m 51ms/step - loss: 0.0123 - mean_absolute_percentage_error: 19.8234 - mean_squared_error: 2.5504e-04 - smape: 38.8001\n",
      "Epoch 26: saving model to training/ckpt.weights.h5\n",
      "\u001b[1m2253/2253\u001b[0m \u001b[32m━━━━━━━━━━━━━━━━━━━━\u001b[0m\u001b[37m\u001b[0m \u001b[1m0s\u001b[0m 83us/step - loss: 0.0123 - mean_absolute_percentage_error: 19.8234 - mean_squared_error: 2.5504e-04 - smape: 19.4087 - val_loss: 0.0146 - val_mean_absolute_percentage_error: 32.9015 - val_mean_squared_error: 4.5832e-04 - val_smape: 20.9405\n",
      "Epoch 27/50\n",
      "\u001b[1m2253/2253\u001b[0m \u001b[32m━━━━━━━━━━━━━━━━━━━━\u001b[0m\u001b[37m\u001b[0m \u001b[1m0s\u001b[0m 359ms/step - loss: 0.0155 - mean_absolute_percentage_error: 41580.5312 - mean_squared_error: 6.2908e-04 - smape: 51.3702\n",
      "Epoch 27: saving model to training/ckpt.weights.h5\n",
      "\u001b[1m2253/2253\u001b[0m \u001b[32m━━━━━━━━━━━━━━━━━━━━\u001b[0m\u001b[37m\u001b[0m \u001b[1m905s\u001b[0m 402ms/step - loss: 0.0155 - mean_absolute_percentage_error: 41583.4258 - mean_squared_error: 6.2908e-04 - smape: 51.3702 - val_loss: 0.0152 - val_mean_absolute_percentage_error: 52385.1211 - val_mean_squared_error: 6.9881e-04 - val_smape: 51.5540\n",
      "Epoch 28/50\n",
      "\u001b[1m   1/2253\u001b[0m \u001b[37m━━━━━━━━━━━━━━━━━━━━\u001b[0m \u001b[1m1:57\u001b[0m 52ms/step - loss: 0.0103 - mean_absolute_percentage_error: 16.5123 - mean_squared_error: 1.6770e-04 - smape: 40.8151\n",
      "Epoch 28: saving model to training/ckpt.weights.h5\n",
      "\u001b[1m2253/2253\u001b[0m \u001b[32m━━━━━━━━━━━━━━━━━━━━\u001b[0m\u001b[37m\u001b[0m \u001b[1m0s\u001b[0m 83us/step - loss: 0.0103 - mean_absolute_percentage_error: 16.5123 - mean_squared_error: 1.6770e-04 - smape: 20.4166 - val_loss: 0.0152 - val_mean_absolute_percentage_error: 34.4135 - val_mean_squared_error: 4.9646e-04 - val_smape: 20.9998\n",
      "Epoch 29/50\n",
      "\u001b[1m2253/2253\u001b[0m \u001b[32m━━━━━━━━━━━━━━━━━━━━\u001b[0m\u001b[37m\u001b[0m \u001b[1m0s\u001b[0m 361ms/step - loss: 0.0154 - mean_absolute_percentage_error: 41839.3047 - mean_squared_error: 6.2743e-04 - smape: 51.3030\n",
      "Epoch 29: saving model to training/ckpt.weights.h5\n",
      "\u001b[1m2253/2253\u001b[0m \u001b[32m━━━━━━━━━━━━━━━━━━━━\u001b[0m\u001b[37m\u001b[0m \u001b[1m910s\u001b[0m 404ms/step - loss: 0.0154 - mean_absolute_percentage_error: 41842.0664 - mean_squared_error: 6.2743e-04 - smape: 51.3030 - val_loss: 0.0152 - val_mean_absolute_percentage_error: 60824.7539 - val_mean_squared_error: 7.0655e-04 - val_smape: 51.2218\n",
      "Epoch 30/50\n",
      "\u001b[1m   1/2253\u001b[0m \u001b[37m━━━━━━━━━━━━━━━━━━━━\u001b[0m \u001b[1m1:53\u001b[0m 50ms/step - loss: 0.0115 - mean_absolute_percentage_error: 19.1873 - mean_squared_error: 2.1083e-04 - smape: 42.3684\n",
      "Epoch 30: saving model to training/ckpt.weights.h5\n",
      "\u001b[1m2253/2253\u001b[0m \u001b[32m━━━━━━━━━━━━━━━━━━━━\u001b[0m\u001b[37m\u001b[0m \u001b[1m0s\u001b[0m 85us/step - loss: 0.0115 - mean_absolute_percentage_error: 19.1873 - mean_squared_error: 2.1083e-04 - smape: 21.1936 - val_loss: 0.0146 - val_mean_absolute_percentage_error: 32.3673 - val_mean_squared_error: 4.2954e-04 - val_smape: 20.6113\n",
      "Epoch 31/50\n",
      "\u001b[1m2253/2253\u001b[0m \u001b[32m━━━━━━━━━━━━━━━━━━━━\u001b[0m\u001b[37m\u001b[0m \u001b[1m0s\u001b[0m 361ms/step - loss: 0.0154 - mean_absolute_percentage_error: 39005.1562 - mean_squared_error: 6.2590e-04 - smape: 51.4008\n",
      "Epoch 31: saving model to training/ckpt.weights.h5\n",
      "\u001b[1m2253/2253\u001b[0m \u001b[32m━━━━━━━━━━━━━━━━━━━━\u001b[0m\u001b[37m\u001b[0m \u001b[1m910s\u001b[0m 404ms/step - loss: 0.0154 - mean_absolute_percentage_error: 39008.5586 - mean_squared_error: 6.2589e-04 - smape: 51.4007 - val_loss: 0.0150 - val_mean_absolute_percentage_error: 53989.2812 - val_mean_squared_error: 6.9144e-04 - val_smape: 51.8706\n",
      "Epoch 32/50\n",
      "\u001b[1m   1/2253\u001b[0m \u001b[37m━━━━━━━━━━━━━━━━━━━━\u001b[0m \u001b[1m2:00\u001b[0m 53ms/step - loss: 0.0099 - mean_absolute_percentage_error: 16.7060 - mean_squared_error: 1.4778e-04 - smape: 39.3997\n",
      "Epoch 32: saving model to training/ckpt.weights.h5\n",
      "\u001b[1m2253/2253\u001b[0m \u001b[32m━━━━━━━━━━━━━━━━━━━━\u001b[0m\u001b[37m\u001b[0m \u001b[1m0s\u001b[0m 83us/step - loss: 0.0099 - mean_absolute_percentage_error: 16.7060 - mean_squared_error: 1.4778e-04 - smape: 19.7086 - val_loss: 0.0143 - val_mean_absolute_percentage_error: 32.7015 - val_mean_squared_error: 4.4828e-04 - val_smape: 21.2353\n"
     ]
    }
   ],
   "source": [
    "history=model.fit(train_dataset, batch_size=32,epochs=50,steps_per_epoch=len(X_train)//32, validation_data=val_dataset,callbacks=[early_stopping,cp_callback],validation_steps=len(X_val)//32)"
   ]
  },
  {
   "cell_type": "code",
   "execution_count": 40,
   "metadata": {},
   "outputs": [],
   "source": [
    "df_Scaled=df['mp10'].copy()\n",
    "df_Scaled = df_Scaled  / df_Scaled.abs().max()\n"
   ]
  },
  {
   "cell_type": "code",
   "execution_count": 41,
   "metadata": {},
   "outputs": [
    {
     "data": {
      "image/png": "[encoded data removed]",
      "text/plain": [
       "<Figure size 640x480 with 1 Axes>"
      ]
     },
     "metadata": {},
     "output_type": "display_data"
    }
   ],
   "source": [
    "s=[df_Scaled.std()]*len(history.history['loss'])\n",
    "colors = ['b', 'g', 'r', 'c', 'm', 'y','k','orange', 'purple', 'brown', 'pink', 'lime', 'teal', 'gray', 'olive', 'navy']\n",
    "\n",
    "    # Grafica los valores de loss\n",
    "plt.plot(history.history['loss'],  color='purple',label='Loss')\n",
    "plt.plot(history.history['val_loss'],color='olive',label='Val_Loss')\n",
    "plt.plot(s,label='Standard Deviation',color='pink')\n",
    "# Agrega etiquetas al gráfico\n",
    "plt.xlabel('Epoch')\n",
    "plt.ylabel('Value')\n",
    "plt.ylim(0,0.06)\n",
    "plt.title('Training & Validation Loss per Epoch')\n",
    "plt.xlim(0,len(history.history['loss']))\n",
    "\n",
    "plt.legend()\n",
    "\n",
    "plt.grid(True)\n",
    "plt.savefig('val_loss_model.png',format='png')\n",
    "# Muestra el gráfico\n",
    "plt.show()"
   ]
  },
  {
   "cell_type": "code",
   "execution_count": 42,
   "metadata": {},
   "outputs": [
    {
     "name": "stderr",
     "output_type": "stream",
     "text": [
      "C:\\Users\\benja\\AppData\\Local\\Temp\\ipykernel_11080\\2794921389.py:10: DeprecationWarning: Starting with ImageIO v3 the behavior of this function will switch to that of iio.v3.imread. To keep the current behavior (and make this warning disappear) use `import imageio.v2 as imageio` or call `imageio.v2.imread` directly.\n",
      "  image = (imageio.imread(path))\n"
     ]
    },
    {
     "name": "stdout",
     "output_type": "stream",
     "text": [
      "\u001b[1m20706/20706\u001b[0m \u001b[32m━━━━━━━━━━━━━━━━━━━━\u001b[0m\u001b[37m\u001b[0m \u001b[1m205s\u001b[0m 10ms/step\n"
     ]
    }
   ],
   "source": [
    "test_dataset = create_combined_dataset(images_test, X_test, y_test, 1)\n",
    "predict = model.predict(test_dataset,steps=len(y_test))"
   ]
  },
  {
   "cell_type": "code",
   "execution_count": 52,
   "metadata": {},
   "outputs": [
    {
     "name": "stdout",
     "output_type": "stream",
     "text": [
      "MAE: 0.024951122207249193\n",
      "MSE: 0.00127273699185358\n",
      "R-squared: 0.15893306975515364\n",
      "SMAPE: 36.60100083635075%\n"
     ]
    }
   ],
   "source": [
    "# Calcular MAE\n",
    "mae0 = mean_absolute_error(y_test, predict)\n",
    "mse0= mean_squared_error(y_test, predict)\n",
    "# Calcular R-squared\n",
    "r20= r2_score(y_test, predict)\n",
    "def smape_2(y_true, y_pred):\n",
    "    \"\"\"\n",
    "    Calcula el Symmetric Mean Absolute Percentage Error.\n",
    "    \"\"\"\n",
    "    return 100 * np.mean(2 * np.abs(y_pred - y_true) / (np.abs(y_true) + np.abs(y_pred) + 1e-6))\n",
    "\n",
    "smape0 = smape_2(y_test, predict)\n",
    "\n",
    "# Imprimir las métricas\n",
    "print(f\"MAE: {mae0}\")\n",
    "print(f\"MSE: {mse0}\")\n",
    "print(f\"R-squared: {r20}\")\n",
    "print(f\"SMAPE: {smape0}%\")"
   ]
  },
  {
   "cell_type": "code",
   "execution_count": 44,
   "metadata": {},
   "outputs": [
    {
     "data": {
      "image/png": "[encoded data removed]",
      "text/plain": [
       "<Figure size 640x480 with 1 Axes>"
      ]
     },
     "metadata": {},
     "output_type": "display_data"
    }
   ],
   "source": [
    "plt.scatter(y_test, predict, color='blue', alpha=0.5)\n",
    "\n",
    "plt.xlabel('Valores Reales')\n",
    "plt.ylabel('predicciones')\n",
    "plt.xlim(0,1)\n",
    "plt.ylim(0,1)\n",
    "\n",
    "plt.show()"
   ]
  },
  {
   "cell_type": "code",
   "execution_count": 45,
   "metadata": {},
   "outputs": [
    {
     "data": {
      "text/plain": [
       "count    151917.000000\n",
       "mean         55.948889\n",
       "std          34.322277\n",
       "min           0.000000\n",
       "25%          34.208300\n",
       "50%          49.000000\n",
       "75%          69.833300\n",
       "max         917.940000\n",
       "Name: mp10, dtype: float64"
      ]
     },
     "execution_count": 45,
     "metadata": {},
     "output_type": "execute_result"
    }
   ],
   "source": [
    "df['mp10'].describe()"
   ]
  },
  {
   "cell_type": "code",
   "execution_count": 46,
   "metadata": {},
   "outputs": [
    {
     "name": "stderr",
     "output_type": "stream",
     "text": [
      "C:\\Users\\benja\\AppData\\Local\\Temp\\ipykernel_11080\\4037668646.py:3: DeprecationWarning: Conversion of an array with ndim > 0 to a scalar is deprecated, and will error in future. Ensure you extract a single element from your array before performing this operation. (Deprecated NumPy 1.25.)\n",
      "  residuos.append(float(y_test[a])-float(predict[a]))\n"
     ]
    },
    {
     "data": {
      "image/png": "[encoded data removed]",
      "text/plain": [
       "<Figure size 640x480 with 1 Axes>"
      ]
     },
     "metadata": {},
     "output_type": "display_data"
    }
   ],
   "source": [
    "residuos = []\n",
    "for a in range(len(y_test)):\n",
    "    residuos.append(float(y_test[a])-float(predict[a]))\n",
    "sns.histplot(residuos,kde=True,bins=600)\n",
    "plt.xlim(-0.1,0.1)\n",
    "plt.show()"
   ]
  },
  {
   "cell_type": "markdown",
   "metadata": {},
   "source": [
    "### Usando 7 días para predecir promedio semanal siguiente (Sin capping)"
   ]
  },
  {
   "cell_type": "code",
   "execution_count": 47,
   "metadata": {},
   "outputs": [
    {
     "name": "stdout",
     "output_type": "stream",
     "text": [
      "Forma de X: (103015, 7, 17), Forma de y: (103015, 1), Total de imágenes: (103015,)\n",
      "Train set: X=(72110, 7, 17), y=(72110, 1), images=(72110,)\n",
      "Test set: X=(20706, 7, 17), y=(20706, 1), images=(20706,)\n",
      "Validation set: X=(10199, 7, 17), y=(10199, 1), images=(10199,)\n"
     ]
    }
   ],
   "source": [
    "# Definir la longitud de la secuencia para la LSTM\n",
    "sequence_length = 7  # Supongamos que usas 7 días para la LSTM\n",
    "\n",
    "# Variables para almacenar las secuencias, el target y las imágenes\n",
    "X, y, images = [], [], []\n",
    "\n",
    "# Recorre los datos por locación\n",
    "for location, location_df in grouped_data.items():\n",
    "    features = location_df.drop(['Date', 'station', 'mp10', 'image'], axis=1).values\n",
    "    target = location_df['mp10'].values\n",
    "    image_series = location_df['image'].values\n",
    "\n",
    "    for i in range(sequence_length, len(features)):\n",
    "        # Crear secuencia de entrada de `sequence_length` días\n",
    "        sequence_features = features[i-sequence_length:i]\n",
    "        sequence_target = np.mean(target[i:i+7])\n",
    "        \n",
    "        # Buscar una imagen en la secuencia (la más cercana al último día de la secuencia)\n",
    "        image_associated = image_series[i-sequence_length:i]\n",
    "        image_file = next((img for img in reversed(image_associated) if img != 0), None)\n",
    "        \n",
    "        # Añadir solo si hay una imagen válida asociada\n",
    "        if image_file:\n",
    "            X.append(sequence_features)\n",
    "            y.append(sequence_target)\n",
    "            images.append(image_file)\n",
    "\n",
    "# Convertir las listas a arrays de numpy\n",
    "X, y = np.array(X), np.array(y)\n",
    "images = np.array(images)\n",
    "\n",
    "# Normalizar características de entrada\n",
    "scaler_X = MinMaxScaler()\n",
    "X_reshaped = X.reshape(-1, X.shape[-1])\n",
    "X_normalized = scaler_X.fit_transform(X_reshaped)\n",
    "X = X_normalized.reshape(X.shape)\n",
    "\n",
    "scaler_y = MinMaxScaler()\n",
    "y = scaler_y.fit_transform(y.reshape(-1, 1))\n",
    "\n",
    "print(f\"Forma de X: {X.shape}, Forma de y: {y.shape}, Total de imágenes: {images.shape}\")\n",
    "\n",
    "# Dividir los datos en 70% entrenamiento, 20% test, 10% validación\n",
    "X_train, X_temp, y_train, y_temp, images_train, images_temp = train_test_split(X, y, images, test_size=0.30, random_state=42)\n",
    "\n",
    "# Dividir el 30% restante en 20% test y 10% validación\n",
    "X_test, X_val, y_test, y_val, images_test, images_val = train_test_split(X_temp, y_temp, images_temp, test_size=0.33, random_state=42)  # 0.33 * 0.30 = ~0.10\n",
    "\n",
    "# Imprimir las formas para verificar las divisiones\n",
    "print(f\"Train set: X={X_train.shape}, y={y_train.shape}, images={images_train.shape}\")\n",
    "print(f\"Test set: X={X_test.shape}, y={y_test.shape}, images={images_test.shape}\")\n",
    "print(f\"Validation set: X={X_val.shape}, y={y_val.shape}, images={images_val.shape}\")\n"
   ]
  },
  {
   "cell_type": "code",
   "execution_count": 59,
   "metadata": {},
   "outputs": [
    {
     "data": {
      "text/html": [
       "<pre style=\"white-space:pre;overflow-x:auto;line-height:normal;font-family:Menlo,'DejaVu Sans Mono',consolas,'Courier New',monospace\"><span style=\"font-weight: bold\">Model: \"functional_2\"</span>\n",
       "</pre>\n"
      ],
      "text/plain": [
       "\u001b[1mModel: \"functional_2\"\u001b[0m\n"
      ]
     },
     "metadata": {},
     "output_type": "display_data"
    },
    {
     "data": {
      "text/html": [
       "<pre style=\"white-space:pre;overflow-x:auto;line-height:normal;font-family:Menlo,'DejaVu Sans Mono',consolas,'Courier New',monospace\">┏━━━━━━━━━━━━━━━━━━━━━┳━━━━━━━━━━━━━━━━━━━┳━━━━━━━━━━━━┳━━━━━━━━━━━━━━━━━━━┓\n",
       "┃<span style=\"font-weight: bold\"> Layer (type)        </span>┃<span style=\"font-weight: bold\"> Output Shape      </span>┃<span style=\"font-weight: bold\">    Param # </span>┃<span style=\"font-weight: bold\"> Connected to      </span>┃\n",
       "┡━━━━━━━━━━━━━━━━━━━━━╇━━━━━━━━━━━━━━━━━━━╇━━━━━━━━━━━━╇━━━━━━━━━━━━━━━━━━━┩\n",
       "│ input_layer_4       │ (<span style=\"color: #00d7ff; text-decoration-color: #00d7ff\">None</span>, <span style=\"color: #00af00; text-decoration-color: #00af00\">224</span>, <span style=\"color: #00af00; text-decoration-color: #00af00\">224</span>,  │          <span style=\"color: #00af00; text-decoration-color: #00af00\">0</span> │ -                 │\n",
       "│ (<span style=\"color: #0087ff; text-decoration-color: #0087ff\">InputLayer</span>)        │ <span style=\"color: #00af00; text-decoration-color: #00af00\">6</span>)                │            │                   │\n",
       "├─────────────────────┼───────────────────┼────────────┼───────────────────┤\n",
       "│ conv2d_8 (<span style=\"color: #0087ff; text-decoration-color: #0087ff\">Conv2D</span>)   │ (<span style=\"color: #00d7ff; text-decoration-color: #00d7ff\">None</span>, <span style=\"color: #00af00; text-decoration-color: #00af00\">222</span>, <span style=\"color: #00af00; text-decoration-color: #00af00\">222</span>,  │        <span style=\"color: #00af00; text-decoration-color: #00af00\">880</span> │ input_layer_4[<span style=\"color: #00af00; text-decoration-color: #00af00\">0</span>]… │\n",
       "│                     │ <span style=\"color: #00af00; text-decoration-color: #00af00\">16</span>)               │            │                   │\n",
       "├─────────────────────┼───────────────────┼────────────┼───────────────────┤\n",
       "│ average_pooling2d_8 │ (<span style=\"color: #00d7ff; text-decoration-color: #00d7ff\">None</span>, <span style=\"color: #00af00; text-decoration-color: #00af00\">111</span>, <span style=\"color: #00af00; text-decoration-color: #00af00\">111</span>,  │          <span style=\"color: #00af00; text-decoration-color: #00af00\">0</span> │ conv2d_8[<span style=\"color: #00af00; text-decoration-color: #00af00\">0</span>][<span style=\"color: #00af00; text-decoration-color: #00af00\">0</span>]    │\n",
       "│ (<span style=\"color: #0087ff; text-decoration-color: #0087ff\">AveragePooling2D</span>)  │ <span style=\"color: #00af00; text-decoration-color: #00af00\">16</span>)               │            │                   │\n",
       "├─────────────────────┼───────────────────┼────────────┼───────────────────┤\n",
       "│ conv2d_9 (<span style=\"color: #0087ff; text-decoration-color: #0087ff\">Conv2D</span>)   │ (<span style=\"color: #00d7ff; text-decoration-color: #00d7ff\">None</span>, <span style=\"color: #00af00; text-decoration-color: #00af00\">109</span>, <span style=\"color: #00af00; text-decoration-color: #00af00\">109</span>,  │      <span style=\"color: #00af00; text-decoration-color: #00af00\">4,640</span> │ average_pooling2… │\n",
       "│                     │ <span style=\"color: #00af00; text-decoration-color: #00af00\">32</span>)               │            │                   │\n",
       "├─────────────────────┼───────────────────┼────────────┼───────────────────┤\n",
       "│ average_pooling2d_9 │ (<span style=\"color: #00d7ff; text-decoration-color: #00d7ff\">None</span>, <span style=\"color: #00af00; text-decoration-color: #00af00\">54</span>, <span style=\"color: #00af00; text-decoration-color: #00af00\">54</span>,    │          <span style=\"color: #00af00; text-decoration-color: #00af00\">0</span> │ conv2d_9[<span style=\"color: #00af00; text-decoration-color: #00af00\">0</span>][<span style=\"color: #00af00; text-decoration-color: #00af00\">0</span>]    │\n",
       "│ (<span style=\"color: #0087ff; text-decoration-color: #0087ff\">AveragePooling2D</span>)  │ <span style=\"color: #00af00; text-decoration-color: #00af00\">32</span>)               │            │                   │\n",
       "├─────────────────────┼───────────────────┼────────────┼───────────────────┤\n",
       "│ conv2d_10 (<span style=\"color: #0087ff; text-decoration-color: #0087ff\">Conv2D</span>)  │ (<span style=\"color: #00d7ff; text-decoration-color: #00d7ff\">None</span>, <span style=\"color: #00af00; text-decoration-color: #00af00\">52</span>, <span style=\"color: #00af00; text-decoration-color: #00af00\">52</span>,    │      <span style=\"color: #00af00; text-decoration-color: #00af00\">9,248</span> │ average_pooling2… │\n",
       "│                     │ <span style=\"color: #00af00; text-decoration-color: #00af00\">32</span>)               │            │                   │\n",
       "├─────────────────────┼───────────────────┼────────────┼───────────────────┤\n",
       "│ average_pooling2d_… │ (<span style=\"color: #00d7ff; text-decoration-color: #00d7ff\">None</span>, <span style=\"color: #00af00; text-decoration-color: #00af00\">26</span>, <span style=\"color: #00af00; text-decoration-color: #00af00\">26</span>,    │          <span style=\"color: #00af00; text-decoration-color: #00af00\">0</span> │ conv2d_10[<span style=\"color: #00af00; text-decoration-color: #00af00\">0</span>][<span style=\"color: #00af00; text-decoration-color: #00af00\">0</span>]   │\n",
       "│ (<span style=\"color: #0087ff; text-decoration-color: #0087ff\">AveragePooling2D</span>)  │ <span style=\"color: #00af00; text-decoration-color: #00af00\">32</span>)               │            │                   │\n",
       "├─────────────────────┼───────────────────┼────────────┼───────────────────┤\n",
       "│ conv2d_11 (<span style=\"color: #0087ff; text-decoration-color: #0087ff\">Conv2D</span>)  │ (<span style=\"color: #00d7ff; text-decoration-color: #00d7ff\">None</span>, <span style=\"color: #00af00; text-decoration-color: #00af00\">24</span>, <span style=\"color: #00af00; text-decoration-color: #00af00\">24</span>,    │      <span style=\"color: #00af00; text-decoration-color: #00af00\">9,248</span> │ average_pooling2… │\n",
       "│                     │ <span style=\"color: #00af00; text-decoration-color: #00af00\">32</span>)               │            │                   │\n",
       "├─────────────────────┼───────────────────┼────────────┼───────────────────┤\n",
       "│ average_pooling2d_… │ (<span style=\"color: #00d7ff; text-decoration-color: #00d7ff\">None</span>, <span style=\"color: #00af00; text-decoration-color: #00af00\">12</span>, <span style=\"color: #00af00; text-decoration-color: #00af00\">12</span>,    │          <span style=\"color: #00af00; text-decoration-color: #00af00\">0</span> │ conv2d_11[<span style=\"color: #00af00; text-decoration-color: #00af00\">0</span>][<span style=\"color: #00af00; text-decoration-color: #00af00\">0</span>]   │\n",
       "│ (<span style=\"color: #0087ff; text-decoration-color: #0087ff\">AveragePooling2D</span>)  │ <span style=\"color: #00af00; text-decoration-color: #00af00\">32</span>)               │            │                   │\n",
       "├─────────────────────┼───────────────────┼────────────┼───────────────────┤\n",
       "│ flatten_2 (<span style=\"color: #0087ff; text-decoration-color: #0087ff\">Flatten</span>) │ (<span style=\"color: #00d7ff; text-decoration-color: #00d7ff\">None</span>, <span style=\"color: #00af00; text-decoration-color: #00af00\">4608</span>)      │          <span style=\"color: #00af00; text-decoration-color: #00af00\">0</span> │ average_pooling2… │\n",
       "├─────────────────────┼───────────────────┼────────────┼───────────────────┤\n",
       "│ input_layer_5       │ (<span style=\"color: #00d7ff; text-decoration-color: #00d7ff\">None</span>, <span style=\"color: #00af00; text-decoration-color: #00af00\">7</span>, <span style=\"color: #00af00; text-decoration-color: #00af00\">17</span>)     │          <span style=\"color: #00af00; text-decoration-color: #00af00\">0</span> │ -                 │\n",
       "│ (<span style=\"color: #0087ff; text-decoration-color: #0087ff\">InputLayer</span>)        │                   │            │                   │\n",
       "├─────────────────────┼───────────────────┼────────────┼───────────────────┤\n",
       "│ dense_6 (<span style=\"color: #0087ff; text-decoration-color: #0087ff\">Dense</span>)     │ (<span style=\"color: #00d7ff; text-decoration-color: #00d7ff\">None</span>, <span style=\"color: #00af00; text-decoration-color: #00af00\">128</span>)       │    <span style=\"color: #00af00; text-decoration-color: #00af00\">589,952</span> │ flatten_2[<span style=\"color: #00af00; text-decoration-color: #00af00\">0</span>][<span style=\"color: #00af00; text-decoration-color: #00af00\">0</span>]   │\n",
       "├─────────────────────┼───────────────────┼────────────┼───────────────────┤\n",
       "│ lstm_4 (<span style=\"color: #0087ff; text-decoration-color: #0087ff\">LSTM</span>)       │ (<span style=\"color: #00d7ff; text-decoration-color: #00d7ff\">None</span>, <span style=\"color: #00af00; text-decoration-color: #00af00\">7</span>, <span style=\"color: #00af00; text-decoration-color: #00af00\">50</span>)     │     <span style=\"color: #00af00; text-decoration-color: #00af00\">13,600</span> │ input_layer_5[<span style=\"color: #00af00; text-decoration-color: #00af00\">0</span>]… │\n",
       "├─────────────────────┼───────────────────┼────────────┼───────────────────┤\n",
       "│ dropout_4 (<span style=\"color: #0087ff; text-decoration-color: #0087ff\">Dropout</span>) │ (<span style=\"color: #00d7ff; text-decoration-color: #00d7ff\">None</span>, <span style=\"color: #00af00; text-decoration-color: #00af00\">128</span>)       │          <span style=\"color: #00af00; text-decoration-color: #00af00\">0</span> │ dense_6[<span style=\"color: #00af00; text-decoration-color: #00af00\">0</span>][<span style=\"color: #00af00; text-decoration-color: #00af00\">0</span>]     │\n",
       "├─────────────────────┼───────────────────┼────────────┼───────────────────┤\n",
       "│ lstm_5 (<span style=\"color: #0087ff; text-decoration-color: #0087ff\">LSTM</span>)       │ (<span style=\"color: #00d7ff; text-decoration-color: #00d7ff\">None</span>, <span style=\"color: #00af00; text-decoration-color: #00af00\">50</span>)        │     <span style=\"color: #00af00; text-decoration-color: #00af00\">20,200</span> │ lstm_4[<span style=\"color: #00af00; text-decoration-color: #00af00\">0</span>][<span style=\"color: #00af00; text-decoration-color: #00af00\">0</span>]      │\n",
       "├─────────────────────┼───────────────────┼────────────┼───────────────────┤\n",
       "│ concatenate_2       │ (<span style=\"color: #00d7ff; text-decoration-color: #00d7ff\">None</span>, <span style=\"color: #00af00; text-decoration-color: #00af00\">178</span>)       │          <span style=\"color: #00af00; text-decoration-color: #00af00\">0</span> │ dropout_4[<span style=\"color: #00af00; text-decoration-color: #00af00\">0</span>][<span style=\"color: #00af00; text-decoration-color: #00af00\">0</span>],  │\n",
       "│ (<span style=\"color: #0087ff; text-decoration-color: #0087ff\">Concatenate</span>)       │                   │            │ lstm_5[<span style=\"color: #00af00; text-decoration-color: #00af00\">0</span>][<span style=\"color: #00af00; text-decoration-color: #00af00\">0</span>]      │\n",
       "├─────────────────────┼───────────────────┼────────────┼───────────────────┤\n",
       "│ dense_7 (<span style=\"color: #0087ff; text-decoration-color: #0087ff\">Dense</span>)     │ (<span style=\"color: #00d7ff; text-decoration-color: #00d7ff\">None</span>, <span style=\"color: #00af00; text-decoration-color: #00af00\">128</span>)       │     <span style=\"color: #00af00; text-decoration-color: #00af00\">22,912</span> │ concatenate_2[<span style=\"color: #00af00; text-decoration-color: #00af00\">0</span>]… │\n",
       "├─────────────────────┼───────────────────┼────────────┼───────────────────┤\n",
       "│ dropout_5 (<span style=\"color: #0087ff; text-decoration-color: #0087ff\">Dropout</span>) │ (<span style=\"color: #00d7ff; text-decoration-color: #00d7ff\">None</span>, <span style=\"color: #00af00; text-decoration-color: #00af00\">128</span>)       │          <span style=\"color: #00af00; text-decoration-color: #00af00\">0</span> │ dense_7[<span style=\"color: #00af00; text-decoration-color: #00af00\">0</span>][<span style=\"color: #00af00; text-decoration-color: #00af00\">0</span>]     │\n",
       "├─────────────────────┼───────────────────┼────────────┼───────────────────┤\n",
       "│ dense_8 (<span style=\"color: #0087ff; text-decoration-color: #0087ff\">Dense</span>)     │ (<span style=\"color: #00d7ff; text-decoration-color: #00d7ff\">None</span>, <span style=\"color: #00af00; text-decoration-color: #00af00\">1</span>)         │        <span style=\"color: #00af00; text-decoration-color: #00af00\">129</span> │ dropout_5[<span style=\"color: #00af00; text-decoration-color: #00af00\">0</span>][<span style=\"color: #00af00; text-decoration-color: #00af00\">0</span>]   │\n",
       "└─────────────────────┴───────────────────┴────────────┴───────────────────┘\n",
       "</pre>\n"
      ],
      "text/plain": [
       "┏━━━━━━━━━━━━━━━━━━━━━┳━━━━━━━━━━━━━━━━━━━┳━━━━━━━━━━━━┳━━━━━━━━━━━━━━━━━━━┓\n",
       "┃\u001b[1m \u001b[0m\u001b[1mLayer (type)       \u001b[0m\u001b[1m \u001b[0m┃\u001b[1m \u001b[0m\u001b[1mOutput Shape     \u001b[0m\u001b[1m \u001b[0m┃\u001b[1m \u001b[0m\u001b[1m   Param #\u001b[0m\u001b[1m \u001b[0m┃\u001b[1m \u001b[0m\u001b[1mConnected to     \u001b[0m\u001b[1m \u001b[0m┃\n",
       "┡━━━━━━━━━━━━━━━━━━━━━╇━━━━━━━━━━━━━━━━━━━╇━━━━━━━━━━━━╇━━━━━━━━━━━━━━━━━━━┩\n",
       "│ input_layer_4       │ (\u001b[38;5;45mNone\u001b[0m, \u001b[38;5;34m224\u001b[0m, \u001b[38;5;34m224\u001b[0m,  │          \u001b[38;5;34m0\u001b[0m │ -                 │\n",
       "│ (\u001b[38;5;33mInputLayer\u001b[0m)        │ \u001b[38;5;34m6\u001b[0m)                │            │                   │\n",
       "├─────────────────────┼───────────────────┼────────────┼───────────────────┤\n",
       "│ conv2d_8 (\u001b[38;5;33mConv2D\u001b[0m)   │ (\u001b[38;5;45mNone\u001b[0m, \u001b[38;5;34m222\u001b[0m, \u001b[38;5;34m222\u001b[0m,  │        \u001b[38;5;34m880\u001b[0m │ input_layer_4[\u001b[38;5;34m0\u001b[0m]… │\n",
       "│                     │ \u001b[38;5;34m16\u001b[0m)               │            │                   │\n",
       "├─────────────────────┼───────────────────┼────────────┼───────────────────┤\n",
       "│ average_pooling2d_8 │ (\u001b[38;5;45mNone\u001b[0m, \u001b[38;5;34m111\u001b[0m, \u001b[38;5;34m111\u001b[0m,  │          \u001b[38;5;34m0\u001b[0m │ conv2d_8[\u001b[38;5;34m0\u001b[0m][\u001b[38;5;34m0\u001b[0m]    │\n",
       "│ (\u001b[38;5;33mAveragePooling2D\u001b[0m)  │ \u001b[38;5;34m16\u001b[0m)               │            │                   │\n",
       "├─────────────────────┼───────────────────┼────────────┼───────────────────┤\n",
       "│ conv2d_9 (\u001b[38;5;33mConv2D\u001b[0m)   │ (\u001b[38;5;45mNone\u001b[0m, \u001b[38;5;34m109\u001b[0m, \u001b[38;5;34m109\u001b[0m,  │      \u001b[38;5;34m4,640\u001b[0m │ average_pooling2… │\n",
       "│                     │ \u001b[38;5;34m32\u001b[0m)               │            │                   │\n",
       "├─────────────────────┼───────────────────┼────────────┼───────────────────┤\n",
       "│ average_pooling2d_9 │ (\u001b[38;5;45mNone\u001b[0m, \u001b[38;5;34m54\u001b[0m, \u001b[38;5;34m54\u001b[0m,    │          \u001b[38;5;34m0\u001b[0m │ conv2d_9[\u001b[38;5;34m0\u001b[0m][\u001b[38;5;34m0\u001b[0m]    │\n",
       "│ (\u001b[38;5;33mAveragePooling2D\u001b[0m)  │ \u001b[38;5;34m32\u001b[0m)               │            │                   │\n",
       "├─────────────────────┼───────────────────┼────────────┼───────────────────┤\n",
       "│ conv2d_10 (\u001b[38;5;33mConv2D\u001b[0m)  │ (\u001b[38;5;45mNone\u001b[0m, \u001b[38;5;34m52\u001b[0m, \u001b[38;5;34m52\u001b[0m,    │      \u001b[38;5;34m9,248\u001b[0m │ average_pooling2… │\n",
       "│                     │ \u001b[38;5;34m32\u001b[0m)               │            │                   │\n",
       "├─────────────────────┼───────────────────┼────────────┼───────────────────┤\n",
       "│ average_pooling2d_… │ (\u001b[38;5;45mNone\u001b[0m, \u001b[38;5;34m26\u001b[0m, \u001b[38;5;34m26\u001b[0m,    │          \u001b[38;5;34m0\u001b[0m │ conv2d_10[\u001b[38;5;34m0\u001b[0m][\u001b[38;5;34m0\u001b[0m]   │\n",
       "│ (\u001b[38;5;33mAveragePooling2D\u001b[0m)  │ \u001b[38;5;34m32\u001b[0m)               │            │                   │\n",
       "├─────────────────────┼───────────────────┼────────────┼───────────────────┤\n",
       "│ conv2d_11 (\u001b[38;5;33mConv2D\u001b[0m)  │ (\u001b[38;5;45mNone\u001b[0m, \u001b[38;5;34m24\u001b[0m, \u001b[38;5;34m24\u001b[0m,    │      \u001b[38;5;34m9,248\u001b[0m │ average_pooling2… │\n",
       "│                     │ \u001b[38;5;34m32\u001b[0m)               │            │                   │\n",
       "├─────────────────────┼───────────────────┼────────────┼───────────────────┤\n",
       "│ average_pooling2d_… │ (\u001b[38;5;45mNone\u001b[0m, \u001b[38;5;34m12\u001b[0m, \u001b[38;5;34m12\u001b[0m,    │          \u001b[38;5;34m0\u001b[0m │ conv2d_11[\u001b[38;5;34m0\u001b[0m][\u001b[38;5;34m0\u001b[0m]   │\n",
       "│ (\u001b[38;5;33mAveragePooling2D\u001b[0m)  │ \u001b[38;5;34m32\u001b[0m)               │            │                   │\n",
       "├─────────────────────┼───────────────────┼────────────┼───────────────────┤\n",
       "│ flatten_2 (\u001b[38;5;33mFlatten\u001b[0m) │ (\u001b[38;5;45mNone\u001b[0m, \u001b[38;5;34m4608\u001b[0m)      │          \u001b[38;5;34m0\u001b[0m │ average_pooling2… │\n",
       "├─────────────────────┼───────────────────┼────────────┼───────────────────┤\n",
       "│ input_layer_5       │ (\u001b[38;5;45mNone\u001b[0m, \u001b[38;5;34m7\u001b[0m, \u001b[38;5;34m17\u001b[0m)     │          \u001b[38;5;34m0\u001b[0m │ -                 │\n",
       "│ (\u001b[38;5;33mInputLayer\u001b[0m)        │                   │            │                   │\n",
       "├─────────────────────┼───────────────────┼────────────┼───────────────────┤\n",
       "│ dense_6 (\u001b[38;5;33mDense\u001b[0m)     │ (\u001b[38;5;45mNone\u001b[0m, \u001b[38;5;34m128\u001b[0m)       │    \u001b[38;5;34m589,952\u001b[0m │ flatten_2[\u001b[38;5;34m0\u001b[0m][\u001b[38;5;34m0\u001b[0m]   │\n",
       "├─────────────────────┼───────────────────┼────────────┼───────────────────┤\n",
       "│ lstm_4 (\u001b[38;5;33mLSTM\u001b[0m)       │ (\u001b[38;5;45mNone\u001b[0m, \u001b[38;5;34m7\u001b[0m, \u001b[38;5;34m50\u001b[0m)     │     \u001b[38;5;34m13,600\u001b[0m │ input_layer_5[\u001b[38;5;34m0\u001b[0m]… │\n",
       "├─────────────────────┼───────────────────┼────────────┼───────────────────┤\n",
       "│ dropout_4 (\u001b[38;5;33mDropout\u001b[0m) │ (\u001b[38;5;45mNone\u001b[0m, \u001b[38;5;34m128\u001b[0m)       │          \u001b[38;5;34m0\u001b[0m │ dense_6[\u001b[38;5;34m0\u001b[0m][\u001b[38;5;34m0\u001b[0m]     │\n",
       "├─────────────────────┼───────────────────┼────────────┼───────────────────┤\n",
       "│ lstm_5 (\u001b[38;5;33mLSTM\u001b[0m)       │ (\u001b[38;5;45mNone\u001b[0m, \u001b[38;5;34m50\u001b[0m)        │     \u001b[38;5;34m20,200\u001b[0m │ lstm_4[\u001b[38;5;34m0\u001b[0m][\u001b[38;5;34m0\u001b[0m]      │\n",
       "├─────────────────────┼───────────────────┼────────────┼───────────────────┤\n",
       "│ concatenate_2       │ (\u001b[38;5;45mNone\u001b[0m, \u001b[38;5;34m178\u001b[0m)       │          \u001b[38;5;34m0\u001b[0m │ dropout_4[\u001b[38;5;34m0\u001b[0m][\u001b[38;5;34m0\u001b[0m],  │\n",
       "│ (\u001b[38;5;33mConcatenate\u001b[0m)       │                   │            │ lstm_5[\u001b[38;5;34m0\u001b[0m][\u001b[38;5;34m0\u001b[0m]      │\n",
       "├─────────────────────┼───────────────────┼────────────┼───────────────────┤\n",
       "│ dense_7 (\u001b[38;5;33mDense\u001b[0m)     │ (\u001b[38;5;45mNone\u001b[0m, \u001b[38;5;34m128\u001b[0m)       │     \u001b[38;5;34m22,912\u001b[0m │ concatenate_2[\u001b[38;5;34m0\u001b[0m]… │\n",
       "├─────────────────────┼───────────────────┼────────────┼───────────────────┤\n",
       "│ dropout_5 (\u001b[38;5;33mDropout\u001b[0m) │ (\u001b[38;5;45mNone\u001b[0m, \u001b[38;5;34m128\u001b[0m)       │          \u001b[38;5;34m0\u001b[0m │ dense_7[\u001b[38;5;34m0\u001b[0m][\u001b[38;5;34m0\u001b[0m]     │\n",
       "├─────────────────────┼───────────────────┼────────────┼───────────────────┤\n",
       "│ dense_8 (\u001b[38;5;33mDense\u001b[0m)     │ (\u001b[38;5;45mNone\u001b[0m, \u001b[38;5;34m1\u001b[0m)         │        \u001b[38;5;34m129\u001b[0m │ dropout_5[\u001b[38;5;34m0\u001b[0m][\u001b[38;5;34m0\u001b[0m]   │\n",
       "└─────────────────────┴───────────────────┴────────────┴───────────────────┘\n"
      ]
     },
     "metadata": {},
     "output_type": "display_data"
    },
    {
     "data": {
      "text/html": [
       "<pre style=\"white-space:pre;overflow-x:auto;line-height:normal;font-family:Menlo,'DejaVu Sans Mono',consolas,'Courier New',monospace\"><span style=\"font-weight: bold\"> Total params: </span><span style=\"color: #00af00; text-decoration-color: #00af00\">670,809</span> (2.56 MB)\n",
       "</pre>\n"
      ],
      "text/plain": [
       "\u001b[1m Total params: \u001b[0m\u001b[38;5;34m670,809\u001b[0m (2.56 MB)\n"
      ]
     },
     "metadata": {},
     "output_type": "display_data"
    },
    {
     "data": {
      "text/html": [
       "<pre style=\"white-space:pre;overflow-x:auto;line-height:normal;font-family:Menlo,'DejaVu Sans Mono',consolas,'Courier New',monospace\"><span style=\"font-weight: bold\"> Trainable params: </span><span style=\"color: #00af00; text-decoration-color: #00af00\">670,809</span> (2.56 MB)\n",
       "</pre>\n"
      ],
      "text/plain": [
       "\u001b[1m Trainable params: \u001b[0m\u001b[38;5;34m670,809\u001b[0m (2.56 MB)\n"
      ]
     },
     "metadata": {},
     "output_type": "display_data"
    },
    {
     "data": {
      "text/html": [
       "<pre style=\"white-space:pre;overflow-x:auto;line-height:normal;font-family:Menlo,'DejaVu Sans Mono',consolas,'Courier New',monospace\"><span style=\"font-weight: bold\"> Non-trainable params: </span><span style=\"color: #00af00; text-decoration-color: #00af00\">0</span> (0.00 B)\n",
       "</pre>\n"
      ],
      "text/plain": [
       "\u001b[1m Non-trainable params: \u001b[0m\u001b[38;5;34m0\u001b[0m (0.00 B)\n"
      ]
     },
     "metadata": {},
     "output_type": "display_data"
    }
   ],
   "source": [
    "# Definir la entrada para las imágenes (224x224x6)\n",
    "image_input = Input(shape=(224, 224, 6))\n",
    "\n",
    "# Red convolucional para procesar la entrada de imágenes\n",
    "x = Conv2D(filters=16, kernel_size=(3, 3), activation='relu')(image_input)\n",
    "x = AveragePooling2D(pool_size=(2, 2))(x)\n",
    "x = Conv2D(filters=32, kernel_size=(3, 3), activation='relu')(x)\n",
    "x = AveragePooling2D(pool_size=(2, 2))(x)\n",
    "x = Conv2D(filters=32, kernel_size=(3, 3), activation='relu')(x)\n",
    "x = AveragePooling2D(pool_size=(2, 2))(x)\n",
    "x = Conv2D(filters=32, kernel_size=(3, 3), activation='relu')(x)\n",
    "x = AveragePooling2D(pool_size=(2, 2))(x)\n",
    "\n",
    "# Aplanar la salida de la capa convolucional\n",
    "x = Flatten()(x)\n",
    "x = Dense(units=128, activation='relu')(x)\n",
    "x = Dropout(rate=0.5)(x)\n",
    "\n",
    "# Definir la entrada para la LSTM (datos secuenciales)\n",
    "sequence_input = Input(shape=(7, 17))  \n",
    "\n",
    "# Red LSTM para procesar la entrada secuencial\n",
    "y = LSTM(units=50, return_sequences=True)(sequence_input)\n",
    "y = LSTM(units=50)(y)\n",
    "\n",
    "# Combinar las salidas de la CNN y la LSTM\n",
    "combined = Concatenate()([x, y])\n",
    "\n",
    "# Añadir capas densas finales para predecir el valor final\n",
    "z = Dense(units=128, activation='relu')(combined)\n",
    "z = Dropout(rate=0.5)(z)\n",
    "z = Dense(units=1, activation='linear')(z)\n",
    "\n",
    "# Crear el modelo con dos entradas\n",
    "model1 = Model(inputs=[image_input, sequence_input], outputs=z)\n",
    "\n",
    "# Compilar el modelo\n",
    "model1.compile(optimizer='adam', loss='mean_absolute_error',metrics=['mean_squared_error','mean_absolute_percentage_error',smape])\n",
    "\n",
    "# Mostrar la arquitectura del modelo\n",
    "model1.summary()\n"
   ]
  },
  {
   "cell_type": "code",
   "execution_count": 49,
   "metadata": {},
   "outputs": [],
   "source": [
    "# Generador para combinar imágenes y secuencias\n",
    "def data_generator(image_files, sequences, labels): \n",
    "    for i in range(len(image_files)):\n",
    "        if image_files[i] != '':  # Si la imagen existe\n",
    "            image = preprocess_imagery(image_files[i])  # Cargar y preprocesar la imagen\n",
    "            image = tf.convert_to_tensor(image, dtype=tf.float32)\n",
    "        else:\n",
    "            image = tf.zeros((224, 224, 6), dtype=tf.float32)  # Si no hay imagen, usar un tensor de ceros\n",
    "            \n",
    "        sequence = tf.convert_to_tensor(sequences[i], dtype=tf.float32)  # Secuencia de datos tabulares\n",
    "        label = tf.convert_to_tensor(labels[i], dtype=tf.float32)  # Etiqueta (mp10)+\n",
    "        label=tf.squeeze(label)\n",
    "        \n",
    "        yield (image, sequence), label  # Dos entradas: imagen y secuencia\n",
    "\n",
    "# Crear el dataset\n",
    "def create_combined_dataset(image_files, sequences, labels, batch_size):\n",
    "    dataset = tf.data.Dataset.from_generator(\n",
    "        data_generator,\n",
    "        args=[image_files, sequences, labels],\n",
    "        output_signature=(\n",
    "            (tf.TensorSpec(shape=(224, 224, 6), dtype=tf.float32),  # Especificar el tamaño de las imágenes\n",
    "             tf.TensorSpec(shape=(7, sequences.shape[2]), dtype=tf.float32)),  # Secuencias de 7 días\n",
    "            tf.TensorSpec(shape=(), dtype=tf.float32)  # La etiqueta (mp10)\n",
    "        )\n",
    "    )\n",
    "    dataset = dataset.batch(batch_size)\n",
    "    dataset = dataset.prefetch(buffer_size=tf.data.AUTOTUNE)\n",
    "    return dataset\n",
    "\n",
    "# Ejemplo de uso para crear datasets de entrenamiento, validación y prueba\n",
    "batch_size = 32\n",
    "\n",
    "# Crear datasets\n",
    "train_dataset = create_combined_dataset(images_train, X_train, y_train, batch_size)\n",
    "val_dataset = create_combined_dataset(images_val, X_val, y_val, batch_size)\n",
    "test_dataset = create_combined_dataset(images_test, X_test, y_test, batch_size)\n"
   ]
  },
  {
   "cell_type": "code",
   "execution_count": 50,
   "metadata": {},
   "outputs": [],
   "source": [
    "# Configurar Early Stopping\n",
    "early_stopping = EarlyStopping(\n",
    "    monitor='val_loss',  # Métrica a monitorear\n",
    "    patience=10,         # Número de épocas de paciencia\n",
    "    restore_best_weights=True  # Restaurar los mejores pesos al final del entrenamiento\n",
    ")\n",
    "checkpoint_path = \"training_1/ckpt.weights.h5\"\n",
    "checkpoint_dir = os.path.dirname(checkpoint_path)\n",
    "\n",
    "# Create a callback that saves the model's weights\n",
    "cp_callback = tf.keras.callbacks.ModelCheckpoint(filepath=checkpoint_path,\n",
    "                                                 save_weights_only=True,\n",
    "                                                 verbose=1)"
   ]
  },
  {
   "cell_type": "code",
   "execution_count": 60,
   "metadata": {},
   "outputs": [
    {
     "name": "stdout",
     "output_type": "stream",
     "text": [
      "Epoch 1/50\n"
     ]
    },
    {
     "name": "stderr",
     "output_type": "stream",
     "text": [
      "C:\\Users\\benja\\AppData\\Local\\Packages\\PythonSoftwareFoundation.Python.3.12_qbz5n2kfra8p0\\LocalCache\\local-packages\\Python312\\site-packages\\keras\\src\\models\\functional.py:225: UserWarning: The structure of `inputs` doesn't match the expected structure: ['keras_tensor_38', 'keras_tensor_50']. Received: the structure of inputs=('*', '*')\n",
      "  warnings.warn(\n",
      "C:\\Users\\benja\\AppData\\Local\\Temp\\ipykernel_11080\\2794921389.py:10: DeprecationWarning: Starting with ImageIO v3 the behavior of this function will switch to that of iio.v3.imread. To keep the current behavior (and make this warning disappear) use `import imageio.v2 as imageio` or call `imageio.v2.imread` directly.\n",
      "  image = (imageio.imread(path))\n"
     ]
    },
    {
     "name": "stdout",
     "output_type": "stream",
     "text": [
      "\u001b[1m2253/2253\u001b[0m \u001b[32m━━━━━━━━━━━━━━━━━━━━\u001b[0m\u001b[37m\u001b[0m \u001b[1m0s\u001b[0m 553ms/step - loss: 0.0712 - mean_absolute_percentage_error: 17598.3320 - mean_squared_error: 0.4275 - smape: 46.2698\n",
      "Epoch 1: saving model to training_1/ckpt.weights.h5\n",
      "\u001b[1m2253/2253\u001b[0m \u001b[32m━━━━━━━━━━━━━━━━━━━━\u001b[0m\u001b[37m\u001b[0m \u001b[1m1435s\u001b[0m 635ms/step - loss: 0.0712 - mean_absolute_percentage_error: 17599.0254 - mean_squared_error: 0.4273 - smape: 46.2686 - val_loss: 0.0182 - val_mean_absolute_percentage_error: 25639.5820 - val_mean_squared_error: 7.0605e-04 - val_smape: 43.0074\n",
      "Epoch 2/50\n",
      "\u001b[1m   1/2253\u001b[0m \u001b[37m━━━━━━━━━━━━━━━━━━━━\u001b[0m \u001b[1m2:33\u001b[0m 68ms/step - loss: 0.0130 - mean_absolute_percentage_error: 19.6545 - mean_squared_error: 2.3933e-04 - smape: 34.1130\n",
      "Epoch 2: saving model to training_1/ckpt.weights.h5\n"
     ]
    },
    {
     "name": "stderr",
     "output_type": "stream",
     "text": [
      "C:\\Program Files\\WindowsApps\\PythonSoftwareFoundation.Python.3.12_3.12.2032.0_x64__qbz5n2kfra8p0\\Lib\\contextlib.py:158: UserWarning: Your input ran out of data; interrupting training. Make sure that your dataset or generator can generate at least `steps_per_epoch * epochs` batches. You may need to use the `.repeat()` function when building your dataset.\n",
      "  self.gen.throw(value)\n"
     ]
    },
    {
     "name": "stdout",
     "output_type": "stream",
     "text": [
      "\u001b[1m2253/2253\u001b[0m \u001b[32m━━━━━━━━━━━━━━━━━━━━\u001b[0m\u001b[37m\u001b[0m \u001b[1m0s\u001b[0m 94us/step - loss: 0.0130 - mean_absolute_percentage_error: 19.6545 - mean_squared_error: 2.3933e-04 - smape: 17.0641 - val_loss: 0.0155 - val_mean_absolute_percentage_error: 19.8043 - val_mean_squared_error: 4.5007e-04 - val_smape: 17.5535\n",
      "Epoch 3/50\n",
      "\u001b[1m2253/2253\u001b[0m \u001b[32m━━━━━━━━━━━━━━━━━━━━\u001b[0m\u001b[37m\u001b[0m \u001b[1m0s\u001b[0m 771ms/step - loss: 0.0185 - mean_absolute_percentage_error: 18074.3438 - mean_squared_error: 7.8881e-04 - smape: 43.5300\n",
      "Epoch 3: saving model to training_1/ckpt.weights.h5\n",
      "\u001b[1m2253/2253\u001b[0m \u001b[32m━━━━━━━━━━━━━━━━━━━━\u001b[0m\u001b[37m\u001b[0m \u001b[1m1993s\u001b[0m 885ms/step - loss: 0.0185 - mean_absolute_percentage_error: 18074.7988 - mean_squared_error: 7.8881e-04 - smape: 43.5301 - val_loss: 0.0172 - val_mean_absolute_percentage_error: 25779.6250 - val_mean_squared_error: 6.5755e-04 - val_smape: 44.2419\n",
      "Epoch 4/50\n",
      "\u001b[1m   1/2253\u001b[0m \u001b[37m━━━━━━━━━━━━━━━━━━━━\u001b[0m \u001b[1m1:50\u001b[0m 49ms/step - loss: 0.0096 - mean_absolute_percentage_error: 13.9618 - mean_squared_error: 1.3312e-04 - smape: 32.2919\n",
      "Epoch 4: saving model to training_1/ckpt.weights.h5\n",
      "\u001b[1m2253/2253\u001b[0m \u001b[32m━━━━━━━━━━━━━━━━━━━━\u001b[0m\u001b[37m\u001b[0m \u001b[1m0s\u001b[0m 85us/step - loss: 0.0096 - mean_absolute_percentage_error: 13.9618 - mean_squared_error: 1.3312e-04 - smape: 16.1531 - val_loss: 0.0154 - val_mean_absolute_percentage_error: 18.9523 - val_mean_squared_error: 4.4471e-04 - val_smape: 17.7654\n",
      "Epoch 5/50\n",
      "\u001b[1m2253/2253\u001b[0m \u001b[32m━━━━━━━━━━━━━━━━━━━━\u001b[0m\u001b[37m\u001b[0m \u001b[1m0s\u001b[0m 770ms/step - loss: 0.0180 - mean_absolute_percentage_error: 17568.8125 - mean_squared_error: 7.4481e-04 - smape: 44.0379\n",
      "Epoch 5: saving model to training_1/ckpt.weights.h5\n",
      "\u001b[1m2253/2253\u001b[0m \u001b[32m━━━━━━━━━━━━━━━━━━━━\u001b[0m\u001b[37m\u001b[0m \u001b[1m1935s\u001b[0m 859ms/step - loss: 0.0180 - mean_absolute_percentage_error: 17569.2578 - mean_squared_error: 7.4481e-04 - smape: 44.0379 - val_loss: 0.0169 - val_mean_absolute_percentage_error: 24115.8516 - val_mean_squared_error: 6.6462e-04 - val_smape: 44.4590\n",
      "Epoch 6/50\n",
      "\u001b[1m   1/2253\u001b[0m \u001b[37m━━━━━━━━━━━━━━━━━━━━\u001b[0m \u001b[1m2:03\u001b[0m 55ms/step - loss: 0.0117 - mean_absolute_percentage_error: 17.1688 - mean_squared_error: 2.3571e-04 - smape: 35.8233\n",
      "Epoch 6: saving model to training_1/ckpt.weights.h5\n",
      "\u001b[1m2253/2253\u001b[0m \u001b[32m━━━━━━━━━━━━━━━━━━━━\u001b[0m\u001b[37m\u001b[0m \u001b[1m1s\u001b[0m 224us/step - loss: 0.0117 - mean_absolute_percentage_error: 17.1688 - mean_squared_error: 2.3571e-04 - smape: 17.9196 - val_loss: 0.0160 - val_mean_absolute_percentage_error: 19.6079 - val_mean_squared_error: 4.6980e-04 - val_smape: 17.4929\n",
      "Epoch 7/50\n",
      "\u001b[1m2253/2253\u001b[0m \u001b[32m━━━━━━━━━━━━━━━━━━━━\u001b[0m\u001b[37m\u001b[0m \u001b[1m0s\u001b[0m 615ms/step - loss: 0.0175 - mean_absolute_percentage_error: 17561.3008 - mean_squared_error: 7.1972e-04 - smape: 44.3521\n",
      "Epoch 7: saving model to training_1/ckpt.weights.h5\n",
      "\u001b[1m2253/2253\u001b[0m \u001b[32m━━━━━━━━━━━━━━━━━━━━\u001b[0m\u001b[37m\u001b[0m \u001b[1m1547s\u001b[0m 687ms/step - loss: 0.0175 - mean_absolute_percentage_error: 17561.7227 - mean_squared_error: 7.1973e-04 - smape: 44.3521 - val_loss: 0.0166 - val_mean_absolute_percentage_error: 24417.8027 - val_mean_squared_error: 6.1784e-04 - val_smape: 43.3499\n",
      "Epoch 8/50\n",
      "\u001b[1m   1/2253\u001b[0m \u001b[37m━━━━━━━━━━━━━━━━━━━━\u001b[0m \u001b[1m1:54\u001b[0m 51ms/step - loss: 0.0094 - mean_absolute_percentage_error: 13.3705 - mean_squared_error: 1.4071e-04 - smape: 30.9112\n",
      "Epoch 8: saving model to training_1/ckpt.weights.h5\n",
      "\u001b[1m2253/2253\u001b[0m \u001b[32m━━━━━━━━━━━━━━━━━━━━\u001b[0m\u001b[37m\u001b[0m \u001b[1m0s\u001b[0m 78us/step - loss: 0.0094 - mean_absolute_percentage_error: 13.3705 - mean_squared_error: 1.4071e-04 - smape: 15.4625 - val_loss: 0.0155 - val_mean_absolute_percentage_error: 19.5303 - val_mean_squared_error: 4.0878e-04 - val_smape: 17.6287\n",
      "Epoch 9/50\n",
      "\u001b[1m2253/2253\u001b[0m \u001b[32m━━━━━━━━━━━━━━━━━━━━\u001b[0m\u001b[37m\u001b[0m \u001b[1m0s\u001b[0m 533ms/step - loss: 0.0172 - mean_absolute_percentage_error: 16976.5508 - mean_squared_error: 7.0026e-04 - smape: 44.7593\n",
      "Epoch 9: saving model to training_1/ckpt.weights.h5\n",
      "\u001b[1m2253/2253\u001b[0m \u001b[32m━━━━━━━━━━━━━━━━━━━━\u001b[0m\u001b[37m\u001b[0m \u001b[1m1350s\u001b[0m 599ms/step - loss: 0.0172 - mean_absolute_percentage_error: 16977.1230 - mean_squared_error: 7.0027e-04 - smape: 44.7593 - val_loss: 0.0163 - val_mean_absolute_percentage_error: 24583.9473 - val_mean_squared_error: 6.1698e-04 - val_smape: 43.8954\n",
      "Epoch 10/50\n",
      "\u001b[1m   1/2253\u001b[0m \u001b[37m━━━━━━━━━━━━━━━━━━━━\u001b[0m \u001b[1m1:57\u001b[0m 52ms/step - loss: 0.0092 - mean_absolute_percentage_error: 12.7602 - mean_squared_error: 1.5453e-04 - smape: 32.0027\n",
      "Epoch 10: saving model to training_1/ckpt.weights.h5\n",
      "\u001b[1m2253/2253\u001b[0m \u001b[32m━━━━━━━━━━━━━━━━━━━━\u001b[0m\u001b[37m\u001b[0m \u001b[1m0s\u001b[0m 81us/step - loss: 0.0092 - mean_absolute_percentage_error: 12.7602 - mean_squared_error: 1.5453e-04 - smape: 16.0084 - val_loss: 0.0158 - val_mean_absolute_percentage_error: 18.7523 - val_mean_squared_error: 4.6163e-04 - val_smape: 17.6808\n",
      "Epoch 11/50\n",
      "\u001b[1m2253/2253\u001b[0m \u001b[32m━━━━━━━━━━━━━━━━━━━━\u001b[0m\u001b[37m\u001b[0m \u001b[1m0s\u001b[0m 556ms/step - loss: 0.0168 - mean_absolute_percentage_error: 17435.1797 - mean_squared_error: 6.7692e-04 - smape: 44.8987\n",
      "Epoch 11: saving model to training_1/ckpt.weights.h5\n",
      "\u001b[1m2253/2253\u001b[0m \u001b[32m━━━━━━━━━━━━━━━━━━━━\u001b[0m\u001b[37m\u001b[0m \u001b[1m1423s\u001b[0m 632ms/step - loss: 0.0168 - mean_absolute_percentage_error: 17435.6484 - mean_squared_error: 6.7692e-04 - smape: 44.8987 - val_loss: 0.0162 - val_mean_absolute_percentage_error: 24698.9180 - val_mean_squared_error: 6.1083e-04 - val_smape: 44.4831\n",
      "Epoch 12/50\n",
      "\u001b[1m   1/2253\u001b[0m \u001b[37m━━━━━━━━━━━━━━━━━━━━\u001b[0m \u001b[1m1:57\u001b[0m 52ms/step - loss: 0.0097 - mean_absolute_percentage_error: 13.0261 - mean_squared_error: 1.6413e-04 - smape: 30.8530\n",
      "Epoch 12: saving model to training_1/ckpt.weights.h5\n",
      "\u001b[1m2253/2253\u001b[0m \u001b[32m━━━━━━━━━━━━━━━━━━━━\u001b[0m\u001b[37m\u001b[0m \u001b[1m0s\u001b[0m 85us/step - loss: 0.0097 - mean_absolute_percentage_error: 13.0261 - mean_squared_error: 1.6413e-04 - smape: 15.4333 - val_loss: 0.0155 - val_mean_absolute_percentage_error: 18.2312 - val_mean_squared_error: 4.5580e-04 - val_smape: 17.8161\n",
      "Epoch 13/50\n",
      "\u001b[1m2253/2253\u001b[0m \u001b[32m━━━━━━━━━━━━━━━━━━━━\u001b[0m\u001b[37m\u001b[0m \u001b[1m0s\u001b[0m 609ms/step - loss: 0.0165 - mean_absolute_percentage_error: 16854.2559 - mean_squared_error: 6.5724e-04 - smape: 45.0703\n",
      "Epoch 13: saving model to training_1/ckpt.weights.h5\n",
      "\u001b[1m2253/2253\u001b[0m \u001b[32m━━━━━━━━━━━━━━━━━━━━\u001b[0m\u001b[37m\u001b[0m \u001b[1m1552s\u001b[0m 689ms/step - loss: 0.0165 - mean_absolute_percentage_error: 16854.7500 - mean_squared_error: 6.5725e-04 - smape: 45.0703 - val_loss: 0.0158 - val_mean_absolute_percentage_error: 24033.3184 - val_mean_squared_error: 5.8414e-04 - val_smape: 44.9008\n",
      "Epoch 14/50\n",
      "\u001b[1m   1/2253\u001b[0m \u001b[37m━━━━━━━━━━━━━━━━━━━━\u001b[0m \u001b[1m2:10\u001b[0m 58ms/step - loss: 0.0089 - mean_absolute_percentage_error: 12.3019 - mean_squared_error: 1.3844e-04 - smape: 31.4235\n",
      "Epoch 14: saving model to training_1/ckpt.weights.h5\n",
      "\u001b[1m2253/2253\u001b[0m \u001b[32m━━━━━━━━━━━━━━━━━━━━\u001b[0m\u001b[37m\u001b[0m \u001b[1m1s\u001b[0m 208us/step - loss: 0.0089 - mean_absolute_percentage_error: 12.3019 - mean_squared_error: 1.3844e-04 - smape: 15.7187 - val_loss: 0.0144 - val_mean_absolute_percentage_error: 17.3308 - val_mean_squared_error: 3.9017e-04 - val_smape: 18.4545\n",
      "Epoch 15/50\n",
      "\u001b[1m2253/2253\u001b[0m \u001b[32m━━━━━━━━━━━━━━━━━━━━\u001b[0m\u001b[37m\u001b[0m \u001b[1m0s\u001b[0m 565ms/step - loss: 0.0163 - mean_absolute_percentage_error: 17274.8438 - mean_squared_error: 6.4468e-04 - smape: 45.3730\n",
      "Epoch 15: saving model to training_1/ckpt.weights.h5\n",
      "\u001b[1m2253/2253\u001b[0m \u001b[32m━━━━━━━━━━━━━━━━━━━━\u001b[0m\u001b[37m\u001b[0m \u001b[1m1422s\u001b[0m 631ms/step - loss: 0.0163 - mean_absolute_percentage_error: 17275.1484 - mean_squared_error: 6.4468e-04 - smape: 45.3729 - val_loss: 0.0154 - val_mean_absolute_percentage_error: 24121.3809 - val_mean_squared_error: 5.5692e-04 - val_smape: 46.2267\n",
      "Epoch 16/50\n",
      "\u001b[1m   1/2253\u001b[0m \u001b[37m━━━━━━━━━━━━━━━━━━━━\u001b[0m \u001b[1m2:24\u001b[0m 64ms/step - loss: 0.0085 - mean_absolute_percentage_error: 12.6369 - mean_squared_error: 1.2396e-04 - smape: 33.6609\n",
      "Epoch 16: saving model to training_1/ckpt.weights.h5\n",
      "\u001b[1m2253/2253\u001b[0m \u001b[32m━━━━━━━━━━━━━━━━━━━━\u001b[0m\u001b[37m\u001b[0m \u001b[1m0s\u001b[0m 82us/step - loss: 0.0085 - mean_absolute_percentage_error: 12.6369 - mean_squared_error: 1.2396e-04 - smape: 16.8379 - val_loss: 0.0141 - val_mean_absolute_percentage_error: 17.0078 - val_mean_squared_error: 3.7214e-04 - val_smape: 18.5552\n",
      "Epoch 17/50\n",
      "\u001b[1m2253/2253\u001b[0m \u001b[32m━━━━━━━━━━━━━━━━━━━━\u001b[0m\u001b[37m\u001b[0m \u001b[1m0s\u001b[0m 469ms/step - loss: 0.0161 - mean_absolute_percentage_error: 16614.3125 - mean_squared_error: 6.3646e-04 - smape: 45.3691\n",
      "Epoch 17: saving model to training_1/ckpt.weights.h5\n",
      "\u001b[1m2253/2253\u001b[0m \u001b[32m━━━━━━━━━━━━━━━━━━━━\u001b[0m\u001b[37m\u001b[0m \u001b[1m1184s\u001b[0m 525ms/step - loss: 0.0161 - mean_absolute_percentage_error: 16614.7559 - mean_squared_error: 6.3646e-04 - smape: 45.3691 - val_loss: 0.0155 - val_mean_absolute_percentage_error: 24946.6289 - val_mean_squared_error: 5.6007e-04 - val_smape: 46.0973\n",
      "Epoch 18/50\n",
      "\u001b[1m   1/2253\u001b[0m \u001b[37m━━━━━━━━━━━━━━━━━━━━\u001b[0m \u001b[1m2:01\u001b[0m 54ms/step - loss: 0.0078 - mean_absolute_percentage_error: 11.7424 - mean_squared_error: 7.8461e-05 - smape: 30.3365\n",
      "Epoch 18: saving model to training_1/ckpt.weights.h5\n",
      "\u001b[1m2253/2253\u001b[0m \u001b[32m━━━━━━━━━━━━━━━━━━━━\u001b[0m\u001b[37m\u001b[0m \u001b[1m0s\u001b[0m 76us/step - loss: 0.0078 - mean_absolute_percentage_error: 11.7424 - mean_squared_error: 7.8461e-05 - smape: 15.1750 - val_loss: 0.0139 - val_mean_absolute_percentage_error: 16.9402 - val_mean_squared_error: 3.8089e-04 - val_smape: 18.1625\n",
      "Epoch 19/50\n",
      "\u001b[1m2253/2253\u001b[0m \u001b[32m━━━━━━━━━━━━━━━━━━━━\u001b[0m\u001b[37m\u001b[0m \u001b[1m0s\u001b[0m 416ms/step - loss: 0.0159 - mean_absolute_percentage_error: 16433.3125 - mean_squared_error: 6.1976e-04 - smape: 45.4706\n",
      "Epoch 19: saving model to training_1/ckpt.weights.h5\n",
      "\u001b[1m2253/2253\u001b[0m \u001b[32m━━━━━━━━━━━━━━━━━━━━\u001b[0m\u001b[37m\u001b[0m \u001b[1m1044s\u001b[0m 463ms/step - loss: 0.0159 - mean_absolute_percentage_error: 16433.7031 - mean_squared_error: 6.1976e-04 - smape: 45.4706 - val_loss: 0.0152 - val_mean_absolute_percentage_error: 22636.9629 - val_mean_squared_error: 5.4436e-04 - val_smape: 47.3856\n",
      "Epoch 20/50\n",
      "\u001b[1m   1/2253\u001b[0m \u001b[37m━━━━━━━━━━━━━━━━━━━━\u001b[0m \u001b[1m1:55\u001b[0m 51ms/step - loss: 0.0080 - mean_absolute_percentage_error: 10.9307 - mean_squared_error: 8.6422e-05 - smape: 29.4490\n",
      "Epoch 20: saving model to training_1/ckpt.weights.h5\n",
      "\u001b[1m2253/2253\u001b[0m \u001b[32m━━━━━━━━━━━━━━━━━━━━\u001b[0m\u001b[37m\u001b[0m \u001b[1m0s\u001b[0m 81us/step - loss: 0.0080 - mean_absolute_percentage_error: 10.9307 - mean_squared_error: 8.6422e-05 - smape: 14.7310 - val_loss: 0.0139 - val_mean_absolute_percentage_error: 16.4116 - val_mean_squared_error: 3.6397e-04 - val_smape: 19.5530\n",
      "Epoch 21/50\n",
      "\u001b[1m2253/2253\u001b[0m \u001b[32m━━━━━━━━━━━━━━━━━━━━\u001b[0m\u001b[37m\u001b[0m \u001b[1m0s\u001b[0m 380ms/step - loss: 0.0158 - mean_absolute_percentage_error: 16387.3418 - mean_squared_error: 6.1671e-04 - smape: 45.6913\n",
      "Epoch 21: saving model to training_1/ckpt.weights.h5\n",
      "\u001b[1m2253/2253\u001b[0m \u001b[32m━━━━━━━━━━━━━━━━━━━━\u001b[0m\u001b[37m\u001b[0m \u001b[1m956s\u001b[0m 424ms/step - loss: 0.0158 - mean_absolute_percentage_error: 16387.6426 - mean_squared_error: 6.1671e-04 - smape: 45.6912 - val_loss: 0.0152 - val_mean_absolute_percentage_error: 23616.8770 - val_mean_squared_error: 5.3970e-04 - val_smape: 44.9269\n",
      "Epoch 22/50\n",
      "\u001b[1m   1/2253\u001b[0m \u001b[37m━━━━━━━━━━━━━━━━━━━━\u001b[0m \u001b[1m2:10\u001b[0m 58ms/step - loss: 0.0092 - mean_absolute_percentage_error: 13.6064 - mean_squared_error: 1.0146e-04 - smape: 27.2477\n",
      "Epoch 22: saving model to training_1/ckpt.weights.h5\n",
      "\u001b[1m2253/2253\u001b[0m \u001b[32m━━━━━━━━━━━━━━━━━━━━\u001b[0m\u001b[37m\u001b[0m \u001b[1m0s\u001b[0m 77us/step - loss: 0.0092 - mean_absolute_percentage_error: 13.6064 - mean_squared_error: 1.0146e-04 - smape: 13.6299 - val_loss: 0.0140 - val_mean_absolute_percentage_error: 16.7898 - val_mean_squared_error: 3.5031e-04 - val_smape: 18.3420\n",
      "Epoch 23/50\n",
      "\u001b[1m2253/2253\u001b[0m \u001b[32m━━━━━━━━━━━━━━━━━━━━\u001b[0m\u001b[37m\u001b[0m \u001b[1m0s\u001b[0m 367ms/step - loss: 0.0156 - mean_absolute_percentage_error: 15654.0947 - mean_squared_error: 6.0545e-04 - smape: 45.6928\n",
      "Epoch 23: saving model to training_1/ckpt.weights.h5\n",
      "\u001b[1m2253/2253\u001b[0m \u001b[32m━━━━━━━━━━━━━━━━━━━━\u001b[0m\u001b[37m\u001b[0m \u001b[1m925s\u001b[0m 411ms/step - loss: 0.0156 - mean_absolute_percentage_error: 15654.4258 - mean_squared_error: 6.0546e-04 - smape: 45.6929 - val_loss: 0.0152 - val_mean_absolute_percentage_error: 21983.3516 - val_mean_squared_error: 5.4114e-04 - val_smape: 48.8160\n",
      "Epoch 24/50\n",
      "\u001b[1m   1/2253\u001b[0m \u001b[37m━━━━━━━━━━━━━━━━━━━━\u001b[0m \u001b[1m2:03\u001b[0m 55ms/step - loss: 0.0092 - mean_absolute_percentage_error: 13.0007 - mean_squared_error: 1.0475e-04 - smape: 32.8977\n",
      "Epoch 24: saving model to training_1/ckpt.weights.h5\n",
      "\u001b[1m2253/2253\u001b[0m \u001b[32m━━━━━━━━━━━━━━━━━━━━\u001b[0m\u001b[37m\u001b[0m \u001b[1m0s\u001b[0m 79us/step - loss: 0.0092 - mean_absolute_percentage_error: 13.0007 - mean_squared_error: 1.0475e-04 - smape: 16.4562 - val_loss: 0.0139 - val_mean_absolute_percentage_error: 16.8310 - val_mean_squared_error: 3.6769e-04 - val_smape: 19.9320\n",
      "Epoch 25/50\n",
      "\u001b[1m2253/2253\u001b[0m \u001b[32m━━━━━━━━━━━━━━━━━━━━\u001b[0m\u001b[37m\u001b[0m \u001b[1m0s\u001b[0m 361ms/step - loss: 0.0155 - mean_absolute_percentage_error: 15431.7324 - mean_squared_error: 6.0159e-04 - smape: 45.7682\n",
      "Epoch 25: saving model to training_1/ckpt.weights.h5\n",
      "\u001b[1m2253/2253\u001b[0m \u001b[32m━━━━━━━━━━━━━━━━━━━━\u001b[0m\u001b[37m\u001b[0m \u001b[1m908s\u001b[0m 403ms/step - loss: 0.0155 - mean_absolute_percentage_error: 15431.9561 - mean_squared_error: 6.0159e-04 - smape: 45.7682 - val_loss: 0.0152 - val_mean_absolute_percentage_error: 22182.1328 - val_mean_squared_error: 5.5597e-04 - val_smape: 47.4317\n",
      "Epoch 26/50\n",
      "\u001b[1m   1/2253\u001b[0m \u001b[37m━━━━━━━━━━━━━━━━━━━━\u001b[0m \u001b[1m1:54\u001b[0m 51ms/step - loss: 0.0086 - mean_absolute_percentage_error: 12.8786 - mean_squared_error: 1.2199e-04 - smape: 32.6694\n",
      "Epoch 26: saving model to training_1/ckpt.weights.h5\n",
      "\u001b[1m2253/2253\u001b[0m \u001b[32m━━━━━━━━━━━━━━━━━━━━\u001b[0m\u001b[37m\u001b[0m \u001b[1m0s\u001b[0m 81us/step - loss: 0.0086 - mean_absolute_percentage_error: 12.8786 - mean_squared_error: 1.2199e-04 - smape: 16.3419 - val_loss: 0.0141 - val_mean_absolute_percentage_error: 16.2590 - val_mean_squared_error: 3.8972e-04 - val_smape: 20.5607\n",
      "Epoch 27/50\n",
      "\u001b[1m2253/2253\u001b[0m \u001b[32m━━━━━━━━━━━━━━━━━━━━\u001b[0m\u001b[37m\u001b[0m \u001b[1m0s\u001b[0m 361ms/step - loss: 0.0154 - mean_absolute_percentage_error: 14659.6865 - mean_squared_error: 5.9373e-04 - smape: 45.9121\n",
      "Epoch 27: saving model to training_1/ckpt.weights.h5\n",
      "\u001b[1m2253/2253\u001b[0m \u001b[32m━━━━━━━━━━━━━━━━━━━━\u001b[0m\u001b[37m\u001b[0m \u001b[1m908s\u001b[0m 403ms/step - loss: 0.0154 - mean_absolute_percentage_error: 14660.3467 - mean_squared_error: 5.9373e-04 - smape: 45.9120 - val_loss: 0.0146 - val_mean_absolute_percentage_error: 21651.4434 - val_mean_squared_error: 5.0725e-04 - val_smape: 46.0537\n",
      "Epoch 28/50\n",
      "\u001b[1m   1/2253\u001b[0m \u001b[37m━━━━━━━━━━━━━━━━━━━━\u001b[0m \u001b[1m2:14\u001b[0m 60ms/step - loss: 0.0085 - mean_absolute_percentage_error: 12.2240 - mean_squared_error: 8.7078e-05 - smape: 29.9659\n",
      "Epoch 28: saving model to training_1/ckpt.weights.h5\n",
      "\u001b[1m2253/2253\u001b[0m \u001b[32m━━━━━━━━━━━━━━━━━━━━\u001b[0m\u001b[37m\u001b[0m \u001b[1m0s\u001b[0m 77us/step - loss: 0.0085 - mean_absolute_percentage_error: 12.2240 - mean_squared_error: 8.7078e-05 - smape: 14.9896 - val_loss: 0.0132 - val_mean_absolute_percentage_error: 15.5416 - val_mean_squared_error: 3.3545e-04 - val_smape: 19.5279\n",
      "Epoch 29/50\n",
      "\u001b[1m2253/2253\u001b[0m \u001b[32m━━━━━━━━━━━━━━━━━━━━\u001b[0m\u001b[37m\u001b[0m \u001b[1m0s\u001b[0m 358ms/step - loss: 0.0153 - mean_absolute_percentage_error: 15283.5469 - mean_squared_error: 5.8619e-04 - smape: 45.8622\n",
      "Epoch 29: saving model to training_1/ckpt.weights.h5\n",
      "\u001b[1m2253/2253\u001b[0m \u001b[32m━━━━━━━━━━━━━━━━━━━━\u001b[0m\u001b[37m\u001b[0m \u001b[1m901s\u001b[0m 400ms/step - loss: 0.0153 - mean_absolute_percentage_error: 15283.7373 - mean_squared_error: 5.8620e-04 - smape: 45.8623 - val_loss: 0.0148 - val_mean_absolute_percentage_error: 20444.2305 - val_mean_squared_error: 5.1742e-04 - val_smape: 48.4371\n",
      "Epoch 30/50\n",
      "\u001b[1m   1/2253\u001b[0m \u001b[37m━━━━━━━━━━━━━━━━━━━━\u001b[0m \u001b[1m1:54\u001b[0m 51ms/step - loss: 0.0080 - mean_absolute_percentage_error: 11.2541 - mean_squared_error: 1.0172e-04 - smape: 32.1994\n",
      "Epoch 30: saving model to training_1/ckpt.weights.h5\n",
      "\u001b[1m2253/2253\u001b[0m \u001b[32m━━━━━━━━━━━━━━━━━━━━\u001b[0m\u001b[37m\u001b[0m \u001b[1m0s\u001b[0m 76us/step - loss: 0.0080 - mean_absolute_percentage_error: 11.2541 - mean_squared_error: 1.0172e-04 - smape: 16.1069 - val_loss: 0.0125 - val_mean_absolute_percentage_error: 14.3725 - val_mean_squared_error: 3.2736e-04 - val_smape: 20.3587\n",
      "Epoch 31/50\n",
      "\u001b[1m2253/2253\u001b[0m \u001b[32m━━━━━━━━━━━━━━━━━━━━\u001b[0m\u001b[37m\u001b[0m \u001b[1m0s\u001b[0m 359ms/step - loss: 0.0152 - mean_absolute_percentage_error: 14596.7725 - mean_squared_error: 5.8214e-04 - smape: 45.9215\n",
      "Epoch 31: saving model to training_1/ckpt.weights.h5\n",
      "\u001b[1m2253/2253\u001b[0m \u001b[32m━━━━━━━━━━━━━━━━━━━━\u001b[0m\u001b[37m\u001b[0m \u001b[1m904s\u001b[0m 401ms/step - loss: 0.0152 - mean_absolute_percentage_error: 14597.4639 - mean_squared_error: 5.8215e-04 - smape: 45.9215 - val_loss: 0.0146 - val_mean_absolute_percentage_error: 20947.6367 - val_mean_squared_error: 5.0404e-04 - val_smape: 48.7250\n",
      "Epoch 32/50\n",
      "\u001b[1m   1/2253\u001b[0m \u001b[37m━━━━━━━━━━━━━━━━━━━━\u001b[0m \u001b[1m1:54\u001b[0m 51ms/step - loss: 0.0085 - mean_absolute_percentage_error: 12.1296 - mean_squared_error: 9.2019e-05 - smape: 29.6620\n",
      "Epoch 32: saving model to training_1/ckpt.weights.h5\n",
      "\u001b[1m2253/2253\u001b[0m \u001b[32m━━━━━━━━━━━━━━━━━━━━\u001b[0m\u001b[37m\u001b[0m \u001b[1m0s\u001b[0m 84us/step - loss: 0.0085 - mean_absolute_percentage_error: 12.1296 - mean_squared_error: 9.2019e-05 - smape: 14.8376 - val_loss: 0.0130 - val_mean_absolute_percentage_error: 15.5869 - val_mean_squared_error: 3.2676e-04 - val_smape: 20.5572\n",
      "Epoch 33/50\n",
      "\u001b[1m2253/2253\u001b[0m \u001b[32m━━━━━━━━━━━━━━━━━━━━\u001b[0m\u001b[37m\u001b[0m \u001b[1m0s\u001b[0m 365ms/step - loss: 0.0152 - mean_absolute_percentage_error: 16161.6621 - mean_squared_error: 5.7841e-04 - smape: 45.9623\n",
      "Epoch 33: saving model to training_1/ckpt.weights.h5\n",
      "\u001b[1m2253/2253\u001b[0m \u001b[32m━━━━━━━━━━━━━━━━━━━━\u001b[0m\u001b[37m\u001b[0m \u001b[1m922s\u001b[0m 409ms/step - loss: 0.0152 - mean_absolute_percentage_error: 16161.6553 - mean_squared_error: 5.7841e-04 - smape: 45.9623 - val_loss: 0.0143 - val_mean_absolute_percentage_error: 21098.7051 - val_mean_squared_error: 4.9693e-04 - val_smape: 45.4593\n",
      "Epoch 34/50\n",
      "\u001b[1m   1/2253\u001b[0m \u001b[37m━━━━━━━━━━━━━━━━━━━━\u001b[0m \u001b[1m1:59\u001b[0m 53ms/step - loss: 0.0082 - mean_absolute_percentage_error: 11.3310 - mean_squared_error: 8.9125e-05 - smape: 30.5364\n",
      "Epoch 34: saving model to training_1/ckpt.weights.h5\n",
      "\u001b[1m2253/2253\u001b[0m \u001b[32m━━━━━━━━━━━━━━━━━━━━\u001b[0m\u001b[37m\u001b[0m \u001b[1m0s\u001b[0m 85us/step - loss: 0.0082 - mean_absolute_percentage_error: 11.3310 - mean_squared_error: 8.9125e-05 - smape: 15.2750 - val_loss: 0.0143 - val_mean_absolute_percentage_error: 17.4821 - val_mean_squared_error: 3.7158e-04 - val_smape: 19.2458\n",
      "Epoch 35/50\n",
      "\u001b[1m2253/2253\u001b[0m \u001b[32m━━━━━━━━━━━━━━━━━━━━\u001b[0m\u001b[37m\u001b[0m \u001b[1m0s\u001b[0m 385ms/step - loss: 0.0151 - mean_absolute_percentage_error: 14892.7217 - mean_squared_error: 5.7747e-04 - smape: 45.9366\n",
      "Epoch 35: saving model to training_1/ckpt.weights.h5\n",
      "\u001b[1m2253/2253\u001b[0m \u001b[32m━━━━━━━━━━━━━━━━━━━━\u001b[0m\u001b[37m\u001b[0m \u001b[1m982s\u001b[0m 436ms/step - loss: 0.0151 - mean_absolute_percentage_error: 14893.0869 - mean_squared_error: 5.7747e-04 - smape: 45.9366 - val_loss: 0.0143 - val_mean_absolute_percentage_error: 21111.0684 - val_mean_squared_error: 4.8906e-04 - val_smape: 47.4665\n",
      "Epoch 36/50\n",
      "\u001b[1m   1/2253\u001b[0m \u001b[37m━━━━━━━━━━━━━━━━━━━━\u001b[0m \u001b[1m2:11\u001b[0m 59ms/step - loss: 0.0076 - mean_absolute_percentage_error: 11.8320 - mean_squared_error: 7.8094e-05 - smape: 30.0329\n",
      "Epoch 36: saving model to training_1/ckpt.weights.h5\n",
      "\u001b[1m2253/2253\u001b[0m \u001b[32m━━━━━━━━━━━━━━━━━━━━\u001b[0m\u001b[37m\u001b[0m \u001b[1m0s\u001b[0m 81us/step - loss: 0.0076 - mean_absolute_percentage_error: 11.8320 - mean_squared_error: 7.8094e-05 - smape: 15.0231 - val_loss: 0.0133 - val_mean_absolute_percentage_error: 16.3825 - val_mean_squared_error: 3.2183e-04 - val_smape: 19.5520\n",
      "Epoch 37/50\n",
      "\u001b[1m2253/2253\u001b[0m \u001b[32m━━━━━━━━━━━━━━━━━━━━\u001b[0m\u001b[37m\u001b[0m \u001b[1m0s\u001b[0m 432ms/step - loss: 0.0150 - mean_absolute_percentage_error: 14268.3740 - mean_squared_error: 5.6707e-04 - smape: 46.0796\n",
      "Epoch 37: saving model to training_1/ckpt.weights.h5\n",
      "\u001b[1m2253/2253\u001b[0m \u001b[32m━━━━━━━━━━━━━━━━━━━━\u001b[0m\u001b[37m\u001b[0m \u001b[1m1103s\u001b[0m 490ms/step - loss: 0.0150 - mean_absolute_percentage_error: 14268.6719 - mean_squared_error: 5.6707e-04 - smape: 46.0796 - val_loss: 0.0144 - val_mean_absolute_percentage_error: 20319.8984 - val_mean_squared_error: 4.9662e-04 - val_smape: 47.6763\n",
      "Epoch 38/50\n",
      "\u001b[1m   1/2253\u001b[0m \u001b[37m━━━━━━━━━━━━━━━━━━━━\u001b[0m \u001b[1m2:14\u001b[0m 60ms/step - loss: 0.0070 - mean_absolute_percentage_error: 10.0923 - mean_squared_error: 6.7963e-05 - smape: 31.4334\n",
      "Epoch 38: saving model to training_1/ckpt.weights.h5\n",
      "\u001b[1m2253/2253\u001b[0m \u001b[32m━━━━━━━━━━━━━━━━━━━━\u001b[0m\u001b[37m\u001b[0m \u001b[1m0s\u001b[0m 83us/step - loss: 0.0070 - mean_absolute_percentage_error: 10.0923 - mean_squared_error: 6.7963e-05 - smape: 15.7237 - val_loss: 0.0141 - val_mean_absolute_percentage_error: 17.0046 - val_mean_squared_error: 3.5635e-04 - val_smape: 19.8101\n",
      "Epoch 39/50\n",
      "\u001b[1m2253/2253\u001b[0m \u001b[32m━━━━━━━━━━━━━━━━━━━━\u001b[0m\u001b[37m\u001b[0m \u001b[1m0s\u001b[0m 497ms/step - loss: 0.0149 - mean_absolute_percentage_error: 14605.1035 - mean_squared_error: 5.6651e-04 - smape: 46.0568\n",
      "Epoch 39: saving model to training_1/ckpt.weights.h5\n",
      "\u001b[1m2253/2253\u001b[0m \u001b[32m━━━━━━━━━━━━━━━━━━━━\u001b[0m\u001b[37m\u001b[0m \u001b[1m1264s\u001b[0m 561ms/step - loss: 0.0149 - mean_absolute_percentage_error: 14605.5039 - mean_squared_error: 5.6652e-04 - smape: 46.0568 - val_loss: 0.0141 - val_mean_absolute_percentage_error: 21035.6836 - val_mean_squared_error: 4.7838e-04 - val_smape: 46.2778\n",
      "Epoch 40/50\n",
      "\u001b[1m   1/2253\u001b[0m \u001b[37m━━━━━━━━━━━━━━━━━━━━\u001b[0m \u001b[1m1:50\u001b[0m 49ms/step - loss: 0.0090 - mean_absolute_percentage_error: 12.4267 - mean_squared_error: 1.1213e-04 - smape: 31.4206\n",
      "Epoch 40: saving model to training_1/ckpt.weights.h5\n",
      "\u001b[1m2253/2253\u001b[0m \u001b[32m━━━━━━━━━━━━━━━━━━━━\u001b[0m\u001b[37m\u001b[0m \u001b[1m0s\u001b[0m 80us/step - loss: 0.0090 - mean_absolute_percentage_error: 12.4267 - mean_squared_error: 1.1213e-04 - smape: 15.7173 - val_loss: 0.0133 - val_mean_absolute_percentage_error: 15.8130 - val_mean_squared_error: 3.2402e-04 - val_smape: 19.6994\n"
     ]
    }
   ],
   "source": [
    "history1=model1.fit(train_dataset, batch_size=32,epochs=50,steps_per_epoch=len(X_train)//32, validation_data=val_dataset,callbacks=[early_stopping,cp_callback],validation_steps=len(X_val)//32)\n"
   ]
  },
  {
   "cell_type": "code",
   "execution_count": 61,
   "metadata": {},
   "outputs": [],
   "source": [
    "df_Scaled=df['mp10'].copy()\n",
    "df_Scaled = df_Scaled  / df_Scaled.abs().max()"
   ]
  },
  {
   "cell_type": "code",
   "execution_count": 62,
   "metadata": {},
   "outputs": [
    {
     "data": {
      "image/png": "[encoded data removed]",
      "text/plain": [
       "<Figure size 640x480 with 1 Axes>"
      ]
     },
     "metadata": {},
     "output_type": "display_data"
    }
   ],
   "source": [
    "s=[df_Scaled.std()]*len(history1.history['loss'])\n",
    "colors = ['b', 'g', 'r', 'c', 'm', 'y','k','orange', 'purple', 'brown', 'pink', 'lime', 'teal', 'gray', 'olive', 'navy']\n",
    "\n",
    "    # Grafica los valores de loss\n",
    "plt.plot(history1.history['loss'],  color='purple',label='Loss')\n",
    "plt.plot(history1.history['val_loss'],color='olive',label='Val_Loss')\n",
    "plt.plot(s,label='Standard Deviation',color='pink')\n",
    "# Agrega etiquetas al gráfico\n",
    "plt.xlabel('Epoch')\n",
    "plt.ylabel('Value')\n",
    "plt.ylim(0,0.06)\n",
    "plt.title('Training & Validation Loss per Epoch')\n",
    "plt.xlim(0,len(history1.history['loss']))\n",
    "\n",
    "plt.legend()\n",
    "\n",
    "plt.grid(True)\n",
    "plt.savefig('val_loss_model1.png',format='png')\n",
    "# Muestra el gráfico\n",
    "plt.show()"
   ]
  },
  {
   "cell_type": "code",
   "execution_count": 63,
   "metadata": {},
   "outputs": [
    {
     "name": "stderr",
     "output_type": "stream",
     "text": [
      "C:\\Users\\benja\\AppData\\Local\\Temp\\ipykernel_11080\\2794921389.py:10: DeprecationWarning: Starting with ImageIO v3 the behavior of this function will switch to that of iio.v3.imread. To keep the current behavior (and make this warning disappear) use `import imageio.v2 as imageio` or call `imageio.v2.imread` directly.\n",
      "  image = (imageio.imread(path))\n"
     ]
    },
    {
     "name": "stdout",
     "output_type": "stream",
     "text": [
      "\u001b[1m20706/20706\u001b[0m \u001b[32m━━━━━━━━━━━━━━━━━━━━\u001b[0m\u001b[37m\u001b[0m \u001b[1m301s\u001b[0m 15ms/step\n"
     ]
    }
   ],
   "source": [
    "test_dataset = create_combined_dataset(images_test, X_test, y_test, 1)\n",
    "predict1 = model1.predict(test_dataset,steps=len(y_test))"
   ]
  },
  {
   "cell_type": "code",
   "execution_count": 64,
   "metadata": {},
   "outputs": [
    {
     "name": "stdout",
     "output_type": "stream",
     "text": [
      "MAE: 0.015039202210330043\n",
      "MSE: 0.0006509588000405462\n",
      "R-squared: 0.569824776705353\n",
      "SMAPE: 20.962979259932805%\n"
     ]
    }
   ],
   "source": [
    "# Calcular MAE\n",
    "mae1 = mean_absolute_error(y_test, predict1)\n",
    "mse1= mean_squared_error(y_test, predict1)\n",
    "# Calcular R-squared\n",
    "r21 = r2_score(y_test, predict1)\n",
    "smape1 = smape_2(y_test, predict1)\n",
    "\n",
    "# Imprimir las métricas\n",
    "print(f\"MAE: {mae1}\")\n",
    "print(f\"MSE: {mse1}\")\n",
    "print(f\"R-squared: {r21}\")\n",
    "print(f\"SMAPE: {smape1}%\")"
   ]
  },
  {
   "cell_type": "code",
   "execution_count": 65,
   "metadata": {},
   "outputs": [
    {
     "data": {
      "image/png": "[encoded data removed]",
      "text/plain": [
       "<Figure size 640x480 with 1 Axes>"
      ]
     },
     "metadata": {},
     "output_type": "display_data"
    }
   ],
   "source": [
    "plt.scatter(y_test, predict1, color='blue', alpha=0.5)\n",
    "\n",
    "plt.xlabel('Valores Reales')\n",
    "plt.ylabel('predicciones')\n",
    "plt.xlim(0,1)\n",
    "plt.ylim(0,1)\n",
    "\n",
    "plt.show()"
   ]
  },
  {
   "cell_type": "code",
   "execution_count": 66,
   "metadata": {},
   "outputs": [
    {
     "name": "stderr",
     "output_type": "stream",
     "text": [
      "C:\\Users\\benja\\AppData\\Local\\Temp\\ipykernel_11080\\101343474.py:3: DeprecationWarning: Conversion of an array with ndim > 0 to a scalar is deprecated, and will error in future. Ensure you extract a single element from your array before performing this operation. (Deprecated NumPy 1.25.)\n",
      "  residuos.append(float(y_test[a])-float(predict1[a]))\n"
     ]
    },
    {
     "data": {
      "image/png": "[encoded data removed]",
      "text/plain": [
       "<Figure size 640x480 with 1 Axes>"
      ]
     },
     "metadata": {},
     "output_type": "display_data"
    }
   ],
   "source": [
    "residuos = []\n",
    "for a in range(len(y_test)):\n",
    "    residuos.append(float(y_test[a])-float(predict1[a]))\n",
    "sns.histplot(residuos,kde=True,bins=600)\n",
    "plt.xlim(-0.1,0.1)\n",
    "plt.show()"
   ]
  },
  {
   "cell_type": "markdown",
   "metadata": {},
   "source": [
    "### Usando 10 días previos para predecir el día siguiente (Sin capping)"
   ]
  },
  {
   "cell_type": "code",
   "execution_count": 67,
   "metadata": {},
   "outputs": [
    {
     "name": "stdout",
     "output_type": "stream",
     "text": [
      "Forma de X: (123013, 10, 17), Forma de y: (123013, 1), Total de imágenes: (123013,)\n",
      "Train set: X=(86109, 10, 17), y=(86109, 1), images=(86109,)\n",
      "Test set: X=(24725, 10, 17), y=(24725, 1), images=(24725,)\n",
      "Validation set: X=(12179, 10, 17), y=(12179, 1), images=(12179,)\n"
     ]
    }
   ],
   "source": [
    "# Definir la longitud de la secuencia para la LSTM\n",
    "sequence_length = 10  # Supongamos que usas 7 días para la LSTM\n",
    "\n",
    "# Variables para almacenar las secuencias, el target y las imágenes\n",
    "X, y, images = [], [], []\n",
    "\n",
    "# Recorre los datos por locación\n",
    "for location, location_df in grouped_data.items():\n",
    "    features = location_df.drop(['Date', 'station', 'mp10', 'image'], axis=1).values\n",
    "    target = location_df['mp10'].values\n",
    "    image_series = location_df['image'].values\n",
    "\n",
    "    for i in range(sequence_length, len(features)):\n",
    "        # Crear secuencia de entrada de `sequence_length` días\n",
    "        sequence_features = features[i-sequence_length:i]\n",
    "        sequence_target = target[i]\n",
    "        \n",
    "        # Buscar una imagen en la secuencia (la más cercana al último día de la secuencia)\n",
    "        image_associated = image_series[i-sequence_length:i]\n",
    "        image_file = next((img for img in reversed(image_associated) if img != 0), None)\n",
    "        \n",
    "        # Añadir solo si hay una imagen válida asociada\n",
    "        if image_file:\n",
    "            X.append(sequence_features)\n",
    "            y.append(sequence_target)\n",
    "            images.append(image_file)\n",
    "\n",
    "# Convertir las listas a arrays de numpy\n",
    "X, y = np.array(X), np.array(y)\n",
    "images = np.array(images)\n",
    "\n",
    "# Normalizar características de entrada\n",
    "scaler_X = MinMaxScaler()\n",
    "X_reshaped = X.reshape(-1, X.shape[-1])\n",
    "X_normalized = scaler_X.fit_transform(X_reshaped)\n",
    "X = X_normalized.reshape(X.shape)\n",
    "\n",
    "scaler_y = MinMaxScaler()\n",
    "y = scaler_y.fit_transform(y.reshape(-1, 1))\n",
    "\n",
    "print(f\"Forma de X: {X.shape}, Forma de y: {y.shape}, Total de imágenes: {images.shape}\")\n",
    "\n",
    "# Dividir los datos en 70% entrenamiento, 20% test, 10% validación\n",
    "X_train, X_temp, y_train, y_temp, images_train, images_temp = train_test_split(X, y, images, test_size=0.30, random_state=42)\n",
    "\n",
    "# Dividir el 30% restante en 20% test y 10% validación\n",
    "X_test, X_val, y_test, y_val, images_test, images_val = train_test_split(X_temp, y_temp, images_temp, test_size=0.33, random_state=42)  # 0.33 * 0.30 = ~0.10\n",
    "\n",
    "# Imprimir las formas para verificar las divisiones\n",
    "print(f\"Train set: X={X_train.shape}, y={y_train.shape}, images={images_train.shape}\")\n",
    "print(f\"Test set: X={X_test.shape}, y={y_test.shape}, images={images_test.shape}\")\n",
    "print(f\"Validation set: X={X_val.shape}, y={y_val.shape}, images={images_val.shape}\")\n"
   ]
  },
  {
   "cell_type": "code",
   "execution_count": 68,
   "metadata": {},
   "outputs": [
    {
     "data": {
      "text/html": [
       "<pre style=\"white-space:pre;overflow-x:auto;line-height:normal;font-family:Menlo,'DejaVu Sans Mono',consolas,'Courier New',monospace\"><span style=\"font-weight: bold\">Model: \"functional_3\"</span>\n",
       "</pre>\n"
      ],
      "text/plain": [
       "\u001b[1mModel: \"functional_3\"\u001b[0m\n"
      ]
     },
     "metadata": {},
     "output_type": "display_data"
    },
    {
     "data": {
      "text/html": [
       "<pre style=\"white-space:pre;overflow-x:auto;line-height:normal;font-family:Menlo,'DejaVu Sans Mono',consolas,'Courier New',monospace\">┏━━━━━━━━━━━━━━━━━━━━━┳━━━━━━━━━━━━━━━━━━━┳━━━━━━━━━━━━┳━━━━━━━━━━━━━━━━━━━┓\n",
       "┃<span style=\"font-weight: bold\"> Layer (type)        </span>┃<span style=\"font-weight: bold\"> Output Shape      </span>┃<span style=\"font-weight: bold\">    Param # </span>┃<span style=\"font-weight: bold\"> Connected to      </span>┃\n",
       "┡━━━━━━━━━━━━━━━━━━━━━╇━━━━━━━━━━━━━━━━━━━╇━━━━━━━━━━━━╇━━━━━━━━━━━━━━━━━━━┩\n",
       "│ input_layer_6       │ (<span style=\"color: #00d7ff; text-decoration-color: #00d7ff\">None</span>, <span style=\"color: #00af00; text-decoration-color: #00af00\">224</span>, <span style=\"color: #00af00; text-decoration-color: #00af00\">224</span>,  │          <span style=\"color: #00af00; text-decoration-color: #00af00\">0</span> │ -                 │\n",
       "│ (<span style=\"color: #0087ff; text-decoration-color: #0087ff\">InputLayer</span>)        │ <span style=\"color: #00af00; text-decoration-color: #00af00\">6</span>)                │            │                   │\n",
       "├─────────────────────┼───────────────────┼────────────┼───────────────────┤\n",
       "│ conv2d_12 (<span style=\"color: #0087ff; text-decoration-color: #0087ff\">Conv2D</span>)  │ (<span style=\"color: #00d7ff; text-decoration-color: #00d7ff\">None</span>, <span style=\"color: #00af00; text-decoration-color: #00af00\">222</span>, <span style=\"color: #00af00; text-decoration-color: #00af00\">222</span>,  │        <span style=\"color: #00af00; text-decoration-color: #00af00\">880</span> │ input_layer_6[<span style=\"color: #00af00; text-decoration-color: #00af00\">0</span>]… │\n",
       "│                     │ <span style=\"color: #00af00; text-decoration-color: #00af00\">16</span>)               │            │                   │\n",
       "├─────────────────────┼───────────────────┼────────────┼───────────────────┤\n",
       "│ average_pooling2d_… │ (<span style=\"color: #00d7ff; text-decoration-color: #00d7ff\">None</span>, <span style=\"color: #00af00; text-decoration-color: #00af00\">111</span>, <span style=\"color: #00af00; text-decoration-color: #00af00\">111</span>,  │          <span style=\"color: #00af00; text-decoration-color: #00af00\">0</span> │ conv2d_12[<span style=\"color: #00af00; text-decoration-color: #00af00\">0</span>][<span style=\"color: #00af00; text-decoration-color: #00af00\">0</span>]   │\n",
       "│ (<span style=\"color: #0087ff; text-decoration-color: #0087ff\">AveragePooling2D</span>)  │ <span style=\"color: #00af00; text-decoration-color: #00af00\">16</span>)               │            │                   │\n",
       "├─────────────────────┼───────────────────┼────────────┼───────────────────┤\n",
       "│ conv2d_13 (<span style=\"color: #0087ff; text-decoration-color: #0087ff\">Conv2D</span>)  │ (<span style=\"color: #00d7ff; text-decoration-color: #00d7ff\">None</span>, <span style=\"color: #00af00; text-decoration-color: #00af00\">109</span>, <span style=\"color: #00af00; text-decoration-color: #00af00\">109</span>,  │      <span style=\"color: #00af00; text-decoration-color: #00af00\">4,640</span> │ average_pooling2… │\n",
       "│                     │ <span style=\"color: #00af00; text-decoration-color: #00af00\">32</span>)               │            │                   │\n",
       "├─────────────────────┼───────────────────┼────────────┼───────────────────┤\n",
       "│ average_pooling2d_… │ (<span style=\"color: #00d7ff; text-decoration-color: #00d7ff\">None</span>, <span style=\"color: #00af00; text-decoration-color: #00af00\">54</span>, <span style=\"color: #00af00; text-decoration-color: #00af00\">54</span>,    │          <span style=\"color: #00af00; text-decoration-color: #00af00\">0</span> │ conv2d_13[<span style=\"color: #00af00; text-decoration-color: #00af00\">0</span>][<span style=\"color: #00af00; text-decoration-color: #00af00\">0</span>]   │\n",
       "│ (<span style=\"color: #0087ff; text-decoration-color: #0087ff\">AveragePooling2D</span>)  │ <span style=\"color: #00af00; text-decoration-color: #00af00\">32</span>)               │            │                   │\n",
       "├─────────────────────┼───────────────────┼────────────┼───────────────────┤\n",
       "│ conv2d_14 (<span style=\"color: #0087ff; text-decoration-color: #0087ff\">Conv2D</span>)  │ (<span style=\"color: #00d7ff; text-decoration-color: #00d7ff\">None</span>, <span style=\"color: #00af00; text-decoration-color: #00af00\">52</span>, <span style=\"color: #00af00; text-decoration-color: #00af00\">52</span>,    │      <span style=\"color: #00af00; text-decoration-color: #00af00\">9,248</span> │ average_pooling2… │\n",
       "│                     │ <span style=\"color: #00af00; text-decoration-color: #00af00\">32</span>)               │            │                   │\n",
       "├─────────────────────┼───────────────────┼────────────┼───────────────────┤\n",
       "│ average_pooling2d_… │ (<span style=\"color: #00d7ff; text-decoration-color: #00d7ff\">None</span>, <span style=\"color: #00af00; text-decoration-color: #00af00\">26</span>, <span style=\"color: #00af00; text-decoration-color: #00af00\">26</span>,    │          <span style=\"color: #00af00; text-decoration-color: #00af00\">0</span> │ conv2d_14[<span style=\"color: #00af00; text-decoration-color: #00af00\">0</span>][<span style=\"color: #00af00; text-decoration-color: #00af00\">0</span>]   │\n",
       "│ (<span style=\"color: #0087ff; text-decoration-color: #0087ff\">AveragePooling2D</span>)  │ <span style=\"color: #00af00; text-decoration-color: #00af00\">32</span>)               │            │                   │\n",
       "├─────────────────────┼───────────────────┼────────────┼───────────────────┤\n",
       "│ conv2d_15 (<span style=\"color: #0087ff; text-decoration-color: #0087ff\">Conv2D</span>)  │ (<span style=\"color: #00d7ff; text-decoration-color: #00d7ff\">None</span>, <span style=\"color: #00af00; text-decoration-color: #00af00\">24</span>, <span style=\"color: #00af00; text-decoration-color: #00af00\">24</span>,    │      <span style=\"color: #00af00; text-decoration-color: #00af00\">9,248</span> │ average_pooling2… │\n",
       "│                     │ <span style=\"color: #00af00; text-decoration-color: #00af00\">32</span>)               │            │                   │\n",
       "├─────────────────────┼───────────────────┼────────────┼───────────────────┤\n",
       "│ average_pooling2d_… │ (<span style=\"color: #00d7ff; text-decoration-color: #00d7ff\">None</span>, <span style=\"color: #00af00; text-decoration-color: #00af00\">12</span>, <span style=\"color: #00af00; text-decoration-color: #00af00\">12</span>,    │          <span style=\"color: #00af00; text-decoration-color: #00af00\">0</span> │ conv2d_15[<span style=\"color: #00af00; text-decoration-color: #00af00\">0</span>][<span style=\"color: #00af00; text-decoration-color: #00af00\">0</span>]   │\n",
       "│ (<span style=\"color: #0087ff; text-decoration-color: #0087ff\">AveragePooling2D</span>)  │ <span style=\"color: #00af00; text-decoration-color: #00af00\">32</span>)               │            │                   │\n",
       "├─────────────────────┼───────────────────┼────────────┼───────────────────┤\n",
       "│ flatten_3 (<span style=\"color: #0087ff; text-decoration-color: #0087ff\">Flatten</span>) │ (<span style=\"color: #00d7ff; text-decoration-color: #00d7ff\">None</span>, <span style=\"color: #00af00; text-decoration-color: #00af00\">4608</span>)      │          <span style=\"color: #00af00; text-decoration-color: #00af00\">0</span> │ average_pooling2… │\n",
       "├─────────────────────┼───────────────────┼────────────┼───────────────────┤\n",
       "│ input_layer_7       │ (<span style=\"color: #00d7ff; text-decoration-color: #00d7ff\">None</span>, <span style=\"color: #00af00; text-decoration-color: #00af00\">10</span>, <span style=\"color: #00af00; text-decoration-color: #00af00\">17</span>)    │          <span style=\"color: #00af00; text-decoration-color: #00af00\">0</span> │ -                 │\n",
       "│ (<span style=\"color: #0087ff; text-decoration-color: #0087ff\">InputLayer</span>)        │                   │            │                   │\n",
       "├─────────────────────┼───────────────────┼────────────┼───────────────────┤\n",
       "│ dense_9 (<span style=\"color: #0087ff; text-decoration-color: #0087ff\">Dense</span>)     │ (<span style=\"color: #00d7ff; text-decoration-color: #00d7ff\">None</span>, <span style=\"color: #00af00; text-decoration-color: #00af00\">128</span>)       │    <span style=\"color: #00af00; text-decoration-color: #00af00\">589,952</span> │ flatten_3[<span style=\"color: #00af00; text-decoration-color: #00af00\">0</span>][<span style=\"color: #00af00; text-decoration-color: #00af00\">0</span>]   │\n",
       "├─────────────────────┼───────────────────┼────────────┼───────────────────┤\n",
       "│ lstm_6 (<span style=\"color: #0087ff; text-decoration-color: #0087ff\">LSTM</span>)       │ (<span style=\"color: #00d7ff; text-decoration-color: #00d7ff\">None</span>, <span style=\"color: #00af00; text-decoration-color: #00af00\">10</span>, <span style=\"color: #00af00; text-decoration-color: #00af00\">50</span>)    │     <span style=\"color: #00af00; text-decoration-color: #00af00\">13,600</span> │ input_layer_7[<span style=\"color: #00af00; text-decoration-color: #00af00\">0</span>]… │\n",
       "├─────────────────────┼───────────────────┼────────────┼───────────────────┤\n",
       "│ dropout_6 (<span style=\"color: #0087ff; text-decoration-color: #0087ff\">Dropout</span>) │ (<span style=\"color: #00d7ff; text-decoration-color: #00d7ff\">None</span>, <span style=\"color: #00af00; text-decoration-color: #00af00\">128</span>)       │          <span style=\"color: #00af00; text-decoration-color: #00af00\">0</span> │ dense_9[<span style=\"color: #00af00; text-decoration-color: #00af00\">0</span>][<span style=\"color: #00af00; text-decoration-color: #00af00\">0</span>]     │\n",
       "├─────────────────────┼───────────────────┼────────────┼───────────────────┤\n",
       "│ lstm_7 (<span style=\"color: #0087ff; text-decoration-color: #0087ff\">LSTM</span>)       │ (<span style=\"color: #00d7ff; text-decoration-color: #00d7ff\">None</span>, <span style=\"color: #00af00; text-decoration-color: #00af00\">50</span>)        │     <span style=\"color: #00af00; text-decoration-color: #00af00\">20,200</span> │ lstm_6[<span style=\"color: #00af00; text-decoration-color: #00af00\">0</span>][<span style=\"color: #00af00; text-decoration-color: #00af00\">0</span>]      │\n",
       "├─────────────────────┼───────────────────┼────────────┼───────────────────┤\n",
       "│ concatenate_3       │ (<span style=\"color: #00d7ff; text-decoration-color: #00d7ff\">None</span>, <span style=\"color: #00af00; text-decoration-color: #00af00\">178</span>)       │          <span style=\"color: #00af00; text-decoration-color: #00af00\">0</span> │ dropout_6[<span style=\"color: #00af00; text-decoration-color: #00af00\">0</span>][<span style=\"color: #00af00; text-decoration-color: #00af00\">0</span>],  │\n",
       "│ (<span style=\"color: #0087ff; text-decoration-color: #0087ff\">Concatenate</span>)       │                   │            │ lstm_7[<span style=\"color: #00af00; text-decoration-color: #00af00\">0</span>][<span style=\"color: #00af00; text-decoration-color: #00af00\">0</span>]      │\n",
       "├─────────────────────┼───────────────────┼────────────┼───────────────────┤\n",
       "│ dense_10 (<span style=\"color: #0087ff; text-decoration-color: #0087ff\">Dense</span>)    │ (<span style=\"color: #00d7ff; text-decoration-color: #00d7ff\">None</span>, <span style=\"color: #00af00; text-decoration-color: #00af00\">128</span>)       │     <span style=\"color: #00af00; text-decoration-color: #00af00\">22,912</span> │ concatenate_3[<span style=\"color: #00af00; text-decoration-color: #00af00\">0</span>]… │\n",
       "├─────────────────────┼───────────────────┼────────────┼───────────────────┤\n",
       "│ dropout_7 (<span style=\"color: #0087ff; text-decoration-color: #0087ff\">Dropout</span>) │ (<span style=\"color: #00d7ff; text-decoration-color: #00d7ff\">None</span>, <span style=\"color: #00af00; text-decoration-color: #00af00\">128</span>)       │          <span style=\"color: #00af00; text-decoration-color: #00af00\">0</span> │ dense_10[<span style=\"color: #00af00; text-decoration-color: #00af00\">0</span>][<span style=\"color: #00af00; text-decoration-color: #00af00\">0</span>]    │\n",
       "├─────────────────────┼───────────────────┼────────────┼───────────────────┤\n",
       "│ dense_11 (<span style=\"color: #0087ff; text-decoration-color: #0087ff\">Dense</span>)    │ (<span style=\"color: #00d7ff; text-decoration-color: #00d7ff\">None</span>, <span style=\"color: #00af00; text-decoration-color: #00af00\">1</span>)         │        <span style=\"color: #00af00; text-decoration-color: #00af00\">129</span> │ dropout_7[<span style=\"color: #00af00; text-decoration-color: #00af00\">0</span>][<span style=\"color: #00af00; text-decoration-color: #00af00\">0</span>]   │\n",
       "└─────────────────────┴───────────────────┴────────────┴───────────────────┘\n",
       "</pre>\n"
      ],
      "text/plain": [
       "┏━━━━━━━━━━━━━━━━━━━━━┳━━━━━━━━━━━━━━━━━━━┳━━━━━━━━━━━━┳━━━━━━━━━━━━━━━━━━━┓\n",
       "┃\u001b[1m \u001b[0m\u001b[1mLayer (type)       \u001b[0m\u001b[1m \u001b[0m┃\u001b[1m \u001b[0m\u001b[1mOutput Shape     \u001b[0m\u001b[1m \u001b[0m┃\u001b[1m \u001b[0m\u001b[1m   Param #\u001b[0m\u001b[1m \u001b[0m┃\u001b[1m \u001b[0m\u001b[1mConnected to     \u001b[0m\u001b[1m \u001b[0m┃\n",
       "┡━━━━━━━━━━━━━━━━━━━━━╇━━━━━━━━━━━━━━━━━━━╇━━━━━━━━━━━━╇━━━━━━━━━━━━━━━━━━━┩\n",
       "│ input_layer_6       │ (\u001b[38;5;45mNone\u001b[0m, \u001b[38;5;34m224\u001b[0m, \u001b[38;5;34m224\u001b[0m,  │          \u001b[38;5;34m0\u001b[0m │ -                 │\n",
       "│ (\u001b[38;5;33mInputLayer\u001b[0m)        │ \u001b[38;5;34m6\u001b[0m)                │            │                   │\n",
       "├─────────────────────┼───────────────────┼────────────┼───────────────────┤\n",
       "│ conv2d_12 (\u001b[38;5;33mConv2D\u001b[0m)  │ (\u001b[38;5;45mNone\u001b[0m, \u001b[38;5;34m222\u001b[0m, \u001b[38;5;34m222\u001b[0m,  │        \u001b[38;5;34m880\u001b[0m │ input_layer_6[\u001b[38;5;34m0\u001b[0m]… │\n",
       "│                     │ \u001b[38;5;34m16\u001b[0m)               │            │                   │\n",
       "├─────────────────────┼───────────────────┼────────────┼───────────────────┤\n",
       "│ average_pooling2d_… │ (\u001b[38;5;45mNone\u001b[0m, \u001b[38;5;34m111\u001b[0m, \u001b[38;5;34m111\u001b[0m,  │          \u001b[38;5;34m0\u001b[0m │ conv2d_12[\u001b[38;5;34m0\u001b[0m][\u001b[38;5;34m0\u001b[0m]   │\n",
       "│ (\u001b[38;5;33mAveragePooling2D\u001b[0m)  │ \u001b[38;5;34m16\u001b[0m)               │            │                   │\n",
       "├─────────────────────┼───────────────────┼────────────┼───────────────────┤\n",
       "│ conv2d_13 (\u001b[38;5;33mConv2D\u001b[0m)  │ (\u001b[38;5;45mNone\u001b[0m, \u001b[38;5;34m109\u001b[0m, \u001b[38;5;34m109\u001b[0m,  │      \u001b[38;5;34m4,640\u001b[0m │ average_pooling2… │\n",
       "│                     │ \u001b[38;5;34m32\u001b[0m)               │            │                   │\n",
       "├─────────────────────┼───────────────────┼────────────┼───────────────────┤\n",
       "│ average_pooling2d_… │ (\u001b[38;5;45mNone\u001b[0m, \u001b[38;5;34m54\u001b[0m, \u001b[38;5;34m54\u001b[0m,    │          \u001b[38;5;34m0\u001b[0m │ conv2d_13[\u001b[38;5;34m0\u001b[0m][\u001b[38;5;34m0\u001b[0m]   │\n",
       "│ (\u001b[38;5;33mAveragePooling2D\u001b[0m)  │ \u001b[38;5;34m32\u001b[0m)               │            │                   │\n",
       "├─────────────────────┼───────────────────┼────────────┼───────────────────┤\n",
       "│ conv2d_14 (\u001b[38;5;33mConv2D\u001b[0m)  │ (\u001b[38;5;45mNone\u001b[0m, \u001b[38;5;34m52\u001b[0m, \u001b[38;5;34m52\u001b[0m,    │      \u001b[38;5;34m9,248\u001b[0m │ average_pooling2… │\n",
       "│                     │ \u001b[38;5;34m32\u001b[0m)               │            │                   │\n",
       "├─────────────────────┼───────────────────┼────────────┼───────────────────┤\n",
       "│ average_pooling2d_… │ (\u001b[38;5;45mNone\u001b[0m, \u001b[38;5;34m26\u001b[0m, \u001b[38;5;34m26\u001b[0m,    │          \u001b[38;5;34m0\u001b[0m │ conv2d_14[\u001b[38;5;34m0\u001b[0m][\u001b[38;5;34m0\u001b[0m]   │\n",
       "│ (\u001b[38;5;33mAveragePooling2D\u001b[0m)  │ \u001b[38;5;34m32\u001b[0m)               │            │                   │\n",
       "├─────────────────────┼───────────────────┼────────────┼───────────────────┤\n",
       "│ conv2d_15 (\u001b[38;5;33mConv2D\u001b[0m)  │ (\u001b[38;5;45mNone\u001b[0m, \u001b[38;5;34m24\u001b[0m, \u001b[38;5;34m24\u001b[0m,    │      \u001b[38;5;34m9,248\u001b[0m │ average_pooling2… │\n",
       "│                     │ \u001b[38;5;34m32\u001b[0m)               │            │                   │\n",
       "├─────────────────────┼───────────────────┼────────────┼───────────────────┤\n",
       "│ average_pooling2d_… │ (\u001b[38;5;45mNone\u001b[0m, \u001b[38;5;34m12\u001b[0m, \u001b[38;5;34m12\u001b[0m,    │          \u001b[38;5;34m0\u001b[0m │ conv2d_15[\u001b[38;5;34m0\u001b[0m][\u001b[38;5;34m0\u001b[0m]   │\n",
       "│ (\u001b[38;5;33mAveragePooling2D\u001b[0m)  │ \u001b[38;5;34m32\u001b[0m)               │            │                   │\n",
       "├─────────────────────┼───────────────────┼────────────┼───────────────────┤\n",
       "│ flatten_3 (\u001b[38;5;33mFlatten\u001b[0m) │ (\u001b[38;5;45mNone\u001b[0m, \u001b[38;5;34m4608\u001b[0m)      │          \u001b[38;5;34m0\u001b[0m │ average_pooling2… │\n",
       "├─────────────────────┼───────────────────┼────────────┼───────────────────┤\n",
       "│ input_layer_7       │ (\u001b[38;5;45mNone\u001b[0m, \u001b[38;5;34m10\u001b[0m, \u001b[38;5;34m17\u001b[0m)    │          \u001b[38;5;34m0\u001b[0m │ -                 │\n",
       "│ (\u001b[38;5;33mInputLayer\u001b[0m)        │                   │            │                   │\n",
       "├─────────────────────┼───────────────────┼────────────┼───────────────────┤\n",
       "│ dense_9 (\u001b[38;5;33mDense\u001b[0m)     │ (\u001b[38;5;45mNone\u001b[0m, \u001b[38;5;34m128\u001b[0m)       │    \u001b[38;5;34m589,952\u001b[0m │ flatten_3[\u001b[38;5;34m0\u001b[0m][\u001b[38;5;34m0\u001b[0m]   │\n",
       "├─────────────────────┼───────────────────┼────────────┼───────────────────┤\n",
       "│ lstm_6 (\u001b[38;5;33mLSTM\u001b[0m)       │ (\u001b[38;5;45mNone\u001b[0m, \u001b[38;5;34m10\u001b[0m, \u001b[38;5;34m50\u001b[0m)    │     \u001b[38;5;34m13,600\u001b[0m │ input_layer_7[\u001b[38;5;34m0\u001b[0m]… │\n",
       "├─────────────────────┼───────────────────┼────────────┼───────────────────┤\n",
       "│ dropout_6 (\u001b[38;5;33mDropout\u001b[0m) │ (\u001b[38;5;45mNone\u001b[0m, \u001b[38;5;34m128\u001b[0m)       │          \u001b[38;5;34m0\u001b[0m │ dense_9[\u001b[38;5;34m0\u001b[0m][\u001b[38;5;34m0\u001b[0m]     │\n",
       "├─────────────────────┼───────────────────┼────────────┼───────────────────┤\n",
       "│ lstm_7 (\u001b[38;5;33mLSTM\u001b[0m)       │ (\u001b[38;5;45mNone\u001b[0m, \u001b[38;5;34m50\u001b[0m)        │     \u001b[38;5;34m20,200\u001b[0m │ lstm_6[\u001b[38;5;34m0\u001b[0m][\u001b[38;5;34m0\u001b[0m]      │\n",
       "├─────────────────────┼───────────────────┼────────────┼───────────────────┤\n",
       "│ concatenate_3       │ (\u001b[38;5;45mNone\u001b[0m, \u001b[38;5;34m178\u001b[0m)       │          \u001b[38;5;34m0\u001b[0m │ dropout_6[\u001b[38;5;34m0\u001b[0m][\u001b[38;5;34m0\u001b[0m],  │\n",
       "│ (\u001b[38;5;33mConcatenate\u001b[0m)       │                   │            │ lstm_7[\u001b[38;5;34m0\u001b[0m][\u001b[38;5;34m0\u001b[0m]      │\n",
       "├─────────────────────┼───────────────────┼────────────┼───────────────────┤\n",
       "│ dense_10 (\u001b[38;5;33mDense\u001b[0m)    │ (\u001b[38;5;45mNone\u001b[0m, \u001b[38;5;34m128\u001b[0m)       │     \u001b[38;5;34m22,912\u001b[0m │ concatenate_3[\u001b[38;5;34m0\u001b[0m]… │\n",
       "├─────────────────────┼───────────────────┼────────────┼───────────────────┤\n",
       "│ dropout_7 (\u001b[38;5;33mDropout\u001b[0m) │ (\u001b[38;5;45mNone\u001b[0m, \u001b[38;5;34m128\u001b[0m)       │          \u001b[38;5;34m0\u001b[0m │ dense_10[\u001b[38;5;34m0\u001b[0m][\u001b[38;5;34m0\u001b[0m]    │\n",
       "├─────────────────────┼───────────────────┼────────────┼───────────────────┤\n",
       "│ dense_11 (\u001b[38;5;33mDense\u001b[0m)    │ (\u001b[38;5;45mNone\u001b[0m, \u001b[38;5;34m1\u001b[0m)         │        \u001b[38;5;34m129\u001b[0m │ dropout_7[\u001b[38;5;34m0\u001b[0m][\u001b[38;5;34m0\u001b[0m]   │\n",
       "└─────────────────────┴───────────────────┴────────────┴───────────────────┘\n"
      ]
     },
     "metadata": {},
     "output_type": "display_data"
    },
    {
     "data": {
      "text/html": [
       "<pre style=\"white-space:pre;overflow-x:auto;line-height:normal;font-family:Menlo,'DejaVu Sans Mono',consolas,'Courier New',monospace\"><span style=\"font-weight: bold\"> Total params: </span><span style=\"color: #00af00; text-decoration-color: #00af00\">670,809</span> (2.56 MB)\n",
       "</pre>\n"
      ],
      "text/plain": [
       "\u001b[1m Total params: \u001b[0m\u001b[38;5;34m670,809\u001b[0m (2.56 MB)\n"
      ]
     },
     "metadata": {},
     "output_type": "display_data"
    },
    {
     "data": {
      "text/html": [
       "<pre style=\"white-space:pre;overflow-x:auto;line-height:normal;font-family:Menlo,'DejaVu Sans Mono',consolas,'Courier New',monospace\"><span style=\"font-weight: bold\"> Trainable params: </span><span style=\"color: #00af00; text-decoration-color: #00af00\">670,809</span> (2.56 MB)\n",
       "</pre>\n"
      ],
      "text/plain": [
       "\u001b[1m Trainable params: \u001b[0m\u001b[38;5;34m670,809\u001b[0m (2.56 MB)\n"
      ]
     },
     "metadata": {},
     "output_type": "display_data"
    },
    {
     "data": {
      "text/html": [
       "<pre style=\"white-space:pre;overflow-x:auto;line-height:normal;font-family:Menlo,'DejaVu Sans Mono',consolas,'Courier New',monospace\"><span style=\"font-weight: bold\"> Non-trainable params: </span><span style=\"color: #00af00; text-decoration-color: #00af00\">0</span> (0.00 B)\n",
       "</pre>\n"
      ],
      "text/plain": [
       "\u001b[1m Non-trainable params: \u001b[0m\u001b[38;5;34m0\u001b[0m (0.00 B)\n"
      ]
     },
     "metadata": {},
     "output_type": "display_data"
    }
   ],
   "source": [
    "# Definir la entrada para las imágenes (224x224x6)\n",
    "image_input = Input(shape=(224, 224, 6))\n",
    "\n",
    "# Red convolucional para procesar la entrada de imágenes\n",
    "x = Conv2D(filters=16, kernel_size=(3, 3), activation='relu')(image_input)\n",
    "x = AveragePooling2D(pool_size=(2, 2))(x)\n",
    "x = Conv2D(filters=32, kernel_size=(3, 3), activation='relu')(x)\n",
    "x = AveragePooling2D(pool_size=(2, 2))(x)\n",
    "x = Conv2D(filters=32, kernel_size=(3, 3), activation='relu')(x)\n",
    "x = AveragePooling2D(pool_size=(2, 2))(x)\n",
    "x = Conv2D(filters=32, kernel_size=(3, 3), activation='relu')(x)\n",
    "x = AveragePooling2D(pool_size=(2, 2))(x)\n",
    "\n",
    "# Aplanar la salida de la capa convolucional\n",
    "x = Flatten()(x)\n",
    "x = Dense(units=128, activation='relu')(x)\n",
    "x = Dropout(rate=0.5)(x)\n",
    "\n",
    "# Definir la entrada para la LSTM (datos secuenciales)\n",
    "sequence_input = Input(shape=(10, 17))  \n",
    "\n",
    "# Red LSTM para procesar la entrada secuencial\n",
    "y = LSTM(units=50, return_sequences=True)(sequence_input)\n",
    "y = LSTM(units=50)(y)\n",
    "\n",
    "# Combinar las salidas de la CNN y la LSTM\n",
    "combined = Concatenate()([x, y])\n",
    "\n",
    "# Añadir capas densas finales para predecir el valor final\n",
    "z = Dense(units=128, activation='relu')(combined)\n",
    "z = Dropout(rate=0.5)(z)\n",
    "z = Dense(units=1, activation='linear')(z)\n",
    "\n",
    "# Crear el modelo con dos entradas\n",
    "model2 = Model(inputs=[image_input, sequence_input], outputs=z)\n",
    "\n",
    "# Compilar el modelo\n",
    "model2.compile(optimizer='adam', loss='mean_absolute_error',metrics=['mean_squared_error','mean_absolute_percentage_error',smape])\n",
    "\n",
    "# Mostrar la arquitectura del modelo\n",
    "model2.summary()\n"
   ]
  },
  {
   "cell_type": "code",
   "execution_count": 69,
   "metadata": {},
   "outputs": [],
   "source": [
    "# Generador para combinar imágenes y secuencias\n",
    "def data_generator(image_files, sequences, labels): \n",
    "    for i in range(len(image_files)):\n",
    "        if image_files[i] != '':  # Si la imagen existe\n",
    "            image = preprocess_imagery(image_files[i])  # Cargar y preprocesar la imagen\n",
    "            image = tf.convert_to_tensor(image, dtype=tf.float32)\n",
    "        else:\n",
    "            image = tf.zeros((224, 224, 6), dtype=tf.float32)  # Si no hay imagen, usar un tensor de ceros\n",
    "            \n",
    "        sequence = tf.convert_to_tensor(sequences[i], dtype=tf.float32)  # Secuencia de datos tabulares\n",
    "        label = tf.convert_to_tensor(labels[i], dtype=tf.float32)  # Etiqueta (mp10)+\n",
    "        label=tf.squeeze(label)\n",
    "        \n",
    "        yield (image, sequence), label  # Dos entradas: imagen y secuencia\n",
    "\n",
    "# Crear el dataset\n",
    "def create_combined_dataset(image_files, sequences, labels, batch_size):\n",
    "    dataset = tf.data.Dataset.from_generator(\n",
    "        data_generator,\n",
    "        args=[image_files, sequences, labels],\n",
    "        output_signature=(\n",
    "            (tf.TensorSpec(shape=(224, 224, 6), dtype=tf.float32),  # Especificar el tamaño de las imágenes\n",
    "             tf.TensorSpec(shape=(10, sequences.shape[2]), dtype=tf.float32)),  # Secuencias de 7 días\n",
    "            tf.TensorSpec(shape=(), dtype=tf.float32)  # La etiqueta (mp10)\n",
    "        )\n",
    "    )\n",
    "    dataset = dataset.batch(batch_size)\n",
    "    dataset = dataset.prefetch(buffer_size=tf.data.AUTOTUNE)\n",
    "    return dataset\n",
    "\n",
    "# Ejemplo de uso para crear datasets de entrenamiento, validación y prueba\n",
    "batch_size = 32\n",
    "\n",
    "# Crear datasets\n",
    "train_dataset = create_combined_dataset(images_train, X_train, y_train, batch_size)\n",
    "val_dataset = create_combined_dataset(images_val, X_val, y_val, batch_size)\n",
    "test_dataset = create_combined_dataset(images_test, X_test, y_test, batch_size)\n"
   ]
  },
  {
   "cell_type": "code",
   "execution_count": 70,
   "metadata": {},
   "outputs": [],
   "source": [
    "checkpoint_path = \"training_2/ckpt.weights.h5\"\n",
    "checkpoint_dir = os.path.dirname(checkpoint_path)\n",
    "\n",
    "# Create a callback that saves the model's weights\n",
    "cp_callback = tf.keras.callbacks.ModelCheckpoint(filepath=checkpoint_path,\n",
    "                                                 save_weights_only=True,\n",
    "                                                 verbose=1)"
   ]
  },
  {
   "cell_type": "code",
   "execution_count": 71,
   "metadata": {},
   "outputs": [
    {
     "name": "stdout",
     "output_type": "stream",
     "text": [
      "Epoch 1/50\n"
     ]
    },
    {
     "name": "stderr",
     "output_type": "stream",
     "text": [
      "C:\\Users\\benja\\AppData\\Local\\Packages\\PythonSoftwareFoundation.Python.3.12_qbz5n2kfra8p0\\LocalCache\\local-packages\\Python312\\site-packages\\keras\\src\\models\\functional.py:225: UserWarning: The structure of `inputs` doesn't match the expected structure: ['keras_tensor_57', 'keras_tensor_69']. Received: the structure of inputs=('*', '*')\n",
      "  warnings.warn(\n",
      "C:\\Users\\benja\\AppData\\Local\\Temp\\ipykernel_11080\\2794921389.py:10: DeprecationWarning: Starting with ImageIO v3 the behavior of this function will switch to that of iio.v3.imread. To keep the current behavior (and make this warning disappear) use `import imageio.v2 as imageio` or call `imageio.v2.imread` directly.\n",
      "  image = (imageio.imread(path))\n"
     ]
    },
    {
     "name": "stdout",
     "output_type": "stream",
     "text": [
      "\u001b[1m 462/2690\u001b[0m \u001b[32m━━━\u001b[0m\u001b[37m━━━━━━━━━━━━━━━━━\u001b[0m \u001b[1m19:59\u001b[0m 538ms/step - loss: 0.3334 - mean_absolute_percentage_error: 3674381.0000 - mean_squared_error: 3.2806 - smape: 65.1855"
     ]
    },
    {
     "ename": "KeyboardInterrupt",
     "evalue": "",
     "output_type": "error",
     "traceback": [
      "\u001b[1;31m---------------------------------------------------------------------------\u001b[0m",
      "\u001b[1;31mKeyboardInterrupt\u001b[0m                         Traceback (most recent call last)",
      "Cell \u001b[1;32mIn[71], line 1\u001b[0m\n\u001b[1;32m----> 1\u001b[0m history2\u001b[38;5;241m=\u001b[39m\u001b[43mmodel2\u001b[49m\u001b[38;5;241;43m.\u001b[39;49m\u001b[43mfit\u001b[49m\u001b[43m(\u001b[49m\u001b[43mtrain_dataset\u001b[49m\u001b[43m,\u001b[49m\u001b[43m \u001b[49m\u001b[43mbatch_size\u001b[49m\u001b[38;5;241;43m=\u001b[39;49m\u001b[38;5;241;43m32\u001b[39;49m\u001b[43m,\u001b[49m\u001b[43mepochs\u001b[49m\u001b[38;5;241;43m=\u001b[39;49m\u001b[38;5;241;43m50\u001b[39;49m\u001b[43m,\u001b[49m\u001b[43msteps_per_epoch\u001b[49m\u001b[38;5;241;43m=\u001b[39;49m\u001b[38;5;28;43mlen\u001b[39;49m\u001b[43m(\u001b[49m\u001b[43mX_train\u001b[49m\u001b[43m)\u001b[49m\u001b[38;5;241;43m/\u001b[39;49m\u001b[38;5;241;43m/\u001b[39;49m\u001b[38;5;241;43m32\u001b[39;49m\u001b[43m,\u001b[49m\u001b[43m \u001b[49m\u001b[43mvalidation_data\u001b[49m\u001b[38;5;241;43m=\u001b[39;49m\u001b[43mval_dataset\u001b[49m\u001b[43m,\u001b[49m\u001b[43mcallbacks\u001b[49m\u001b[38;5;241;43m=\u001b[39;49m\u001b[43m[\u001b[49m\u001b[43mearly_stopping\u001b[49m\u001b[43m,\u001b[49m\u001b[43mcp_callback\u001b[49m\u001b[43m]\u001b[49m\u001b[43m,\u001b[49m\u001b[43mvalidation_steps\u001b[49m\u001b[38;5;241;43m=\u001b[39;49m\u001b[38;5;28;43mlen\u001b[39;49m\u001b[43m(\u001b[49m\u001b[43mX_val\u001b[49m\u001b[43m)\u001b[49m\u001b[38;5;241;43m/\u001b[39;49m\u001b[38;5;241;43m/\u001b[39;49m\u001b[38;5;241;43m32\u001b[39;49m\u001b[43m)\u001b[49m\n",
      "File \u001b[1;32m~\\AppData\\Local\\Packages\\PythonSoftwareFoundation.Python.3.12_qbz5n2kfra8p0\\LocalCache\\local-packages\\Python312\\site-packages\\keras\\src\\utils\\traceback_utils.py:117\u001b[0m, in \u001b[0;36mfilter_traceback.<locals>.error_handler\u001b[1;34m(*args, **kwargs)\u001b[0m\n\u001b[0;32m    115\u001b[0m filtered_tb \u001b[38;5;241m=\u001b[39m \u001b[38;5;28;01mNone\u001b[39;00m\n\u001b[0;32m    116\u001b[0m \u001b[38;5;28;01mtry\u001b[39;00m:\n\u001b[1;32m--> 117\u001b[0m     \u001b[38;5;28;01mreturn\u001b[39;00m \u001b[43mfn\u001b[49m\u001b[43m(\u001b[49m\u001b[38;5;241;43m*\u001b[39;49m\u001b[43margs\u001b[49m\u001b[43m,\u001b[49m\u001b[43m \u001b[49m\u001b[38;5;241;43m*\u001b[39;49m\u001b[38;5;241;43m*\u001b[39;49m\u001b[43mkwargs\u001b[49m\u001b[43m)\u001b[49m\n\u001b[0;32m    118\u001b[0m \u001b[38;5;28;01mexcept\u001b[39;00m \u001b[38;5;167;01mException\u001b[39;00m \u001b[38;5;28;01mas\u001b[39;00m e:\n\u001b[0;32m    119\u001b[0m     filtered_tb \u001b[38;5;241m=\u001b[39m _process_traceback_frames(e\u001b[38;5;241m.\u001b[39m__traceback__)\n",
      "File \u001b[1;32m~\\AppData\\Local\\Packages\\PythonSoftwareFoundation.Python.3.12_qbz5n2kfra8p0\\LocalCache\\local-packages\\Python312\\site-packages\\keras\\src\\backend\\tensorflow\\trainer.py:320\u001b[0m, in \u001b[0;36mTensorFlowTrainer.fit\u001b[1;34m(self, x, y, batch_size, epochs, verbose, callbacks, validation_split, validation_data, shuffle, class_weight, sample_weight, initial_epoch, steps_per_epoch, validation_steps, validation_batch_size, validation_freq)\u001b[0m\n\u001b[0;32m    318\u001b[0m \u001b[38;5;28;01mfor\u001b[39;00m step, iterator \u001b[38;5;129;01min\u001b[39;00m epoch_iterator\u001b[38;5;241m.\u001b[39menumerate_epoch():\n\u001b[0;32m    319\u001b[0m     callbacks\u001b[38;5;241m.\u001b[39mon_train_batch_begin(step)\n\u001b[1;32m--> 320\u001b[0m     logs \u001b[38;5;241m=\u001b[39m \u001b[38;5;28;43mself\u001b[39;49m\u001b[38;5;241;43m.\u001b[39;49m\u001b[43mtrain_function\u001b[49m\u001b[43m(\u001b[49m\u001b[43miterator\u001b[49m\u001b[43m)\u001b[49m\n\u001b[0;32m    321\u001b[0m     callbacks\u001b[38;5;241m.\u001b[39mon_train_batch_end(step, logs)\n\u001b[0;32m    322\u001b[0m     \u001b[38;5;28;01mif\u001b[39;00m \u001b[38;5;28mself\u001b[39m\u001b[38;5;241m.\u001b[39mstop_training:\n",
      "File \u001b[1;32m~\\AppData\\Local\\Packages\\PythonSoftwareFoundation.Python.3.12_qbz5n2kfra8p0\\LocalCache\\local-packages\\Python312\\site-packages\\tensorflow\\python\\util\\traceback_utils.py:150\u001b[0m, in \u001b[0;36mfilter_traceback.<locals>.error_handler\u001b[1;34m(*args, **kwargs)\u001b[0m\n\u001b[0;32m    148\u001b[0m filtered_tb \u001b[38;5;241m=\u001b[39m \u001b[38;5;28;01mNone\u001b[39;00m\n\u001b[0;32m    149\u001b[0m \u001b[38;5;28;01mtry\u001b[39;00m:\n\u001b[1;32m--> 150\u001b[0m   \u001b[38;5;28;01mreturn\u001b[39;00m \u001b[43mfn\u001b[49m\u001b[43m(\u001b[49m\u001b[38;5;241;43m*\u001b[39;49m\u001b[43margs\u001b[49m\u001b[43m,\u001b[49m\u001b[43m \u001b[49m\u001b[38;5;241;43m*\u001b[39;49m\u001b[38;5;241;43m*\u001b[39;49m\u001b[43mkwargs\u001b[49m\u001b[43m)\u001b[49m\n\u001b[0;32m    151\u001b[0m \u001b[38;5;28;01mexcept\u001b[39;00m \u001b[38;5;167;01mException\u001b[39;00m \u001b[38;5;28;01mas\u001b[39;00m e:\n\u001b[0;32m    152\u001b[0m   filtered_tb \u001b[38;5;241m=\u001b[39m _process_traceback_frames(e\u001b[38;5;241m.\u001b[39m__traceback__)\n",
      "File \u001b[1;32m~\\AppData\\Local\\Packages\\PythonSoftwareFoundation.Python.3.12_qbz5n2kfra8p0\\LocalCache\\local-packages\\Python312\\site-packages\\tensorflow\\python\\eager\\polymorphic_function\\polymorphic_function.py:833\u001b[0m, in \u001b[0;36mFunction.__call__\u001b[1;34m(self, *args, **kwds)\u001b[0m\n\u001b[0;32m    830\u001b[0m compiler \u001b[38;5;241m=\u001b[39m \u001b[38;5;124m\"\u001b[39m\u001b[38;5;124mxla\u001b[39m\u001b[38;5;124m\"\u001b[39m \u001b[38;5;28;01mif\u001b[39;00m \u001b[38;5;28mself\u001b[39m\u001b[38;5;241m.\u001b[39m_jit_compile \u001b[38;5;28;01melse\u001b[39;00m \u001b[38;5;124m\"\u001b[39m\u001b[38;5;124mnonXla\u001b[39m\u001b[38;5;124m\"\u001b[39m\n\u001b[0;32m    832\u001b[0m \u001b[38;5;28;01mwith\u001b[39;00m OptionalXlaContext(\u001b[38;5;28mself\u001b[39m\u001b[38;5;241m.\u001b[39m_jit_compile):\n\u001b[1;32m--> 833\u001b[0m   result \u001b[38;5;241m=\u001b[39m \u001b[38;5;28;43mself\u001b[39;49m\u001b[38;5;241;43m.\u001b[39;49m\u001b[43m_call\u001b[49m\u001b[43m(\u001b[49m\u001b[38;5;241;43m*\u001b[39;49m\u001b[43margs\u001b[49m\u001b[43m,\u001b[49m\u001b[43m \u001b[49m\u001b[38;5;241;43m*\u001b[39;49m\u001b[38;5;241;43m*\u001b[39;49m\u001b[43mkwds\u001b[49m\u001b[43m)\u001b[49m\n\u001b[0;32m    835\u001b[0m new_tracing_count \u001b[38;5;241m=\u001b[39m \u001b[38;5;28mself\u001b[39m\u001b[38;5;241m.\u001b[39mexperimental_get_tracing_count()\n\u001b[0;32m    836\u001b[0m without_tracing \u001b[38;5;241m=\u001b[39m (tracing_count \u001b[38;5;241m==\u001b[39m new_tracing_count)\n",
      "File \u001b[1;32m~\\AppData\\Local\\Packages\\PythonSoftwareFoundation.Python.3.12_qbz5n2kfra8p0\\LocalCache\\local-packages\\Python312\\site-packages\\tensorflow\\python\\eager\\polymorphic_function\\polymorphic_function.py:878\u001b[0m, in \u001b[0;36mFunction._call\u001b[1;34m(self, *args, **kwds)\u001b[0m\n\u001b[0;32m    875\u001b[0m \u001b[38;5;28mself\u001b[39m\u001b[38;5;241m.\u001b[39m_lock\u001b[38;5;241m.\u001b[39mrelease()\n\u001b[0;32m    876\u001b[0m \u001b[38;5;66;03m# In this case we have not created variables on the first call. So we can\u001b[39;00m\n\u001b[0;32m    877\u001b[0m \u001b[38;5;66;03m# run the first trace but we should fail if variables are created.\u001b[39;00m\n\u001b[1;32m--> 878\u001b[0m results \u001b[38;5;241m=\u001b[39m \u001b[43mtracing_compilation\u001b[49m\u001b[38;5;241;43m.\u001b[39;49m\u001b[43mcall_function\u001b[49m\u001b[43m(\u001b[49m\n\u001b[0;32m    879\u001b[0m \u001b[43m    \u001b[49m\u001b[43margs\u001b[49m\u001b[43m,\u001b[49m\u001b[43m \u001b[49m\u001b[43mkwds\u001b[49m\u001b[43m,\u001b[49m\u001b[43m \u001b[49m\u001b[38;5;28;43mself\u001b[39;49m\u001b[38;5;241;43m.\u001b[39;49m\u001b[43m_variable_creation_config\u001b[49m\n\u001b[0;32m    880\u001b[0m \u001b[43m\u001b[49m\u001b[43m)\u001b[49m\n\u001b[0;32m    881\u001b[0m \u001b[38;5;28;01mif\u001b[39;00m \u001b[38;5;28mself\u001b[39m\u001b[38;5;241m.\u001b[39m_created_variables:\n\u001b[0;32m    882\u001b[0m   \u001b[38;5;28;01mraise\u001b[39;00m \u001b[38;5;167;01mValueError\u001b[39;00m(\u001b[38;5;124m\"\u001b[39m\u001b[38;5;124mCreating variables on a non-first call to a function\u001b[39m\u001b[38;5;124m\"\u001b[39m\n\u001b[0;32m    883\u001b[0m                    \u001b[38;5;124m\"\u001b[39m\u001b[38;5;124m decorated with tf.function.\u001b[39m\u001b[38;5;124m\"\u001b[39m)\n",
      "File \u001b[1;32m~\\AppData\\Local\\Packages\\PythonSoftwareFoundation.Python.3.12_qbz5n2kfra8p0\\LocalCache\\local-packages\\Python312\\site-packages\\tensorflow\\python\\eager\\polymorphic_function\\tracing_compilation.py:139\u001b[0m, in \u001b[0;36mcall_function\u001b[1;34m(args, kwargs, tracing_options)\u001b[0m\n\u001b[0;32m    137\u001b[0m bound_args \u001b[38;5;241m=\u001b[39m function\u001b[38;5;241m.\u001b[39mfunction_type\u001b[38;5;241m.\u001b[39mbind(\u001b[38;5;241m*\u001b[39margs, \u001b[38;5;241m*\u001b[39m\u001b[38;5;241m*\u001b[39mkwargs)\n\u001b[0;32m    138\u001b[0m flat_inputs \u001b[38;5;241m=\u001b[39m function\u001b[38;5;241m.\u001b[39mfunction_type\u001b[38;5;241m.\u001b[39munpack_inputs(bound_args)\n\u001b[1;32m--> 139\u001b[0m \u001b[38;5;28;01mreturn\u001b[39;00m \u001b[43mfunction\u001b[49m\u001b[38;5;241;43m.\u001b[39;49m\u001b[43m_call_flat\u001b[49m\u001b[43m(\u001b[49m\u001b[43m  \u001b[49m\u001b[38;5;66;43;03m# pylint: disable=protected-access\u001b[39;49;00m\n\u001b[0;32m    140\u001b[0m \u001b[43m    \u001b[49m\u001b[43mflat_inputs\u001b[49m\u001b[43m,\u001b[49m\u001b[43m \u001b[49m\u001b[43mcaptured_inputs\u001b[49m\u001b[38;5;241;43m=\u001b[39;49m\u001b[43mfunction\u001b[49m\u001b[38;5;241;43m.\u001b[39;49m\u001b[43mcaptured_inputs\u001b[49m\n\u001b[0;32m    141\u001b[0m \u001b[43m\u001b[49m\u001b[43m)\u001b[49m\n",
      "File \u001b[1;32m~\\AppData\\Local\\Packages\\PythonSoftwareFoundation.Python.3.12_qbz5n2kfra8p0\\LocalCache\\local-packages\\Python312\\site-packages\\tensorflow\\python\\eager\\polymorphic_function\\concrete_function.py:1322\u001b[0m, in \u001b[0;36mConcreteFunction._call_flat\u001b[1;34m(self, tensor_inputs, captured_inputs)\u001b[0m\n\u001b[0;32m   1318\u001b[0m possible_gradient_type \u001b[38;5;241m=\u001b[39m gradients_util\u001b[38;5;241m.\u001b[39mPossibleTapeGradientTypes(args)\n\u001b[0;32m   1319\u001b[0m \u001b[38;5;28;01mif\u001b[39;00m (possible_gradient_type \u001b[38;5;241m==\u001b[39m gradients_util\u001b[38;5;241m.\u001b[39mPOSSIBLE_GRADIENT_TYPES_NONE\n\u001b[0;32m   1320\u001b[0m     \u001b[38;5;129;01mand\u001b[39;00m executing_eagerly):\n\u001b[0;32m   1321\u001b[0m   \u001b[38;5;66;03m# No tape is watching; skip to running the function.\u001b[39;00m\n\u001b[1;32m-> 1322\u001b[0m   \u001b[38;5;28;01mreturn\u001b[39;00m \u001b[38;5;28;43mself\u001b[39;49m\u001b[38;5;241;43m.\u001b[39;49m\u001b[43m_inference_function\u001b[49m\u001b[38;5;241;43m.\u001b[39;49m\u001b[43mcall_preflattened\u001b[49m\u001b[43m(\u001b[49m\u001b[43margs\u001b[49m\u001b[43m)\u001b[49m\n\u001b[0;32m   1323\u001b[0m forward_backward \u001b[38;5;241m=\u001b[39m \u001b[38;5;28mself\u001b[39m\u001b[38;5;241m.\u001b[39m_select_forward_and_backward_functions(\n\u001b[0;32m   1324\u001b[0m     args,\n\u001b[0;32m   1325\u001b[0m     possible_gradient_type,\n\u001b[0;32m   1326\u001b[0m     executing_eagerly)\n\u001b[0;32m   1327\u001b[0m forward_function, args_with_tangents \u001b[38;5;241m=\u001b[39m forward_backward\u001b[38;5;241m.\u001b[39mforward()\n",
      "File \u001b[1;32m~\\AppData\\Local\\Packages\\PythonSoftwareFoundation.Python.3.12_qbz5n2kfra8p0\\LocalCache\\local-packages\\Python312\\site-packages\\tensorflow\\python\\eager\\polymorphic_function\\atomic_function.py:216\u001b[0m, in \u001b[0;36mAtomicFunction.call_preflattened\u001b[1;34m(self, args)\u001b[0m\n\u001b[0;32m    214\u001b[0m \u001b[38;5;28;01mdef\u001b[39;00m \u001b[38;5;21mcall_preflattened\u001b[39m(\u001b[38;5;28mself\u001b[39m, args: Sequence[core\u001b[38;5;241m.\u001b[39mTensor]) \u001b[38;5;241m-\u001b[39m\u001b[38;5;241m>\u001b[39m Any:\n\u001b[0;32m    215\u001b[0m \u001b[38;5;250m  \u001b[39m\u001b[38;5;124;03m\"\"\"Calls with flattened tensor inputs and returns the structured output.\"\"\"\u001b[39;00m\n\u001b[1;32m--> 216\u001b[0m   flat_outputs \u001b[38;5;241m=\u001b[39m \u001b[38;5;28;43mself\u001b[39;49m\u001b[38;5;241;43m.\u001b[39;49m\u001b[43mcall_flat\u001b[49m\u001b[43m(\u001b[49m\u001b[38;5;241;43m*\u001b[39;49m\u001b[43margs\u001b[49m\u001b[43m)\u001b[49m\n\u001b[0;32m    217\u001b[0m   \u001b[38;5;28;01mreturn\u001b[39;00m \u001b[38;5;28mself\u001b[39m\u001b[38;5;241m.\u001b[39mfunction_type\u001b[38;5;241m.\u001b[39mpack_output(flat_outputs)\n",
      "File \u001b[1;32m~\\AppData\\Local\\Packages\\PythonSoftwareFoundation.Python.3.12_qbz5n2kfra8p0\\LocalCache\\local-packages\\Python312\\site-packages\\tensorflow\\python\\eager\\polymorphic_function\\atomic_function.py:251\u001b[0m, in \u001b[0;36mAtomicFunction.call_flat\u001b[1;34m(self, *args)\u001b[0m\n\u001b[0;32m    249\u001b[0m \u001b[38;5;28;01mwith\u001b[39;00m record\u001b[38;5;241m.\u001b[39mstop_recording():\n\u001b[0;32m    250\u001b[0m   \u001b[38;5;28;01mif\u001b[39;00m \u001b[38;5;28mself\u001b[39m\u001b[38;5;241m.\u001b[39m_bound_context\u001b[38;5;241m.\u001b[39mexecuting_eagerly():\n\u001b[1;32m--> 251\u001b[0m     outputs \u001b[38;5;241m=\u001b[39m \u001b[38;5;28;43mself\u001b[39;49m\u001b[38;5;241;43m.\u001b[39;49m\u001b[43m_bound_context\u001b[49m\u001b[38;5;241;43m.\u001b[39;49m\u001b[43mcall_function\u001b[49m\u001b[43m(\u001b[49m\n\u001b[0;32m    252\u001b[0m \u001b[43m        \u001b[49m\u001b[38;5;28;43mself\u001b[39;49m\u001b[38;5;241;43m.\u001b[39;49m\u001b[43mname\u001b[49m\u001b[43m,\u001b[49m\n\u001b[0;32m    253\u001b[0m \u001b[43m        \u001b[49m\u001b[38;5;28;43mlist\u001b[39;49m\u001b[43m(\u001b[49m\u001b[43margs\u001b[49m\u001b[43m)\u001b[49m\u001b[43m,\u001b[49m\n\u001b[0;32m    254\u001b[0m \u001b[43m        \u001b[49m\u001b[38;5;28;43mlen\u001b[39;49m\u001b[43m(\u001b[49m\u001b[38;5;28;43mself\u001b[39;49m\u001b[38;5;241;43m.\u001b[39;49m\u001b[43mfunction_type\u001b[49m\u001b[38;5;241;43m.\u001b[39;49m\u001b[43mflat_outputs\u001b[49m\u001b[43m)\u001b[49m\u001b[43m,\u001b[49m\n\u001b[0;32m    255\u001b[0m \u001b[43m    \u001b[49m\u001b[43m)\u001b[49m\n\u001b[0;32m    256\u001b[0m   \u001b[38;5;28;01melse\u001b[39;00m:\n\u001b[0;32m    257\u001b[0m     outputs \u001b[38;5;241m=\u001b[39m make_call_op_in_graph(\n\u001b[0;32m    258\u001b[0m         \u001b[38;5;28mself\u001b[39m,\n\u001b[0;32m    259\u001b[0m         \u001b[38;5;28mlist\u001b[39m(args),\n\u001b[0;32m    260\u001b[0m         \u001b[38;5;28mself\u001b[39m\u001b[38;5;241m.\u001b[39m_bound_context\u001b[38;5;241m.\u001b[39mfunction_call_options\u001b[38;5;241m.\u001b[39mas_attrs(),\n\u001b[0;32m    261\u001b[0m     )\n",
      "File \u001b[1;32m~\\AppData\\Local\\Packages\\PythonSoftwareFoundation.Python.3.12_qbz5n2kfra8p0\\LocalCache\\local-packages\\Python312\\site-packages\\tensorflow\\python\\eager\\context.py:1552\u001b[0m, in \u001b[0;36mContext.call_function\u001b[1;34m(self, name, tensor_inputs, num_outputs)\u001b[0m\n\u001b[0;32m   1550\u001b[0m cancellation_context \u001b[38;5;241m=\u001b[39m cancellation\u001b[38;5;241m.\u001b[39mcontext()\n\u001b[0;32m   1551\u001b[0m \u001b[38;5;28;01mif\u001b[39;00m cancellation_context \u001b[38;5;129;01mis\u001b[39;00m \u001b[38;5;28;01mNone\u001b[39;00m:\n\u001b[1;32m-> 1552\u001b[0m   outputs \u001b[38;5;241m=\u001b[39m \u001b[43mexecute\u001b[49m\u001b[38;5;241;43m.\u001b[39;49m\u001b[43mexecute\u001b[49m\u001b[43m(\u001b[49m\n\u001b[0;32m   1553\u001b[0m \u001b[43m      \u001b[49m\u001b[43mname\u001b[49m\u001b[38;5;241;43m.\u001b[39;49m\u001b[43mdecode\u001b[49m\u001b[43m(\u001b[49m\u001b[38;5;124;43m\"\u001b[39;49m\u001b[38;5;124;43mutf-8\u001b[39;49m\u001b[38;5;124;43m\"\u001b[39;49m\u001b[43m)\u001b[49m\u001b[43m,\u001b[49m\n\u001b[0;32m   1554\u001b[0m \u001b[43m      \u001b[49m\u001b[43mnum_outputs\u001b[49m\u001b[38;5;241;43m=\u001b[39;49m\u001b[43mnum_outputs\u001b[49m\u001b[43m,\u001b[49m\n\u001b[0;32m   1555\u001b[0m \u001b[43m      \u001b[49m\u001b[43minputs\u001b[49m\u001b[38;5;241;43m=\u001b[39;49m\u001b[43mtensor_inputs\u001b[49m\u001b[43m,\u001b[49m\n\u001b[0;32m   1556\u001b[0m \u001b[43m      \u001b[49m\u001b[43mattrs\u001b[49m\u001b[38;5;241;43m=\u001b[39;49m\u001b[43mattrs\u001b[49m\u001b[43m,\u001b[49m\n\u001b[0;32m   1557\u001b[0m \u001b[43m      \u001b[49m\u001b[43mctx\u001b[49m\u001b[38;5;241;43m=\u001b[39;49m\u001b[38;5;28;43mself\u001b[39;49m\u001b[43m,\u001b[49m\n\u001b[0;32m   1558\u001b[0m \u001b[43m  \u001b[49m\u001b[43m)\u001b[49m\n\u001b[0;32m   1559\u001b[0m \u001b[38;5;28;01melse\u001b[39;00m:\n\u001b[0;32m   1560\u001b[0m   outputs \u001b[38;5;241m=\u001b[39m execute\u001b[38;5;241m.\u001b[39mexecute_with_cancellation(\n\u001b[0;32m   1561\u001b[0m       name\u001b[38;5;241m.\u001b[39mdecode(\u001b[38;5;124m\"\u001b[39m\u001b[38;5;124mutf-8\u001b[39m\u001b[38;5;124m\"\u001b[39m),\n\u001b[0;32m   1562\u001b[0m       num_outputs\u001b[38;5;241m=\u001b[39mnum_outputs,\n\u001b[1;32m   (...)\u001b[0m\n\u001b[0;32m   1566\u001b[0m       cancellation_manager\u001b[38;5;241m=\u001b[39mcancellation_context,\n\u001b[0;32m   1567\u001b[0m   )\n",
      "File \u001b[1;32m~\\AppData\\Local\\Packages\\PythonSoftwareFoundation.Python.3.12_qbz5n2kfra8p0\\LocalCache\\local-packages\\Python312\\site-packages\\tensorflow\\python\\eager\\execute.py:53\u001b[0m, in \u001b[0;36mquick_execute\u001b[1;34m(op_name, num_outputs, inputs, attrs, ctx, name)\u001b[0m\n\u001b[0;32m     51\u001b[0m \u001b[38;5;28;01mtry\u001b[39;00m:\n\u001b[0;32m     52\u001b[0m   ctx\u001b[38;5;241m.\u001b[39mensure_initialized()\n\u001b[1;32m---> 53\u001b[0m   tensors \u001b[38;5;241m=\u001b[39m \u001b[43mpywrap_tfe\u001b[49m\u001b[38;5;241;43m.\u001b[39;49m\u001b[43mTFE_Py_Execute\u001b[49m\u001b[43m(\u001b[49m\u001b[43mctx\u001b[49m\u001b[38;5;241;43m.\u001b[39;49m\u001b[43m_handle\u001b[49m\u001b[43m,\u001b[49m\u001b[43m \u001b[49m\u001b[43mdevice_name\u001b[49m\u001b[43m,\u001b[49m\u001b[43m \u001b[49m\u001b[43mop_name\u001b[49m\u001b[43m,\u001b[49m\n\u001b[0;32m     54\u001b[0m \u001b[43m                                      \u001b[49m\u001b[43minputs\u001b[49m\u001b[43m,\u001b[49m\u001b[43m \u001b[49m\u001b[43mattrs\u001b[49m\u001b[43m,\u001b[49m\u001b[43m \u001b[49m\u001b[43mnum_outputs\u001b[49m\u001b[43m)\u001b[49m\n\u001b[0;32m     55\u001b[0m \u001b[38;5;28;01mexcept\u001b[39;00m core\u001b[38;5;241m.\u001b[39m_NotOkStatusException \u001b[38;5;28;01mas\u001b[39;00m e:\n\u001b[0;32m     56\u001b[0m   \u001b[38;5;28;01mif\u001b[39;00m name \u001b[38;5;129;01mis\u001b[39;00m \u001b[38;5;129;01mnot\u001b[39;00m \u001b[38;5;28;01mNone\u001b[39;00m:\n",
      "\u001b[1;31mKeyboardInterrupt\u001b[0m: "
     ]
    }
   ],
   "source": [
    "history2=model2.fit(train_dataset, batch_size=32,epochs=50,steps_per_epoch=len(X_train)//32, validation_data=val_dataset,callbacks=[early_stopping,cp_callback],validation_steps=len(X_val)//32)\n"
   ]
  },
  {
   "cell_type": "code",
   "execution_count": null,
   "metadata": {},
   "outputs": [],
   "source": [
    "import matplotlib.pyplot as plt\n",
    "s=[df_Scaled.std()]*len(history2.history['loss'])\n",
    "colors = ['b', 'g', 'r', 'c', 'm', 'y','k','orange', 'purple', 'brown', 'pink', 'lime', 'teal', 'gray', 'olive', 'navy']\n",
    "\n",
    "    # Grafica los valores de loss\n",
    "plt.plot(history2.history['loss'],  color='purple',label='Loss')\n",
    "plt.plot(history2.history['val_loss'],color='olive',label='Val_Loss')\n",
    "plt.plot(s,label='Standard Deviation',color='pink')\n",
    "# Agrega etiquetas al gráfico\n",
    "plt.xlabel('Epoch')\n",
    "plt.ylabel('Value')\n",
    "plt.ylim(0,0.06)\n",
    "plt.title('Training & Validation Loss per Epoch')\n",
    "plt.xlim(0,len(history2.history['loss']))\n",
    "\n",
    "plt.legend()\n",
    "\n",
    "plt.grid(True)\n",
    "plt.savefig('val_loss_model2.png',format='png')\n",
    "# Muestra el gráfico\n",
    "plt.show()"
   ]
  },
  {
   "cell_type": "code",
   "execution_count": null,
   "metadata": {},
   "outputs": [],
   "source": [
    "test_dataset = create_combined_dataset(images_test, X_test, y_test, 1)\n",
    "predict2 = model2.predict(test_dataset,steps=len(y_test))"
   ]
  },
  {
   "cell_type": "code",
   "execution_count": null,
   "metadata": {},
   "outputs": [],
   "source": [
    "\n",
    "mae2 = mean_absolute_error(y_test, predict2)\n",
    "mse2= mean_squared_error(y_test, predict2)\n",
    "r22 = r2_score(y_test, predict2)\n",
    "smape2 = smape_2(y_test, predict2)\n",
    "\n",
    "# Imprimir las métricas\n",
    "print(f\"MAE: {mae2}\")\n",
    "print(f\"MSE: {mse2}\")\n",
    "print(f\"R-squared: {r22}\")\n",
    "print(f\"SMAPE: {smape2}%\")"
   ]
  },
  {
   "cell_type": "code",
   "execution_count": null,
   "metadata": {},
   "outputs": [],
   "source": [
    "plt.scatter(y_test, predict2, color='blue', alpha=0.5)\n",
    "\n",
    "plt.xlabel('Valores Reales')\n",
    "plt.ylabel('predicciones')\n",
    "plt.xlim(0,1)\n",
    "plt.ylim(0,1)\n",
    "\n",
    "plt.show()"
   ]
  },
  {
   "cell_type": "code",
   "execution_count": null,
   "metadata": {},
   "outputs": [],
   "source": [
    "residuos = []\n",
    "for a in range(len(y_test)):\n",
    "    residuos.append(float(y_test[a])-float(predict2[a]))\n",
    "sns.histplot(residuos,kde=True,bins=600)\n",
    "plt.xlim(-0.1,0.1)\n",
    "plt.show()"
   ]
  },
  {
   "cell_type": "markdown",
   "metadata": {},
   "source": [
    "### Usando 10 días previos para predecir el promedio de la semana siguiente (Sin capping)"
   ]
  },
  {
   "cell_type": "code",
   "execution_count": null,
   "metadata": {},
   "outputs": [],
   "source": [
    "# Definir la longitud de la secuencia para la LSTM\n",
    "sequence_length = 10  # Supongamos que usas 7 días para la LSTM\n",
    "\n",
    "# Variables para almacenar las secuencias, el target y las imágenes\n",
    "X, y, images = [], [], []\n",
    "\n",
    "# Recorre los datos por locación\n",
    "for location, location_df in grouped_data.items():\n",
    "    features = location_df.drop(['Date', 'station', 'mp10', 'image'], axis=1).values\n",
    "    target = location_df['mp10'].values\n",
    "    image_series = location_df['image'].values\n",
    "\n",
    "    for i in range(sequence_length, len(features)):\n",
    "        # Crear secuencia de entrada de `sequence_length` días\n",
    "        sequence_features = features[i-sequence_length:i]\n",
    "        sequence_target = np.mean(target[i:i+7])\n",
    "        \n",
    "        # Buscar una imagen en la secuencia (la más cercana al último día de la secuencia)\n",
    "        image_associated = image_series[i-sequence_length:i]\n",
    "        image_file = next((img for img in reversed(image_associated) if img != 0), None)\n",
    "        \n",
    "        # Añadir solo si hay una imagen válida asociada\n",
    "        if image_file:\n",
    "            X.append(sequence_features)\n",
    "            y.append(sequence_target)\n",
    "            images.append(image_file)\n",
    "\n",
    "# Convertir las listas a arrays de numpy\n",
    "X, y = np.array(X), np.array(y)\n",
    "images = np.array(images)\n",
    "\n",
    "# Normalizar características de entrada\n",
    "scaler_X = MinMaxScaler()\n",
    "X_reshaped = X.reshape(-1, X.shape[-1])\n",
    "X_normalized = scaler_X.fit_transform(X_reshaped)\n",
    "X = X_normalized.reshape(X.shape)\n",
    "\n",
    "scaler_y = MinMaxScaler()\n",
    "y = scaler_y.fit_transform(y.reshape(-1, 1))\n",
    "\n",
    "print(f\"Forma de X: {X.shape}, Forma de y: {y.shape}, Total de imágenes: {images.shape}\")\n",
    "\n",
    "# Dividir los datos en 70% entrenamiento, 20% test, 10% validación\n",
    "X_train, X_temp, y_train, y_temp, images_train, images_temp = train_test_split(X, y, images, test_size=0.30, random_state=42)\n",
    "\n",
    "# Dividir el 30% restante en 20% test y 10% validación\n",
    "X_test, X_val, y_test, y_val, images_test, images_val = train_test_split(X_temp, y_temp, images_temp, test_size=0.33, random_state=42)  # 0.33 * 0.30 = ~0.10\n",
    "\n",
    "# Imprimir las formas para verificar las divisiones\n",
    "print(f\"Train set: X={X_train.shape}, y={y_train.shape}, images={images_train.shape}\")\n",
    "print(f\"Test set: X={X_test.shape}, y={y_test.shape}, images={images_test.shape}\")\n",
    "print(f\"Validation set: X={X_val.shape}, y={y_val.shape}, images={images_val.shape}\")\n"
   ]
  },
  {
   "cell_type": "code",
   "execution_count": null,
   "metadata": {},
   "outputs": [],
   "source": [
    "# Definir la entrada para las imágenes (224x224x6)\n",
    "image_input = Input(shape=(224, 224, 6))\n",
    "\n",
    "# Red convolucional para procesar la entrada de imágenes\n",
    "x = Conv2D(filters=16, kernel_size=(3, 3), activation='relu')(image_input)\n",
    "x = AveragePooling2D(pool_size=(2, 2))(x)\n",
    "x = Conv2D(filters=32, kernel_size=(3, 3), activation='relu')(x)\n",
    "x = AveragePooling2D(pool_size=(2, 2))(x)\n",
    "x = Conv2D(filters=32, kernel_size=(3, 3), activation='relu')(x)\n",
    "x = AveragePooling2D(pool_size=(2, 2))(x)\n",
    "x = Conv2D(filters=32, kernel_size=(3, 3), activation='relu')(x)\n",
    "x = AveragePooling2D(pool_size=(2, 2))(x)\n",
    "\n",
    "# Aplanar la salida de la capa convolucional\n",
    "x = Flatten()(x)\n",
    "x = Dense(units=128, activation='relu')(x)\n",
    "x = Dropout(rate=0.5)(x)\n",
    "\n",
    "# Definir la entrada para la LSTM (datos secuenciales)\n",
    "sequence_input = Input(shape=(10, 17))  \n",
    "\n",
    "# Red LSTM para procesar la entrada secuencial\n",
    "y = LSTM(units=50, return_sequences=True)(sequence_input)\n",
    "y = LSTM(units=50)(y)\n",
    "\n",
    "# Combinar las salidas de la CNN y la LSTM\n",
    "combined = Concatenate()([x, y])\n",
    "\n",
    "# Añadir capas densas finales para predecir el valor final\n",
    "z = Dense(units=128, activation='relu')(combined)\n",
    "z = Dropout(rate=0.5)(z)\n",
    "z = Dense(units=1, activation='linear')(z)\n",
    "\n",
    "# Crear el modelo con dos entradas\n",
    "model3 = Model(inputs=[image_input, sequence_input], outputs=z)\n",
    "\n",
    "# Compilar el modelo\n",
    "model3.compile(optimizer='adam', loss='mean_absolute_error',metrics=['mean_squared_error','mean_absolute_percentage_error',smape])\n",
    "\n",
    "# Mostrar la arquitectura del modelo\n",
    "model3.summary()\n"
   ]
  },
  {
   "cell_type": "code",
   "execution_count": null,
   "metadata": {},
   "outputs": [],
   "source": [
    "# Generador para combinar imágenes y secuencias\n",
    "def data_generator(image_files, sequences, labels): \n",
    "    for i in range(len(image_files)):\n",
    "        if image_files[i] != '':  # Si la imagen existe\n",
    "            image = preprocess_imagery(image_files[i])  # Cargar y preprocesar la imagen\n",
    "            image = tf.convert_to_tensor(image, dtype=tf.float32)\n",
    "        else:\n",
    "            image = tf.zeros((224, 224, 6), dtype=tf.float32)  # Si no hay imagen, usar un tensor de ceros\n",
    "            \n",
    "        sequence = tf.convert_to_tensor(sequences[i], dtype=tf.float32)  # Secuencia de datos tabulares\n",
    "        label = tf.convert_to_tensor(labels[i], dtype=tf.float32)  # Etiqueta (mp10)+\n",
    "        label=tf.squeeze(label)\n",
    "        \n",
    "        yield (image, sequence), label  # Dos entradas: imagen y secuencia\n",
    "\n",
    "# Crear el dataset\n",
    "def create_combined_dataset(image_files, sequences, labels, batch_size):\n",
    "    dataset = tf.data.Dataset.from_generator(\n",
    "        data_generator,\n",
    "        args=[image_files, sequences, labels],\n",
    "        output_signature=(\n",
    "            (tf.TensorSpec(shape=(224, 224, 6), dtype=tf.float32),  # Especificar el tamaño de las imágenes\n",
    "             tf.TensorSpec(shape=(10, sequences.shape[2]), dtype=tf.float32)),  # Secuencias de 7 días\n",
    "            tf.TensorSpec(shape=(), dtype=tf.float32)  # La etiqueta (mp10)\n",
    "        )\n",
    "    )\n",
    "    dataset = dataset.batch(batch_size)\n",
    "    dataset = dataset.prefetch(buffer_size=tf.data.AUTOTUNE)\n",
    "    return dataset\n",
    "\n",
    "# Ejemplo de uso para crear datasets de entrenamiento, validación y prueba\n",
    "batch_size = 32\n",
    "\n",
    "# Crear datasets\n",
    "train_dataset = create_combined_dataset(images_train, X_train, y_train, batch_size)\n",
    "val_dataset = create_combined_dataset(images_val, X_val, y_val, batch_size)\n",
    "test_dataset = create_combined_dataset(images_test, X_test, y_test, batch_size)\n"
   ]
  },
  {
   "cell_type": "code",
   "execution_count": null,
   "metadata": {},
   "outputs": [],
   "source": [
    "# Configurar Early Stopping\n",
    "early_stopping = EarlyStopping(\n",
    "    monitor='val_loss',  # Métrica a monitorear\n",
    "    patience=10,         # Número de épocas de paciencia\n",
    "    restore_best_weights=True  # Restaurar los mejores pesos al final del entrenamiento\n",
    ")\n",
    "checkpoint_path = \"training_3/ckpt.weights.h5\"\n",
    "checkpoint_dir = os.path.dirname(checkpoint_path)\n",
    "\n",
    "# Create a callback that saves the model's weights\n",
    "cp_callback = tf.keras.callbacks.ModelCheckpoint(filepath=checkpoint_path,\n",
    "                                                 save_weights_only=True,\n",
    "                                                 verbose=1)"
   ]
  },
  {
   "cell_type": "code",
   "execution_count": null,
   "metadata": {},
   "outputs": [],
   "source": [
    "history3=model3.fit(train_dataset, batch_size=32,epochs=50,steps_per_epoch=len(X_train)//32, validation_data=val_dataset,callbacks=[early_stopping,cp_callback],validation_steps=len(X_val)//32)\n"
   ]
  },
  {
   "cell_type": "code",
   "execution_count": null,
   "metadata": {},
   "outputs": [],
   "source": [
    "import matplotlib.pyplot as plt\n",
    "s=[df_Scaled.std()]*len(history3.history['loss'])\n",
    "colors = ['b', 'g', 'r', 'c', 'm', 'y','k','orange', 'purple', 'brown', 'pink', 'lime', 'teal', 'gray', 'olive', 'navy']\n",
    "\n",
    "    # Grafica los valores de loss\n",
    "plt.plot(history3.history['loss'],  color='purple',label='Loss')\n",
    "plt.plot(history3.history['val_loss'],color='olive',label='Val_Loss')\n",
    "plt.plot(s,label='Standard Deviation',color='pink')\n",
    "# Agrega etiquetas al gráfico\n",
    "plt.xlabel('Epoch')\n",
    "plt.ylabel('Value')\n",
    "plt.ylim(0,0.06)\n",
    "plt.title('Training & Validation Loss per Epoch')\n",
    "plt.xlim(0,len(history3.history['loss']))\n",
    "\n",
    "plt.legend()\n",
    "\n",
    "plt.grid(True)\n",
    "plt.savefig('val_loss_model3.png',format='png')\n",
    "# Muestra el gráfico\n",
    "plt.show()"
   ]
  },
  {
   "cell_type": "code",
   "execution_count": null,
   "metadata": {},
   "outputs": [],
   "source": [
    "test_dataset = create_combined_dataset(images_test, X_test, y_test, 1)\n",
    "predict3 = model3.predict(test_dataset,steps=len(y_test))"
   ]
  },
  {
   "cell_type": "code",
   "execution_count": null,
   "metadata": {},
   "outputs": [],
   "source": [
    "# Calcular MAE\n",
    "mae3 = mean_absolute_error(y_test, predict3)\n",
    "mse3= mean_squared_error(y_test, predict3)\n",
    "# Calcular R-squared\n",
    "r23 = r2_score(y_test, predict3)\n",
    "\n",
    "smape3 = smape_2(y_test, predict3)\n",
    "\n",
    "# Imprimir las métricas\n",
    "print(f\"MAE: {mae3}\")\n",
    "print(f\"MSE: {mse3}\")\n",
    "print(f\"R-squared: {r23}\")\n",
    "print(f\"SMAPE: {smape3}%\")"
   ]
  },
  {
   "cell_type": "code",
   "execution_count": null,
   "metadata": {},
   "outputs": [],
   "source": [
    "plt.scatter(y_test, predict3, color='blue', alpha=0.5)\n",
    "\n",
    "plt.xlabel('Valores Reales')\n",
    "plt.ylabel('predicciones')\n",
    "plt.xlim(0,1)\n",
    "plt.ylim(0,1)\n",
    "\n",
    "plt.show()"
   ]
  },
  {
   "cell_type": "code",
   "execution_count": null,
   "metadata": {},
   "outputs": [],
   "source": [
    "residuos = []\n",
    "for a in range(len(y_test)):\n",
    "    residuos.append(float(y_test[a])-float(predict3[a]))\n",
    "    import seaborn as sns\n",
    "sns.histplot(residuos,kde=True,bins=600)\n",
    "plt.xlim(-0.1,0.1)\n",
    "plt.show()"
   ]
  },
  {
   "cell_type": "markdown",
   "metadata": {},
   "source": [
    "### Usando 7 días para predecir día siguiente (Capping)"
   ]
  },
  {
   "cell_type": "code",
   "execution_count": 5,
   "metadata": {},
   "outputs": [],
   "source": [
    "# Calcular la media y la desviación estándar\n",
    "mean = df['mp10'].mean()\n",
    "std = df['mp10'].std()\n",
    "\n",
    "# Definir límites usando múltiplos de la desviación estándar (ej. 3 desviaciones estándar)\n",
    "lower_cap = mean - 3 * std  # Límite inferior: media - 3 veces la desviación estándar\n",
    "upper_cap = mean + 3 * std  # Límite superior: media + 3 veces la desviación estándar\n",
    "\n",
    "# Aplicar el capping\n",
    "df['mp10'] = df['mp10'].clip(lower=lower_cap, upper=upper_cap)"
   ]
  },
  {
   "cell_type": "code",
   "execution_count": 26,
   "metadata": {},
   "outputs": [
    {
     "data": {
      "text/plain": [
       "count    151917.000000\n",
       "mean         55.373795\n",
       "std          31.277526\n",
       "min           0.000000\n",
       "25%          34.208300\n",
       "50%          49.000000\n",
       "75%          69.833300\n",
       "max         158.915720\n",
       "Name: mp10, dtype: float64"
      ]
     },
     "execution_count": 26,
     "metadata": {},
     "output_type": "execute_result"
    }
   ],
   "source": [
    "df['mp10'].describe()"
   ]
  },
  {
   "cell_type": "code",
   "execution_count": 6,
   "metadata": {},
   "outputs": [
    {
     "name": "stdout",
     "output_type": "stream",
     "text": [
      "Forma de X: (103015, 7, 17), Forma de y: (103015, 1), Total de imágenes: (103015,)\n",
      "Train set: X=(72110, 7, 17), y=(72110, 1), images=(72110,)\n",
      "Test set: X=(20706, 7, 17), y=(20706, 1), images=(20706,)\n",
      "Validation set: X=(10199, 7, 17), y=(10199, 1), images=(10199,)\n"
     ]
    }
   ],
   "source": [
    "from sklearn.model_selection import train_test_split\n",
    "import numpy as np\n",
    "from sklearn.preprocessing import MinMaxScaler\n",
    "\n",
    "\n",
    "# Definir la longitud de la secuencia para la LSTM\n",
    "sequence_length = 7  # Supongamos que usas 7 días para la LSTM\n",
    "\n",
    "# Variables para almacenar las secuencias, el target y las imágenes\n",
    "X, y, images = [], [], []\n",
    "\n",
    "# Recorre los datos por locación\n",
    "for location, location_df in grouped_data.items():\n",
    "    features = location_df.drop(['Date', 'station', 'mp10', 'image'], axis=1).values\n",
    "    target = location_df['mp10'].values\n",
    "    image_series = location_df['image'].values\n",
    "\n",
    "    for i in range(sequence_length, len(features)):\n",
    "        # Crear secuencia de entrada de `sequence_length` días\n",
    "        sequence_features = features[i-sequence_length:i]\n",
    "        sequence_target = target[i]\n",
    "        \n",
    "        # Buscar una imagen en la secuencia (la más cercana al último día de la secuencia)\n",
    "        image_associated = image_series[i-sequence_length:i]\n",
    "        image_file = next((img for img in reversed(image_associated) if img != 0), None)\n",
    "        \n",
    "        # Añadir solo si hay una imagen válida asociada\n",
    "        if image_file:\n",
    "            X.append(sequence_features)\n",
    "            y.append(sequence_target)\n",
    "            images.append(image_file)\n",
    "\n",
    "# Convertir las listas a arrays de numpy\n",
    "X, y = np.array(X), np.array(y)\n",
    "images = np.array(images)\n",
    "\n",
    "# Normalizar características de entrada\n",
    "scaler_X = MinMaxScaler()\n",
    "X_reshaped = X.reshape(-1, X.shape[-1])\n",
    "X_normalized = scaler_X.fit_transform(X_reshaped)\n",
    "X = X_normalized.reshape(X.shape)\n",
    "\n",
    "scaler_y = MinMaxScaler()\n",
    "y = scaler_y.fit_transform(y.reshape(-1, 1))\n",
    "\n",
    "print(f\"Forma de X: {X.shape}, Forma de y: {y.shape}, Total de imágenes: {images.shape}\")\n",
    "\n",
    "# Dividir los datos en 70% entrenamiento, 20% test, 10% validación\n",
    "X_train, X_temp, y_train, y_temp, images_train, images_temp = train_test_split(X, y, images, test_size=0.30, random_state=42)\n",
    "\n",
    "# Dividir el 30% restante en 20% test y 10% validación\n",
    "X_test, X_val, y_test, y_val, images_test, images_val = train_test_split(X_temp, y_temp, images_temp, test_size=0.33, random_state=42)  # 0.33 * 0.30 = ~0.10\n",
    "\n",
    "# Imprimir las formas para verificar las divisiones\n",
    "print(f\"Train set: X={X_train.shape}, y={y_train.shape}, images={images_train.shape}\")\n",
    "print(f\"Test set: X={X_test.shape}, y={y_test.shape}, images={images_test.shape}\")\n",
    "print(f\"Validation set: X={X_val.shape}, y={y_val.shape}, images={images_val.shape}\")\n"
   ]
  },
  {
   "cell_type": "code",
   "execution_count": 7,
   "metadata": {},
   "outputs": [
    {
     "data": {
      "text/html": [
       "<pre style=\"white-space:pre;overflow-x:auto;line-height:normal;font-family:Menlo,'DejaVu Sans Mono',consolas,'Courier New',monospace\"><span style=\"font-weight: bold\">Model: \"functional_1\"</span>\n",
       "</pre>\n"
      ],
      "text/plain": [
       "\u001b[1mModel: \"functional_1\"\u001b[0m\n"
      ]
     },
     "metadata": {},
     "output_type": "display_data"
    },
    {
     "data": {
      "text/html": [
       "<pre style=\"white-space:pre;overflow-x:auto;line-height:normal;font-family:Menlo,'DejaVu Sans Mono',consolas,'Courier New',monospace\">┏━━━━━━━━━━━━━━━━━━━━━┳━━━━━━━━━━━━━━━━━━━┳━━━━━━━━━━━━┳━━━━━━━━━━━━━━━━━━━┓\n",
       "┃<span style=\"font-weight: bold\"> Layer (type)        </span>┃<span style=\"font-weight: bold\"> Output Shape      </span>┃<span style=\"font-weight: bold\">    Param # </span>┃<span style=\"font-weight: bold\"> Connected to      </span>┃\n",
       "┡━━━━━━━━━━━━━━━━━━━━━╇━━━━━━━━━━━━━━━━━━━╇━━━━━━━━━━━━╇━━━━━━━━━━━━━━━━━━━┩\n",
       "│ input_layer         │ (<span style=\"color: #00d7ff; text-decoration-color: #00d7ff\">None</span>, <span style=\"color: #00af00; text-decoration-color: #00af00\">224</span>, <span style=\"color: #00af00; text-decoration-color: #00af00\">224</span>,  │          <span style=\"color: #00af00; text-decoration-color: #00af00\">0</span> │ -                 │\n",
       "│ (<span style=\"color: #0087ff; text-decoration-color: #0087ff\">InputLayer</span>)        │ <span style=\"color: #00af00; text-decoration-color: #00af00\">6</span>)                │            │                   │\n",
       "├─────────────────────┼───────────────────┼────────────┼───────────────────┤\n",
       "│ conv2d (<span style=\"color: #0087ff; text-decoration-color: #0087ff\">Conv2D</span>)     │ (<span style=\"color: #00d7ff; text-decoration-color: #00d7ff\">None</span>, <span style=\"color: #00af00; text-decoration-color: #00af00\">222</span>, <span style=\"color: #00af00; text-decoration-color: #00af00\">222</span>,  │        <span style=\"color: #00af00; text-decoration-color: #00af00\">880</span> │ input_layer[<span style=\"color: #00af00; text-decoration-color: #00af00\">0</span>][<span style=\"color: #00af00; text-decoration-color: #00af00\">0</span>] │\n",
       "│                     │ <span style=\"color: #00af00; text-decoration-color: #00af00\">16</span>)               │            │                   │\n",
       "├─────────────────────┼───────────────────┼────────────┼───────────────────┤\n",
       "│ average_pooling2d   │ (<span style=\"color: #00d7ff; text-decoration-color: #00d7ff\">None</span>, <span style=\"color: #00af00; text-decoration-color: #00af00\">111</span>, <span style=\"color: #00af00; text-decoration-color: #00af00\">111</span>,  │          <span style=\"color: #00af00; text-decoration-color: #00af00\">0</span> │ conv2d[<span style=\"color: #00af00; text-decoration-color: #00af00\">0</span>][<span style=\"color: #00af00; text-decoration-color: #00af00\">0</span>]      │\n",
       "│ (<span style=\"color: #0087ff; text-decoration-color: #0087ff\">AveragePooling2D</span>)  │ <span style=\"color: #00af00; text-decoration-color: #00af00\">16</span>)               │            │                   │\n",
       "├─────────────────────┼───────────────────┼────────────┼───────────────────┤\n",
       "│ conv2d_1 (<span style=\"color: #0087ff; text-decoration-color: #0087ff\">Conv2D</span>)   │ (<span style=\"color: #00d7ff; text-decoration-color: #00d7ff\">None</span>, <span style=\"color: #00af00; text-decoration-color: #00af00\">109</span>, <span style=\"color: #00af00; text-decoration-color: #00af00\">109</span>,  │      <span style=\"color: #00af00; text-decoration-color: #00af00\">4,640</span> │ average_pooling2… │\n",
       "│                     │ <span style=\"color: #00af00; text-decoration-color: #00af00\">32</span>)               │            │                   │\n",
       "├─────────────────────┼───────────────────┼────────────┼───────────────────┤\n",
       "│ average_pooling2d_1 │ (<span style=\"color: #00d7ff; text-decoration-color: #00d7ff\">None</span>, <span style=\"color: #00af00; text-decoration-color: #00af00\">54</span>, <span style=\"color: #00af00; text-decoration-color: #00af00\">54</span>,    │          <span style=\"color: #00af00; text-decoration-color: #00af00\">0</span> │ conv2d_1[<span style=\"color: #00af00; text-decoration-color: #00af00\">0</span>][<span style=\"color: #00af00; text-decoration-color: #00af00\">0</span>]    │\n",
       "│ (<span style=\"color: #0087ff; text-decoration-color: #0087ff\">AveragePooling2D</span>)  │ <span style=\"color: #00af00; text-decoration-color: #00af00\">32</span>)               │            │                   │\n",
       "├─────────────────────┼───────────────────┼────────────┼───────────────────┤\n",
       "│ conv2d_2 (<span style=\"color: #0087ff; text-decoration-color: #0087ff\">Conv2D</span>)   │ (<span style=\"color: #00d7ff; text-decoration-color: #00d7ff\">None</span>, <span style=\"color: #00af00; text-decoration-color: #00af00\">52</span>, <span style=\"color: #00af00; text-decoration-color: #00af00\">52</span>,    │      <span style=\"color: #00af00; text-decoration-color: #00af00\">9,248</span> │ average_pooling2… │\n",
       "│                     │ <span style=\"color: #00af00; text-decoration-color: #00af00\">32</span>)               │            │                   │\n",
       "├─────────────────────┼───────────────────┼────────────┼───────────────────┤\n",
       "│ average_pooling2d_2 │ (<span style=\"color: #00d7ff; text-decoration-color: #00d7ff\">None</span>, <span style=\"color: #00af00; text-decoration-color: #00af00\">26</span>, <span style=\"color: #00af00; text-decoration-color: #00af00\">26</span>,    │          <span style=\"color: #00af00; text-decoration-color: #00af00\">0</span> │ conv2d_2[<span style=\"color: #00af00; text-decoration-color: #00af00\">0</span>][<span style=\"color: #00af00; text-decoration-color: #00af00\">0</span>]    │\n",
       "│ (<span style=\"color: #0087ff; text-decoration-color: #0087ff\">AveragePooling2D</span>)  │ <span style=\"color: #00af00; text-decoration-color: #00af00\">32</span>)               │            │                   │\n",
       "├─────────────────────┼───────────────────┼────────────┼───────────────────┤\n",
       "│ conv2d_3 (<span style=\"color: #0087ff; text-decoration-color: #0087ff\">Conv2D</span>)   │ (<span style=\"color: #00d7ff; text-decoration-color: #00d7ff\">None</span>, <span style=\"color: #00af00; text-decoration-color: #00af00\">24</span>, <span style=\"color: #00af00; text-decoration-color: #00af00\">24</span>,    │      <span style=\"color: #00af00; text-decoration-color: #00af00\">9,248</span> │ average_pooling2… │\n",
       "│                     │ <span style=\"color: #00af00; text-decoration-color: #00af00\">32</span>)               │            │                   │\n",
       "├─────────────────────┼───────────────────┼────────────┼───────────────────┤\n",
       "│ average_pooling2d_3 │ (<span style=\"color: #00d7ff; text-decoration-color: #00d7ff\">None</span>, <span style=\"color: #00af00; text-decoration-color: #00af00\">12</span>, <span style=\"color: #00af00; text-decoration-color: #00af00\">12</span>,    │          <span style=\"color: #00af00; text-decoration-color: #00af00\">0</span> │ conv2d_3[<span style=\"color: #00af00; text-decoration-color: #00af00\">0</span>][<span style=\"color: #00af00; text-decoration-color: #00af00\">0</span>]    │\n",
       "│ (<span style=\"color: #0087ff; text-decoration-color: #0087ff\">AveragePooling2D</span>)  │ <span style=\"color: #00af00; text-decoration-color: #00af00\">32</span>)               │            │                   │\n",
       "├─────────────────────┼───────────────────┼────────────┼───────────────────┤\n",
       "│ flatten (<span style=\"color: #0087ff; text-decoration-color: #0087ff\">Flatten</span>)   │ (<span style=\"color: #00d7ff; text-decoration-color: #00d7ff\">None</span>, <span style=\"color: #00af00; text-decoration-color: #00af00\">4608</span>)      │          <span style=\"color: #00af00; text-decoration-color: #00af00\">0</span> │ average_pooling2… │\n",
       "├─────────────────────┼───────────────────┼────────────┼───────────────────┤\n",
       "│ input_layer_1       │ (<span style=\"color: #00d7ff; text-decoration-color: #00d7ff\">None</span>, <span style=\"color: #00af00; text-decoration-color: #00af00\">7</span>, <span style=\"color: #00af00; text-decoration-color: #00af00\">17</span>)     │          <span style=\"color: #00af00; text-decoration-color: #00af00\">0</span> │ -                 │\n",
       "│ (<span style=\"color: #0087ff; text-decoration-color: #0087ff\">InputLayer</span>)        │                   │            │                   │\n",
       "├─────────────────────┼───────────────────┼────────────┼───────────────────┤\n",
       "│ dense (<span style=\"color: #0087ff; text-decoration-color: #0087ff\">Dense</span>)       │ (<span style=\"color: #00d7ff; text-decoration-color: #00d7ff\">None</span>, <span style=\"color: #00af00; text-decoration-color: #00af00\">128</span>)       │    <span style=\"color: #00af00; text-decoration-color: #00af00\">589,952</span> │ flatten[<span style=\"color: #00af00; text-decoration-color: #00af00\">0</span>][<span style=\"color: #00af00; text-decoration-color: #00af00\">0</span>]     │\n",
       "├─────────────────────┼───────────────────┼────────────┼───────────────────┤\n",
       "│ lstm (<span style=\"color: #0087ff; text-decoration-color: #0087ff\">LSTM</span>)         │ (<span style=\"color: #00d7ff; text-decoration-color: #00d7ff\">None</span>, <span style=\"color: #00af00; text-decoration-color: #00af00\">7</span>, <span style=\"color: #00af00; text-decoration-color: #00af00\">50</span>)     │     <span style=\"color: #00af00; text-decoration-color: #00af00\">13,600</span> │ input_layer_1[<span style=\"color: #00af00; text-decoration-color: #00af00\">0</span>]… │\n",
       "├─────────────────────┼───────────────────┼────────────┼───────────────────┤\n",
       "│ dropout (<span style=\"color: #0087ff; text-decoration-color: #0087ff\">Dropout</span>)   │ (<span style=\"color: #00d7ff; text-decoration-color: #00d7ff\">None</span>, <span style=\"color: #00af00; text-decoration-color: #00af00\">128</span>)       │          <span style=\"color: #00af00; text-decoration-color: #00af00\">0</span> │ dense[<span style=\"color: #00af00; text-decoration-color: #00af00\">0</span>][<span style=\"color: #00af00; text-decoration-color: #00af00\">0</span>]       │\n",
       "├─────────────────────┼───────────────────┼────────────┼───────────────────┤\n",
       "│ lstm_1 (<span style=\"color: #0087ff; text-decoration-color: #0087ff\">LSTM</span>)       │ (<span style=\"color: #00d7ff; text-decoration-color: #00d7ff\">None</span>, <span style=\"color: #00af00; text-decoration-color: #00af00\">50</span>)        │     <span style=\"color: #00af00; text-decoration-color: #00af00\">20,200</span> │ lstm[<span style=\"color: #00af00; text-decoration-color: #00af00\">0</span>][<span style=\"color: #00af00; text-decoration-color: #00af00\">0</span>]        │\n",
       "├─────────────────────┼───────────────────┼────────────┼───────────────────┤\n",
       "│ concatenate         │ (<span style=\"color: #00d7ff; text-decoration-color: #00d7ff\">None</span>, <span style=\"color: #00af00; text-decoration-color: #00af00\">178</span>)       │          <span style=\"color: #00af00; text-decoration-color: #00af00\">0</span> │ dropout[<span style=\"color: #00af00; text-decoration-color: #00af00\">0</span>][<span style=\"color: #00af00; text-decoration-color: #00af00\">0</span>],    │\n",
       "│ (<span style=\"color: #0087ff; text-decoration-color: #0087ff\">Concatenate</span>)       │                   │            │ lstm_1[<span style=\"color: #00af00; text-decoration-color: #00af00\">0</span>][<span style=\"color: #00af00; text-decoration-color: #00af00\">0</span>]      │\n",
       "├─────────────────────┼───────────────────┼────────────┼───────────────────┤\n",
       "│ dense_1 (<span style=\"color: #0087ff; text-decoration-color: #0087ff\">Dense</span>)     │ (<span style=\"color: #00d7ff; text-decoration-color: #00d7ff\">None</span>, <span style=\"color: #00af00; text-decoration-color: #00af00\">128</span>)       │     <span style=\"color: #00af00; text-decoration-color: #00af00\">22,912</span> │ concatenate[<span style=\"color: #00af00; text-decoration-color: #00af00\">0</span>][<span style=\"color: #00af00; text-decoration-color: #00af00\">0</span>] │\n",
       "├─────────────────────┼───────────────────┼────────────┼───────────────────┤\n",
       "│ dropout_1 (<span style=\"color: #0087ff; text-decoration-color: #0087ff\">Dropout</span>) │ (<span style=\"color: #00d7ff; text-decoration-color: #00d7ff\">None</span>, <span style=\"color: #00af00; text-decoration-color: #00af00\">128</span>)       │          <span style=\"color: #00af00; text-decoration-color: #00af00\">0</span> │ dense_1[<span style=\"color: #00af00; text-decoration-color: #00af00\">0</span>][<span style=\"color: #00af00; text-decoration-color: #00af00\">0</span>]     │\n",
       "├─────────────────────┼───────────────────┼────────────┼───────────────────┤\n",
       "│ dense_2 (<span style=\"color: #0087ff; text-decoration-color: #0087ff\">Dense</span>)     │ (<span style=\"color: #00d7ff; text-decoration-color: #00d7ff\">None</span>, <span style=\"color: #00af00; text-decoration-color: #00af00\">1</span>)         │        <span style=\"color: #00af00; text-decoration-color: #00af00\">129</span> │ dropout_1[<span style=\"color: #00af00; text-decoration-color: #00af00\">0</span>][<span style=\"color: #00af00; text-decoration-color: #00af00\">0</span>]   │\n",
       "└─────────────────────┴───────────────────┴────────────┴───────────────────┘\n",
       "</pre>\n"
      ],
      "text/plain": [
       "┏━━━━━━━━━━━━━━━━━━━━━┳━━━━━━━━━━━━━━━━━━━┳━━━━━━━━━━━━┳━━━━━━━━━━━━━━━━━━━┓\n",
       "┃\u001b[1m \u001b[0m\u001b[1mLayer (type)       \u001b[0m\u001b[1m \u001b[0m┃\u001b[1m \u001b[0m\u001b[1mOutput Shape     \u001b[0m\u001b[1m \u001b[0m┃\u001b[1m \u001b[0m\u001b[1m   Param #\u001b[0m\u001b[1m \u001b[0m┃\u001b[1m \u001b[0m\u001b[1mConnected to     \u001b[0m\u001b[1m \u001b[0m┃\n",
       "┡━━━━━━━━━━━━━━━━━━━━━╇━━━━━━━━━━━━━━━━━━━╇━━━━━━━━━━━━╇━━━━━━━━━━━━━━━━━━━┩\n",
       "│ input_layer         │ (\u001b[38;5;45mNone\u001b[0m, \u001b[38;5;34m224\u001b[0m, \u001b[38;5;34m224\u001b[0m,  │          \u001b[38;5;34m0\u001b[0m │ -                 │\n",
       "│ (\u001b[38;5;33mInputLayer\u001b[0m)        │ \u001b[38;5;34m6\u001b[0m)                │            │                   │\n",
       "├─────────────────────┼───────────────────┼────────────┼───────────────────┤\n",
       "│ conv2d (\u001b[38;5;33mConv2D\u001b[0m)     │ (\u001b[38;5;45mNone\u001b[0m, \u001b[38;5;34m222\u001b[0m, \u001b[38;5;34m222\u001b[0m,  │        \u001b[38;5;34m880\u001b[0m │ input_layer[\u001b[38;5;34m0\u001b[0m][\u001b[38;5;34m0\u001b[0m] │\n",
       "│                     │ \u001b[38;5;34m16\u001b[0m)               │            │                   │\n",
       "├─────────────────────┼───────────────────┼────────────┼───────────────────┤\n",
       "│ average_pooling2d   │ (\u001b[38;5;45mNone\u001b[0m, \u001b[38;5;34m111\u001b[0m, \u001b[38;5;34m111\u001b[0m,  │          \u001b[38;5;34m0\u001b[0m │ conv2d[\u001b[38;5;34m0\u001b[0m][\u001b[38;5;34m0\u001b[0m]      │\n",
       "│ (\u001b[38;5;33mAveragePooling2D\u001b[0m)  │ \u001b[38;5;34m16\u001b[0m)               │            │                   │\n",
       "├─────────────────────┼───────────────────┼────────────┼───────────────────┤\n",
       "│ conv2d_1 (\u001b[38;5;33mConv2D\u001b[0m)   │ (\u001b[38;5;45mNone\u001b[0m, \u001b[38;5;34m109\u001b[0m, \u001b[38;5;34m109\u001b[0m,  │      \u001b[38;5;34m4,640\u001b[0m │ average_pooling2… │\n",
       "│                     │ \u001b[38;5;34m32\u001b[0m)               │            │                   │\n",
       "├─────────────────────┼───────────────────┼────────────┼───────────────────┤\n",
       "│ average_pooling2d_1 │ (\u001b[38;5;45mNone\u001b[0m, \u001b[38;5;34m54\u001b[0m, \u001b[38;5;34m54\u001b[0m,    │          \u001b[38;5;34m0\u001b[0m │ conv2d_1[\u001b[38;5;34m0\u001b[0m][\u001b[38;5;34m0\u001b[0m]    │\n",
       "│ (\u001b[38;5;33mAveragePooling2D\u001b[0m)  │ \u001b[38;5;34m32\u001b[0m)               │            │                   │\n",
       "├─────────────────────┼───────────────────┼────────────┼───────────────────┤\n",
       "│ conv2d_2 (\u001b[38;5;33mConv2D\u001b[0m)   │ (\u001b[38;5;45mNone\u001b[0m, \u001b[38;5;34m52\u001b[0m, \u001b[38;5;34m52\u001b[0m,    │      \u001b[38;5;34m9,248\u001b[0m │ average_pooling2… │\n",
       "│                     │ \u001b[38;5;34m32\u001b[0m)               │            │                   │\n",
       "├─────────────────────┼───────────────────┼────────────┼───────────────────┤\n",
       "│ average_pooling2d_2 │ (\u001b[38;5;45mNone\u001b[0m, \u001b[38;5;34m26\u001b[0m, \u001b[38;5;34m26\u001b[0m,    │          \u001b[38;5;34m0\u001b[0m │ conv2d_2[\u001b[38;5;34m0\u001b[0m][\u001b[38;5;34m0\u001b[0m]    │\n",
       "│ (\u001b[38;5;33mAveragePooling2D\u001b[0m)  │ \u001b[38;5;34m32\u001b[0m)               │            │                   │\n",
       "├─────────────────────┼───────────────────┼────────────┼───────────────────┤\n",
       "│ conv2d_3 (\u001b[38;5;33mConv2D\u001b[0m)   │ (\u001b[38;5;45mNone\u001b[0m, \u001b[38;5;34m24\u001b[0m, \u001b[38;5;34m24\u001b[0m,    │      \u001b[38;5;34m9,248\u001b[0m │ average_pooling2… │\n",
       "│                     │ \u001b[38;5;34m32\u001b[0m)               │            │                   │\n",
       "├─────────────────────┼───────────────────┼────────────┼───────────────────┤\n",
       "│ average_pooling2d_3 │ (\u001b[38;5;45mNone\u001b[0m, \u001b[38;5;34m12\u001b[0m, \u001b[38;5;34m12\u001b[0m,    │          \u001b[38;5;34m0\u001b[0m │ conv2d_3[\u001b[38;5;34m0\u001b[0m][\u001b[38;5;34m0\u001b[0m]    │\n",
       "│ (\u001b[38;5;33mAveragePooling2D\u001b[0m)  │ \u001b[38;5;34m32\u001b[0m)               │            │                   │\n",
       "├─────────────────────┼───────────────────┼────────────┼───────────────────┤\n",
       "│ flatten (\u001b[38;5;33mFlatten\u001b[0m)   │ (\u001b[38;5;45mNone\u001b[0m, \u001b[38;5;34m4608\u001b[0m)      │          \u001b[38;5;34m0\u001b[0m │ average_pooling2… │\n",
       "├─────────────────────┼───────────────────┼────────────┼───────────────────┤\n",
       "│ input_layer_1       │ (\u001b[38;5;45mNone\u001b[0m, \u001b[38;5;34m7\u001b[0m, \u001b[38;5;34m17\u001b[0m)     │          \u001b[38;5;34m0\u001b[0m │ -                 │\n",
       "│ (\u001b[38;5;33mInputLayer\u001b[0m)        │                   │            │                   │\n",
       "├─────────────────────┼───────────────────┼────────────┼───────────────────┤\n",
       "│ dense (\u001b[38;5;33mDense\u001b[0m)       │ (\u001b[38;5;45mNone\u001b[0m, \u001b[38;5;34m128\u001b[0m)       │    \u001b[38;5;34m589,952\u001b[0m │ flatten[\u001b[38;5;34m0\u001b[0m][\u001b[38;5;34m0\u001b[0m]     │\n",
       "├─────────────────────┼───────────────────┼────────────┼───────────────────┤\n",
       "│ lstm (\u001b[38;5;33mLSTM\u001b[0m)         │ (\u001b[38;5;45mNone\u001b[0m, \u001b[38;5;34m7\u001b[0m, \u001b[38;5;34m50\u001b[0m)     │     \u001b[38;5;34m13,600\u001b[0m │ input_layer_1[\u001b[38;5;34m0\u001b[0m]… │\n",
       "├─────────────────────┼───────────────────┼────────────┼───────────────────┤\n",
       "│ dropout (\u001b[38;5;33mDropout\u001b[0m)   │ (\u001b[38;5;45mNone\u001b[0m, \u001b[38;5;34m128\u001b[0m)       │          \u001b[38;5;34m0\u001b[0m │ dense[\u001b[38;5;34m0\u001b[0m][\u001b[38;5;34m0\u001b[0m]       │\n",
       "├─────────────────────┼───────────────────┼────────────┼───────────────────┤\n",
       "│ lstm_1 (\u001b[38;5;33mLSTM\u001b[0m)       │ (\u001b[38;5;45mNone\u001b[0m, \u001b[38;5;34m50\u001b[0m)        │     \u001b[38;5;34m20,200\u001b[0m │ lstm[\u001b[38;5;34m0\u001b[0m][\u001b[38;5;34m0\u001b[0m]        │\n",
       "├─────────────────────┼───────────────────┼────────────┼───────────────────┤\n",
       "│ concatenate         │ (\u001b[38;5;45mNone\u001b[0m, \u001b[38;5;34m178\u001b[0m)       │          \u001b[38;5;34m0\u001b[0m │ dropout[\u001b[38;5;34m0\u001b[0m][\u001b[38;5;34m0\u001b[0m],    │\n",
       "│ (\u001b[38;5;33mConcatenate\u001b[0m)       │                   │            │ lstm_1[\u001b[38;5;34m0\u001b[0m][\u001b[38;5;34m0\u001b[0m]      │\n",
       "├─────────────────────┼───────────────────┼────────────┼───────────────────┤\n",
       "│ dense_1 (\u001b[38;5;33mDense\u001b[0m)     │ (\u001b[38;5;45mNone\u001b[0m, \u001b[38;5;34m128\u001b[0m)       │     \u001b[38;5;34m22,912\u001b[0m │ concatenate[\u001b[38;5;34m0\u001b[0m][\u001b[38;5;34m0\u001b[0m] │\n",
       "├─────────────────────┼───────────────────┼────────────┼───────────────────┤\n",
       "│ dropout_1 (\u001b[38;5;33mDropout\u001b[0m) │ (\u001b[38;5;45mNone\u001b[0m, \u001b[38;5;34m128\u001b[0m)       │          \u001b[38;5;34m0\u001b[0m │ dense_1[\u001b[38;5;34m0\u001b[0m][\u001b[38;5;34m0\u001b[0m]     │\n",
       "├─────────────────────┼───────────────────┼────────────┼───────────────────┤\n",
       "│ dense_2 (\u001b[38;5;33mDense\u001b[0m)     │ (\u001b[38;5;45mNone\u001b[0m, \u001b[38;5;34m1\u001b[0m)         │        \u001b[38;5;34m129\u001b[0m │ dropout_1[\u001b[38;5;34m0\u001b[0m][\u001b[38;5;34m0\u001b[0m]   │\n",
       "└─────────────────────┴───────────────────┴────────────┴───────────────────┘\n"
      ]
     },
     "metadata": {},
     "output_type": "display_data"
    },
    {
     "data": {
      "text/html": [
       "<pre style=\"white-space:pre;overflow-x:auto;line-height:normal;font-family:Menlo,'DejaVu Sans Mono',consolas,'Courier New',monospace\"><span style=\"font-weight: bold\"> Total params: </span><span style=\"color: #00af00; text-decoration-color: #00af00\">670,809</span> (2.56 MB)\n",
       "</pre>\n"
      ],
      "text/plain": [
       "\u001b[1m Total params: \u001b[0m\u001b[38;5;34m670,809\u001b[0m (2.56 MB)\n"
      ]
     },
     "metadata": {},
     "output_type": "display_data"
    },
    {
     "data": {
      "text/html": [
       "<pre style=\"white-space:pre;overflow-x:auto;line-height:normal;font-family:Menlo,'DejaVu Sans Mono',consolas,'Courier New',monospace\"><span style=\"font-weight: bold\"> Trainable params: </span><span style=\"color: #00af00; text-decoration-color: #00af00\">670,809</span> (2.56 MB)\n",
       "</pre>\n"
      ],
      "text/plain": [
       "\u001b[1m Trainable params: \u001b[0m\u001b[38;5;34m670,809\u001b[0m (2.56 MB)\n"
      ]
     },
     "metadata": {},
     "output_type": "display_data"
    },
    {
     "data": {
      "text/html": [
       "<pre style=\"white-space:pre;overflow-x:auto;line-height:normal;font-family:Menlo,'DejaVu Sans Mono',consolas,'Courier New',monospace\"><span style=\"font-weight: bold\"> Non-trainable params: </span><span style=\"color: #00af00; text-decoration-color: #00af00\">0</span> (0.00 B)\n",
       "</pre>\n"
      ],
      "text/plain": [
       "\u001b[1m Non-trainable params: \u001b[0m\u001b[38;5;34m0\u001b[0m (0.00 B)\n"
      ]
     },
     "metadata": {},
     "output_type": "display_data"
    }
   ],
   "source": [
    "from tensorflow.keras.models import Model\n",
    "from tensorflow.keras.layers import Input, Conv2D, AveragePooling2D, Flatten, Dense, Dropout\n",
    "from tensorflow.keras.layers import LSTM, Concatenate\n",
    "from tensorflow.keras.layers import AveragePooling2D, Flatten, Dropout\n",
    "import tensorflow as tf\n",
    "# Definir la entrada para las imágenes (224x224x6)\n",
    "image_input = Input(shape=(224, 224, 6))\n",
    "\n",
    "# Red convolucional para procesar la entrada de imágenes\n",
    "x = Conv2D(filters=16, kernel_size=(3, 3), activation='relu')(image_input)\n",
    "x = AveragePooling2D(pool_size=(2, 2))(x)\n",
    "x = Conv2D(filters=32, kernel_size=(3, 3), activation='relu')(x)\n",
    "x = AveragePooling2D(pool_size=(2, 2))(x)\n",
    "x = Conv2D(filters=32, kernel_size=(3, 3), activation='relu')(x)\n",
    "x = AveragePooling2D(pool_size=(2, 2))(x)\n",
    "x = Conv2D(filters=32, kernel_size=(3, 3), activation='relu')(x)\n",
    "x = AveragePooling2D(pool_size=(2, 2))(x)\n",
    "\n",
    "# Aplanar la salida de la capa convolucional\n",
    "x = Flatten()(x)\n",
    "x = Dense(units=128, activation='relu')(x)\n",
    "x = Dropout(rate=0.5)(x)\n",
    "\n",
    "# Definir la entrada para la LSTM (datos secuenciales)\n",
    "sequence_input = Input(shape=(7, 17))  \n",
    "\n",
    "# Red LSTM para procesar la entrada secuencial\n",
    "y = LSTM(units=50, return_sequences=True)(sequence_input)\n",
    "y = LSTM(units=50)(y)\n",
    "\n",
    "# Combinar las salidas de la CNN y la LSTM\n",
    "combined = Concatenate()([x, y])\n",
    "\n",
    "# Añadir capas densas finales para predecir el valor final\n",
    "z = Dense(units=128, activation='relu')(combined)\n",
    "z = Dropout(rate=0.5)(z)\n",
    "z = Dense(units=1, activation='linear')(z)\n",
    "\n",
    "# Crear el modelo con dos entradas\n",
    "model4 = Model(inputs=[image_input, sequence_input], outputs=z)\n",
    "\n",
    "# Compilar el modelo\n",
    "model4.compile(optimizer='adam', loss='mean_absolute_error',metrics=['mean_squared_error','mean_absolute_percentage_error',smape])\n",
    "\n",
    "# Mostrar la arquitectura del modelo\n",
    "model4.summary()\n"
   ]
  },
  {
   "cell_type": "code",
   "execution_count": 8,
   "metadata": {},
   "outputs": [],
   "source": [
    "# Generador para combinar imágenes y secuencias\n",
    "def data_generator(image_files, sequences, labels): \n",
    "    for i in range(len(image_files)):\n",
    "        if image_files[i] != '':  # Si la imagen existe\n",
    "            image = preprocess_imagery(image_files[i])  # Cargar y preprocesar la imagen\n",
    "            image = tf.convert_to_tensor(image, dtype=tf.float32)\n",
    "        else:\n",
    "            image = tf.zeros((224, 224, 6), dtype=tf.float32)  # Si no hay imagen, usar un tensor de ceros\n",
    "            \n",
    "        sequence = tf.convert_to_tensor(sequences[i], dtype=tf.float32)  # Secuencia de datos tabulares\n",
    "        label = tf.convert_to_tensor(labels[i], dtype=tf.float32)  # Etiqueta (mp10)+\n",
    "        label=tf.squeeze(label)\n",
    "        \n",
    "        yield (image, sequence), label  # Dos entradas: imagen y secuencia\n",
    "\n",
    "# Crear el dataset\n",
    "def create_combined_dataset(image_files, sequences, labels, batch_size):\n",
    "    dataset = tf.data.Dataset.from_generator(\n",
    "        data_generator,\n",
    "        args=[image_files, sequences, labels],\n",
    "        output_signature=(\n",
    "            (tf.TensorSpec(shape=(224, 224, 6), dtype=tf.float32),  # Especificar el tamaño de las imágenes\n",
    "             tf.TensorSpec(shape=(7, sequences.shape[2]), dtype=tf.float32)),  # Secuencias de 7 días\n",
    "            tf.TensorSpec(shape=(), dtype=tf.float32)  # La etiqueta (mp10)\n",
    "        )\n",
    "    )\n",
    "    dataset = dataset.batch(batch_size)\n",
    "    dataset = dataset.prefetch(buffer_size=tf.data.AUTOTUNE)\n",
    "    return dataset\n",
    "\n",
    "# Ejemplo de uso para crear datasets de entrenamiento, validación y prueba\n",
    "batch_size = 32\n",
    "\n",
    "# Crear datasets\n",
    "train_dataset = create_combined_dataset(images_train, X_train, y_train, batch_size)\n",
    "val_dataset = create_combined_dataset(images_val, X_val, y_val, batch_size)\n",
    "test_dataset = create_combined_dataset(images_test, X_test, y_test, batch_size)\n"
   ]
  },
  {
   "cell_type": "code",
   "execution_count": 10,
   "metadata": {},
   "outputs": [],
   "source": [
    "checkpoint_path = \"training_4/ckpt.weights.h5\"\n",
    "checkpoint_dir = os.path.dirname(checkpoint_path)\n",
    "\n",
    "# Create a callback that saves the model's weights\n",
    "cp_callback = tf.keras.callbacks.ModelCheckpoint(filepath=checkpoint_path,\n",
    "                                                 save_weights_only=True,\n",
    "                                                 verbose=1)"
   ]
  },
  {
   "cell_type": "code",
   "execution_count": 11,
   "metadata": {},
   "outputs": [
    {
     "name": "stdout",
     "output_type": "stream",
     "text": [
      "Epoch 1/50\n"
     ]
    },
    {
     "name": "stderr",
     "output_type": "stream",
     "text": [
      "C:\\Users\\benja\\AppData\\Local\\Temp\\ipykernel_1964\\3065549325.py:10: DeprecationWarning: Starting with ImageIO v3 the behavior of this function will switch to that of iio.v3.imread. To keep the current behavior (and make this warning disappear) use `import imageio.v2 as imageio` or call `imageio.v2.imread` directly.\n",
      "  image = (imageio.imread(path))\n"
     ]
    },
    {
     "name": "stdout",
     "output_type": "stream",
     "text": [
      "\u001b[1m2253/2253\u001b[0m \u001b[32m━━━━━━━━━━━━━━━━━━━━\u001b[0m\u001b[37m\u001b[0m \u001b[1m0s\u001b[0m 269ms/step - loss: 0.0505 - mean_absolute_percentage_error: 163444.3281 - mean_squared_error: 0.1118 - smape: 51.7397\n",
      "Epoch 1: saving model to training_2/ckpt.weights.h5\n",
      "\u001b[1m2253/2253\u001b[0m \u001b[32m━━━━━━━━━━━━━━━━━━━━\u001b[0m\u001b[37m\u001b[0m \u001b[1m673s\u001b[0m 297ms/step - loss: 0.0505 - mean_absolute_percentage_error: 163410.6406 - mean_squared_error: 0.1118 - smape: 51.7384 - val_loss: 0.0182 - val_mean_absolute_percentage_error: 91616.1250 - val_mean_squared_error: 9.0473e-04 - val_smape: 48.6110\n",
      "Epoch 2/50\n",
      "\u001b[1m   1/2253\u001b[0m \u001b[37m━━━━━━━━━━━━━━━━━━━━\u001b[0m \u001b[1m2:15\u001b[0m 60ms/step - loss: 0.0137 - mean_absolute_percentage_error: 21.7818 - mean_squared_error: 2.8444e-04 - smape: 40.1053\n",
      "Epoch 2: saving model to training_2/ckpt.weights.h5\n",
      "\u001b[1m2253/2253\u001b[0m \u001b[32m━━━━━━━━━━━━━━━━━━━━\u001b[0m\u001b[37m\u001b[0m \u001b[1m0s\u001b[0m 51us/step - loss: 0.0137 - mean_absolute_percentage_error: 21.7818 - mean_squared_error: 2.8444e-04 - smape: 20.0616 - val_loss: 0.0180 - val_mean_absolute_percentage_error: 41.3462 - val_mean_squared_error: 6.4494e-04 - val_smape: 20.5652\n",
      "Epoch 3/50\n"
     ]
    },
    {
     "name": "stderr",
     "output_type": "stream",
     "text": [
      "c:\\Users\\benja\\anaconda3\\envs\\ee\\Lib\\contextlib.py:158: UserWarning: Your input ran out of data; interrupting training. Make sure that your dataset or generator can generate at least `steps_per_epoch * epochs` batches. You may need to use the `.repeat()` function when building your dataset.\n",
      "  self.gen.throw(value)\n"
     ]
    },
    {
     "name": "stdout",
     "output_type": "stream",
     "text": [
      "\u001b[1m2253/2253\u001b[0m \u001b[32m━━━━━━━━━━━━━━━━━━━━\u001b[0m\u001b[37m\u001b[0m \u001b[1m0s\u001b[0m 262ms/step - loss: 0.0185 - mean_absolute_percentage_error: 60291.5391 - mean_squared_error: 8.2490e-04 - smape: 48.8690\n",
      "Epoch 3: saving model to training_2/ckpt.weights.h5\n",
      "\u001b[1m2253/2253\u001b[0m \u001b[32m━━━━━━━━━━━━━━━━━━━━\u001b[0m\u001b[37m\u001b[0m \u001b[1m653s\u001b[0m 290ms/step - loss: 0.0185 - mean_absolute_percentage_error: 60295.8086 - mean_squared_error: 8.2488e-04 - smape: 48.8690 - val_loss: 0.0174 - val_mean_absolute_percentage_error: 90374.1562 - val_mean_squared_error: 8.2373e-04 - val_smape: 48.3642\n",
      "Epoch 4/50\n",
      "\u001b[1m   1/2253\u001b[0m \u001b[37m━━━━━━━━━━━━━━━━━━━━\u001b[0m \u001b[1m1:47\u001b[0m 48ms/step - loss: 0.0131 - mean_absolute_percentage_error: 21.9665 - mean_squared_error: 2.8226e-04 - smape: 45.7451\n",
      "Epoch 4: saving model to training_2/ckpt.weights.h5\n",
      "\u001b[1m2253/2253\u001b[0m \u001b[32m━━━━━━━━━━━━━━━━━━━━\u001b[0m\u001b[37m\u001b[0m \u001b[1m0s\u001b[0m 52us/step - loss: 0.0131 - mean_absolute_percentage_error: 21.9665 - mean_squared_error: 2.8226e-04 - smape: 22.8827 - val_loss: 0.0176 - val_mean_absolute_percentage_error: 39.5616 - val_mean_squared_error: 5.2449e-04 - val_smape: 19.7700\n",
      "Epoch 5/50\n",
      "\u001b[1m2253/2253\u001b[0m \u001b[32m━━━━━━━━━━━━━━━━━━━━\u001b[0m\u001b[37m\u001b[0m \u001b[1m0s\u001b[0m 261ms/step - loss: 0.0176 - mean_absolute_percentage_error: 60274.7109 - mean_squared_error: 7.5515e-04 - smape: 49.3615\n",
      "Epoch 5: saving model to training_2/ckpt.weights.h5\n",
      "\u001b[1m2253/2253\u001b[0m \u001b[32m━━━━━━━━━━━━━━━━━━━━\u001b[0m\u001b[37m\u001b[0m \u001b[1m652s\u001b[0m 289ms/step - loss: 0.0176 - mean_absolute_percentage_error: 60278.2852 - mean_squared_error: 7.5514e-04 - smape: 49.3614 - val_loss: 0.0173 - val_mean_absolute_percentage_error: 90787.7500 - val_mean_squared_error: 8.1795e-04 - val_smape: 47.2068\n",
      "Epoch 6/50\n",
      "\u001b[1m   1/2253\u001b[0m \u001b[37m━━━━━━━━━━━━━━━━━━━━\u001b[0m \u001b[1m2:15\u001b[0m 60ms/step - loss: 0.0130 - mean_absolute_percentage_error: 22.3586 - mean_squared_error: 2.4483e-04 - smape: 43.8381\n",
      "Epoch 6: saving model to training_2/ckpt.weights.h5\n",
      "\u001b[1m2253/2253\u001b[0m \u001b[32m━━━━━━━━━━━━━━━━━━━━\u001b[0m\u001b[37m\u001b[0m \u001b[1m0s\u001b[0m 50us/step - loss: 0.0130 - mean_absolute_percentage_error: 22.3586 - mean_squared_error: 2.4483e-04 - smape: 21.9288 - val_loss: 0.0166 - val_mean_absolute_percentage_error: 37.2945 - val_mean_squared_error: 4.9280e-04 - val_smape: 19.0973\n",
      "Epoch 7/50\n",
      "\u001b[1m2253/2253\u001b[0m \u001b[32m━━━━━━━━━━━━━━━━━━━━\u001b[0m\u001b[37m\u001b[0m \u001b[1m0s\u001b[0m 269ms/step - loss: 0.0172 - mean_absolute_percentage_error: 58050.4688 - mean_squared_error: 7.2729e-04 - smape: 49.7267\n",
      "Epoch 7: saving model to training_2/ckpt.weights.h5\n",
      "\u001b[1m2253/2253\u001b[0m \u001b[32m━━━━━━━━━━━━━━━━━━━━\u001b[0m\u001b[37m\u001b[0m \u001b[1m670s\u001b[0m 297ms/step - loss: 0.0172 - mean_absolute_percentage_error: 58053.8984 - mean_squared_error: 7.2728e-04 - smape: 49.7268 - val_loss: 0.0173 - val_mean_absolute_percentage_error: 80409.3047 - val_mean_squared_error: 8.4638e-04 - val_smape: 49.6041\n",
      "Epoch 8/50\n",
      "\u001b[1m   1/2253\u001b[0m \u001b[37m━━━━━━━━━━━━━━━━━━━━\u001b[0m \u001b[1m1:45\u001b[0m 47ms/step - loss: 0.0142 - mean_absolute_percentage_error: 20.6194 - mean_squared_error: 3.2854e-04 - smape: 40.5646\n",
      "Epoch 8: saving model to training_2/ckpt.weights.h5\n",
      "\u001b[1m2253/2253\u001b[0m \u001b[32m━━━━━━━━━━━━━━━━━━━━\u001b[0m\u001b[37m\u001b[0m \u001b[1m0s\u001b[0m 53us/step - loss: 0.0142 - mean_absolute_percentage_error: 20.6194 - mean_squared_error: 3.2854e-04 - smape: 20.2913 - val_loss: 0.0167 - val_mean_absolute_percentage_error: 36.1064 - val_mean_squared_error: 4.8431e-04 - val_smape: 19.6687\n",
      "Epoch 9/50\n",
      "\u001b[1m2253/2253\u001b[0m \u001b[32m━━━━━━━━━━━━━━━━━━━━\u001b[0m\u001b[37m\u001b[0m \u001b[1m0s\u001b[0m 264ms/step - loss: 0.0168 - mean_absolute_percentage_error: 58259.9258 - mean_squared_error: 7.0671e-04 - smape: 50.0814\n",
      "Epoch 9: saving model to training_2/ckpt.weights.h5\n",
      "\u001b[1m2253/2253\u001b[0m \u001b[32m━━━━━━━━━━━━━━━━━━━━\u001b[0m\u001b[37m\u001b[0m \u001b[1m658s\u001b[0m 292ms/step - loss: 0.0168 - mean_absolute_percentage_error: 58263.5898 - mean_squared_error: 7.0670e-04 - smape: 50.0814 - val_loss: 0.0167 - val_mean_absolute_percentage_error: 83389.1484 - val_mean_squared_error: 7.9033e-04 - val_smape: 48.6257\n",
      "Epoch 10/50\n",
      "\u001b[1m   1/2253\u001b[0m \u001b[37m━━━━━━━━━━━━━━━━━━━━\u001b[0m \u001b[1m1:50\u001b[0m 49ms/step - loss: 0.0133 - mean_absolute_percentage_error: 21.6027 - mean_squared_error: 2.6578e-04 - smape: 42.5558\n",
      "Epoch 10: saving model to training_2/ckpt.weights.h5\n",
      "\u001b[1m2253/2253\u001b[0m \u001b[32m━━━━━━━━━━━━━━━━━━━━\u001b[0m\u001b[37m\u001b[0m \u001b[1m0s\u001b[0m 59us/step - loss: 0.0133 - mean_absolute_percentage_error: 21.6027 - mean_squared_error: 2.6578e-04 - smape: 21.2873 - val_loss: 0.0160 - val_mean_absolute_percentage_error: 35.9356 - val_mean_squared_error: 4.7600e-04 - val_smape: 19.5488\n",
      "Epoch 11/50\n",
      "\u001b[1m2253/2253\u001b[0m \u001b[32m━━━━━━━━━━━━━━━━━━━━\u001b[0m\u001b[37m\u001b[0m \u001b[1m0s\u001b[0m 263ms/step - loss: 0.0166 - mean_absolute_percentage_error: 55748.1094 - mean_squared_error: 6.9267e-04 - smape: 50.1563\n",
      "Epoch 11: saving model to training_2/ckpt.weights.h5\n",
      "\u001b[1m2253/2253\u001b[0m \u001b[32m━━━━━━━━━━━━━━━━━━━━\u001b[0m\u001b[37m\u001b[0m \u001b[1m656s\u001b[0m 291ms/step - loss: 0.0166 - mean_absolute_percentage_error: 55751.7109 - mean_squared_error: 6.9266e-04 - smape: 50.1564 - val_loss: 0.0164 - val_mean_absolute_percentage_error: 75208.9609 - val_mean_squared_error: 7.7821e-04 - val_smape: 51.1898\n",
      "Epoch 12/50\n",
      "\u001b[1m   1/2253\u001b[0m \u001b[37m━━━━━━━━━━━━━━━━━━━━\u001b[0m \u001b[1m1:49\u001b[0m 49ms/step - loss: 0.0133 - mean_absolute_percentage_error: 24.3803 - mean_squared_error: 2.6549e-04 - smape: 51.5157\n",
      "Epoch 12: saving model to training_2/ckpt.weights.h5\n",
      "\u001b[1m2253/2253\u001b[0m \u001b[32m━━━━━━━━━━━━━━━━━━━━\u001b[0m\u001b[37m\u001b[0m \u001b[1m0s\u001b[0m 59us/step - loss: 0.0133 - mean_absolute_percentage_error: 24.3803 - mean_squared_error: 2.6549e-04 - smape: 25.7693 - val_loss: 0.0156 - val_mean_absolute_percentage_error: 34.6001 - val_mean_squared_error: 4.6908e-04 - val_smape: 20.1785\n",
      "Epoch 13/50\n",
      "\u001b[1m2253/2253\u001b[0m \u001b[32m━━━━━━━━━━━━━━━━━━━━\u001b[0m\u001b[37m\u001b[0m \u001b[1m0s\u001b[0m 265ms/step - loss: 0.0163 - mean_absolute_percentage_error: 55056.8750 - mean_squared_error: 6.7354e-04 - smape: 50.4665\n",
      "Epoch 13: saving model to training_2/ckpt.weights.h5\n",
      "\u001b[1m2253/2253\u001b[0m \u001b[32m━━━━━━━━━━━━━━━━━━━━\u001b[0m\u001b[37m\u001b[0m \u001b[1m660s\u001b[0m 293ms/step - loss: 0.0163 - mean_absolute_percentage_error: 55060.4922 - mean_squared_error: 6.7353e-04 - smape: 50.4665 - val_loss: 0.0164 - val_mean_absolute_percentage_error: 72284.6250 - val_mean_squared_error: 7.7558e-04 - val_smape: 52.8962\n",
      "Epoch 14/50\n",
      "\u001b[1m   1/2253\u001b[0m \u001b[37m━━━━━━━━━━━━━━━━━━━━\u001b[0m \u001b[1m1:46\u001b[0m 47ms/step - loss: 0.0131 - mean_absolute_percentage_error: 21.7907 - mean_squared_error: 2.8223e-04 - smape: 47.2808\n",
      "Epoch 14: saving model to training_2/ckpt.weights.h5\n",
      "\u001b[1m2253/2253\u001b[0m \u001b[32m━━━━━━━━━━━━━━━━━━━━\u001b[0m\u001b[37m\u001b[0m \u001b[1m0s\u001b[0m 56us/step - loss: 0.0131 - mean_absolute_percentage_error: 21.7907 - mean_squared_error: 2.8223e-04 - smape: 23.6509 - val_loss: 0.0157 - val_mean_absolute_percentage_error: 35.2171 - val_mean_squared_error: 4.9913e-04 - val_smape: 20.3950\n",
      "Epoch 15/50\n",
      "\u001b[1m2253/2253\u001b[0m \u001b[32m━━━━━━━━━━━━━━━━━━━━\u001b[0m\u001b[37m\u001b[0m \u001b[1m0s\u001b[0m 263ms/step - loss: 0.0162 - mean_absolute_percentage_error: 53261.2930 - mean_squared_error: 6.6622e-04 - smape: 50.6408\n",
      "Epoch 15: saving model to training_2/ckpt.weights.h5\n",
      "\u001b[1m2253/2253\u001b[0m \u001b[32m━━━━━━━━━━━━━━━━━━━━\u001b[0m\u001b[37m\u001b[0m \u001b[1m656s\u001b[0m 291ms/step - loss: 0.0162 - mean_absolute_percentage_error: 53264.7656 - mean_squared_error: 6.6621e-04 - smape: 50.6408 - val_loss: 0.0159 - val_mean_absolute_percentage_error: 65968.1328 - val_mean_squared_error: 7.4691e-04 - val_smape: 52.4072\n",
      "Epoch 16/50\n",
      "\u001b[1m   1/2253\u001b[0m \u001b[37m━━━━━━━━━━━━━━━━━━━━\u001b[0m \u001b[1m1:46\u001b[0m 47ms/step - loss: 0.0125 - mean_absolute_percentage_error: 20.1967 - mean_squared_error: 2.4718e-04 - smape: 43.4280\n",
      "Epoch 16: saving model to training_2/ckpt.weights.h5\n",
      "\u001b[1m2253/2253\u001b[0m \u001b[32m━━━━━━━━━━━━━━━━━━━━\u001b[0m\u001b[37m\u001b[0m \u001b[1m0s\u001b[0m 58us/step - loss: 0.0125 - mean_absolute_percentage_error: 20.1967 - mean_squared_error: 2.4718e-04 - smape: 21.7237 - val_loss: 0.0157 - val_mean_absolute_percentage_error: 35.1234 - val_mean_squared_error: 5.0727e-04 - val_smape: 20.3369\n",
      "Epoch 17/50\n",
      "\u001b[1m2253/2253\u001b[0m \u001b[32m━━━━━━━━━━━━━━━━━━━━\u001b[0m\u001b[37m\u001b[0m \u001b[1m0s\u001b[0m 263ms/step - loss: 0.0160 - mean_absolute_percentage_error: 53117.0391 - mean_squared_error: 6.5525e-04 - smape: 50.8521\n",
      "Epoch 17: saving model to training_2/ckpt.weights.h5\n",
      "\u001b[1m2253/2253\u001b[0m \u001b[32m━━━━━━━━━━━━━━━━━━━━\u001b[0m\u001b[37m\u001b[0m \u001b[1m656s\u001b[0m 291ms/step - loss: 0.0160 - mean_absolute_percentage_error: 53120.2773 - mean_squared_error: 6.5524e-04 - smape: 50.8521 - val_loss: 0.0158 - val_mean_absolute_percentage_error: 66301.1094 - val_mean_squared_error: 7.3990e-04 - val_smape: 50.9287\n",
      "Epoch 18/50\n",
      "\u001b[1m   1/2253\u001b[0m \u001b[37m━━━━━━━━━━━━━━━━━━━━\u001b[0m \u001b[1m1:46\u001b[0m 47ms/step - loss: 0.0117 - mean_absolute_percentage_error: 18.9872 - mean_squared_error: 2.2703e-04 - smape: 44.5161\n",
      "Epoch 18: saving model to training_2/ckpt.weights.h5\n",
      "\u001b[1m2253/2253\u001b[0m \u001b[32m━━━━━━━━━━━━━━━━━━━━\u001b[0m\u001b[37m\u001b[0m \u001b[1m0s\u001b[0m 59us/step - loss: 0.0117 - mean_absolute_percentage_error: 18.9872 - mean_squared_error: 2.2703e-04 - smape: 22.2679 - val_loss: 0.0146 - val_mean_absolute_percentage_error: 31.8884 - val_mean_squared_error: 4.4034e-04 - val_smape: 20.0567\n",
      "Epoch 19/50\n",
      "\u001b[1m2253/2253\u001b[0m \u001b[32m━━━━━━━━━━━━━━━━━━━━\u001b[0m\u001b[37m\u001b[0m \u001b[1m0s\u001b[0m 263ms/step - loss: 0.0158 - mean_absolute_percentage_error: 50640.1523 - mean_squared_error: 6.4522e-04 - smape: 50.9243\n",
      "Epoch 19: saving model to training_2/ckpt.weights.h5\n",
      "\u001b[1m2253/2253\u001b[0m \u001b[32m━━━━━━━━━━━━━━━━━━━━\u001b[0m\u001b[37m\u001b[0m \u001b[1m657s\u001b[0m 292ms/step - loss: 0.0158 - mean_absolute_percentage_error: 50643.2539 - mean_squared_error: 6.4521e-04 - smape: 50.9243 - val_loss: 0.0156 - val_mean_absolute_percentage_error: 64692.5156 - val_mean_squared_error: 7.2545e-04 - val_smape: 51.4482\n",
      "Epoch 20/50\n",
      "\u001b[1m   1/2253\u001b[0m \u001b[37m━━━━━━━━━━━━━━━━━━━━\u001b[0m \u001b[1m2:27\u001b[0m 66ms/step - loss: 0.0119 - mean_absolute_percentage_error: 20.7548 - mean_squared_error: 2.2914e-04 - smape: 40.2838\n",
      "Epoch 20: saving model to training_2/ckpt.weights.h5\n",
      "\u001b[1m2253/2253\u001b[0m \u001b[32m━━━━━━━━━━━━━━━━━━━━\u001b[0m\u001b[37m\u001b[0m \u001b[1m0s\u001b[0m 52us/step - loss: 0.0119 - mean_absolute_percentage_error: 20.7548 - mean_squared_error: 2.2914e-04 - smape: 20.1508 - val_loss: 0.0155 - val_mean_absolute_percentage_error: 34.0551 - val_mean_squared_error: 4.5974e-04 - val_smape: 20.4735\n",
      "Epoch 21/50\n",
      "\u001b[1m2253/2253\u001b[0m \u001b[32m━━━━━━━━━━━━━━━━━━━━\u001b[0m\u001b[37m\u001b[0m \u001b[1m0s\u001b[0m 264ms/step - loss: 0.0158 - mean_absolute_percentage_error: 49258.5898 - mean_squared_error: 6.4753e-04 - smape: 51.1055\n",
      "Epoch 21: saving model to training_2/ckpt.weights.h5\n",
      "\u001b[1m2253/2253\u001b[0m \u001b[32m━━━━━━━━━━━━━━━━━━━━\u001b[0m\u001b[37m\u001b[0m \u001b[1m658s\u001b[0m 292ms/step - loss: 0.0158 - mean_absolute_percentage_error: 49261.8984 - mean_squared_error: 6.4753e-04 - smape: 51.1055 - val_loss: 0.0156 - val_mean_absolute_percentage_error: 60103.6992 - val_mean_squared_error: 7.2343e-04 - val_smape: 52.1640\n",
      "Epoch 22/50\n",
      "\u001b[1m   1/2253\u001b[0m \u001b[37m━━━━━━━━━━━━━━━━━━━━\u001b[0m \u001b[1m1:47\u001b[0m 48ms/step - loss: 0.0126 - mean_absolute_percentage_error: 19.5773 - mean_squared_error: 2.4579e-04 - smape: 42.7843\n",
      "Epoch 22: saving model to training_2/ckpt.weights.h5\n",
      "\u001b[1m2253/2253\u001b[0m \u001b[32m━━━━━━━━━━━━━━━━━━━━\u001b[0m\u001b[37m\u001b[0m \u001b[1m0s\u001b[0m 59us/step - loss: 0.0126 - mean_absolute_percentage_error: 19.5773 - mean_squared_error: 2.4579e-04 - smape: 21.4016 - val_loss: 0.0145 - val_mean_absolute_percentage_error: 31.2339 - val_mean_squared_error: 4.8933e-04 - val_smape: 20.8734\n",
      "Epoch 23/50\n",
      "\u001b[1m2253/2253\u001b[0m \u001b[32m━━━━━━━━━━━━━━━━━━━━\u001b[0m\u001b[37m\u001b[0m \u001b[1m0s\u001b[0m 264ms/step - loss: 0.0156 - mean_absolute_percentage_error: 49122.5859 - mean_squared_error: 6.3664e-04 - smape: 51.1174\n",
      "Epoch 23: saving model to training_2/ckpt.weights.h5\n",
      "\u001b[1m2253/2253\u001b[0m \u001b[32m━━━━━━━━━━━━━━━━━━━━\u001b[0m\u001b[37m\u001b[0m \u001b[1m659s\u001b[0m 292ms/step - loss: 0.0156 - mean_absolute_percentage_error: 49125.9375 - mean_squared_error: 6.3664e-04 - smape: 51.1174 - val_loss: 0.0155 - val_mean_absolute_percentage_error: 66034.9922 - val_mean_squared_error: 7.1838e-04 - val_smape: 51.7076\n",
      "Epoch 24/50\n",
      "\u001b[1m   1/2253\u001b[0m \u001b[37m━━━━━━━━━━━━━━━━━━━━\u001b[0m \u001b[1m2:23\u001b[0m 64ms/step - loss: 0.0120 - mean_absolute_percentage_error: 19.2175 - mean_squared_error: 2.4485e-04 - smape: 40.9592\n",
      "Epoch 24: saving model to training_2/ckpt.weights.h5\n",
      "\u001b[1m2253/2253\u001b[0m \u001b[32m━━━━━━━━━━━━━━━━━━━━\u001b[0m\u001b[37m\u001b[0m \u001b[1m0s\u001b[0m 51us/step - loss: 0.0120 - mean_absolute_percentage_error: 19.2175 - mean_squared_error: 2.4485e-04 - smape: 20.4887 - val_loss: 0.0151 - val_mean_absolute_percentage_error: 33.3079 - val_mean_squared_error: 4.5030e-04 - val_smape: 21.0151\n",
      "Epoch 25/50\n",
      "\u001b[1m2253/2253\u001b[0m \u001b[32m━━━━━━━━━━━━━━━━━━━━\u001b[0m\u001b[37m\u001b[0m \u001b[1m0s\u001b[0m 264ms/step - loss: 0.0156 - mean_absolute_percentage_error: 47425.8945 - mean_squared_error: 6.3196e-04 - smape: 51.1765\n",
      "Epoch 25: saving model to training_2/ckpt.weights.h5\n",
      "\u001b[1m2253/2253\u001b[0m \u001b[32m━━━━━━━━━━━━━━━━━━━━\u001b[0m\u001b[37m\u001b[0m \u001b[1m659s\u001b[0m 292ms/step - loss: 0.0156 - mean_absolute_percentage_error: 47429.0625 - mean_squared_error: 6.3195e-04 - smape: 51.1764 - val_loss: 0.0155 - val_mean_absolute_percentage_error: 65165.9453 - val_mean_squared_error: 7.2493e-04 - val_smape: 51.4097\n",
      "Epoch 26/50\n",
      "\u001b[1m   1/2253\u001b[0m \u001b[37m━━━━━━━━━━━━━━━━━━━━\u001b[0m \u001b[1m2:21\u001b[0m 63ms/step - loss: 0.0122 - mean_absolute_percentage_error: 18.1918 - mean_squared_error: 2.7244e-04 - smape: 40.7567\n",
      "Epoch 26: saving model to training_2/ckpt.weights.h5\n",
      "\u001b[1m2253/2253\u001b[0m \u001b[32m━━━━━━━━━━━━━━━━━━━━\u001b[0m\u001b[37m\u001b[0m \u001b[1m0s\u001b[0m 53us/step - loss: 0.0122 - mean_absolute_percentage_error: 18.1918 - mean_squared_error: 2.7244e-04 - smape: 20.3874 - val_loss: 0.0148 - val_mean_absolute_percentage_error: 32.3736 - val_mean_squared_error: 4.3878e-04 - val_smape: 20.4416\n",
      "Epoch 27/50\n",
      "\u001b[1m2253/2253\u001b[0m \u001b[32m━━━━━━━━━━━━━━━━━━━━\u001b[0m\u001b[37m\u001b[0m \u001b[1m0s\u001b[0m 264ms/step - loss: 0.0155 - mean_absolute_percentage_error: 47624.8203 - mean_squared_error: 6.3361e-04 - smape: 51.1608\n",
      "Epoch 27: saving model to training_2/ckpt.weights.h5\n",
      "\u001b[1m2253/2253\u001b[0m \u001b[32m━━━━━━━━━━━━━━━━━━━━\u001b[0m\u001b[37m\u001b[0m \u001b[1m659s\u001b[0m 293ms/step - loss: 0.0155 - mean_absolute_percentage_error: 47627.5273 - mean_squared_error: 6.3360e-04 - smape: 51.1608 - val_loss: 0.0152 - val_mean_absolute_percentage_error: 62894.2695 - val_mean_squared_error: 6.9789e-04 - val_smape: 51.8217\n",
      "Epoch 28/50\n",
      "\u001b[1m   1/2253\u001b[0m \u001b[37m━━━━━━━━━━━━━━━━━━━━\u001b[0m \u001b[1m1:47\u001b[0m 48ms/step - loss: 0.0114 - mean_absolute_percentage_error: 18.0472 - mean_squared_error: 1.9650e-04 - smape: 41.1534\n",
      "Epoch 28: saving model to training_2/ckpt.weights.h5\n",
      "\u001b[1m2253/2253\u001b[0m \u001b[32m━━━━━━━━━━━━━━━━━━━━\u001b[0m\u001b[37m\u001b[0m \u001b[1m0s\u001b[0m 60us/step - loss: 0.0114 - mean_absolute_percentage_error: 18.0472 - mean_squared_error: 1.9650e-04 - smape: 20.5858 - val_loss: 0.0147 - val_mean_absolute_percentage_error: 33.4616 - val_mean_squared_error: 4.8223e-04 - val_smape: 20.8565\n",
      "Epoch 29/50\n",
      "\u001b[1m2253/2253\u001b[0m \u001b[32m━━━━━━━━━━━━━━━━━━━━\u001b[0m\u001b[37m\u001b[0m \u001b[1m0s\u001b[0m 264ms/step - loss: 0.0155 - mean_absolute_percentage_error: 46687.5430 - mean_squared_error: 6.2882e-04 - smape: 51.0990\n",
      "Epoch 29: saving model to training_2/ckpt.weights.h5\n",
      "\u001b[1m2253/2253\u001b[0m \u001b[32m━━━━━━━━━━━━━━━━━━━━\u001b[0m\u001b[37m\u001b[0m \u001b[1m658s\u001b[0m 292ms/step - loss: 0.0155 - mean_absolute_percentage_error: 46690.3008 - mean_squared_error: 6.2881e-04 - smape: 51.0990 - val_loss: 0.0152 - val_mean_absolute_percentage_error: 58286.2695 - val_mean_squared_error: 6.9677e-04 - val_smape: 52.0611\n",
      "Epoch 30/50\n",
      "\u001b[1m   1/2253\u001b[0m \u001b[37m━━━━━━━━━━━━━━━━━━━━\u001b[0m \u001b[1m2:26\u001b[0m 65ms/step - loss: 0.0112 - mean_absolute_percentage_error: 18.3700 - mean_squared_error: 1.9808e-04 - smape: 39.1054\n",
      "Epoch 30: saving model to training_2/ckpt.weights.h5\n",
      "\u001b[1m2253/2253\u001b[0m \u001b[32m━━━━━━━━━━━━━━━━━━━━\u001b[0m\u001b[37m\u001b[0m \u001b[1m0s\u001b[0m 52us/step - loss: 0.0112 - mean_absolute_percentage_error: 18.3700 - mean_squared_error: 1.9808e-04 - smape: 19.5614 - val_loss: 0.0140 - val_mean_absolute_percentage_error: 31.4781 - val_mean_squared_error: 4.5451e-04 - val_smape: 20.7517\n",
      "Epoch 31/50\n",
      "\u001b[1m2253/2253\u001b[0m \u001b[32m━━━━━━━━━━━━━━━━━━━━\u001b[0m\u001b[37m\u001b[0m \u001b[1m0s\u001b[0m 263ms/step - loss: 0.0154 - mean_absolute_percentage_error: 44629.0391 - mean_squared_error: 6.2553e-04 - smape: 51.2829\n",
      "Epoch 31: saving model to training_2/ckpt.weights.h5\n",
      "\u001b[1m2253/2253\u001b[0m \u001b[32m━━━━━━━━━━━━━━━━━━━━\u001b[0m\u001b[37m\u001b[0m \u001b[1m656s\u001b[0m 291ms/step - loss: 0.0154 - mean_absolute_percentage_error: 44631.9062 - mean_squared_error: 6.2552e-04 - smape: 51.2829 - val_loss: 0.0153 - val_mean_absolute_percentage_error: 55612.2773 - val_mean_squared_error: 7.0750e-04 - val_smape: 51.7018\n",
      "Epoch 32/50\n",
      "\u001b[1m   1/2253\u001b[0m \u001b[37m━━━━━━━━━━━━━━━━━━━━\u001b[0m \u001b[1m1:54\u001b[0m 51ms/step - loss: 0.0118 - mean_absolute_percentage_error: 19.1267 - mean_squared_error: 2.2137e-04 - smape: 39.0434\n",
      "Epoch 32: saving model to training_2/ckpt.weights.h5\n",
      "\u001b[1m2253/2253\u001b[0m \u001b[32m━━━━━━━━━━━━━━━━━━━━\u001b[0m\u001b[37m\u001b[0m \u001b[1m0s\u001b[0m 53us/step - loss: 0.0118 - mean_absolute_percentage_error: 19.1267 - mean_squared_error: 2.2137e-04 - smape: 19.5304 - val_loss: 0.0141 - val_mean_absolute_percentage_error: 30.7572 - val_mean_squared_error: 4.7030e-04 - val_smape: 21.0110\n",
      "Epoch 33/50\n",
      "\u001b[1m2253/2253\u001b[0m \u001b[32m━━━━━━━━━━━━━━━━━━━━\u001b[0m\u001b[37m\u001b[0m \u001b[1m0s\u001b[0m 264ms/step - loss: 0.0153 - mean_absolute_percentage_error: 41791.6836 - mean_squared_error: 6.2197e-04 - smape: 51.3620\n",
      "Epoch 33: saving model to training_2/ckpt.weights.h5\n",
      "\u001b[1m2253/2253\u001b[0m \u001b[32m━━━━━━━━━━━━━━━━━━━━\u001b[0m\u001b[37m\u001b[0m \u001b[1m658s\u001b[0m 292ms/step - loss: 0.0153 - mean_absolute_percentage_error: 41794.2422 - mean_squared_error: 6.2197e-04 - smape: 51.3620 - val_loss: 0.0153 - val_mean_absolute_percentage_error: 56293.7188 - val_mean_squared_error: 7.0496e-04 - val_smape: 50.7844\n",
      "Epoch 34/50\n",
      "\u001b[1m   1/2253\u001b[0m \u001b[37m━━━━━━━━━━━━━━━━━━━━\u001b[0m \u001b[1m2:16\u001b[0m 60ms/step - loss: 0.0125 - mean_absolute_percentage_error: 19.7471 - mean_squared_error: 2.9096e-04 - smape: 42.5469\n",
      "Epoch 34: saving model to training_2/ckpt.weights.h5\n",
      "\u001b[1m2253/2253\u001b[0m \u001b[32m━━━━━━━━━━━━━━━━━━━━\u001b[0m\u001b[37m\u001b[0m \u001b[1m0s\u001b[0m 50us/step - loss: 0.0125 - mean_absolute_percentage_error: 19.7471 - mean_squared_error: 2.9096e-04 - smape: 21.2829 - val_loss: 0.0145 - val_mean_absolute_percentage_error: 32.2229 - val_mean_squared_error: 4.5769e-04 - val_smape: 20.3799\n",
      "Epoch 35/50\n",
      "\u001b[1m2253/2253\u001b[0m \u001b[32m━━━━━━━━━━━━━━━━━━━━\u001b[0m\u001b[37m\u001b[0m \u001b[1m0s\u001b[0m 264ms/step - loss: 0.0153 - mean_absolute_percentage_error: 41934.8594 - mean_squared_error: 6.1931e-04 - smape: 51.2872\n",
      "Epoch 35: saving model to training_2/ckpt.weights.h5\n",
      "\u001b[1m2253/2253\u001b[0m \u001b[32m━━━━━━━━━━━━━━━━━━━━\u001b[0m\u001b[37m\u001b[0m \u001b[1m657s\u001b[0m 292ms/step - loss: 0.0153 - mean_absolute_percentage_error: 41937.7969 - mean_squared_error: 6.1931e-04 - smape: 51.2872 - val_loss: 0.0152 - val_mean_absolute_percentage_error: 51507.7266 - val_mean_squared_error: 6.9984e-04 - val_smape: 52.3854\n",
      "Epoch 36/50\n",
      "\u001b[1m   1/2253\u001b[0m \u001b[37m━━━━━━━━━━━━━━━━━━━━\u001b[0m \u001b[1m1:45\u001b[0m 47ms/step - loss: 0.0124 - mean_absolute_percentage_error: 22.2480 - mean_squared_error: 2.2874e-04 - smape: 46.1138\n",
      "Epoch 36: saving model to training_2/ckpt.weights.h5\n",
      "\u001b[1m2253/2253\u001b[0m \u001b[32m━━━━━━━━━━━━━━━━━━━━\u001b[0m\u001b[37m\u001b[0m \u001b[1m0s\u001b[0m 55us/step - loss: 0.0124 - mean_absolute_percentage_error: 22.2480 - mean_squared_error: 2.2874e-04 - smape: 23.0672 - val_loss: 0.0141 - val_mean_absolute_percentage_error: 30.7040 - val_mean_squared_error: 4.6069e-04 - val_smape: 21.1763\n",
      "Epoch 37/50\n",
      "\u001b[1m2253/2253\u001b[0m \u001b[32m━━━━━━━━━━━━━━━━━━━━\u001b[0m\u001b[37m\u001b[0m \u001b[1m0s\u001b[0m 264ms/step - loss: 0.0152 - mean_absolute_percentage_error: 41423.4805 - mean_squared_error: 6.1737e-04 - smape: 51.3491\n",
      "Epoch 37: saving model to training_2/ckpt.weights.h5\n",
      "\u001b[1m2253/2253\u001b[0m \u001b[32m━━━━━━━━━━━━━━━━━━━━\u001b[0m\u001b[37m\u001b[0m \u001b[1m659s\u001b[0m 292ms/step - loss: 0.0152 - mean_absolute_percentage_error: 41426.1211 - mean_squared_error: 6.1737e-04 - smape: 51.3492 - val_loss: 0.0153 - val_mean_absolute_percentage_error: 48878.5664 - val_mean_squared_error: 7.1047e-04 - val_smape: 52.7984\n",
      "Epoch 38/50\n",
      "\u001b[1m   1/2253\u001b[0m \u001b[37m━━━━━━━━━━━━━━━━━━━━\u001b[0m \u001b[1m2:25\u001b[0m 65ms/step - loss: 0.0116 - mean_absolute_percentage_error: 19.7673 - mean_squared_error: 2.1553e-04 - smape: 43.6682\n",
      "Epoch 38: saving model to training_2/ckpt.weights.h5\n",
      "\u001b[1m2253/2253\u001b[0m \u001b[32m━━━━━━━━━━━━━━━━━━━━\u001b[0m\u001b[37m\u001b[0m \u001b[1m0s\u001b[0m 50us/step - loss: 0.0116 - mean_absolute_percentage_error: 19.7673 - mean_squared_error: 2.1553e-04 - smape: 21.8438 - val_loss: 0.0144 - val_mean_absolute_percentage_error: 31.5926 - val_mean_squared_error: 4.3472e-04 - val_smape: 20.5996\n",
      "Epoch 39/50\n",
      "\u001b[1m2253/2253\u001b[0m \u001b[32m━━━━━━━━━━━━━━━━━━━━\u001b[0m\u001b[37m\u001b[0m \u001b[1m0s\u001b[0m 265ms/step - loss: 0.0152 - mean_absolute_percentage_error: 42422.3984 - mean_squared_error: 6.1096e-04 - smape: 51.5063\n",
      "Epoch 39: saving model to training_2/ckpt.weights.h5\n",
      "\u001b[1m2253/2253\u001b[0m \u001b[32m━━━━━━━━━━━━━━━━━━━━\u001b[0m\u001b[37m\u001b[0m \u001b[1m660s\u001b[0m 293ms/step - loss: 0.0152 - mean_absolute_percentage_error: 42424.9102 - mean_squared_error: 6.1096e-04 - smape: 51.5063 - val_loss: 0.0152 - val_mean_absolute_percentage_error: 52983.0898 - val_mean_squared_error: 7.0896e-04 - val_smape: 52.2615\n",
      "Epoch 40/50\n",
      "\u001b[1m   1/2253\u001b[0m \u001b[37m━━━━━━━━━━━━━━━━━━━━\u001b[0m \u001b[1m2:24\u001b[0m 64ms/step - loss: 0.0115 - mean_absolute_percentage_error: 19.5102 - mean_squared_error: 2.1881e-04 - smape: 38.6473\n",
      "Epoch 40: saving model to training_2/ckpt.weights.h5\n",
      "\u001b[1m2253/2253\u001b[0m \u001b[32m━━━━━━━━━━━━━━━━━━━━\u001b[0m\u001b[37m\u001b[0m \u001b[1m0s\u001b[0m 51us/step - loss: 0.0115 - mean_absolute_percentage_error: 19.5102 - mean_squared_error: 2.1881e-04 - smape: 19.3322 - val_loss: 0.0143 - val_mean_absolute_percentage_error: 31.0475 - val_mean_squared_error: 4.3431e-04 - val_smape: 20.9542\n"
     ]
    }
   ],
   "source": [
    "history4=model4.fit(train_dataset, batch_size=32,epochs=50,steps_per_epoch=len(X_train)//32, validation_data=val_dataset,callbacks=[early_stopping,cp_callback],validation_steps=len(X_val)//32)\n",
    "\n",
    "\n"
   ]
  },
  {
   "cell_type": "code",
   "execution_count": 20,
   "metadata": {},
   "outputs": [
    {
     "data": {
      "image/png": "[encoded data removed]",
      "text/plain": [
       "<Figure size 640x480 with 1 Axes>"
      ]
     },
     "metadata": {},
     "output_type": "display_data"
    }
   ],
   "source": [
    "colors = ['b', 'g', 'r', 'c', 'm', 'y','k','orange', 'purple', 'brown', 'pink', 'lime', 'teal', 'gray', 'olive', 'navy']\n",
    "\n",
    "    # Grafica los valores de loss\n",
    "plt.plot(history4.history['loss'],  color='purple',label='Loss')\n",
    "plt.plot(history4.history['val_loss'],color='olive',label='Val_Loss')\n",
    "\n",
    "# Agrega etiquetas al gráfico\n",
    "plt.xlabel('Epoch')\n",
    "plt.ylabel('Value')\n",
    "\n",
    "plt.title('Training & Validation Loss per Epoch')\n",
    "plt.xlim(0,len(history4.history['loss']))\n",
    "\n",
    "plt.legend()\n",
    "\n",
    "plt.grid(True)\n",
    "# Muestra el gráfico\n",
    "plt.show()"
   ]
  },
  {
   "cell_type": "code",
   "execution_count": 21,
   "metadata": {},
   "outputs": [
    {
     "name": "stderr",
     "output_type": "stream",
     "text": [
      "C:\\Users\\benja\\AppData\\Local\\Temp\\ipykernel_1964\\3065549325.py:10: DeprecationWarning: Starting with ImageIO v3 the behavior of this function will switch to that of iio.v3.imread. To keep the current behavior (and make this warning disappear) use `import imageio.v2 as imageio` or call `imageio.v2.imread` directly.\n",
      "  image = (imageio.imread(path))\n"
     ]
    },
    {
     "name": "stdout",
     "output_type": "stream",
     "text": [
      "\u001b[1m20706/20706\u001b[0m \u001b[32m━━━━━━━━━━━━━━━━━━━━\u001b[0m\u001b[37m\u001b[0m \u001b[1m153s\u001b[0m 7ms/step\n"
     ]
    }
   ],
   "source": [
    "test_dataset = create_combined_dataset(images_test, X_test, y_test, 1)\n",
    "predict4 = model4.predict(test_dataset,steps=len(y_test))"
   ]
  },
  {
   "cell_type": "code",
   "execution_count": 22,
   "metadata": {},
   "outputs": [
    {
     "name": "stdout",
     "output_type": "stream",
     "text": [
      "MAE: 0.015102008773863553\n",
      "MSE: 0.0006616332825548225\n",
      "R-squared: 0.4864982490820883\n",
      "SMAPE: 27.643883028920165%\n"
     ]
    }
   ],
   "source": [
    "# Calcular MAE\n",
    "mae4 = mean_absolute_error(y_test, predict4)\n",
    "mse4= mean_squared_error(y_test, predict4)\n",
    "# Calcular R-squared\n",
    "r24 = r2_score(y_test, predict4)\n",
    "smape4 = smape_2(y_test, predict4)\n",
    "\n",
    "# Imprimir las métricas\n",
    "print(f\"MAE: {mae4}\")\n",
    "print(f\"MSE: {mse4}\")\n",
    "print(f\"R-squared: {r24}\")\n",
    "print(f\"SMAPE: {smape4}%\")"
   ]
  },
  {
   "cell_type": "code",
   "execution_count": 23,
   "metadata": {},
   "outputs": [
    {
     "data": {
      "image/png": "[encoded data removed]",
      "text/plain": [
       "<Figure size 640x480 with 1 Axes>"
      ]
     },
     "metadata": {},
     "output_type": "display_data"
    }
   ],
   "source": [
    "plt.scatter(y_test, predict4, color='blue', alpha=0.5)\n",
    "\n",
    "plt.xlabel('Valores Reales')\n",
    "plt.ylabel('predicciones')\n",
    "plt.xlim(0,1)\n",
    "plt.ylim(0,1)\n",
    "\n",
    "plt.show()"
   ]
  },
  {
   "cell_type": "code",
   "execution_count": 27,
   "metadata": {},
   "outputs": [
    {
     "name": "stderr",
     "output_type": "stream",
     "text": [
      "C:\\Users\\benja\\AppData\\Local\\Temp\\ipykernel_1964\\4069564214.py:3: DeprecationWarning: Conversion of an array with ndim > 0 to a scalar is deprecated, and will error in future. Ensure you extract a single element from your array before performing this operation. (Deprecated NumPy 1.25.)\n",
      "  residuos.append(float(y_test[a])-float(y_test[a]))\n"
     ]
    },
    {
     "data": {
      "image/png": "[encoded data removed]",
      "text/plain": [
       "<Figure size 640x480 with 1 Axes>"
      ]
     },
     "metadata": {},
     "output_type": "display_data"
    }
   ],
   "source": [
    "residuos = []\n",
    "for a in range(len(y_test)):\n",
    "    residuos.append(float(y_test[a])-float(predict4[a]))\n",
    "    import seaborn as sns\n",
    "sns.histplot(residuos,kde=True,bins=600)\n",
    "plt.show()"
   ]
  },
  {
   "cell_type": "markdown",
   "metadata": {},
   "source": [
    "### Usando 7 días para predecir día siguiente (Capping)"
   ]
  },
  {
   "cell_type": "code",
   "execution_count": null,
   "metadata": {},
   "outputs": [],
   "source": [
    "# Definir la longitud de la secuencia para la LSTM\n",
    "sequence_length = 7  # Supongamos que usas 7 días para la LSTM\n",
    "\n",
    "# Variables para almacenar las secuencias, el target y las imágenes\n",
    "X, y, images = [], [], []\n",
    "\n",
    "# Recorre los datos por locación\n",
    "for location, location_df in grouped_data.items():\n",
    "    features = location_df.drop(['Date', 'station', 'mp10', 'image'], axis=1).values\n",
    "    target = location_df['mp10'].values\n",
    "    image_series = location_df['image'].values\n",
    "\n",
    "    for i in range(sequence_length, len(features)):\n",
    "        # Crear secuencia de entrada de `sequence_length` días\n",
    "        sequence_features = features[i-sequence_length:i]\n",
    "        sequence_target = np.mean(target[i:i+7])\n",
    "        \n",
    "        # Buscar una imagen en la secuencia (la más cercana al último día de la secuencia)\n",
    "        image_associated = image_series[i-sequence_length:i]\n",
    "        image_file = next((img for img in reversed(image_associated) if img != 0), None)\n",
    "        \n",
    "        # Añadir solo si hay una imagen válida asociada\n",
    "        if image_file:\n",
    "            X.append(sequence_features)\n",
    "            y.append(sequence_target)\n",
    "            images.append(image_file)\n",
    "\n",
    "# Convertir las listas a arrays de numpy\n",
    "X, y = np.array(X), np.array(y)\n",
    "images = np.array(images)\n",
    "\n",
    "# Normalizar características de entrada\n",
    "scaler_X = MinMaxScaler()\n",
    "X_reshaped = X.reshape(-1, X.shape[-1])\n",
    "X_normalized = scaler_X.fit_transform(X_reshaped)\n",
    "X = X_normalized.reshape(X.shape)\n",
    "\n",
    "scaler_y = MinMaxScaler()\n",
    "y = scaler_y.fit_transform(y.reshape(-1, 1))\n",
    "\n",
    "print(f\"Forma de X: {X.shape}, Forma de y: {y.shape}, Total de imágenes: {images.shape}\")\n",
    "\n",
    "# Dividir los datos en 70% entrenamiento, 20% test, 10% validación\n",
    "X_train, X_temp, y_train, y_temp, images_train, images_temp = train_test_split(X, y, images, test_size=0.30, random_state=42)\n",
    "\n",
    "# Dividir el 30% restante en 20% test y 10% validación\n",
    "X_test, X_val, y_test, y_val, images_test, images_val = train_test_split(X_temp, y_temp, images_temp, test_size=0.33, random_state=42)  # 0.33 * 0.30 = ~0.10\n",
    "\n",
    "# Imprimir las formas para verificar las divisiones\n",
    "print(f\"Train set: X={X_train.shape}, y={y_train.shape}, images={images_train.shape}\")\n",
    "print(f\"Test set: X={X_test.shape}, y={y_test.shape}, images={images_test.shape}\")\n",
    "print(f\"Validation set: X={X_val.shape}, y={y_val.shape}, images={images_val.shape}\")\n"
   ]
  },
  {
   "cell_type": "code",
   "execution_count": null,
   "metadata": {},
   "outputs": [],
   "source": [
    "# Definir la entrada para las imágenes (224x224x6)\n",
    "image_input = Input(shape=(224, 224, 6))\n",
    "\n",
    "# Red convolucional para procesar la entrada de imágenes\n",
    "x = Conv2D(filters=16, kernel_size=(3, 3), activation='relu')(image_input)\n",
    "x = AveragePooling2D(pool_size=(2, 2))(x)\n",
    "x = Conv2D(filters=32, kernel_size=(3, 3), activation='relu')(x)\n",
    "x = AveragePooling2D(pool_size=(2, 2))(x)\n",
    "x = Conv2D(filters=32, kernel_size=(3, 3), activation='relu')(x)\n",
    "x = AveragePooling2D(pool_size=(2, 2))(x)\n",
    "x = Conv2D(filters=32, kernel_size=(3, 3), activation='relu')(x)\n",
    "x = AveragePooling2D(pool_size=(2, 2))(x)\n",
    "\n",
    "# Aplanar la salida de la capa convolucional\n",
    "x = Flatten()(x)\n",
    "x = Dense(units=128, activation='relu')(x)\n",
    "x = Dropout(rate=0.5)(x)\n",
    "\n",
    "# Definir la entrada para la LSTM (datos secuenciales)\n",
    "sequence_input = Input(shape=(7, 17))  \n",
    "\n",
    "# Red LSTM para procesar la entrada secuencial\n",
    "y = LSTM(units=50, return_sequences=True)(sequence_input)\n",
    "y = LSTM(units=50)(y)\n",
    "\n",
    "# Combinar las salidas de la CNN y la LSTM\n",
    "combined = Concatenate()([x, y])\n",
    "\n",
    "# Añadir capas densas finales para predecir el valor final\n",
    "z = Dense(units=128, activation='relu')(combined)\n",
    "z = Dropout(rate=0.5)(z)\n",
    "z = Dense(units=1, activation='linear')(z)\n",
    "\n",
    "# Crear el modelo con dos entradas\n",
    "model5 = Model(inputs=[image_input, sequence_input], outputs=z)\n",
    "\n",
    "# Compilar el modelo\n",
    "model5.compile(optimizer='adam', loss='mean_absolute_error',metrics=['mean_squared_error','mean_absolute_percentage_error',smape])\n",
    "\n",
    "# Mostrar la arquitectura del modelo\n",
    "model5.summary()\n"
   ]
  },
  {
   "cell_type": "code",
   "execution_count": null,
   "metadata": {},
   "outputs": [],
   "source": [
    "# Generador para combinar imágenes y secuencias\n",
    "def data_generator(image_files, sequences, labels): \n",
    "    for i in range(len(image_files)):\n",
    "        if image_files[i] != '':  # Si la imagen existe\n",
    "            image = preprocess_imagery(image_files[i])  # Cargar y preprocesar la imagen\n",
    "            image = tf.convert_to_tensor(image, dtype=tf.float32)\n",
    "        else:\n",
    "            image = tf.zeros((224, 224, 6), dtype=tf.float32)  # Si no hay imagen, usar un tensor de ceros\n",
    "            \n",
    "        sequence = tf.convert_to_tensor(sequences[i], dtype=tf.float32)  # Secuencia de datos tabulares\n",
    "        label = tf.convert_to_tensor(labels[i], dtype=tf.float32)  # Etiqueta (mp10)+\n",
    "        label=tf.squeeze(label)\n",
    "        \n",
    "        yield (image, sequence), label  # Dos entradas: imagen y secuencia\n",
    "\n",
    "# Crear el dataset\n",
    "def create_combined_dataset(image_files, sequences, labels, batch_size):\n",
    "    dataset = tf.data.Dataset.from_generator(\n",
    "        data_generator,\n",
    "        args=[image_files, sequences, labels],\n",
    "        output_signature=(\n",
    "            (tf.TensorSpec(shape=(224, 224, 6), dtype=tf.float32),  # Especificar el tamaño de las imágenes\n",
    "             tf.TensorSpec(shape=(7, sequences.shape[2]), dtype=tf.float32)),  # Secuencias de 7 días\n",
    "            tf.TensorSpec(shape=(), dtype=tf.float32)  # La etiqueta (mp10)\n",
    "        )\n",
    "    )\n",
    "    dataset = dataset.batch(batch_size)\n",
    "    dataset = dataset.prefetch(buffer_size=tf.data.AUTOTUNE)\n",
    "    return dataset\n",
    "\n",
    "# Ejemplo de uso para crear datasets de entrenamiento, validación y prueba\n",
    "batch_size = 32\n",
    "\n",
    "# Crear datasets\n",
    "train_dataset = create_combined_dataset(images_train, X_train, y_train, batch_size)\n",
    "val_dataset = create_combined_dataset(images_val, X_val, y_val, batch_size)\n",
    "test_dataset = create_combined_dataset(images_test, X_test, y_test, batch_size)\n"
   ]
  },
  {
   "cell_type": "code",
   "execution_count": null,
   "metadata": {},
   "outputs": [],
   "source": [
    "# Configurar Early Stopping\n",
    "early_stopping = EarlyStopping(\n",
    "    monitor='val_loss',  # Métrica a monitorear\n",
    "    patience=10,         # Número de épocas de paciencia\n",
    "    restore_best_weights=True  # Restaurar los mejores pesos al final del entrenamiento\n",
    ")\n",
    "checkpoint_path = \"training_5/ckpt.weights.h5\"\n",
    "checkpoint_dir = os.path.dirname(checkpoint_path)\n",
    "\n",
    "# Create a callback that saves the model's weights\n",
    "cp_callback = tf.keras.callbacks.ModelCheckpoint(filepath=checkpoint_path,\n",
    "                                                 save_weights_only=True,\n",
    "                                                 verbose=1)"
   ]
  },
  {
   "cell_type": "code",
   "execution_count": null,
   "metadata": {},
   "outputs": [],
   "source": [
    "history5=model5.fit(train_dataset, batch_size=32,epochs=50,steps_per_epoch=len(X_train)//32, validation_data=val_dataset,callbacks=[early_stopping,cp_callback],validation_steps=len(X_val)//32)\n",
    "df_Scaled=df['mp10'].copy()\n",
    "df_Scaled = df_Scaled  / df_Scaled.abs().max()"
   ]
  },
  {
   "cell_type": "code",
   "execution_count": null,
   "metadata": {},
   "outputs": [],
   "source": [
    "import matplotlib.pyplot as plt\n",
    "s=[df_Scaled.std()]*len(history5.history['loss'])\n",
    "colors = ['b', 'g', 'r', 'c', 'm', 'y','k','orange', 'purple', 'brown', 'pink', 'lime', 'teal', 'gray', 'olive', 'navy']\n",
    "\n",
    "    # Grafica los valores de loss\n",
    "plt.plot(history5.history['loss'],  color='purple',label='Loss')\n",
    "plt.plot(history5.history['val_loss'],color='olive',label='Val_Loss')\n",
    "plt.plot(s,label='Standard Deviation',color='pink')\n",
    "# Agrega etiquetas al gráfico\n",
    "plt.xlabel('Epoch')\n",
    "plt.ylabel('Value')\n",
    "plt.ylim(0,0.06)\n",
    "plt.title('Training & Validation Loss per Epoch')\n",
    "plt.xlim(0,len(history5.history['loss']))\n",
    "\n",
    "plt.legend()\n",
    "\n",
    "plt.grid(True)\n",
    "plt.savefig('val_loss_model5.png',format='png')\n",
    "# Muestra el gráfico\n",
    "plt.show()"
   ]
  },
  {
   "cell_type": "code",
   "execution_count": null,
   "metadata": {},
   "outputs": [],
   "source": [
    "test_dataset = create_combined_dataset(images_test, X_test, y_test, 1)\n",
    "predict5 = model.predict(test_dataset,steps=len(y_test))"
   ]
  },
  {
   "cell_type": "code",
   "execution_count": null,
   "metadata": {},
   "outputs": [],
   "source": [
    "# Calcular MAE\n",
    "mae5 = mean_absolute_error(y_test, predict5)\n",
    "mse5= mean_squared_error(y_test, predict5)\n",
    "# Calcular R-squared\n",
    "r25 = r2_score(y_test, predict5)\n",
    "smape5 = smape_2(y_test, predict5)\n",
    "\n",
    "# Imprimir las métricas\n",
    "print(f\"MAE: {mae5}\")\n",
    "print(f\"MSE: {mse5}\")\n",
    "print(f\"R-squared: {r25}\")\n",
    "print(f\"SMAPE: {smape5}%\")"
   ]
  },
  {
   "cell_type": "code",
   "execution_count": null,
   "metadata": {},
   "outputs": [],
   "source": [
    "plt.scatter(y_test, predict5, color='blue', alpha=0.5)\n",
    "\n",
    "plt.xlabel('Valores Reales')\n",
    "plt.ylabel('predicciones')\n",
    "plt.xlim(0,1)\n",
    "plt.ylim(0,1)\n",
    "\n",
    "plt.show()"
   ]
  },
  {
   "cell_type": "code",
   "execution_count": null,
   "metadata": {},
   "outputs": [],
   "source": [
    "residuos = []\n",
    "for a in range(len(y_test)):\n",
    "    residuos.append(float(y_test[a])-float(predict5[a]))\n",
    "    import seaborn as sns\n",
    "sns.histplot(residuos,kde=True,bins=600)\n",
    "plt.xlim(-0.1,0.1)\n",
    "plt.show()"
   ]
  },
  {
   "cell_type": "markdown",
   "metadata": {},
   "source": [
    "### Usando 10 días previos para predecir el día siguiente (Capping)"
   ]
  },
  {
   "cell_type": "code",
   "execution_count": null,
   "metadata": {},
   "outputs": [],
   "source": [
    "# Definir la longitud de la secuencia para la LSTM\n",
    "sequence_length = 10  # Supongamos que usas 7 días para la LSTM\n",
    "\n",
    "# Variables para almacenar las secuencias, el target y las imágenes\n",
    "X, y, images = [], [], []\n",
    "\n",
    "# Recorre los datos por locación\n",
    "for location, location_df in grouped_data.items():\n",
    "    features = location_df.drop(['Date', 'station', 'mp10', 'image'], axis=1).values\n",
    "    target = location_df['mp10'].values\n",
    "    image_series = location_df['image'].values\n",
    "\n",
    "    for i in range(sequence_length, len(features)):\n",
    "        # Crear secuencia de entrada de `sequence_length` días\n",
    "        sequence_features = features[i-sequence_length:i]\n",
    "        sequence_target = target[i]\n",
    "        \n",
    "        # Buscar una imagen en la secuencia (la más cercana al último día de la secuencia)\n",
    "        image_associated = image_series[i-sequence_length:i]\n",
    "        image_file = next((img for img in reversed(image_associated) if img != 0), None)\n",
    "        \n",
    "        # Añadir solo si hay una imagen válida asociada\n",
    "        if image_file:\n",
    "            X.append(sequence_features)\n",
    "            y.append(sequence_target)\n",
    "            images.append(image_file)\n",
    "\n",
    "# Convertir las listas a arrays de numpy\n",
    "X, y = np.array(X), np.array(y)\n",
    "images = np.array(images)\n",
    "\n",
    "# Normalizar características de entrada\n",
    "scaler_X = MinMaxScaler()\n",
    "X_reshaped = X.reshape(-1, X.shape[-1])\n",
    "X_normalized = scaler_X.fit_transform(X_reshaped)\n",
    "X = X_normalized.reshape(X.shape)\n",
    "\n",
    "scaler_y = MinMaxScaler()\n",
    "y = scaler_y.fit_transform(y.reshape(-1, 1))\n",
    "\n",
    "print(f\"Forma de X: {X.shape}, Forma de y: {y.shape}, Total de imágenes: {images.shape}\")\n",
    "\n",
    "# Dividir los datos en 70% entrenamiento, 20% test, 10% validación\n",
    "X_train, X_temp, y_train, y_temp, images_train, images_temp = train_test_split(X, y, images, test_size=0.30, random_state=42)\n",
    "\n",
    "# Dividir el 30% restante en 20% test y 10% validación\n",
    "X_test, X_val, y_test, y_val, images_test, images_val = train_test_split(X_temp, y_temp, images_temp, test_size=0.33, random_state=42)  # 0.33 * 0.30 = ~0.10\n",
    "\n",
    "# Imprimir las formas para verificar las divisiones\n",
    "print(f\"Train set: X={X_train.shape}, y={y_train.shape}, images={images_train.shape}\")\n",
    "print(f\"Test set: X={X_test.shape}, y={y_test.shape}, images={images_test.shape}\")\n",
    "print(f\"Validation set: X={X_val.shape}, y={y_val.shape}, images={images_val.shape}\")\n"
   ]
  },
  {
   "cell_type": "code",
   "execution_count": null,
   "metadata": {},
   "outputs": [],
   "source": [
    "# Definir la entrada para las imágenes (224x224x6)\n",
    "image_input = Input(shape=(224, 224, 6))\n",
    "\n",
    "# Red convolucional para procesar la entrada de imágenes\n",
    "x = Conv2D(filters=16, kernel_size=(3, 3), activation='relu')(image_input)\n",
    "x = AveragePooling2D(pool_size=(2, 2))(x)\n",
    "x = Conv2D(filters=32, kernel_size=(3, 3), activation='relu')(x)\n",
    "x = AveragePooling2D(pool_size=(2, 2))(x)\n",
    "x = Conv2D(filters=32, kernel_size=(3, 3), activation='relu')(x)\n",
    "x = AveragePooling2D(pool_size=(2, 2))(x)\n",
    "x = Conv2D(filters=32, kernel_size=(3, 3), activation='relu')(x)\n",
    "x = AveragePooling2D(pool_size=(2, 2))(x)\n",
    "\n",
    "# Aplanar la salida de la capa convolucional\n",
    "x = Flatten()(x)\n",
    "x = Dense(units=128, activation='relu')(x)\n",
    "x = Dropout(rate=0.5)(x)\n",
    "\n",
    "# Definir la entrada para la LSTM (datos secuenciales)\n",
    "sequence_input = Input(shape=(10, 17))  \n",
    "\n",
    "# Red LSTM para procesar la entrada secuencial\n",
    "y = LSTM(units=50, return_sequences=True)(sequence_input)\n",
    "y = LSTM(units=50)(y)\n",
    "\n",
    "# Combinar las salidas de la CNN y la LSTM\n",
    "combined = Concatenate()([x, y])\n",
    "\n",
    "# Añadir capas densas finales para predecir el valor final\n",
    "z = Dense(units=128, activation='relu')(combined)\n",
    "z = Dropout(rate=0.5)(z)\n",
    "z = Dense(units=1, activation='linear')(z)\n",
    "\n",
    "# Crear el modelo con dos entradas\n",
    "model6 = Model(inputs=[image_input, sequence_input], outputs=z)\n",
    "\n",
    "# Compilar el modelo\n",
    "model6.compile(optimizer='adam', loss='mean_absolute_error',metrics=['mean_squared_error','mean_absolute_percentage_error',smape])\n",
    "\n",
    "# Mostrar la arquitectura del modelo\n",
    "model6.summary()\n"
   ]
  },
  {
   "cell_type": "code",
   "execution_count": null,
   "metadata": {},
   "outputs": [],
   "source": [
    "checkpoint_path = \"training_6/ckpt.weights.h5\"\n",
    "checkpoint_dir = os.path.dirname(checkpoint_path)\n",
    "\n",
    "# Create a callback that saves the model's weights\n",
    "cp_callback = tf.keras.callbacks.ModelCheckpoint(filepath=checkpoint_path,\n",
    "                                                 save_weights_only=True,\n",
    "                                                 verbose=1)"
   ]
  },
  {
   "cell_type": "code",
   "execution_count": null,
   "metadata": {},
   "outputs": [],
   "source": [
    "history6=model6.fit(train_dataset, batch_size=32,epochs=50,steps_per_epoch=len(X_train)//32, validation_data=val_dataset,callbacks=[early_stopping,cp_callback],validation_steps=len(X_val)//32)\n"
   ]
  },
  {
   "cell_type": "code",
   "execution_count": null,
   "metadata": {},
   "outputs": [],
   "source": [
    "df_Scaled=df['mp10'].copy()\n",
    "df_Scaled = df_Scaled  / df_Scaled.abs().max()\n"
   ]
  },
  {
   "cell_type": "code",
   "execution_count": null,
   "metadata": {},
   "outputs": [],
   "source": [
    "s=[df_Scaled.std()]*len(history6.history['loss'])\n",
    "colors = ['b', 'g', 'r', 'c', 'm', 'y','k','orange', 'purple', 'brown', 'pink', 'lime', 'teal', 'gray', 'olive', 'navy']\n",
    "\n",
    "    # Grafica los valores de loss\n",
    "plt.plot(history6.history['loss'],  color='purple',label='Loss')\n",
    "plt.plot(history6.history['val_loss'],color='olive',label='Val_Loss')\n",
    "plt.plot(s,label='Standard Deviation',color='pink')\n",
    "# Agrega etiquetas al gráfico\n",
    "plt.xlabel('Epoch')\n",
    "plt.ylabel('Value')\n",
    "plt.ylim(0,0.06)\n",
    "plt.title('Training & Validation Loss per Epoch')\n",
    "plt.xlim(0,len(history6.history['loss']))\n",
    "\n",
    "plt.legend()\n",
    "\n",
    "plt.grid(True)\n",
    "plt.savefig('val_loss_model6.png',format='png')\n",
    "# Muestra el gráfico\n",
    "plt.show()"
   ]
  },
  {
   "cell_type": "code",
   "execution_count": null,
   "metadata": {},
   "outputs": [],
   "source": [
    "test_dataset = create_combined_dataset(images_test, X_test, y_test, 1)\n",
    "predict6 = model6.predict(test_dataset,steps=len(y_test))"
   ]
  },
  {
   "cell_type": "code",
   "execution_count": null,
   "metadata": {},
   "outputs": [],
   "source": [
    "mae6 = mean_absolute_error(y_test, predict6)\n",
    "mse6= mean_squared_error(y_test, predict6)\n",
    "# Calcular R-squared\n",
    "r26 = r2_score(y_test, predict6)\n",
    "\n",
    "smape6 = smape_2(y_test, predict6)\n",
    "\n",
    "# Imprimir las métricas\n",
    "print(f\"MAE: {mae6}\")\n",
    "print(f\"MSE: {mse6}\")\n",
    "print(f\"R-squared: {r26}\")\n",
    "print(f\"SMAPE: {smape6}%\")"
   ]
  },
  {
   "cell_type": "code",
   "execution_count": null,
   "metadata": {},
   "outputs": [],
   "source": [
    "plt.scatter(y_test, predict6, color='blue', alpha=0.5)\n",
    "\n",
    "plt.xlabel('Valores Reales')\n",
    "plt.ylabel('predicciones')\n",
    "plt.xlim(0,1)\n",
    "plt.ylim(0,1)\n",
    "\n",
    "plt.show()"
   ]
  },
  {
   "cell_type": "code",
   "execution_count": null,
   "metadata": {},
   "outputs": [],
   "source": [
    "residuos = []\n",
    "for a in range(len(y_test)):\n",
    "    residuos.append(float(y_test[a])-float(predict6[a]))\n",
    "sns.histplot(residuos,kde=True,bins=600)\n",
    "plt.xlim(-0.1,0.1)\n",
    "plt.show()"
   ]
  },
  {
   "cell_type": "markdown",
   "metadata": {},
   "source": [
    "### Usando 10 días previos para predecir el promedio de la semana siguiente (Capping)"
   ]
  },
  {
   "cell_type": "code",
   "execution_count": null,
   "metadata": {},
   "outputs": [],
   "source": [
    "# Definir la longitud de la secuencia para la LSTM\n",
    "sequence_length = 10  # Supongamos que usas 7 días para la LSTM\n",
    "\n",
    "# Variables para almacenar las secuencias, el target y las imágenes\n",
    "X, y, images = [], [], []\n",
    "\n",
    "# Recorre los datos por locación\n",
    "for location, location_df in grouped_data.items():\n",
    "    features = location_df.drop(['Date', 'station', 'mp10', 'image'], axis=1).values\n",
    "    target = location_df['mp10'].values\n",
    "    image_series = location_df['image'].values\n",
    "\n",
    "    for i in range(sequence_length, len(features)):\n",
    "        # Crear secuencia de entrada de `sequence_length` días\n",
    "        sequence_features = features[i-sequence_length:i]\n",
    "        sequence_target = np.mean(target[i:i+7])\n",
    "        \n",
    "        # Buscar una imagen en la secuencia (la más cercana al último día de la secuencia)\n",
    "        image_associated = image_series[i-sequence_length:i]\n",
    "        image_file = next((img for img in reversed(image_associated) if img != 0), None)\n",
    "        \n",
    "        # Añadir solo si hay una imagen válida asociada\n",
    "        if image_file:\n",
    "            X.append(sequence_features)\n",
    "            y.append(sequence_target)\n",
    "            images.append(image_file)\n",
    "\n",
    "# Convertir las listas a arrays de numpy\n",
    "X, y = np.array(X), np.array(y)\n",
    "images = np.array(images)\n",
    "\n",
    "# Normalizar características de entrada\n",
    "scaler_X = MinMaxScaler()\n",
    "X_reshaped = X.reshape(-1, X.shape[-1])\n",
    "X_normalized = scaler_X.fit_transform(X_reshaped)\n",
    "X = X_normalized.reshape(X.shape)\n",
    "\n",
    "scaler_y = MinMaxScaler()\n",
    "y = scaler_y.fit_transform(y.reshape(-1, 1))\n",
    "\n",
    "print(f\"Forma de X: {X.shape}, Forma de y: {y.shape}, Total de imágenes: {images.shape}\")\n",
    "\n",
    "# Dividir los datos en 70% entrenamiento, 20% test, 10% validación\n",
    "X_train, X_temp, y_train, y_temp, images_train, images_temp = train_test_split(X, y, images, test_size=0.30, random_state=42)\n",
    "\n",
    "# Dividir el 30% restante en 20% test y 10% validación\n",
    "X_test, X_val, y_test, y_val, images_test, images_val = train_test_split(X_temp, y_temp, images_temp, test_size=0.33, random_state=42)  # 0.33 * 0.30 = ~0.10\n",
    "\n",
    "# Imprimir las formas para verificar las divisiones\n",
    "print(f\"Train set: X={X_train.shape}, y={y_train.shape}, images={images_train.shape}\")\n",
    "print(f\"Test set: X={X_test.shape}, y={y_test.shape}, images={images_test.shape}\")\n",
    "print(f\"Validation set: X={X_val.shape}, y={y_val.shape}, images={images_val.shape}\")\n"
   ]
  },
  {
   "cell_type": "code",
   "execution_count": null,
   "metadata": {},
   "outputs": [],
   "source": [
    "# Definir la entrada para las imágenes (224x224x6)\n",
    "image_input = Input(shape=(224, 224, 6))\n",
    "\n",
    "# Red convolucional para procesar la entrada de imágenes\n",
    "x = Conv2D(filters=16, kernel_size=(3, 3), activation='relu')(image_input)\n",
    "x = AveragePooling2D(pool_size=(2, 2))(x)\n",
    "x = Conv2D(filters=32, kernel_size=(3, 3), activation='relu')(x)\n",
    "x = AveragePooling2D(pool_size=(2, 2))(x)\n",
    "x = Conv2D(filters=32, kernel_size=(3, 3), activation='relu')(x)\n",
    "x = AveragePooling2D(pool_size=(2, 2))(x)\n",
    "x = Conv2D(filters=32, kernel_size=(3, 3), activation='relu')(x)\n",
    "x = AveragePooling2D(pool_size=(2, 2))(x)\n",
    "\n",
    "# Aplanar la salida de la capa convolucional\n",
    "x = Flatten()(x)\n",
    "x = Dense(units=128, activation='relu')(x)\n",
    "x = Dropout(rate=0.5)(x)\n",
    "\n",
    "# Definir la entrada para la LSTM (datos secuenciales)\n",
    "sequence_input = Input(shape=(10, 17))  \n",
    "\n",
    "# Red LSTM para procesar la entrada secuencial\n",
    "y = LSTM(units=50, return_sequences=True)(sequence_input)\n",
    "y = LSTM(units=50)(y)\n",
    "\n",
    "# Combinar las salidas de la CNN y la LSTM\n",
    "combined = Concatenate()([x, y])\n",
    "\n",
    "# Añadir capas densas finales para predecir el valor final\n",
    "z = Dense(units=128, activation='relu')(combined)\n",
    "z = Dropout(rate=0.5)(z)\n",
    "z = Dense(units=1, activation='linear')(z)\n",
    "\n",
    "# Crear el modelo con dos entradas\n",
    "model7 = Model(inputs=[image_input, sequence_input], outputs=z)\n",
    "\n",
    "# Compilar el modelo\n",
    "model7.compile(optimizer='adam', loss='mean_absolute_error',metrics=['mean_squared_error','mean_absolute_percentage_error',smape])\n",
    "\n",
    "# Mostrar la arquitectura del modelo\n",
    "model7.summary()\n"
   ]
  },
  {
   "cell_type": "code",
   "execution_count": null,
   "metadata": {},
   "outputs": [],
   "source": [
    "# Generador para combinar imágenes y secuencias\n",
    "def data_generator(image_files, sequences, labels): \n",
    "    for i in range(len(image_files)):\n",
    "        if image_files[i] != '':  # Si la imagen existe\n",
    "            image = preprocess_imagery(image_files[i])  # Cargar y preprocesar la imagen\n",
    "            image = tf.convert_to_tensor(image, dtype=tf.float32)\n",
    "        else:\n",
    "            image = tf.zeros((224, 224, 6), dtype=tf.float32)  # Si no hay imagen, usar un tensor de ceros\n",
    "            \n",
    "        sequence = tf.convert_to_tensor(sequences[i], dtype=tf.float32)  # Secuencia de datos tabulares\n",
    "        label = tf.convert_to_tensor(labels[i], dtype=tf.float32)  # Etiqueta (mp10)+\n",
    "        label=tf.squeeze(label)\n",
    "        \n",
    "        yield (image, sequence), label  # Dos entradas: imagen y secuencia\n",
    "\n",
    "# Crear el dataset\n",
    "def create_combined_dataset(image_files, sequences, labels, batch_size):\n",
    "    dataset = tf.data.Dataset.from_generator(\n",
    "        data_generator,\n",
    "        args=[image_files, sequences, labels],\n",
    "        output_signature=(\n",
    "            (tf.TensorSpec(shape=(224, 224, 6), dtype=tf.float32),  # Especificar el tamaño de las imágenes\n",
    "             tf.TensorSpec(shape=(10, sequences.shape[2]), dtype=tf.float32)),  # Secuencias de 7 días\n",
    "            tf.TensorSpec(shape=(), dtype=tf.float32)  # La etiqueta (mp10)\n",
    "        )\n",
    "    )\n",
    "    dataset = dataset.batch(batch_size)\n",
    "    dataset = dataset.prefetch(buffer_size=tf.data.AUTOTUNE)\n",
    "    return dataset\n",
    "\n",
    "# Ejemplo de uso para crear datasets de entrenamiento, validación y prueba\n",
    "batch_size = 32\n",
    "\n",
    "# Crear datasets\n",
    "train_dataset = create_combined_dataset(images_train, X_train, y_train, batch_size)\n",
    "val_dataset = create_combined_dataset(images_val, X_val, y_val, batch_size)\n",
    "test_dataset = create_combined_dataset(images_test, X_test, y_test, batch_size)\n"
   ]
  },
  {
   "cell_type": "code",
   "execution_count": null,
   "metadata": {},
   "outputs": [],
   "source": [
    "\n",
    "early_stopping = EarlyStopping(\n",
    "    monitor='val_loss',  # Métrica a monitorear\n",
    "    patience=10,         # Número de épocas de paciencia\n",
    "    restore_best_weights=True  # Restaurar los mejores pesos al final del entrenamiento\n",
    ")\n",
    "checkpoint_path = \"training_7/ckpt.weights.h5\"\n",
    "checkpoint_dir = os.path.dirname(checkpoint_path)\n",
    "\n",
    "# Create a callback that saves the model's weights\n",
    "cp_callback = tf.keras.callbacks.ModelCheckpoint(filepath=checkpoint_path,\n",
    "                                                 save_weights_only=True,\n",
    "                                                 verbose=1)"
   ]
  },
  {
   "cell_type": "code",
   "execution_count": null,
   "metadata": {},
   "outputs": [],
   "source": [
    "history7=model7.fit(train_dataset, batch_size=32,epochs=50,steps_per_epoch=len(X_train)//32, validation_data=val_dataset,callbacks=[early_stopping,cp_callback],validation_steps=len(X_val)//32)\n"
   ]
  },
  {
   "cell_type": "code",
   "execution_count": null,
   "metadata": {},
   "outputs": [],
   "source": [
    "df_Scaled=df['mp10'].copy()\n",
    "df_Scaled = df_Scaled  / df_Scaled.abs().max()"
   ]
  },
  {
   "cell_type": "code",
   "execution_count": null,
   "metadata": {},
   "outputs": [],
   "source": [
    "import matplotlib.pyplot as plt\n",
    "s=[df_Scaled.std()]*len(history7.history['loss'])\n",
    "colors = ['b', 'g', 'r', 'c', 'm', 'y','k','orange', 'purple', 'brown', 'pink', 'lime', 'teal', 'gray', 'olive', 'navy']\n",
    "\n",
    "    # Grafica los valores de loss\n",
    "plt.plot(history.history['loss'],  color='purple',label='Loss')\n",
    "plt.plot(history.history['val_loss'],color='olive',label='Val_Loss')\n",
    "plt.plot(s,label='Standard Deviation',color='pink')\n",
    "# Agrega etiquetas al gráfico\n",
    "plt.xlabel('Epoch')\n",
    "plt.ylabel('Value')\n",
    "plt.ylim(0,0.06)\n",
    "plt.title('Training & Validation Loss per Epoch')\n",
    "plt.xlim(0,len(history7.history['loss']))\n",
    "\n",
    "plt.legend()\n",
    "\n",
    "plt.grid(True)\n",
    "plt.savefig('val_loss_model7.png',format='png')\n",
    "# Muestra el gráfico\n",
    "plt.show()"
   ]
  },
  {
   "cell_type": "code",
   "execution_count": null,
   "metadata": {},
   "outputs": [],
   "source": [
    "test_dataset = create_combined_dataset(images_test, X_test, y_test, 1)\n",
    "predict7 = model.predict(test_dataset,steps=len(y_test))"
   ]
  },
  {
   "cell_type": "code",
   "execution_count": null,
   "metadata": {},
   "outputs": [],
   "source": [
    "# Calcular MAE\n",
    "mae7 = mean_absolute_error(y_test, predict)\n",
    "mse7= mean_squared_error(y_test, predict)\n",
    "# Calcular R-squared\n",
    "r27 = r2_score(y_test, predict)\n",
    "smape7 = smape_2(y_test, predict)\n",
    "\n",
    "# Imprimir las métricas\n",
    "print(f\"MAE: {mae7}\")\n",
    "print(f\"MSE: {mse7}\")\n",
    "print(f\"R-squared: {r27}\")\n",
    "print(f\"SMAPE: {smape7}%\")"
   ]
  },
  {
   "cell_type": "code",
   "execution_count": null,
   "metadata": {},
   "outputs": [],
   "source": [
    "plt.scatter(y_test, predict7, color='blue', alpha=0.5)\n",
    "\n",
    "plt.xlabel('Valores Reales')\n",
    "plt.ylabel('predicciones')\n",
    "plt.xlim(0,1)\n",
    "plt.ylim(0,1)\n",
    "\n",
    "plt.show()"
   ]
  },
  {
   "cell_type": "code",
   "execution_count": null,
   "metadata": {},
   "outputs": [],
   "source": [
    "residuos = []\n",
    "for a in range(len(y_test)):\n",
    "    residuos.append(float(y_test[a])-float(predict7[a]))\n",
    "    import seaborn as sns\n",
    "sns.histplot(residuos,kde=True,bins=600)\n",
    "plt.xlim(-0.1,0.1)\n",
    "plt.show()"
   ]
  },
  {
   "cell_type": "code",
   "execution_count": null,
   "metadata": {},
   "outputs": [],
   "source": [
    "mae_list = [mae0, mae1, mae2, mae3, mae4, mae5, mae6, mae7]\n",
    "mse_list = [mse0, mse1, mse2, mse3, mse4, mse5, mse6, mse7]\n",
    "r2_list = [r20, r21, r22, r23, r24, r25, r26, r27]\n",
    "smape_list = [smape0, smape1, smape2, smape3, smape4, smape5, smape6, smape7]\n",
    "\n",
    "# Crear una lista de modelos del 0 al 7\n",
    "modelos = list(range(8))\n",
    "\n",
    "# Crear un diccionario con los datos\n",
    "data = {\n",
    "    'Modelo': modelos,\n",
    "    'MAE': mae,\n",
    "    'MSE': mse,\n",
    "    'R2': r2,\n",
    "    'SMAPE': smape\n",
    "}\n",
    "\n",
    "# Crear un DataFrame de pandas con los datos\n",
    "dfs = pd.DataFrame(data)\n",
    "\n",
    "# Mostrar el DataFrame\n",
    "print(dfs)"
   ]
  }
 ],
 "metadata": {
  "kernelspec": {
   "display_name": "Python 3",
   "language": "python",
   "name": "python3"
  },
  "language_info": {
   "codemirror_mode": {
    "name": "ipython",
    "version": 3
   },
   "file_extension": ".py",
   "mimetype": "text/x-python",
   "name": "python",
   "nbconvert_exporter": "python",
   "pygments_lexer": "ipython3",
   "version": "3.12.7"
  }
 },
 "nbformat": 4,
 "nbformat_minor": 2
}
