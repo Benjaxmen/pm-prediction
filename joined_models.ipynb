{
 "cells": [
  {
   "cell_type": "code",
   "execution_count": 1,
   "metadata": {},
   "outputs": [],
   "source": [
    "import imageio\n",
    "import os\n",
    "import pydot\n",
    "import numpy as np\n",
    "import pandas as pd\n",
    "from sklearn.model_selection import train_test_split\n",
    "import tensorflow as tf"
   ]
  },
  {
   "cell_type": "code",
   "execution_count": 2,
   "metadata": {},
   "outputs": [],
   "source": [
    "def preprocess_imagery(path):\n",
    "    '''\n",
    "    Pre process satellite imagery. We check for nans in the composite images,\n",
    "    and then we load them into the [0,1] range.\n",
    "    Input: TIF files downloaded from GEE (224x224x7)\n",
    "    '''\n",
    "    # Reading image\n",
    "    path = str(path).strip('b').strip(\"'\")\n",
    "    path=\"C:/Users/benja/Desktop/tesis/GEE_Images/\"+path+\".tif\"\n",
    "    image = (imageio.imread(path))\n",
    "    \"\"\"if np.sum(np.isnan(image)) > 0:\n",
    "        # Taking the mean of the image, per channel\n",
    "        mean = np.nanmean(image, axis=(0, 1))\n",
    "        # Replacing NaN with per channel mean\n",
    "        replacement = np.isnan(image) * mean\n",
    "        image[np.isnan(image)] = replacement[np.isnan(image)]  \n",
    "        nan_channels = np.all(np.isnan(image), axis=(0, 1))\n",
    "        # Replacing NaN with 0 where all values in a channel are NaN\n",
    "        image[:, :, nan_channels] = np.nan_to_num(image[:, :, nan_channels])\n",
    "    # Scale the image to [0, 1] range\n",
    "    image = image / 255\"\"\"\n",
    "    return image"
   ]
  },
  {
   "cell_type": "code",
   "execution_count": 3,
   "metadata": {},
   "outputs": [
    {
     "name": "stdout",
     "output_type": "stream",
     "text": [
      "      mp10    station    mp2.5  dirviento  tamb  so2  velviento     hrel  \\\n",
      "0  178.542  El_bosque  49.7829    221.195   NaN  9.5   0.950428  40.5833   \n",
      "1  178.542  El_bosque  49.7829    221.195   NaN  9.5   0.950428  40.5833   \n",
      "2  178.542  El_bosque  49.7829    221.195   NaN  9.5   0.950428  40.5833   \n",
      "3  178.542  El_bosque  49.7829    221.195   NaN  9.5   0.950428  40.5833   \n",
      "4  146.042  El_bosque  49.7829    221.195   NaN  9.5   0.950428  40.5833   \n",
      "\n",
      "       no2       o3  ...       no        co  region        Date  Year  Month  \\\n",
      "0  30.3333  16.9167  ...  34.8333  0.929165       1  1997-04-02  1997      4   \n",
      "1  30.3333  12.4583  ...  34.8333  0.929165       1  1997-04-03  1997      4   \n",
      "2  30.3333  23.2083  ...  34.8333  0.929165       1  1997-04-04  1997      4   \n",
      "3  30.3333  28.2917  ...  34.8333  0.929165       1  1997-04-05  1997      4   \n",
      "4  30.3333  21.2083  ...  34.8333  1.204160       1  1997-04-06  1997      4   \n",
      "\n",
      "   Day        lat       long  image  \n",
      "0    2 -33.547016 -70.666163   None  \n",
      "1    3 -33.547016 -70.666163   None  \n",
      "2    4 -33.547016 -70.666163   None  \n",
      "3    5 -33.547016 -70.666163   None  \n",
      "4    6 -33.547016 -70.666163   None  \n",
      "\n",
      "[5 rows x 21 columns]\n"
     ]
    }
   ],
   "source": [
    "image_files = [f for f in os.listdir(\"../GEE_Images\")]\n",
    "image_info = []\n",
    "df = pd.read_csv('processed_data.csv')\n",
    "\n",
    "for image in image_files:\n",
    "    name, _ = os.path.splitext(image)\n",
    "    # Extraer estación y fecha de las imágenes\n",
    "    station = '_'.join(name.split(' ')[0].split('_')[:-1])\n",
    "    date = name.split(' ')[0].split('_')[-1]\n",
    "    image_info.append([station, date,name])\n",
    "\n",
    "# Añadimos una columna para asociar imágenes en df\n",
    "df['image'] = None  # Inicialmente sin imágenes asociadas\n",
    "\n",
    "# Ahora asociamos cada imagen a su registro en df\n",
    "for info in image_info:\n",
    "    df.loc[(df['station'] == info[0]) & (df['Date'] == info[1]), 'image'] = info[2]\n",
    "\n",
    "# Verificar que las imágenes se han asignado correctamente\n",
    "print(df.head())\n"
   ]
  },
  {
   "cell_type": "code",
   "execution_count": 10,
   "metadata": {},
   "outputs": [
    {
     "data": {
      "text/plain": [
       "count                             51782\n",
       "unique                            51782\n",
       "top       El_bosque_1997-07-01 00_00_00\n",
       "freq                                  1\n",
       "Name: image, dtype: object"
      ]
     },
     "execution_count": 10,
     "metadata": {},
     "output_type": "execute_result"
    }
   ],
   "source": [
    "df['image'].describe()"
   ]
  },
  {
   "cell_type": "code",
   "execution_count": 4,
   "metadata": {},
   "outputs": [],
   "source": [
    "df_Scaled=df.copy()\n",
    "# Crear un diccionario para almacenar los datos de cada locación\n",
    "df_Scaled.fillna(value=0,inplace=True)\n",
    "grouped_data = {location: location_df.sort_values(by='Date') for location, location_df in df_Scaled.groupby('station')}"
   ]
  },
  {
   "cell_type": "code",
   "execution_count": 5,
   "metadata": {},
   "outputs": [
    {
     "data": {
      "text/plain": [
       "146624                                0\n",
       "146625                                0\n",
       "146626                                0\n",
       "146627                                0\n",
       "146628                                0\n",
       "                      ...              \n",
       "151912                                0\n",
       "151913                                0\n",
       "151914                                0\n",
       "151915                                0\n",
       "151916    talagante_2024-04-22 00_00_00\n",
       "Name: image, Length: 5293, dtype: object"
      ]
     },
     "execution_count": 5,
     "metadata": {},
     "output_type": "execute_result"
    }
   ],
   "source": [
    "grouped_data['talagante']['image']"
   ]
  },
  {
   "cell_type": "code",
   "execution_count": 13,
   "metadata": {},
   "outputs": [
    {
     "name": "stdout",
     "output_type": "stream",
     "text": [
      "El promedio de días entre imágenes es: 3.73\n",
      "El máximo de días entre imágenes es: 494.00\n",
      "El mínimo de días entre imágenes es: 1.00\n",
      "La desviación estándar imágenes es: 13.48\n"
     ]
    }
   ],
   "source": [
    "import numpy as np\n",
    "import pandas as pd\n",
    "\n",
    "# Obtener la serie de fechas e imágenes\n",
    "date_series = grouped_data['talagante']['Date'].values  # Asegúrate de tener una columna 'Date' en el dataset\n",
    "image_series = grouped_data['talagante']['image'].values\n",
    "\n",
    "# Convertir las fechas a formato datetime\n",
    "date_series = pd.to_datetime(date_series)\n",
    "\n",
    "# Crear una lista para almacenar las diferencias de días entre imágenes\n",
    "day_differences = []\n",
    "\n",
    "# Guardar la fecha de la última imagen válida\n",
    "last_image_date = None\n",
    "\n",
    "# Recorrer todas las fechas e imágenes\n",
    "for date, image in zip(date_series, image_series):\n",
    "    if image!=0:  # Si hay una imagen válida\n",
    "        if last_image_date is not None:\n",
    "            # Calcular la diferencia de días con la última imagen válida\n",
    "            days_between = (date - last_image_date).days\n",
    "            day_differences.append(days_between)\n",
    "        \n",
    "        # Actualizar la última fecha con imagen válida\n",
    "        last_image_date = date\n",
    "\n",
    "# Calcular el promedio de días entre imágenes\n",
    "if day_differences:\n",
    "    avg_days_between_images = np.mean(day_differences)\n",
    "    print(f\"El promedio de días entre imágenes es: {avg_days_between_images:.2f}\")\n",
    "    avg_days_between_images = np.max(day_differences)\n",
    "    print(f\"El máximo de días entre imágenes es: {avg_days_between_images:.2f}\")\n",
    "    avg_days_between_images = np.min(day_differences)\n",
    "    print(f\"El mínimo de días entre imágenes es: {avg_days_between_images:.2f}\")\n",
    "    avg_days_between_images = np.std(day_differences)\n",
    "    print(f\"La desviación estándar imágenes es: {avg_days_between_images:.2f}\")\n",
    "else:\n",
    "    print(\"No se encontraron suficientes imágenes para calcular la diferencia.\")\n"
   ]
  },
  {
   "cell_type": "code",
   "execution_count": 14,
   "metadata": {},
   "outputs": [
    {
     "data": {
      "text/plain": [
       "<Axes: ylabel='Count'>"
      ]
     },
     "execution_count": 14,
     "metadata": {},
     "output_type": "execute_result"
    },
    {
     "data": {
      "image/png": "[encoded data removed]",
      "text/plain": [
       "<Figure size 640x480 with 1 Axes>"
      ]
     },
     "metadata": {},
     "output_type": "display_data"
    }
   ],
   "source": [
    "import seaborn as sns\n",
    "sns.histplot(day_differences,bins=100)"
   ]
  },
  {
   "cell_type": "code",
   "execution_count": 76,
   "metadata": {},
   "outputs": [
    {
     "name": "stdout",
     "output_type": "stream",
     "text": [
      "Secuencias con imagen: 4360\n",
      "Secuencias sin imagen: 923\n"
     ]
    }
   ],
   "source": [
    "import pandas as pd\n",
    "\n",
    "# Definir el número de días en cada secuencia (sequence_length)\n",
    "sequence_length = 10  # o el valor que estés usando para la LSTM\n",
    "\n",
    "# Obtener la serie de imágenes\n",
    "image_series = grouped_data['talagante']['image'].values\n",
    "\n",
    "# Variables para contar secuencias con y sin imagen\n",
    "sequences_with_image = 0\n",
    "sequences_without_image = 0\n",
    "\n",
    "# Recorrer los datos de 'image' en bloques de sequence_length\n",
    "for i in range(sequence_length, len(image_series)):\n",
    "    # Seleccionar la secuencia de `sequence_length` días\n",
    "    image_associated = image_series[i-sequence_length:i]\n",
    "    \n",
    "    # Buscar una imagen en la secuencia (la más cercana al último día)\n",
    "    image_file = next((img for img in reversed(image_associated) if img!=0), None)\n",
    "    \n",
    "    if image_file:\n",
    "        sequences_with_image += 1  # Secuencia tiene una imagen válida\n",
    "    else:\n",
    "        sequences_without_image += 1  # Secuencia no tiene imagen\n",
    "\n",
    "# Imprimir los resultados\n",
    "print(f\"Secuencias con imagen: {sequences_with_image}\")\n",
    "print(f\"Secuencias sin imagen: {sequences_without_image}\")\n"
   ]
  },
  {
   "cell_type": "markdown",
   "metadata": {},
   "source": [
    "### Usando 7 días previos para predecir el día siguiente (Sin capping)"
   ]
  },
  {
   "cell_type": "code",
   "execution_count": 16,
   "metadata": {},
   "outputs": [
    {
     "name": "stdout",
     "output_type": "stream",
     "text": [
      "Forma de X: (103015, 7, 17), Forma de y: (103015, 1), Total de imágenes: (103015,)\n",
      "Train set: X=(72110, 7, 17), y=(72110, 1), images=(72110,)\n",
      "Test set: X=(20706, 7, 17), y=(20706, 1), images=(20706,)\n",
      "Validation set: X=(10199, 7, 17), y=(10199, 1), images=(10199,)\n"
     ]
    }
   ],
   "source": [
    "from sklearn.model_selection import train_test_split\n",
    "import numpy as np\n",
    "from sklearn.preprocessing import MinMaxScaler\n",
    "\n",
    "\n",
    "# Definir la longitud de la secuencia para la LSTM\n",
    "sequence_length = 7  # Supongamos que usas 7 días para la LSTM\n",
    "\n",
    "# Variables para almacenar las secuencias, el target y las imágenes\n",
    "X, y, images = [], [], []\n",
    "\n",
    "# Recorre los datos por locación\n",
    "for location, location_df in grouped_data.items():\n",
    "    features = location_df.drop(['Date', 'station', 'mp10', 'image'], axis=1).values\n",
    "    target = location_df['mp10'].values\n",
    "    image_series = location_df['image'].values\n",
    "\n",
    "    for i in range(sequence_length, len(features)):\n",
    "        # Crear secuencia de entrada de `sequence_length` días\n",
    "        sequence_features = features[i-sequence_length:i]\n",
    "        sequence_target = target[i]\n",
    "        \n",
    "        # Buscar una imagen en la secuencia (la más cercana al último día de la secuencia)\n",
    "        image_associated = image_series[i-sequence_length:i]\n",
    "        image_file = next((img for img in reversed(image_associated) if img != 0), None)\n",
    "        \n",
    "        # Añadir solo si hay una imagen válida asociada\n",
    "        if image_file:\n",
    "            X.append(sequence_features)\n",
    "            y.append(sequence_target)\n",
    "            images.append(image_file)\n",
    "\n",
    "# Convertir las listas a arrays de numpy\n",
    "X, y = np.array(X), np.array(y)\n",
    "images = np.array(images)\n",
    "\n",
    "# Normalizar características de entrada\n",
    "scaler_X = MinMaxScaler()\n",
    "X_reshaped = X.reshape(-1, X.shape[-1])\n",
    "X_normalized = scaler_X.fit_transform(X_reshaped)\n",
    "X = X_normalized.reshape(X.shape)\n",
    "\n",
    "scaler_y = MinMaxScaler()\n",
    "y = scaler_y.fit_transform(y.reshape(-1, 1))\n",
    "\n",
    "print(f\"Forma de X: {X.shape}, Forma de y: {y.shape}, Total de imágenes: {images.shape}\")\n",
    "\n",
    "# Dividir los datos en 70% entrenamiento, 20% test, 10% validación\n",
    "X_train, X_temp, y_train, y_temp, images_train, images_temp = train_test_split(X, y, images, test_size=0.30, random_state=42)\n",
    "\n",
    "# Dividir el 30% restante en 20% test y 10% validación\n",
    "X_test, X_val, y_test, y_val, images_test, images_val = train_test_split(X_temp, y_temp, images_temp, test_size=0.33, random_state=42)  # 0.33 * 0.30 = ~0.10\n",
    "\n",
    "# Imprimir las formas para verificar las divisiones\n",
    "print(f\"Train set: X={X_train.shape}, y={y_train.shape}, images={images_train.shape}\")\n",
    "print(f\"Test set: X={X_test.shape}, y={y_test.shape}, images={images_test.shape}\")\n",
    "print(f\"Validation set: X={X_val.shape}, y={y_val.shape}, images={images_val.shape}\")\n"
   ]
  },
  {
   "cell_type": "code",
   "execution_count": 17,
   "metadata": {},
   "outputs": [
    {
     "data": {
      "text/html": [
       "<pre style=\"white-space:pre;overflow-x:auto;line-height:normal;font-family:Menlo,'DejaVu Sans Mono',consolas,'Courier New',monospace\"><span style=\"font-weight: bold\">Model: \"functional_1\"</span>\n",
       "</pre>\n"
      ],
      "text/plain": [
       "\u001b[1mModel: \"functional_1\"\u001b[0m\n"
      ]
     },
     "metadata": {},
     "output_type": "display_data"
    },
    {
     "data": {
      "text/html": [
       "<pre style=\"white-space:pre;overflow-x:auto;line-height:normal;font-family:Menlo,'DejaVu Sans Mono',consolas,'Courier New',monospace\">┏━━━━━━━━━━━━━━━━━━━━━┳━━━━━━━━━━━━━━━━━━━┳━━━━━━━━━━━━┳━━━━━━━━━━━━━━━━━━━┓\n",
       "┃<span style=\"font-weight: bold\"> Layer (type)        </span>┃<span style=\"font-weight: bold\"> Output Shape      </span>┃<span style=\"font-weight: bold\">    Param # </span>┃<span style=\"font-weight: bold\"> Connected to      </span>┃\n",
       "┡━━━━━━━━━━━━━━━━━━━━━╇━━━━━━━━━━━━━━━━━━━╇━━━━━━━━━━━━╇━━━━━━━━━━━━━━━━━━━┩\n",
       "│ input_layer         │ (<span style=\"color: #00d7ff; text-decoration-color: #00d7ff\">None</span>, <span style=\"color: #00af00; text-decoration-color: #00af00\">224</span>, <span style=\"color: #00af00; text-decoration-color: #00af00\">224</span>,  │          <span style=\"color: #00af00; text-decoration-color: #00af00\">0</span> │ -                 │\n",
       "│ (<span style=\"color: #0087ff; text-decoration-color: #0087ff\">InputLayer</span>)        │ <span style=\"color: #00af00; text-decoration-color: #00af00\">6</span>)                │            │                   │\n",
       "├─────────────────────┼───────────────────┼────────────┼───────────────────┤\n",
       "│ conv2d (<span style=\"color: #0087ff; text-decoration-color: #0087ff\">Conv2D</span>)     │ (<span style=\"color: #00d7ff; text-decoration-color: #00d7ff\">None</span>, <span style=\"color: #00af00; text-decoration-color: #00af00\">222</span>, <span style=\"color: #00af00; text-decoration-color: #00af00\">222</span>,  │        <span style=\"color: #00af00; text-decoration-color: #00af00\">880</span> │ input_layer[<span style=\"color: #00af00; text-decoration-color: #00af00\">0</span>][<span style=\"color: #00af00; text-decoration-color: #00af00\">0</span>] │\n",
       "│                     │ <span style=\"color: #00af00; text-decoration-color: #00af00\">16</span>)               │            │                   │\n",
       "├─────────────────────┼───────────────────┼────────────┼───────────────────┤\n",
       "│ average_pooling2d   │ (<span style=\"color: #00d7ff; text-decoration-color: #00d7ff\">None</span>, <span style=\"color: #00af00; text-decoration-color: #00af00\">111</span>, <span style=\"color: #00af00; text-decoration-color: #00af00\">111</span>,  │          <span style=\"color: #00af00; text-decoration-color: #00af00\">0</span> │ conv2d[<span style=\"color: #00af00; text-decoration-color: #00af00\">0</span>][<span style=\"color: #00af00; text-decoration-color: #00af00\">0</span>]      │\n",
       "│ (<span style=\"color: #0087ff; text-decoration-color: #0087ff\">AveragePooling2D</span>)  │ <span style=\"color: #00af00; text-decoration-color: #00af00\">16</span>)               │            │                   │\n",
       "├─────────────────────┼───────────────────┼────────────┼───────────────────┤\n",
       "│ conv2d_1 (<span style=\"color: #0087ff; text-decoration-color: #0087ff\">Conv2D</span>)   │ (<span style=\"color: #00d7ff; text-decoration-color: #00d7ff\">None</span>, <span style=\"color: #00af00; text-decoration-color: #00af00\">109</span>, <span style=\"color: #00af00; text-decoration-color: #00af00\">109</span>,  │      <span style=\"color: #00af00; text-decoration-color: #00af00\">4,640</span> │ average_pooling2… │\n",
       "│                     │ <span style=\"color: #00af00; text-decoration-color: #00af00\">32</span>)               │            │                   │\n",
       "├─────────────────────┼───────────────────┼────────────┼───────────────────┤\n",
       "│ average_pooling2d_1 │ (<span style=\"color: #00d7ff; text-decoration-color: #00d7ff\">None</span>, <span style=\"color: #00af00; text-decoration-color: #00af00\">54</span>, <span style=\"color: #00af00; text-decoration-color: #00af00\">54</span>,    │          <span style=\"color: #00af00; text-decoration-color: #00af00\">0</span> │ conv2d_1[<span style=\"color: #00af00; text-decoration-color: #00af00\">0</span>][<span style=\"color: #00af00; text-decoration-color: #00af00\">0</span>]    │\n",
       "│ (<span style=\"color: #0087ff; text-decoration-color: #0087ff\">AveragePooling2D</span>)  │ <span style=\"color: #00af00; text-decoration-color: #00af00\">32</span>)               │            │                   │\n",
       "├─────────────────────┼───────────────────┼────────────┼───────────────────┤\n",
       "│ conv2d_2 (<span style=\"color: #0087ff; text-decoration-color: #0087ff\">Conv2D</span>)   │ (<span style=\"color: #00d7ff; text-decoration-color: #00d7ff\">None</span>, <span style=\"color: #00af00; text-decoration-color: #00af00\">52</span>, <span style=\"color: #00af00; text-decoration-color: #00af00\">52</span>,    │      <span style=\"color: #00af00; text-decoration-color: #00af00\">9,248</span> │ average_pooling2… │\n",
       "│                     │ <span style=\"color: #00af00; text-decoration-color: #00af00\">32</span>)               │            │                   │\n",
       "├─────────────────────┼───────────────────┼────────────┼───────────────────┤\n",
       "│ average_pooling2d_2 │ (<span style=\"color: #00d7ff; text-decoration-color: #00d7ff\">None</span>, <span style=\"color: #00af00; text-decoration-color: #00af00\">26</span>, <span style=\"color: #00af00; text-decoration-color: #00af00\">26</span>,    │          <span style=\"color: #00af00; text-decoration-color: #00af00\">0</span> │ conv2d_2[<span style=\"color: #00af00; text-decoration-color: #00af00\">0</span>][<span style=\"color: #00af00; text-decoration-color: #00af00\">0</span>]    │\n",
       "│ (<span style=\"color: #0087ff; text-decoration-color: #0087ff\">AveragePooling2D</span>)  │ <span style=\"color: #00af00; text-decoration-color: #00af00\">32</span>)               │            │                   │\n",
       "├─────────────────────┼───────────────────┼────────────┼───────────────────┤\n",
       "│ conv2d_3 (<span style=\"color: #0087ff; text-decoration-color: #0087ff\">Conv2D</span>)   │ (<span style=\"color: #00d7ff; text-decoration-color: #00d7ff\">None</span>, <span style=\"color: #00af00; text-decoration-color: #00af00\">24</span>, <span style=\"color: #00af00; text-decoration-color: #00af00\">24</span>,    │      <span style=\"color: #00af00; text-decoration-color: #00af00\">9,248</span> │ average_pooling2… │\n",
       "│                     │ <span style=\"color: #00af00; text-decoration-color: #00af00\">32</span>)               │            │                   │\n",
       "├─────────────────────┼───────────────────┼────────────┼───────────────────┤\n",
       "│ average_pooling2d_3 │ (<span style=\"color: #00d7ff; text-decoration-color: #00d7ff\">None</span>, <span style=\"color: #00af00; text-decoration-color: #00af00\">12</span>, <span style=\"color: #00af00; text-decoration-color: #00af00\">12</span>,    │          <span style=\"color: #00af00; text-decoration-color: #00af00\">0</span> │ conv2d_3[<span style=\"color: #00af00; text-decoration-color: #00af00\">0</span>][<span style=\"color: #00af00; text-decoration-color: #00af00\">0</span>]    │\n",
       "│ (<span style=\"color: #0087ff; text-decoration-color: #0087ff\">AveragePooling2D</span>)  │ <span style=\"color: #00af00; text-decoration-color: #00af00\">32</span>)               │            │                   │\n",
       "├─────────────────────┼───────────────────┼────────────┼───────────────────┤\n",
       "│ flatten (<span style=\"color: #0087ff; text-decoration-color: #0087ff\">Flatten</span>)   │ (<span style=\"color: #00d7ff; text-decoration-color: #00d7ff\">None</span>, <span style=\"color: #00af00; text-decoration-color: #00af00\">4608</span>)      │          <span style=\"color: #00af00; text-decoration-color: #00af00\">0</span> │ average_pooling2… │\n",
       "├─────────────────────┼───────────────────┼────────────┼───────────────────┤\n",
       "│ input_layer_1       │ (<span style=\"color: #00d7ff; text-decoration-color: #00d7ff\">None</span>, <span style=\"color: #00af00; text-decoration-color: #00af00\">7</span>, <span style=\"color: #00af00; text-decoration-color: #00af00\">17</span>)     │          <span style=\"color: #00af00; text-decoration-color: #00af00\">0</span> │ -                 │\n",
       "│ (<span style=\"color: #0087ff; text-decoration-color: #0087ff\">InputLayer</span>)        │                   │            │                   │\n",
       "├─────────────────────┼───────────────────┼────────────┼───────────────────┤\n",
       "│ dense (<span style=\"color: #0087ff; text-decoration-color: #0087ff\">Dense</span>)       │ (<span style=\"color: #00d7ff; text-decoration-color: #00d7ff\">None</span>, <span style=\"color: #00af00; text-decoration-color: #00af00\">128</span>)       │    <span style=\"color: #00af00; text-decoration-color: #00af00\">589,952</span> │ flatten[<span style=\"color: #00af00; text-decoration-color: #00af00\">0</span>][<span style=\"color: #00af00; text-decoration-color: #00af00\">0</span>]     │\n",
       "├─────────────────────┼───────────────────┼────────────┼───────────────────┤\n",
       "│ lstm (<span style=\"color: #0087ff; text-decoration-color: #0087ff\">LSTM</span>)         │ (<span style=\"color: #00d7ff; text-decoration-color: #00d7ff\">None</span>, <span style=\"color: #00af00; text-decoration-color: #00af00\">7</span>, <span style=\"color: #00af00; text-decoration-color: #00af00\">50</span>)     │     <span style=\"color: #00af00; text-decoration-color: #00af00\">13,600</span> │ input_layer_1[<span style=\"color: #00af00; text-decoration-color: #00af00\">0</span>]… │\n",
       "├─────────────────────┼───────────────────┼────────────┼───────────────────┤\n",
       "│ dropout (<span style=\"color: #0087ff; text-decoration-color: #0087ff\">Dropout</span>)   │ (<span style=\"color: #00d7ff; text-decoration-color: #00d7ff\">None</span>, <span style=\"color: #00af00; text-decoration-color: #00af00\">128</span>)       │          <span style=\"color: #00af00; text-decoration-color: #00af00\">0</span> │ dense[<span style=\"color: #00af00; text-decoration-color: #00af00\">0</span>][<span style=\"color: #00af00; text-decoration-color: #00af00\">0</span>]       │\n",
       "├─────────────────────┼───────────────────┼────────────┼───────────────────┤\n",
       "│ lstm_1 (<span style=\"color: #0087ff; text-decoration-color: #0087ff\">LSTM</span>)       │ (<span style=\"color: #00d7ff; text-decoration-color: #00d7ff\">None</span>, <span style=\"color: #00af00; text-decoration-color: #00af00\">50</span>)        │     <span style=\"color: #00af00; text-decoration-color: #00af00\">20,200</span> │ lstm[<span style=\"color: #00af00; text-decoration-color: #00af00\">0</span>][<span style=\"color: #00af00; text-decoration-color: #00af00\">0</span>]        │\n",
       "├─────────────────────┼───────────────────┼────────────┼───────────────────┤\n",
       "│ concatenate         │ (<span style=\"color: #00d7ff; text-decoration-color: #00d7ff\">None</span>, <span style=\"color: #00af00; text-decoration-color: #00af00\">178</span>)       │          <span style=\"color: #00af00; text-decoration-color: #00af00\">0</span> │ dropout[<span style=\"color: #00af00; text-decoration-color: #00af00\">0</span>][<span style=\"color: #00af00; text-decoration-color: #00af00\">0</span>],    │\n",
       "│ (<span style=\"color: #0087ff; text-decoration-color: #0087ff\">Concatenate</span>)       │                   │            │ lstm_1[<span style=\"color: #00af00; text-decoration-color: #00af00\">0</span>][<span style=\"color: #00af00; text-decoration-color: #00af00\">0</span>]      │\n",
       "├─────────────────────┼───────────────────┼────────────┼───────────────────┤\n",
       "│ dense_1 (<span style=\"color: #0087ff; text-decoration-color: #0087ff\">Dense</span>)     │ (<span style=\"color: #00d7ff; text-decoration-color: #00d7ff\">None</span>, <span style=\"color: #00af00; text-decoration-color: #00af00\">128</span>)       │     <span style=\"color: #00af00; text-decoration-color: #00af00\">22,912</span> │ concatenate[<span style=\"color: #00af00; text-decoration-color: #00af00\">0</span>][<span style=\"color: #00af00; text-decoration-color: #00af00\">0</span>] │\n",
       "├─────────────────────┼───────────────────┼────────────┼───────────────────┤\n",
       "│ dropout_1 (<span style=\"color: #0087ff; text-decoration-color: #0087ff\">Dropout</span>) │ (<span style=\"color: #00d7ff; text-decoration-color: #00d7ff\">None</span>, <span style=\"color: #00af00; text-decoration-color: #00af00\">128</span>)       │          <span style=\"color: #00af00; text-decoration-color: #00af00\">0</span> │ dense_1[<span style=\"color: #00af00; text-decoration-color: #00af00\">0</span>][<span style=\"color: #00af00; text-decoration-color: #00af00\">0</span>]     │\n",
       "├─────────────────────┼───────────────────┼────────────┼───────────────────┤\n",
       "│ dense_2 (<span style=\"color: #0087ff; text-decoration-color: #0087ff\">Dense</span>)     │ (<span style=\"color: #00d7ff; text-decoration-color: #00d7ff\">None</span>, <span style=\"color: #00af00; text-decoration-color: #00af00\">1</span>)         │        <span style=\"color: #00af00; text-decoration-color: #00af00\">129</span> │ dropout_1[<span style=\"color: #00af00; text-decoration-color: #00af00\">0</span>][<span style=\"color: #00af00; text-decoration-color: #00af00\">0</span>]   │\n",
       "└─────────────────────┴───────────────────┴────────────┴───────────────────┘\n",
       "</pre>\n"
      ],
      "text/plain": [
       "┏━━━━━━━━━━━━━━━━━━━━━┳━━━━━━━━━━━━━━━━━━━┳━━━━━━━━━━━━┳━━━━━━━━━━━━━━━━━━━┓\n",
       "┃\u001b[1m \u001b[0m\u001b[1mLayer (type)       \u001b[0m\u001b[1m \u001b[0m┃\u001b[1m \u001b[0m\u001b[1mOutput Shape     \u001b[0m\u001b[1m \u001b[0m┃\u001b[1m \u001b[0m\u001b[1m   Param #\u001b[0m\u001b[1m \u001b[0m┃\u001b[1m \u001b[0m\u001b[1mConnected to     \u001b[0m\u001b[1m \u001b[0m┃\n",
       "┡━━━━━━━━━━━━━━━━━━━━━╇━━━━━━━━━━━━━━━━━━━╇━━━━━━━━━━━━╇━━━━━━━━━━━━━━━━━━━┩\n",
       "│ input_layer         │ (\u001b[38;5;45mNone\u001b[0m, \u001b[38;5;34m224\u001b[0m, \u001b[38;5;34m224\u001b[0m,  │          \u001b[38;5;34m0\u001b[0m │ -                 │\n",
       "│ (\u001b[38;5;33mInputLayer\u001b[0m)        │ \u001b[38;5;34m6\u001b[0m)                │            │                   │\n",
       "├─────────────────────┼───────────────────┼────────────┼───────────────────┤\n",
       "│ conv2d (\u001b[38;5;33mConv2D\u001b[0m)     │ (\u001b[38;5;45mNone\u001b[0m, \u001b[38;5;34m222\u001b[0m, \u001b[38;5;34m222\u001b[0m,  │        \u001b[38;5;34m880\u001b[0m │ input_layer[\u001b[38;5;34m0\u001b[0m][\u001b[38;5;34m0\u001b[0m] │\n",
       "│                     │ \u001b[38;5;34m16\u001b[0m)               │            │                   │\n",
       "├─────────────────────┼───────────────────┼────────────┼───────────────────┤\n",
       "│ average_pooling2d   │ (\u001b[38;5;45mNone\u001b[0m, \u001b[38;5;34m111\u001b[0m, \u001b[38;5;34m111\u001b[0m,  │          \u001b[38;5;34m0\u001b[0m │ conv2d[\u001b[38;5;34m0\u001b[0m][\u001b[38;5;34m0\u001b[0m]      │\n",
       "│ (\u001b[38;5;33mAveragePooling2D\u001b[0m)  │ \u001b[38;5;34m16\u001b[0m)               │            │                   │\n",
       "├─────────────────────┼───────────────────┼────────────┼───────────────────┤\n",
       "│ conv2d_1 (\u001b[38;5;33mConv2D\u001b[0m)   │ (\u001b[38;5;45mNone\u001b[0m, \u001b[38;5;34m109\u001b[0m, \u001b[38;5;34m109\u001b[0m,  │      \u001b[38;5;34m4,640\u001b[0m │ average_pooling2… │\n",
       "│                     │ \u001b[38;5;34m32\u001b[0m)               │            │                   │\n",
       "├─────────────────────┼───────────────────┼────────────┼───────────────────┤\n",
       "│ average_pooling2d_1 │ (\u001b[38;5;45mNone\u001b[0m, \u001b[38;5;34m54\u001b[0m, \u001b[38;5;34m54\u001b[0m,    │          \u001b[38;5;34m0\u001b[0m │ conv2d_1[\u001b[38;5;34m0\u001b[0m][\u001b[38;5;34m0\u001b[0m]    │\n",
       "│ (\u001b[38;5;33mAveragePooling2D\u001b[0m)  │ \u001b[38;5;34m32\u001b[0m)               │            │                   │\n",
       "├─────────────────────┼───────────────────┼────────────┼───────────────────┤\n",
       "│ conv2d_2 (\u001b[38;5;33mConv2D\u001b[0m)   │ (\u001b[38;5;45mNone\u001b[0m, \u001b[38;5;34m52\u001b[0m, \u001b[38;5;34m52\u001b[0m,    │      \u001b[38;5;34m9,248\u001b[0m │ average_pooling2… │\n",
       "│                     │ \u001b[38;5;34m32\u001b[0m)               │            │                   │\n",
       "├─────────────────────┼───────────────────┼────────────┼───────────────────┤\n",
       "│ average_pooling2d_2 │ (\u001b[38;5;45mNone\u001b[0m, \u001b[38;5;34m26\u001b[0m, \u001b[38;5;34m26\u001b[0m,    │          \u001b[38;5;34m0\u001b[0m │ conv2d_2[\u001b[38;5;34m0\u001b[0m][\u001b[38;5;34m0\u001b[0m]    │\n",
       "│ (\u001b[38;5;33mAveragePooling2D\u001b[0m)  │ \u001b[38;5;34m32\u001b[0m)               │            │                   │\n",
       "├─────────────────────┼───────────────────┼────────────┼───────────────────┤\n",
       "│ conv2d_3 (\u001b[38;5;33mConv2D\u001b[0m)   │ (\u001b[38;5;45mNone\u001b[0m, \u001b[38;5;34m24\u001b[0m, \u001b[38;5;34m24\u001b[0m,    │      \u001b[38;5;34m9,248\u001b[0m │ average_pooling2… │\n",
       "│                     │ \u001b[38;5;34m32\u001b[0m)               │            │                   │\n",
       "├─────────────────────┼───────────────────┼────────────┼───────────────────┤\n",
       "│ average_pooling2d_3 │ (\u001b[38;5;45mNone\u001b[0m, \u001b[38;5;34m12\u001b[0m, \u001b[38;5;34m12\u001b[0m,    │          \u001b[38;5;34m0\u001b[0m │ conv2d_3[\u001b[38;5;34m0\u001b[0m][\u001b[38;5;34m0\u001b[0m]    │\n",
       "│ (\u001b[38;5;33mAveragePooling2D\u001b[0m)  │ \u001b[38;5;34m32\u001b[0m)               │            │                   │\n",
       "├─────────────────────┼───────────────────┼────────────┼───────────────────┤\n",
       "│ flatten (\u001b[38;5;33mFlatten\u001b[0m)   │ (\u001b[38;5;45mNone\u001b[0m, \u001b[38;5;34m4608\u001b[0m)      │          \u001b[38;5;34m0\u001b[0m │ average_pooling2… │\n",
       "├─────────────────────┼───────────────────┼────────────┼───────────────────┤\n",
       "│ input_layer_1       │ (\u001b[38;5;45mNone\u001b[0m, \u001b[38;5;34m7\u001b[0m, \u001b[38;5;34m17\u001b[0m)     │          \u001b[38;5;34m0\u001b[0m │ -                 │\n",
       "│ (\u001b[38;5;33mInputLayer\u001b[0m)        │                   │            │                   │\n",
       "├─────────────────────┼───────────────────┼────────────┼───────────────────┤\n",
       "│ dense (\u001b[38;5;33mDense\u001b[0m)       │ (\u001b[38;5;45mNone\u001b[0m, \u001b[38;5;34m128\u001b[0m)       │    \u001b[38;5;34m589,952\u001b[0m │ flatten[\u001b[38;5;34m0\u001b[0m][\u001b[38;5;34m0\u001b[0m]     │\n",
       "├─────────────────────┼───────────────────┼────────────┼───────────────────┤\n",
       "│ lstm (\u001b[38;5;33mLSTM\u001b[0m)         │ (\u001b[38;5;45mNone\u001b[0m, \u001b[38;5;34m7\u001b[0m, \u001b[38;5;34m50\u001b[0m)     │     \u001b[38;5;34m13,600\u001b[0m │ input_layer_1[\u001b[38;5;34m0\u001b[0m]… │\n",
       "├─────────────────────┼───────────────────┼────────────┼───────────────────┤\n",
       "│ dropout (\u001b[38;5;33mDropout\u001b[0m)   │ (\u001b[38;5;45mNone\u001b[0m, \u001b[38;5;34m128\u001b[0m)       │          \u001b[38;5;34m0\u001b[0m │ dense[\u001b[38;5;34m0\u001b[0m][\u001b[38;5;34m0\u001b[0m]       │\n",
       "├─────────────────────┼───────────────────┼────────────┼───────────────────┤\n",
       "│ lstm_1 (\u001b[38;5;33mLSTM\u001b[0m)       │ (\u001b[38;5;45mNone\u001b[0m, \u001b[38;5;34m50\u001b[0m)        │     \u001b[38;5;34m20,200\u001b[0m │ lstm[\u001b[38;5;34m0\u001b[0m][\u001b[38;5;34m0\u001b[0m]        │\n",
       "├─────────────────────┼───────────────────┼────────────┼───────────────────┤\n",
       "│ concatenate         │ (\u001b[38;5;45mNone\u001b[0m, \u001b[38;5;34m178\u001b[0m)       │          \u001b[38;5;34m0\u001b[0m │ dropout[\u001b[38;5;34m0\u001b[0m][\u001b[38;5;34m0\u001b[0m],    │\n",
       "│ (\u001b[38;5;33mConcatenate\u001b[0m)       │                   │            │ lstm_1[\u001b[38;5;34m0\u001b[0m][\u001b[38;5;34m0\u001b[0m]      │\n",
       "├─────────────────────┼───────────────────┼────────────┼───────────────────┤\n",
       "│ dense_1 (\u001b[38;5;33mDense\u001b[0m)     │ (\u001b[38;5;45mNone\u001b[0m, \u001b[38;5;34m128\u001b[0m)       │     \u001b[38;5;34m22,912\u001b[0m │ concatenate[\u001b[38;5;34m0\u001b[0m][\u001b[38;5;34m0\u001b[0m] │\n",
       "├─────────────────────┼───────────────────┼────────────┼───────────────────┤\n",
       "│ dropout_1 (\u001b[38;5;33mDropout\u001b[0m) │ (\u001b[38;5;45mNone\u001b[0m, \u001b[38;5;34m128\u001b[0m)       │          \u001b[38;5;34m0\u001b[0m │ dense_1[\u001b[38;5;34m0\u001b[0m][\u001b[38;5;34m0\u001b[0m]     │\n",
       "├─────────────────────┼───────────────────┼────────────┼───────────────────┤\n",
       "│ dense_2 (\u001b[38;5;33mDense\u001b[0m)     │ (\u001b[38;5;45mNone\u001b[0m, \u001b[38;5;34m1\u001b[0m)         │        \u001b[38;5;34m129\u001b[0m │ dropout_1[\u001b[38;5;34m0\u001b[0m][\u001b[38;5;34m0\u001b[0m]   │\n",
       "└─────────────────────┴───────────────────┴────────────┴───────────────────┘\n"
      ]
     },
     "metadata": {},
     "output_type": "display_data"
    },
    {
     "data": {
      "text/html": [
       "<pre style=\"white-space:pre;overflow-x:auto;line-height:normal;font-family:Menlo,'DejaVu Sans Mono',consolas,'Courier New',monospace\"><span style=\"font-weight: bold\"> Total params: </span><span style=\"color: #00af00; text-decoration-color: #00af00\">670,809</span> (2.56 MB)\n",
       "</pre>\n"
      ],
      "text/plain": [
       "\u001b[1m Total params: \u001b[0m\u001b[38;5;34m670,809\u001b[0m (2.56 MB)\n"
      ]
     },
     "metadata": {},
     "output_type": "display_data"
    },
    {
     "data": {
      "text/html": [
       "<pre style=\"white-space:pre;overflow-x:auto;line-height:normal;font-family:Menlo,'DejaVu Sans Mono',consolas,'Courier New',monospace\"><span style=\"font-weight: bold\"> Trainable params: </span><span style=\"color: #00af00; text-decoration-color: #00af00\">670,809</span> (2.56 MB)\n",
       "</pre>\n"
      ],
      "text/plain": [
       "\u001b[1m Trainable params: \u001b[0m\u001b[38;5;34m670,809\u001b[0m (2.56 MB)\n"
      ]
     },
     "metadata": {},
     "output_type": "display_data"
    },
    {
     "data": {
      "text/html": [
       "<pre style=\"white-space:pre;overflow-x:auto;line-height:normal;font-family:Menlo,'DejaVu Sans Mono',consolas,'Courier New',monospace\"><span style=\"font-weight: bold\"> Non-trainable params: </span><span style=\"color: #00af00; text-decoration-color: #00af00\">0</span> (0.00 B)\n",
       "</pre>\n"
      ],
      "text/plain": [
       "\u001b[1m Non-trainable params: \u001b[0m\u001b[38;5;34m0\u001b[0m (0.00 B)\n"
      ]
     },
     "metadata": {},
     "output_type": "display_data"
    }
   ],
   "source": [
    "from tensorflow.keras.models import Model\n",
    "from tensorflow.keras.layers import Input, Conv2D, AveragePooling2D, Flatten, Dense, Dropout\n",
    "from tensorflow.keras.layers import LSTM, Concatenate\n",
    "from tensorflow.keras.layers import AveragePooling2D, Flatten, Dropout\n",
    "import tensorflow as tf\n",
    "\n",
    "# Definir la métrica personalizada SMAPE\n",
    "def smape(y_true, y_pred):\n",
    "    epsilon = tf.keras.backend.epsilon()  # Pequeño valor para evitar divisiones por cero\n",
    "    denominator = (tf.abs(y_true) + tf.abs(y_pred)) / 2.0 + epsilon\n",
    "    diff = tf.abs(y_true - y_pred) / denominator\n",
    "    return 100.0 * tf.reduce_mean(diff)  # Se devuelve el error en porcentaje\n",
    "\n",
    "\n",
    "# Definir la entrada para las imágenes (224x224x6)\n",
    "image_input = Input(shape=(224, 224, 6))\n",
    "\n",
    "# Red convolucional para procesar la entrada de imágenes\n",
    "x = Conv2D(filters=16, kernel_size=(3, 3), activation='relu')(image_input)\n",
    "x = AveragePooling2D(pool_size=(2, 2))(x)\n",
    "x = Conv2D(filters=32, kernel_size=(3, 3), activation='relu')(x)\n",
    "x = AveragePooling2D(pool_size=(2, 2))(x)\n",
    "x = Conv2D(filters=32, kernel_size=(3, 3), activation='relu')(x)\n",
    "x = AveragePooling2D(pool_size=(2, 2))(x)\n",
    "x = Conv2D(filters=32, kernel_size=(3, 3), activation='relu')(x)\n",
    "x = AveragePooling2D(pool_size=(2, 2))(x)\n",
    "\n",
    "# Aplanar la salida de la capa convolucional\n",
    "x = Flatten()(x)\n",
    "x = Dense(units=128, activation='relu')(x)\n",
    "x = Dropout(rate=0.5)(x)\n",
    "\n",
    "# Definir la entrada para la LSTM (datos secuenciales)\n",
    "sequence_input = Input(shape=(7, 17))  \n",
    "\n",
    "# Red LSTM para procesar la entrada secuencial\n",
    "y = LSTM(units=50, return_sequences=True)(sequence_input)\n",
    "y = LSTM(units=50)(y)\n",
    "\n",
    "# Combinar las salidas de la CNN y la LSTM\n",
    "combined = Concatenate()([x, y])\n",
    "\n",
    "# Añadir capas densas finales para predecir el valor final\n",
    "z = Dense(units=128, activation='relu')(combined)\n",
    "z = Dropout(rate=0.5)(z)\n",
    "z = Dense(units=1, activation='linear')(z)\n",
    "\n",
    "# Crear el modelo con dos entradas\n",
    "model = Model(inputs=[image_input, sequence_input], outputs=z)\n",
    "\n",
    "# Compilar el modelo\n",
    "model.compile(optimizer='adam', loss='mean_absolute_error',metrics=['mean_squared_error','mean_absolute_percentage_error',smape])\n",
    "\n",
    "# Mostrar la arquitectura del modelo\n",
    "model.summary()\n"
   ]
  },
  {
   "cell_type": "code",
   "execution_count": 29,
   "metadata": {},
   "outputs": [],
   "source": [
    "import tensorflow as tf\n",
    "\n",
    "# Generador para combinar imágenes y secuencias\n",
    "def data_generator(image_files, sequences, labels): \n",
    "    for i in range(len(image_files)):\n",
    "        if image_files[i] != '':  # Si la imagen existe\n",
    "            image = preprocess_imagery(image_files[i])  # Cargar y preprocesar la imagen\n",
    "            image = tf.convert_to_tensor(image, dtype=tf.float32)\n",
    "        else:\n",
    "            image = tf.zeros((224, 224, 6), dtype=tf.float32)  # Si no hay imagen, usar un tensor de ceros\n",
    "            \n",
    "        sequence = tf.convert_to_tensor(sequences[i], dtype=tf.float32)  # Secuencia de datos tabulares\n",
    "        label = tf.convert_to_tensor(labels[i], dtype=tf.float32)  # Etiqueta (mp10)+\n",
    "        label=tf.squeeze(label)\n",
    "        \n",
    "        yield (image, sequence), label  # Dos entradas: imagen y secuencia\n",
    "\n",
    "# Crear el dataset\n",
    "def create_combined_dataset(image_files, sequences, labels, batch_size):\n",
    "    dataset = tf.data.Dataset.from_generator(\n",
    "        data_generator,\n",
    "        args=[image_files, sequences, labels],\n",
    "        output_signature=(\n",
    "            (tf.TensorSpec(shape=(224, 224, 6), dtype=tf.float32),  # Especificar el tamaño de las imágenes\n",
    "             tf.TensorSpec(shape=(7, sequences.shape[2]), dtype=tf.float32)),  # Secuencias de 7 días\n",
    "            tf.TensorSpec(shape=(), dtype=tf.float32)  # La etiqueta (mp10)\n",
    "        )\n",
    "    )\n",
    "    dataset = dataset.batch(batch_size)\n",
    "    dataset = dataset.prefetch(buffer_size=tf.data.AUTOTUNE)\n",
    "    return dataset\n",
    "\n",
    "# Ejemplo de uso para crear datasets de entrenamiento, validación y prueba\n",
    "batch_size = 32\n",
    "\n",
    "# Crear datasets\n",
    "train_dataset = create_combined_dataset(images_train, X_train, y_train, batch_size)\n",
    "val_dataset = create_combined_dataset(images_val, X_val, y_val, batch_size)\n",
    "test_dataset = create_combined_dataset(images_test, X_test, y_test, batch_size)\n"
   ]
  },
  {
   "cell_type": "code",
   "execution_count": 27,
   "metadata": {},
   "outputs": [],
   "source": [
    "from tensorflow.keras.callbacks import EarlyStopping\n",
    "\n",
    "# Configurar Early Stopping\n",
    "early_stopping = EarlyStopping(\n",
    "    monitor='val_loss',  # Métrica a monitorear\n",
    "    patience=10,         # Número de épocas de paciencia\n",
    "    restore_best_weights=True  # Restaurar los mejores pesos al final del entrenamiento\n",
    ")\n"
   ]
  },
  {
   "cell_type": "code",
   "execution_count": 20,
   "metadata": {},
   "outputs": [
    {
     "data": {
      "text/plain": [
       "(7, 17)"
      ]
     },
     "execution_count": 20,
     "metadata": {},
     "output_type": "execute_result"
    }
   ],
   "source": [
    "X_train[0].shape"
   ]
  },
  {
   "cell_type": "code",
   "execution_count": 22,
   "metadata": {},
   "outputs": [],
   "source": [
    "checkpoint_path = \"training_1/ckpt.weights.h5\"\n",
    "checkpoint_dir = os.path.dirname(checkpoint_path)\n",
    "\n",
    "# Create a callback that saves the model's weights\n",
    "cp_callback = tf.keras.callbacks.ModelCheckpoint(filepath=checkpoint_path,\n",
    "                                                 save_weights_only=True,\n",
    "                                                 verbose=1)"
   ]
  },
  {
   "cell_type": "code",
   "execution_count": 30,
   "metadata": {},
   "outputs": [
    {
     "name": "stdout",
     "output_type": "stream",
     "text": [
      "Epoch 1/50\n"
     ]
    },
    {
     "name": "stderr",
     "output_type": "stream",
     "text": [
      "C:\\Users\\benja\\AppData\\Local\\Temp\\ipykernel_536\\3065549325.py:10: DeprecationWarning: Starting with ImageIO v3 the behavior of this function will switch to that of iio.v3.imread. To keep the current behavior (and make this warning disappear) use `import imageio.v2 as imageio` or call `imageio.v2.imread` directly.\n",
      "  image = (imageio.imread(path))\n"
     ]
    },
    {
     "name": "stdout",
     "output_type": "stream",
     "text": [
      "\u001b[1m2253/2253\u001b[0m \u001b[32m━━━━━━━━━━━━━━━━━━━━\u001b[0m\u001b[37m\u001b[0m \u001b[1m0s\u001b[0m 278ms/step - loss: 0.0834 - mean_absolute_percentage_error: 682178.6875 - mean_squared_error: 0.4919 - smape: 52.6479\n",
      "Epoch 1: saving model to training_1/ckpt.weights.h5\n",
      "\u001b[1m2253/2253\u001b[0m \u001b[32m━━━━━━━━━━━━━━━━━━━━\u001b[0m\u001b[37m\u001b[0m \u001b[1m693s\u001b[0m 308ms/step - loss: 0.0833 - mean_absolute_percentage_error: 681956.1250 - mean_squared_error: 0.4917 - smape: 52.6462 - val_loss: 0.0183 - val_mean_absolute_percentage_error: 95173.8438 - val_mean_squared_error: 8.9254e-04 - val_smape: 48.0029\n",
      "Epoch 2/50\n",
      "\u001b[1m   1/2253\u001b[0m \u001b[37m━━━━━━━━━━━━━━━━━━━━\u001b[0m \u001b[1m2:19\u001b[0m 62ms/step - loss: 0.0148 - mean_absolute_percentage_error: 24.6654 - mean_squared_error: 3.1867e-04 - smape: 42.5683\n",
      "Epoch 2: saving model to training_1/ckpt.weights.h5\n",
      "\u001b[1m2253/2253\u001b[0m \u001b[32m━━━━━━━━━━━━━━━━━━━━\u001b[0m\u001b[37m\u001b[0m \u001b[1m0s\u001b[0m 52us/step - loss: 0.0148 - mean_absolute_percentage_error: 24.6654 - mean_squared_error: 3.1867e-04 - smape: 21.2936 - val_loss: 0.0180 - val_mean_absolute_percentage_error: 40.5039 - val_mean_squared_error: 5.9094e-04 - val_smape: 19.6837\n",
      "Epoch 3/50\n"
     ]
    },
    {
     "name": "stderr",
     "output_type": "stream",
     "text": [
      "c:\\Users\\benja\\anaconda3\\envs\\ee\\Lib\\contextlib.py:158: UserWarning: Your input ran out of data; interrupting training. Make sure that your dataset or generator can generate at least `steps_per_epoch * epochs` batches. You may need to use the `.repeat()` function when building your dataset.\n",
      "  self.gen.throw(value)\n"
     ]
    },
    {
     "name": "stdout",
     "output_type": "stream",
     "text": [
      "\u001b[1m2253/2253\u001b[0m \u001b[32m━━━━━━━━━━━━━━━━━━━━\u001b[0m\u001b[37m\u001b[0m \u001b[1m0s\u001b[0m 270ms/step - loss: 0.0186 - mean_absolute_percentage_error: 61408.4141 - mean_squared_error: 8.3977e-04 - smape: 48.5684\n",
      "Epoch 3: saving model to training_1/ckpt.weights.h5\n",
      "\u001b[1m2253/2253\u001b[0m \u001b[32m━━━━━━━━━━━━━━━━━━━━\u001b[0m\u001b[37m\u001b[0m \u001b[1m672s\u001b[0m 298ms/step - loss: 0.0186 - mean_absolute_percentage_error: 61412.3477 - mean_squared_error: 8.3976e-04 - smape: 48.5685 - val_loss: 0.0175 - val_mean_absolute_percentage_error: 95981.1484 - val_mean_squared_error: 8.0490e-04 - val_smape: 48.6303\n",
      "Epoch 4/50\n",
      "\u001b[1m   1/2253\u001b[0m \u001b[37m━━━━━━━━━━━━━━━━━━━━\u001b[0m \u001b[1m2:17\u001b[0m 61ms/step - loss: 0.0152 - mean_absolute_percentage_error: 24.6059 - mean_squared_error: 3.1617e-04 - smape: 41.5514\n",
      "Epoch 4: saving model to training_1/ckpt.weights.h5\n",
      "\u001b[1m2253/2253\u001b[0m \u001b[32m━━━━━━━━━━━━━━━━━━━━\u001b[0m\u001b[37m\u001b[0m \u001b[1m0s\u001b[0m 50us/step - loss: 0.0152 - mean_absolute_percentage_error: 24.6059 - mean_squared_error: 3.1617e-04 - smape: 20.7849 - val_loss: 0.0178 - val_mean_absolute_percentage_error: 41.4148 - val_mean_squared_error: 5.7276e-04 - val_smape: 19.7469\n",
      "Epoch 5/50\n",
      "\u001b[1m2253/2253\u001b[0m \u001b[32m━━━━━━━━━━━━━━━━━━━━\u001b[0m\u001b[37m\u001b[0m \u001b[1m0s\u001b[0m 268ms/step - loss: 0.0177 - mean_absolute_percentage_error: 59959.4805 - mean_squared_error: 7.5930e-04 - smape: 49.3733\n",
      "Epoch 5: saving model to training_1/ckpt.weights.h5\n",
      "\u001b[1m2253/2253\u001b[0m \u001b[32m━━━━━━━━━━━━━━━━━━━━\u001b[0m\u001b[37m\u001b[0m \u001b[1m668s\u001b[0m 297ms/step - loss: 0.0177 - mean_absolute_percentage_error: 59962.5664 - mean_squared_error: 7.5929e-04 - smape: 49.3733 - val_loss: 0.0169 - val_mean_absolute_percentage_error: 78888.2734 - val_mean_squared_error: 7.9529e-04 - val_smape: 50.3690\n",
      "Epoch 6/50\n",
      "\u001b[1m   1/2253\u001b[0m \u001b[37m━━━━━━━━━━━━━━━━━━━━\u001b[0m \u001b[1m1:49\u001b[0m 49ms/step - loss: 0.0131 - mean_absolute_percentage_error: 20.8017 - mean_squared_error: 2.8299e-04 - smape: 44.6648\n",
      "Epoch 6: saving model to training_1/ckpt.weights.h5\n",
      "\u001b[1m2253/2253\u001b[0m \u001b[32m━━━━━━━━━━━━━━━━━━━━\u001b[0m\u001b[37m\u001b[0m \u001b[1m0s\u001b[0m 54us/step - loss: 0.0131 - mean_absolute_percentage_error: 20.8017 - mean_squared_error: 2.8299e-04 - smape: 22.3423 - val_loss: 0.0165 - val_mean_absolute_percentage_error: 37.2282 - val_mean_squared_error: 5.2113e-04 - val_smape: 20.1500\n",
      "Epoch 7/50\n",
      "\u001b[1m2253/2253\u001b[0m \u001b[32m━━━━━━━━━━━━━━━━━━━━\u001b[0m\u001b[37m\u001b[0m \u001b[1m0s\u001b[0m 268ms/step - loss: 0.0171 - mean_absolute_percentage_error: 54352.9844 - mean_squared_error: 7.2703e-04 - smape: 49.7815\n",
      "Epoch 7: saving model to training_1/ckpt.weights.h5\n",
      "\u001b[1m2253/2253\u001b[0m \u001b[32m━━━━━━━━━━━━━━━━━━━━\u001b[0m\u001b[37m\u001b[0m \u001b[1m668s\u001b[0m 297ms/step - loss: 0.0171 - mean_absolute_percentage_error: 54356.2109 - mean_squared_error: 7.2702e-04 - smape: 49.7816 - val_loss: 0.0168 - val_mean_absolute_percentage_error: 81244.4141 - val_mean_squared_error: 7.7852e-04 - val_smape: 48.1542\n",
      "Epoch 8/50\n",
      "\u001b[1m   1/2253\u001b[0m \u001b[37m━━━━━━━━━━━━━━━━━━━━\u001b[0m \u001b[1m2:20\u001b[0m 63ms/step - loss: 0.0153 - mean_absolute_percentage_error: 22.7411 - mean_squared_error: 3.7158e-04 - smape: 42.0246\n",
      "Epoch 8: saving model to training_1/ckpt.weights.h5\n",
      "\u001b[1m2253/2253\u001b[0m \u001b[32m━━━━━━━━━━━━━━━━━━━━\u001b[0m\u001b[37m\u001b[0m \u001b[1m0s\u001b[0m 56us/step - loss: 0.0153 - mean_absolute_percentage_error: 22.7411 - mean_squared_error: 3.7158e-04 - smape: 21.0216 - val_loss: 0.0169 - val_mean_absolute_percentage_error: 36.9552 - val_mean_squared_error: 4.9566e-04 - val_smape: 19.1331\n",
      "Epoch 9/50\n",
      "\u001b[1m2253/2253\u001b[0m \u001b[32m━━━━━━━━━━━━━━━━━━━━\u001b[0m\u001b[37m\u001b[0m \u001b[1m0s\u001b[0m 268ms/step - loss: 0.0168 - mean_absolute_percentage_error: 53271.2266 - mean_squared_error: 7.0603e-04 - smape: 50.2191\n",
      "Epoch 9: saving model to training_1/ckpt.weights.h5\n",
      "\u001b[1m2253/2253\u001b[0m \u001b[32m━━━━━━━━━━━━━━━━━━━━\u001b[0m\u001b[37m\u001b[0m \u001b[1m667s\u001b[0m 296ms/step - loss: 0.0168 - mean_absolute_percentage_error: 53274.3711 - mean_squared_error: 7.0602e-04 - smape: 50.2191 - val_loss: 0.0163 - val_mean_absolute_percentage_error: 79879.8672 - val_mean_squared_error: 7.6927e-04 - val_smape: 49.8693\n",
      "Epoch 10/50\n",
      "\u001b[1m   1/2253\u001b[0m \u001b[37m━━━━━━━━━━━━━━━━━━━━\u001b[0m \u001b[1m2:09\u001b[0m 58ms/step - loss: 0.0123 - mean_absolute_percentage_error: 21.3528 - mean_squared_error: 2.1621e-04 - smape: 45.3390\n",
      "Epoch 10: saving model to training_1/ckpt.weights.h5\n",
      "\u001b[1m2253/2253\u001b[0m \u001b[32m━━━━━━━━━━━━━━━━━━━━\u001b[0m\u001b[37m\u001b[0m \u001b[1m0s\u001b[0m 55us/step - loss: 0.0123 - mean_absolute_percentage_error: 21.3528 - mean_squared_error: 2.1621e-04 - smape: 22.6796 - val_loss: 0.0154 - val_mean_absolute_percentage_error: 35.1225 - val_mean_squared_error: 4.6331e-04 - val_smape: 19.8251\n",
      "Epoch 11/50\n",
      "\u001b[1m2253/2253\u001b[0m \u001b[32m━━━━━━━━━━━━━━━━━━━━\u001b[0m\u001b[37m\u001b[0m \u001b[1m0s\u001b[0m 270ms/step - loss: 0.0165 - mean_absolute_percentage_error: 51865.3320 - mean_squared_error: 6.8474e-04 - smape: 50.4744\n",
      "Epoch 11: saving model to training_1/ckpt.weights.h5\n",
      "\u001b[1m2253/2253\u001b[0m \u001b[32m━━━━━━━━━━━━━━━━━━━━\u001b[0m\u001b[37m\u001b[0m \u001b[1m674s\u001b[0m 299ms/step - loss: 0.0165 - mean_absolute_percentage_error: 51868.5312 - mean_squared_error: 6.8473e-04 - smape: 50.4744 - val_loss: 0.0161 - val_mean_absolute_percentage_error: 70480.7109 - val_mean_squared_error: 7.5358e-04 - val_smape: 51.3232\n",
      "Epoch 12/50\n",
      "\u001b[1m   1/2253\u001b[0m \u001b[37m━━━━━━━━━━━━━━━━━━━━\u001b[0m \u001b[1m2:06\u001b[0m 56ms/step - loss: 0.0131 - mean_absolute_percentage_error: 19.9588 - mean_squared_error: 2.7987e-04 - smape: 41.0564\n",
      "Epoch 12: saving model to training_1/ckpt.weights.h5\n",
      "\u001b[1m2253/2253\u001b[0m \u001b[32m━━━━━━━━━━━━━━━━━━━━\u001b[0m\u001b[37m\u001b[0m \u001b[1m0s\u001b[0m 55us/step - loss: 0.0131 - mean_absolute_percentage_error: 19.9588 - mean_squared_error: 2.7987e-04 - smape: 20.5373 - val_loss: 0.0164 - val_mean_absolute_percentage_error: 36.5213 - val_mean_squared_error: 5.3431e-04 - val_smape: 20.9764\n",
      "Epoch 13/50\n",
      "\u001b[1m2253/2253\u001b[0m \u001b[32m━━━━━━━━━━━━━━━━━━━━\u001b[0m\u001b[37m\u001b[0m \u001b[1m0s\u001b[0m 271ms/step - loss: 0.0163 - mean_absolute_percentage_error: 51888.8984 - mean_squared_error: 6.7478e-04 - smape: 50.5379\n",
      "Epoch 13: saving model to training_1/ckpt.weights.h5\n",
      "\u001b[1m2253/2253\u001b[0m \u001b[32m━━━━━━━━━━━━━━━━━━━━\u001b[0m\u001b[37m\u001b[0m \u001b[1m675s\u001b[0m 300ms/step - loss: 0.0163 - mean_absolute_percentage_error: 51892.1250 - mean_squared_error: 6.7477e-04 - smape: 50.5379 - val_loss: 0.0160 - val_mean_absolute_percentage_error: 68433.4141 - val_mean_squared_error: 7.5737e-04 - val_smape: 51.5076\n",
      "Epoch 14/50\n",
      "\u001b[1m   1/2253\u001b[0m \u001b[37m━━━━━━━━━━━━━━━━━━━━\u001b[0m \u001b[1m1:54\u001b[0m 51ms/step - loss: 0.0139 - mean_absolute_percentage_error: 22.7009 - mean_squared_error: 2.8996e-04 - smape: 44.0389\n",
      "Epoch 14: saving model to training_1/ckpt.weights.h5\n",
      "\u001b[1m2253/2253\u001b[0m \u001b[32m━━━━━━━━━━━━━━━━━━━━\u001b[0m\u001b[37m\u001b[0m \u001b[1m0s\u001b[0m 57us/step - loss: 0.0139 - mean_absolute_percentage_error: 22.7009 - mean_squared_error: 2.8996e-04 - smape: 22.0292 - val_loss: 0.0158 - val_mean_absolute_percentage_error: 34.5536 - val_mean_squared_error: 4.5809e-04 - val_smape: 20.3901\n",
      "Epoch 15/50\n",
      "\u001b[1m2253/2253\u001b[0m \u001b[32m━━━━━━━━━━━━━━━━━━━━\u001b[0m\u001b[37m\u001b[0m \u001b[1m0s\u001b[0m 268ms/step - loss: 0.0161 - mean_absolute_percentage_error: 51630.3516 - mean_squared_error: 6.6666e-04 - smape: 50.7075\n",
      "Epoch 15: saving model to training_1/ckpt.weights.h5\n",
      "\u001b[1m2253/2253\u001b[0m \u001b[32m━━━━━━━━━━━━━━━━━━━━\u001b[0m\u001b[37m\u001b[0m \u001b[1m667s\u001b[0m 296ms/step - loss: 0.0161 - mean_absolute_percentage_error: 51633.4961 - mean_squared_error: 6.6666e-04 - smape: 50.7075 - val_loss: 0.0156 - val_mean_absolute_percentage_error: 67451.2109 - val_mean_squared_error: 7.2081e-04 - val_smape: 51.7101\n",
      "Epoch 16/50\n",
      "\u001b[1m   1/2253\u001b[0m \u001b[37m━━━━━━━━━━━━━━━━━━━━\u001b[0m \u001b[1m2:11\u001b[0m 59ms/step - loss: 0.0114 - mean_absolute_percentage_error: 16.9730 - mean_squared_error: 2.3723e-04 - smape: 40.3310\n",
      "Epoch 16: saving model to training_1/ckpt.weights.h5\n",
      "\u001b[1m2253/2253\u001b[0m \u001b[32m━━━━━━━━━━━━━━━━━━━━\u001b[0m\u001b[37m\u001b[0m \u001b[1m0s\u001b[0m 52us/step - loss: 0.0114 - mean_absolute_percentage_error: 16.9730 - mean_squared_error: 2.3723e-04 - smape: 20.1744 - val_loss: 0.0154 - val_mean_absolute_percentage_error: 34.5982 - val_mean_squared_error: 5.0191e-04 - val_smape: 20.4250\n",
      "Epoch 17/50\n",
      "\u001b[1m2253/2253\u001b[0m \u001b[32m━━━━━━━━━━━━━━━━━━━━\u001b[0m\u001b[37m\u001b[0m \u001b[1m0s\u001b[0m 268ms/step - loss: 0.0160 - mean_absolute_percentage_error: 50104.6211 - mean_squared_error: 6.5520e-04 - smape: 50.8826\n",
      "Epoch 17: saving model to training_1/ckpt.weights.h5\n",
      "\u001b[1m2253/2253\u001b[0m \u001b[32m━━━━━━━━━━━━━━━━━━━━\u001b[0m\u001b[37m\u001b[0m \u001b[1m669s\u001b[0m 297ms/step - loss: 0.0160 - mean_absolute_percentage_error: 50107.6953 - mean_squared_error: 6.5520e-04 - smape: 50.8826 - val_loss: 0.0157 - val_mean_absolute_percentage_error: 70301.5078 - val_mean_squared_error: 7.2723e-04 - val_smape: 49.3656\n",
      "Epoch 18/50\n",
      "\u001b[1m   1/2253\u001b[0m \u001b[37m━━━━━━━━━━━━━━━━━━━━\u001b[0m \u001b[1m2:11\u001b[0m 59ms/step - loss: 0.0120 - mean_absolute_percentage_error: 17.8640 - mean_squared_error: 2.5625e-04 - smape: 40.0082\n",
      "Epoch 18: saving model to training_1/ckpt.weights.h5\n",
      "\u001b[1m2253/2253\u001b[0m \u001b[32m━━━━━━━━━━━━━━━━━━━━\u001b[0m\u001b[37m\u001b[0m \u001b[1m0s\u001b[0m 54us/step - loss: 0.0120 - mean_absolute_percentage_error: 17.8640 - mean_squared_error: 2.5625e-04 - smape: 20.0130 - val_loss: 0.0148 - val_mean_absolute_percentage_error: 32.4536 - val_mean_squared_error: 4.2926e-04 - val_smape: 20.0148\n",
      "Epoch 19/50\n",
      "\u001b[1m2253/2253\u001b[0m \u001b[32m━━━━━━━━━━━━━━━━━━━━\u001b[0m\u001b[37m\u001b[0m \u001b[1m0s\u001b[0m 268ms/step - loss: 0.0158 - mean_absolute_percentage_error: 50248.4141 - mean_squared_error: 6.4924e-04 - smape: 50.8971\n",
      "Epoch 19: saving model to training_1/ckpt.weights.h5\n",
      "\u001b[1m2253/2253\u001b[0m \u001b[32m━━━━━━━━━━━━━━━━━━━━\u001b[0m\u001b[37m\u001b[0m \u001b[1m670s\u001b[0m 297ms/step - loss: 0.0158 - mean_absolute_percentage_error: 50251.5898 - mean_squared_error: 6.4923e-04 - smape: 50.8971 - val_loss: 0.0159 - val_mean_absolute_percentage_error: 57101.7617 - val_mean_squared_error: 7.4794e-04 - val_smape: 52.4431\n",
      "Epoch 20/50\n",
      "\u001b[1m   1/2253\u001b[0m \u001b[37m━━━━━━━━━━━━━━━━━━━━\u001b[0m \u001b[1m2:17\u001b[0m 61ms/step - loss: 0.0134 - mean_absolute_percentage_error: 20.6933 - mean_squared_error: 2.9693e-04 - smape: 41.1984\n",
      "Epoch 20: saving model to training_1/ckpt.weights.h5\n",
      "\u001b[1m2253/2253\u001b[0m \u001b[32m━━━━━━━━━━━━━━━━━━━━\u001b[0m\u001b[37m\u001b[0m \u001b[1m0s\u001b[0m 56us/step - loss: 0.0134 - mean_absolute_percentage_error: 20.6933 - mean_squared_error: 2.9693e-04 - smape: 20.6083 - val_loss: 0.0148 - val_mean_absolute_percentage_error: 31.0624 - val_mean_squared_error: 4.3853e-04 - val_smape: 20.9031\n",
      "Epoch 21/50\n",
      "\u001b[1m2253/2253\u001b[0m \u001b[32m━━━━━━━━━━━━━━━━━━━━\u001b[0m\u001b[37m\u001b[0m \u001b[1m0s\u001b[0m 269ms/step - loss: 0.0157 - mean_absolute_percentage_error: 46983.2109 - mean_squared_error: 6.4048e-04 - smape: 51.1297\n",
      "Epoch 21: saving model to training_1/ckpt.weights.h5\n",
      "\u001b[1m2253/2253\u001b[0m \u001b[32m━━━━━━━━━━━━━━━━━━━━\u001b[0m\u001b[37m\u001b[0m \u001b[1m671s\u001b[0m 298ms/step - loss: 0.0157 - mean_absolute_percentage_error: 46986.6172 - mean_squared_error: 6.4047e-04 - smape: 51.1296 - val_loss: 0.0154 - val_mean_absolute_percentage_error: 60770.8789 - val_mean_squared_error: 7.0807e-04 - val_smape: 52.6164\n",
      "Epoch 22/50\n",
      "\u001b[1m   1/2253\u001b[0m \u001b[37m━━━━━━━━━━━━━━━━━━━━\u001b[0m \u001b[1m1:52\u001b[0m 50ms/step - loss: 0.0119 - mean_absolute_percentage_error: 19.3298 - mean_squared_error: 2.2982e-04 - smape: 42.0403\n",
      "Epoch 22: saving model to training_1/ckpt.weights.h5\n",
      "\u001b[1m2253/2253\u001b[0m \u001b[32m━━━━━━━━━━━━━━━━━━━━\u001b[0m\u001b[37m\u001b[0m \u001b[1m0s\u001b[0m 59us/step - loss: 0.0119 - mean_absolute_percentage_error: 19.3298 - mean_squared_error: 2.2982e-04 - smape: 21.0295 - val_loss: 0.0143 - val_mean_absolute_percentage_error: 31.9781 - val_mean_squared_error: 4.6437e-04 - val_smape: 20.8178\n",
      "Epoch 23/50\n",
      "\u001b[1m2253/2253\u001b[0m \u001b[32m━━━━━━━━━━━━━━━━━━━━\u001b[0m\u001b[37m\u001b[0m \u001b[1m0s\u001b[0m 269ms/step - loss: 0.0157 - mean_absolute_percentage_error: 47954.8438 - mean_squared_error: 6.3810e-04 - smape: 51.1077\n",
      "Epoch 23: saving model to training_1/ckpt.weights.h5\n",
      "\u001b[1m2253/2253\u001b[0m \u001b[32m━━━━━━━━━━━━━━━━━━━━\u001b[0m\u001b[37m\u001b[0m \u001b[1m670s\u001b[0m 298ms/step - loss: 0.0157 - mean_absolute_percentage_error: 47957.8516 - mean_squared_error: 6.3809e-04 - smape: 51.1077 - val_loss: 0.0154 - val_mean_absolute_percentage_error: 57403.3164 - val_mean_squared_error: 7.1262e-04 - val_smape: 51.8395\n",
      "Epoch 24/50\n",
      "\u001b[1m   1/2253\u001b[0m \u001b[37m━━━━━━━━━━━━━━━━━━━━\u001b[0m \u001b[1m2:11\u001b[0m 59ms/step - loss: 0.0121 - mean_absolute_percentage_error: 19.0008 - mean_squared_error: 2.4256e-04 - smape: 39.4146\n",
      "Epoch 24: saving model to training_1/ckpt.weights.h5\n",
      "\u001b[1m2253/2253\u001b[0m \u001b[32m━━━━━━━━━━━━━━━━━━━━\u001b[0m\u001b[37m\u001b[0m \u001b[1m0s\u001b[0m 53us/step - loss: 0.0121 - mean_absolute_percentage_error: 19.0008 - mean_squared_error: 2.4256e-04 - smape: 19.7160 - val_loss: 0.0150 - val_mean_absolute_percentage_error: 33.0805 - val_mean_squared_error: 4.8599e-04 - val_smape: 20.7499\n",
      "Epoch 25/50\n",
      "\u001b[1m2253/2253\u001b[0m \u001b[32m━━━━━━━━━━━━━━━━━━━━\u001b[0m\u001b[37m\u001b[0m \u001b[1m0s\u001b[0m 269ms/step - loss: 0.0156 - mean_absolute_percentage_error: 47160.7383 - mean_squared_error: 6.3640e-04 - smape: 51.1914\n",
      "Epoch 25: saving model to training_1/ckpt.weights.h5\n",
      "\u001b[1m2253/2253\u001b[0m \u001b[32m━━━━━━━━━━━━━━━━━━━━\u001b[0m\u001b[37m\u001b[0m \u001b[1m672s\u001b[0m 298ms/step - loss: 0.0156 - mean_absolute_percentage_error: 47163.4492 - mean_squared_error: 6.3640e-04 - smape: 51.1914 - val_loss: 0.0153 - val_mean_absolute_percentage_error: 59520.7852 - val_mean_squared_error: 7.0758e-04 - val_smape: 51.3313\n",
      "Epoch 26/50\n",
      "\u001b[1m   1/2253\u001b[0m \u001b[37m━━━━━━━━━━━━━━━━━━━━\u001b[0m \u001b[1m2:15\u001b[0m 60ms/step - loss: 0.0117 - mean_absolute_percentage_error: 19.2596 - mean_squared_error: 2.2994e-04 - smape: 38.4440\n",
      "Epoch 26: saving model to training_1/ckpt.weights.h5\n",
      "\u001b[1m2253/2253\u001b[0m \u001b[32m━━━━━━━━━━━━━━━━━━━━\u001b[0m\u001b[37m\u001b[0m \u001b[1m0s\u001b[0m 52us/step - loss: 0.0117 - mean_absolute_percentage_error: 19.2596 - mean_squared_error: 2.2994e-04 - smape: 19.2305 - val_loss: 0.0150 - val_mean_absolute_percentage_error: 32.8056 - val_mean_squared_error: 5.1464e-04 - val_smape: 20.3799\n",
      "Epoch 27/50\n",
      "\u001b[1m2253/2253\u001b[0m \u001b[32m━━━━━━━━━━━━━━━━━━━━\u001b[0m\u001b[37m\u001b[0m \u001b[1m0s\u001b[0m 269ms/step - loss: 0.0155 - mean_absolute_percentage_error: 45774.5469 - mean_squared_error: 6.2981e-04 - smape: 51.2457\n",
      "Epoch 27: saving model to training_1/ckpt.weights.h5\n",
      "\u001b[1m2253/2253\u001b[0m \u001b[32m━━━━━━━━━━━━━━━━━━━━\u001b[0m\u001b[37m\u001b[0m \u001b[1m671s\u001b[0m 298ms/step - loss: 0.0155 - mean_absolute_percentage_error: 45777.4414 - mean_squared_error: 6.2980e-04 - smape: 51.2458 - val_loss: 0.0151 - val_mean_absolute_percentage_error: 64911.7344 - val_mean_squared_error: 6.8270e-04 - val_smape: 51.1110\n",
      "Epoch 28/50\n",
      "\u001b[1m   1/2253\u001b[0m \u001b[37m━━━━━━━━━━━━━━━━━━━━\u001b[0m \u001b[1m2:11\u001b[0m 59ms/step - loss: 0.0113 - mean_absolute_percentage_error: 17.6300 - mean_squared_error: 1.8536e-04 - smape: 39.8969\n",
      "Epoch 28: saving model to training_1/ckpt.weights.h5\n",
      "\u001b[1m2253/2253\u001b[0m \u001b[32m━━━━━━━━━━━━━━━━━━━━\u001b[0m\u001b[37m\u001b[0m \u001b[1m0s\u001b[0m 54us/step - loss: 0.0113 - mean_absolute_percentage_error: 17.6300 - mean_squared_error: 1.8536e-04 - smape: 19.9573 - val_loss: 0.0150 - val_mean_absolute_percentage_error: 34.4479 - val_mean_squared_error: 5.1787e-04 - val_smape: 20.8550\n",
      "Epoch 29/50\n",
      "\u001b[1m2253/2253\u001b[0m \u001b[32m━━━━━━━━━━━━━━━━━━━━\u001b[0m\u001b[37m\u001b[0m \u001b[1m0s\u001b[0m 269ms/step - loss: 0.0155 - mean_absolute_percentage_error: 44745.8086 - mean_squared_error: 6.3133e-04 - smape: 51.3177\n",
      "Epoch 29: saving model to training_1/ckpt.weights.h5\n",
      "\u001b[1m2253/2253\u001b[0m \u001b[32m━━━━━━━━━━━━━━━━━━━━\u001b[0m\u001b[37m\u001b[0m \u001b[1m672s\u001b[0m 298ms/step - loss: 0.0155 - mean_absolute_percentage_error: 44748.7227 - mean_squared_error: 6.3133e-04 - smape: 51.3177 - val_loss: 0.0153 - val_mean_absolute_percentage_error: 58954.2070 - val_mean_squared_error: 7.0876e-04 - val_smape: 51.3035\n",
      "Epoch 30/50\n",
      "\u001b[1m   1/2253\u001b[0m \u001b[37m━━━━━━━━━━━━━━━━━━━━\u001b[0m \u001b[1m1:53\u001b[0m 51ms/step - loss: 0.0124 - mean_absolute_percentage_error: 21.1220 - mean_squared_error: 2.7511e-04 - smape: 36.9969\n",
      "Epoch 30: saving model to training_1/ckpt.weights.h5\n",
      "\u001b[1m2253/2253\u001b[0m \u001b[32m━━━━━━━━━━━━━━━━━━━━\u001b[0m\u001b[37m\u001b[0m \u001b[1m0s\u001b[0m 59us/step - loss: 0.0124 - mean_absolute_percentage_error: 21.1220 - mean_squared_error: 2.7511e-04 - smape: 18.5067 - val_loss: 0.0143 - val_mean_absolute_percentage_error: 30.8977 - val_mean_squared_error: 4.5938e-04 - val_smape: 20.6852\n",
      "Epoch 31/50\n",
      "\u001b[1m2253/2253\u001b[0m \u001b[32m━━━━━━━━━━━━━━━━━━━━\u001b[0m\u001b[37m\u001b[0m \u001b[1m0s\u001b[0m 270ms/step - loss: 0.0154 - mean_absolute_percentage_error: 43953.3711 - mean_squared_error: 6.2741e-04 - smape: 51.3286\n",
      "Epoch 31: saving model to training_1/ckpt.weights.h5\n",
      "\u001b[1m2253/2253\u001b[0m \u001b[32m━━━━━━━━━━━━━━━━━━━━\u001b[0m\u001b[37m\u001b[0m \u001b[1m672s\u001b[0m 298ms/step - loss: 0.0154 - mean_absolute_percentage_error: 43956.2773 - mean_squared_error: 6.2740e-04 - smape: 51.3286 - val_loss: 0.0151 - val_mean_absolute_percentage_error: 58115.0703 - val_mean_squared_error: 6.9962e-04 - val_smape: 50.9403\n",
      "Epoch 32/50\n",
      "\u001b[1m   1/2253\u001b[0m \u001b[37m━━━━━━━━━━━━━━━━━━━━\u001b[0m \u001b[1m2:18\u001b[0m 62ms/step - loss: 0.0120 - mean_absolute_percentage_error: 19.7464 - mean_squared_error: 2.1785e-04 - smape: 39.5583\n",
      "Epoch 32: saving model to training_1/ckpt.weights.h5\n",
      "\u001b[1m2253/2253\u001b[0m \u001b[32m━━━━━━━━━━━━━━━━━━━━\u001b[0m\u001b[37m\u001b[0m \u001b[1m0s\u001b[0m 57us/step - loss: 0.0120 - mean_absolute_percentage_error: 19.7464 - mean_squared_error: 2.1785e-04 - smape: 19.7879 - val_loss: 0.0147 - val_mean_absolute_percentage_error: 32.3747 - val_mean_squared_error: 4.7239e-04 - val_smape: 20.3685\n"
     ]
    },
    {
     "ename": "PermissionError",
     "evalue": "[Errno 13] Permission denied: '/trainHistoryDict'",
     "output_type": "error",
     "traceback": [
      "\u001b[1;31m---------------------------------------------------------------------------\u001b[0m",
      "\u001b[1;31mPermissionError\u001b[0m                           Traceback (most recent call last)",
      "Cell \u001b[1;32mIn[30], line 3\u001b[0m\n\u001b[0;32m      1\u001b[0m \u001b[38;5;28;01mimport\u001b[39;00m \u001b[38;5;21;01mpickle\u001b[39;00m\n\u001b[0;32m      2\u001b[0m history\u001b[38;5;241m=\u001b[39mmodel\u001b[38;5;241m.\u001b[39mfit(train_dataset, batch_size\u001b[38;5;241m=\u001b[39m\u001b[38;5;241m32\u001b[39m,epochs\u001b[38;5;241m=\u001b[39m\u001b[38;5;241m50\u001b[39m,steps_per_epoch\u001b[38;5;241m=\u001b[39m\u001b[38;5;28mlen\u001b[39m(X_train)\u001b[38;5;241m/\u001b[39m\u001b[38;5;241m/\u001b[39m\u001b[38;5;241m32\u001b[39m, validation_data\u001b[38;5;241m=\u001b[39mval_dataset,callbacks\u001b[38;5;241m=\u001b[39m[early_stopping,cp_callback],validation_steps\u001b[38;5;241m=\u001b[39m\u001b[38;5;28mlen\u001b[39m(X_val)\u001b[38;5;241m/\u001b[39m\u001b[38;5;241m/\u001b[39m\u001b[38;5;241m32\u001b[39m)\n\u001b[1;32m----> 3\u001b[0m \u001b[38;5;28;01mwith\u001b[39;00m \u001b[38;5;28;43mopen\u001b[39;49m\u001b[43m(\u001b[49m\u001b[38;5;124;43m'\u001b[39;49m\u001b[38;5;124;43m/trainHistoryDict\u001b[39;49m\u001b[38;5;124;43m'\u001b[39;49m\u001b[43m,\u001b[49m\u001b[43m \u001b[49m\u001b[38;5;124;43m'\u001b[39;49m\u001b[38;5;124;43mwb\u001b[39;49m\u001b[38;5;124;43m'\u001b[39;49m\u001b[43m)\u001b[49m \u001b[38;5;28;01mas\u001b[39;00m file_pi:\n\u001b[0;32m      4\u001b[0m     pickle\u001b[38;5;241m.\u001b[39mdump(history\u001b[38;5;241m.\u001b[39mhistory, file_pi)\n",
      "File \u001b[1;32mc:\\Users\\benja\\anaconda3\\envs\\ee\\Lib\\site-packages\\IPython\\core\\interactiveshell.py:324\u001b[0m, in \u001b[0;36m_modified_open\u001b[1;34m(file, *args, **kwargs)\u001b[0m\n\u001b[0;32m    317\u001b[0m \u001b[38;5;28;01mif\u001b[39;00m file \u001b[38;5;129;01min\u001b[39;00m {\u001b[38;5;241m0\u001b[39m, \u001b[38;5;241m1\u001b[39m, \u001b[38;5;241m2\u001b[39m}:\n\u001b[0;32m    318\u001b[0m     \u001b[38;5;28;01mraise\u001b[39;00m \u001b[38;5;167;01mValueError\u001b[39;00m(\n\u001b[0;32m    319\u001b[0m         \u001b[38;5;124mf\u001b[39m\u001b[38;5;124m\"\u001b[39m\u001b[38;5;124mIPython won\u001b[39m\u001b[38;5;124m'\u001b[39m\u001b[38;5;124mt let you open fd=\u001b[39m\u001b[38;5;132;01m{\u001b[39;00mfile\u001b[38;5;132;01m}\u001b[39;00m\u001b[38;5;124m by default \u001b[39m\u001b[38;5;124m\"\u001b[39m\n\u001b[0;32m    320\u001b[0m         \u001b[38;5;124m\"\u001b[39m\u001b[38;5;124mas it is likely to crash IPython. If you know what you are doing, \u001b[39m\u001b[38;5;124m\"\u001b[39m\n\u001b[0;32m    321\u001b[0m         \u001b[38;5;124m\"\u001b[39m\u001b[38;5;124myou can use builtins\u001b[39m\u001b[38;5;124m'\u001b[39m\u001b[38;5;124m open.\u001b[39m\u001b[38;5;124m\"\u001b[39m\n\u001b[0;32m    322\u001b[0m     )\n\u001b[1;32m--> 324\u001b[0m \u001b[38;5;28;01mreturn\u001b[39;00m \u001b[43mio_open\u001b[49m\u001b[43m(\u001b[49m\u001b[43mfile\u001b[49m\u001b[43m,\u001b[49m\u001b[43m \u001b[49m\u001b[38;5;241;43m*\u001b[39;49m\u001b[43margs\u001b[49m\u001b[43m,\u001b[49m\u001b[43m \u001b[49m\u001b[38;5;241;43m*\u001b[39;49m\u001b[38;5;241;43m*\u001b[39;49m\u001b[43mkwargs\u001b[49m\u001b[43m)\u001b[49m\n",
      "\u001b[1;31mPermissionError\u001b[0m: [Errno 13] Permission denied: '/trainHistoryDict'"
     ]
    }
   ],
   "source": [
    "import pickle\n",
    "history=model.fit(train_dataset, batch_size=32,epochs=50,steps_per_epoch=len(X_train)//32, validation_data=val_dataset,callbacks=[early_stopping,cp_callback],validation_steps=len(X_val)//32)\n",
    "\n",
    "\n"
   ]
  },
  {
   "cell_type": "code",
   "execution_count": 49,
   "metadata": {},
   "outputs": [
    {
     "data": {
      "text/plain": [
       "0    0.194503\n",
       "1    0.194503\n",
       "2    0.194503\n",
       "3    0.194503\n",
       "4    0.159098\n",
       "Name: mp10, dtype: float64"
      ]
     },
     "execution_count": 49,
     "metadata": {},
     "output_type": "execute_result"
    }
   ],
   "source": [
    "df_Scaled=df['mp10'].copy()\n",
    "df_Scaled = df_Scaled  / df_Scaled.abs().max()\n"
   ]
  },
  {
   "cell_type": "code",
   "execution_count": 54,
   "metadata": {},
   "outputs": [
    {
     "data": {
      "image/png": "[encoded data removed]",
      "text/plain": [
       "<Figure size 640x480 with 1 Axes>"
      ]
     },
     "metadata": {},
     "output_type": "display_data"
    }
   ],
   "source": [
    "import matplotlib.pyplot as plt\n",
    "s=[df_Scaled.std()]*32\n",
    "colors = ['b', 'g', 'r', 'c', 'm', 'y','k','orange', 'purple', 'brown', 'pink', 'lime', 'teal', 'gray', 'olive', 'navy']\n",
    "\n",
    "    # Grafica los valores de loss\n",
    "plt.plot(history.history['loss'],  color='purple',label='Loss')\n",
    "plt.plot(history.history['val_loss'],color='olive',label='Val_Loss')\n",
    "plt.plot(s,label='Standard Deviation',color='pink')\n",
    "# Agrega etiquetas al gráfico\n",
    "plt.xlabel('Epoch')\n",
    "plt.ylabel('Value')\n",
    "plt.ylim(0,0.06)\n",
    "plt.title('Training & Validation Loss per Epoch')\n",
    "plt.xlim(0,32)\n",
    "\n",
    "plt.legend()\n",
    "\n",
    "plt.grid(True)\n",
    "plt.savefig('val_loss_whole.png',format='png')\n",
    "# Muestra el gráfico\n",
    "plt.show()"
   ]
  },
  {
   "cell_type": "code",
   "execution_count": 57,
   "metadata": {},
   "outputs": [
    {
     "name": "stdout",
     "output_type": "stream",
     "text": [
      "\u001b[1m   36/20706\u001b[0m \u001b[37m━━━━━━━━━━━━━━━━━━━━\u001b[0m \u001b[1m1:34\u001b[0m 5ms/step"
     ]
    },
    {
     "name": "stderr",
     "output_type": "stream",
     "text": [
      "C:\\Users\\benja\\AppData\\Local\\Temp\\ipykernel_536\\3065549325.py:10: DeprecationWarning: Starting with ImageIO v3 the behavior of this function will switch to that of iio.v3.imread. To keep the current behavior (and make this warning disappear) use `import imageio.v2 as imageio` or call `imageio.v2.imread` directly.\n",
      "  image = (imageio.imread(path))\n"
     ]
    },
    {
     "name": "stdout",
     "output_type": "stream",
     "text": [
      "\u001b[1m20706/20706\u001b[0m \u001b[32m━━━━━━━━━━━━━━━━━━━━\u001b[0m\u001b[37m\u001b[0m \u001b[1m158s\u001b[0m 8ms/step\n"
     ]
    }
   ],
   "source": [
    "test_dataset = create_combined_dataset(images_test, X_test, y_test, 1)\n",
    "predict = model.predict(test_dataset,steps=len(y_test))"
   ]
  },
  {
   "cell_type": "code",
   "execution_count": 58,
   "metadata": {},
   "outputs": [
    {
     "name": "stdout",
     "output_type": "stream",
     "text": [
      "MAE: 0.015187220733338938\n",
      "MSE: 0.0006708432247534437\n",
      "R-squared: 0.4793502993498998\n",
      "SMAPE: 27.831136097675735%\n"
     ]
    }
   ],
   "source": [
    "from sklearn.metrics import mean_absolute_error, r2_score, mean_squared_error\n",
    "import numpy as np\n",
    "\n",
    "# Calcular MAE\n",
    "mae = mean_absolute_error(y_test, predict)\n",
    "mse= mean_squared_error(y_test, predict)\n",
    "# Calcular R-squared\n",
    "r2 = r2_score(y_test, predict)\n",
    "def smape(y_true, y_pred):\n",
    "    \"\"\"\n",
    "    Calcula el Symmetric Mean Absolute Percentage Error.\n",
    "    \"\"\"\n",
    "    return 100 * np.mean(2 * np.abs(y_pred - y_true) / (np.abs(y_true) + np.abs(y_pred) + 1e-6))\n",
    "\n",
    "smape = smape(y_test, predict)\n",
    "\n",
    "# Imprimir las métricas\n",
    "print(f\"MAE: {mae}\")\n",
    "print(f\"MSE: {mse}\")\n",
    "print(f\"R-squared: {r2}\")\n",
    "print(f\"SMAPE: {smape}%\")"
   ]
  },
  {
   "cell_type": "code",
   "execution_count": 69,
   "metadata": {},
   "outputs": [
    {
     "data": {
      "image/png": "[encoded data removed]",
      "text/plain": [
       "<Figure size 640x480 with 1 Axes>"
      ]
     },
     "metadata": {},
     "output_type": "display_data"
    }
   ],
   "source": [
    "plt.scatter(y_test, predict, color='blue', alpha=0.5)\n",
    "\n",
    "plt.xlabel('Valores Reales')\n",
    "plt.ylabel('predicciones')\n",
    "plt.xlim(0,1)\n",
    "plt.ylim(0,1)\n",
    "\n",
    "plt.show()"
   ]
  },
  {
   "cell_type": "code",
   "execution_count": 74,
   "metadata": {},
   "outputs": [
    {
     "data": {
      "text/plain": [
       "count    151917.000000\n",
       "mean         55.948889\n",
       "std          34.322277\n",
       "min           0.000000\n",
       "25%          34.208300\n",
       "50%          49.000000\n",
       "75%          69.833300\n",
       "max         917.940000\n",
       "Name: mp10, dtype: float64"
      ]
     },
     "execution_count": 74,
     "metadata": {},
     "output_type": "execute_result"
    }
   ],
   "source": [
    "df['mp10'].describe()"
   ]
  },
  {
   "cell_type": "code",
   "execution_count": 65,
   "metadata": {},
   "outputs": [
    {
     "name": "stderr",
     "output_type": "stream",
     "text": [
      "C:\\Users\\benja\\AppData\\Local\\Temp\\ipykernel_536\\2569167324.py:3: DeprecationWarning: Conversion of an array with ndim > 0 to a scalar is deprecated, and will error in future. Ensure you extract a single element from your array before performing this operation. (Deprecated NumPy 1.25.)\n",
      "  residuos.append(float(y_test[a])-float(y_test[a]))\n"
     ]
    },
    {
     "data": {
      "image/png": "[encoded data removed]",
      "text/plain": [
       "<Figure size 640x480 with 1 Axes>"
      ]
     },
     "metadata": {},
     "output_type": "display_data"
    }
   ],
   "source": [
    "residuos = []\n",
    "for a in range(len(y_test)):\n",
    "    residuos.append(float(y_test[a])-float(y_test[a]))\n",
    "    import seaborn as sns\n",
    "sns.histplot(residuos,kde=True,bins=600)\n",
    "plt.xlim(-0.1,0.1)\n",
    "plt.show()"
   ]
  },
  {
   "cell_type": "markdown",
   "metadata": {},
   "source": [
    "### Usando 7 días para predecir promedio semanal siguiente (Sin capping)"
   ]
  },
  {
   "cell_type": "code",
   "execution_count": 6,
   "metadata": {},
   "outputs": [
    {
     "name": "stdout",
     "output_type": "stream",
     "text": [
      "Forma de X: (103015, 7, 17), Forma de y: (103015, 1), Total de imágenes: (103015,)\n",
      "Train set: X=(72110, 7, 17), y=(72110, 1), images=(72110,)\n",
      "Test set: X=(20706, 7, 17), y=(20706, 1), images=(20706,)\n",
      "Validation set: X=(10199, 7, 17), y=(10199, 1), images=(10199,)\n"
     ]
    }
   ],
   "source": [
    "from sklearn.model_selection import train_test_split\n",
    "import numpy as np\n",
    "from sklearn.preprocessing import MinMaxScaler\n",
    "\n",
    "\n",
    "# Definir la longitud de la secuencia para la LSTM\n",
    "sequence_length = 7  # Supongamos que usas 7 días para la LSTM\n",
    "\n",
    "# Variables para almacenar las secuencias, el target y las imágenes\n",
    "X, y, images = [], [], []\n",
    "\n",
    "# Recorre los datos por locación\n",
    "for location, location_df in grouped_data.items():\n",
    "    features = location_df.drop(['Date', 'station', 'mp10', 'image'], axis=1).values\n",
    "    target = location_df['mp10'].values\n",
    "    image_series = location_df['image'].values\n",
    "\n",
    "    for i in range(sequence_length, len(features)):\n",
    "        # Crear secuencia de entrada de `sequence_length` días\n",
    "        sequence_features = features[i-sequence_length:i]\n",
    "        sequence_target = np.mean(target[i:i+7])\n",
    "        \n",
    "        # Buscar una imagen en la secuencia (la más cercana al último día de la secuencia)\n",
    "        image_associated = image_series[i-sequence_length:i]\n",
    "        image_file = next((img for img in reversed(image_associated) if img != 0), None)\n",
    "        \n",
    "        # Añadir solo si hay una imagen válida asociada\n",
    "        if image_file:\n",
    "            X.append(sequence_features)\n",
    "            y.append(sequence_target)\n",
    "            images.append(image_file)\n",
    "\n",
    "# Convertir las listas a arrays de numpy\n",
    "X, y = np.array(X), np.array(y)\n",
    "images = np.array(images)\n",
    "\n",
    "# Normalizar características de entrada\n",
    "scaler_X = MinMaxScaler()\n",
    "X_reshaped = X.reshape(-1, X.shape[-1])\n",
    "X_normalized = scaler_X.fit_transform(X_reshaped)\n",
    "X = X_normalized.reshape(X.shape)\n",
    "\n",
    "scaler_y = MinMaxScaler()\n",
    "y = scaler_y.fit_transform(y.reshape(-1, 1))\n",
    "\n",
    "print(f\"Forma de X: {X.shape}, Forma de y: {y.shape}, Total de imágenes: {images.shape}\")\n",
    "\n",
    "# Dividir los datos en 70% entrenamiento, 20% test, 10% validación\n",
    "X_train, X_temp, y_train, y_temp, images_train, images_temp = train_test_split(X, y, images, test_size=0.30, random_state=42)\n",
    "\n",
    "# Dividir el 30% restante en 20% test y 10% validación\n",
    "X_test, X_val, y_test, y_val, images_test, images_val = train_test_split(X_temp, y_temp, images_temp, test_size=0.33, random_state=42)  # 0.33 * 0.30 = ~0.10\n",
    "\n",
    "# Imprimir las formas para verificar las divisiones\n",
    "print(f\"Train set: X={X_train.shape}, y={y_train.shape}, images={images_train.shape}\")\n",
    "print(f\"Test set: X={X_test.shape}, y={y_test.shape}, images={images_test.shape}\")\n",
    "print(f\"Validation set: X={X_val.shape}, y={y_val.shape}, images={images_val.shape}\")\n"
   ]
  },
  {
   "cell_type": "code",
   "execution_count": 7,
   "metadata": {},
   "outputs": [
    {
     "data": {
      "text/html": [
       "<pre style=\"white-space:pre;overflow-x:auto;line-height:normal;font-family:Menlo,'DejaVu Sans Mono',consolas,'Courier New',monospace\"><span style=\"font-weight: bold\">Model: \"functional_1\"</span>\n",
       "</pre>\n"
      ],
      "text/plain": [
       "\u001b[1mModel: \"functional_1\"\u001b[0m\n"
      ]
     },
     "metadata": {},
     "output_type": "display_data"
    },
    {
     "data": {
      "text/html": [
       "<pre style=\"white-space:pre;overflow-x:auto;line-height:normal;font-family:Menlo,'DejaVu Sans Mono',consolas,'Courier New',monospace\">┏━━━━━━━━━━━━━━━━━━━━━┳━━━━━━━━━━━━━━━━━━━┳━━━━━━━━━━━━┳━━━━━━━━━━━━━━━━━━━┓\n",
       "┃<span style=\"font-weight: bold\"> Layer (type)        </span>┃<span style=\"font-weight: bold\"> Output Shape      </span>┃<span style=\"font-weight: bold\">    Param # </span>┃<span style=\"font-weight: bold\"> Connected to      </span>┃\n",
       "┡━━━━━━━━━━━━━━━━━━━━━╇━━━━━━━━━━━━━━━━━━━╇━━━━━━━━━━━━╇━━━━━━━━━━━━━━━━━━━┩\n",
       "│ input_layer         │ (<span style=\"color: #00d7ff; text-decoration-color: #00d7ff\">None</span>, <span style=\"color: #00af00; text-decoration-color: #00af00\">224</span>, <span style=\"color: #00af00; text-decoration-color: #00af00\">224</span>,  │          <span style=\"color: #00af00; text-decoration-color: #00af00\">0</span> │ -                 │\n",
       "│ (<span style=\"color: #0087ff; text-decoration-color: #0087ff\">InputLayer</span>)        │ <span style=\"color: #00af00; text-decoration-color: #00af00\">6</span>)                │            │                   │\n",
       "├─────────────────────┼───────────────────┼────────────┼───────────────────┤\n",
       "│ conv2d (<span style=\"color: #0087ff; text-decoration-color: #0087ff\">Conv2D</span>)     │ (<span style=\"color: #00d7ff; text-decoration-color: #00d7ff\">None</span>, <span style=\"color: #00af00; text-decoration-color: #00af00\">222</span>, <span style=\"color: #00af00; text-decoration-color: #00af00\">222</span>,  │        <span style=\"color: #00af00; text-decoration-color: #00af00\">880</span> │ input_layer[<span style=\"color: #00af00; text-decoration-color: #00af00\">0</span>][<span style=\"color: #00af00; text-decoration-color: #00af00\">0</span>] │\n",
       "│                     │ <span style=\"color: #00af00; text-decoration-color: #00af00\">16</span>)               │            │                   │\n",
       "├─────────────────────┼───────────────────┼────────────┼───────────────────┤\n",
       "│ average_pooling2d   │ (<span style=\"color: #00d7ff; text-decoration-color: #00d7ff\">None</span>, <span style=\"color: #00af00; text-decoration-color: #00af00\">111</span>, <span style=\"color: #00af00; text-decoration-color: #00af00\">111</span>,  │          <span style=\"color: #00af00; text-decoration-color: #00af00\">0</span> │ conv2d[<span style=\"color: #00af00; text-decoration-color: #00af00\">0</span>][<span style=\"color: #00af00; text-decoration-color: #00af00\">0</span>]      │\n",
       "│ (<span style=\"color: #0087ff; text-decoration-color: #0087ff\">AveragePooling2D</span>)  │ <span style=\"color: #00af00; text-decoration-color: #00af00\">16</span>)               │            │                   │\n",
       "├─────────────────────┼───────────────────┼────────────┼───────────────────┤\n",
       "│ conv2d_1 (<span style=\"color: #0087ff; text-decoration-color: #0087ff\">Conv2D</span>)   │ (<span style=\"color: #00d7ff; text-decoration-color: #00d7ff\">None</span>, <span style=\"color: #00af00; text-decoration-color: #00af00\">109</span>, <span style=\"color: #00af00; text-decoration-color: #00af00\">109</span>,  │      <span style=\"color: #00af00; text-decoration-color: #00af00\">4,640</span> │ average_pooling2… │\n",
       "│                     │ <span style=\"color: #00af00; text-decoration-color: #00af00\">32</span>)               │            │                   │\n",
       "├─────────────────────┼───────────────────┼────────────┼───────────────────┤\n",
       "│ average_pooling2d_1 │ (<span style=\"color: #00d7ff; text-decoration-color: #00d7ff\">None</span>, <span style=\"color: #00af00; text-decoration-color: #00af00\">54</span>, <span style=\"color: #00af00; text-decoration-color: #00af00\">54</span>,    │          <span style=\"color: #00af00; text-decoration-color: #00af00\">0</span> │ conv2d_1[<span style=\"color: #00af00; text-decoration-color: #00af00\">0</span>][<span style=\"color: #00af00; text-decoration-color: #00af00\">0</span>]    │\n",
       "│ (<span style=\"color: #0087ff; text-decoration-color: #0087ff\">AveragePooling2D</span>)  │ <span style=\"color: #00af00; text-decoration-color: #00af00\">32</span>)               │            │                   │\n",
       "├─────────────────────┼───────────────────┼────────────┼───────────────────┤\n",
       "│ conv2d_2 (<span style=\"color: #0087ff; text-decoration-color: #0087ff\">Conv2D</span>)   │ (<span style=\"color: #00d7ff; text-decoration-color: #00d7ff\">None</span>, <span style=\"color: #00af00; text-decoration-color: #00af00\">52</span>, <span style=\"color: #00af00; text-decoration-color: #00af00\">52</span>,    │      <span style=\"color: #00af00; text-decoration-color: #00af00\">9,248</span> │ average_pooling2… │\n",
       "│                     │ <span style=\"color: #00af00; text-decoration-color: #00af00\">32</span>)               │            │                   │\n",
       "├─────────────────────┼───────────────────┼────────────┼───────────────────┤\n",
       "│ average_pooling2d_2 │ (<span style=\"color: #00d7ff; text-decoration-color: #00d7ff\">None</span>, <span style=\"color: #00af00; text-decoration-color: #00af00\">26</span>, <span style=\"color: #00af00; text-decoration-color: #00af00\">26</span>,    │          <span style=\"color: #00af00; text-decoration-color: #00af00\">0</span> │ conv2d_2[<span style=\"color: #00af00; text-decoration-color: #00af00\">0</span>][<span style=\"color: #00af00; text-decoration-color: #00af00\">0</span>]    │\n",
       "│ (<span style=\"color: #0087ff; text-decoration-color: #0087ff\">AveragePooling2D</span>)  │ <span style=\"color: #00af00; text-decoration-color: #00af00\">32</span>)               │            │                   │\n",
       "├─────────────────────┼───────────────────┼────────────┼───────────────────┤\n",
       "│ conv2d_3 (<span style=\"color: #0087ff; text-decoration-color: #0087ff\">Conv2D</span>)   │ (<span style=\"color: #00d7ff; text-decoration-color: #00d7ff\">None</span>, <span style=\"color: #00af00; text-decoration-color: #00af00\">24</span>, <span style=\"color: #00af00; text-decoration-color: #00af00\">24</span>,    │      <span style=\"color: #00af00; text-decoration-color: #00af00\">9,248</span> │ average_pooling2… │\n",
       "│                     │ <span style=\"color: #00af00; text-decoration-color: #00af00\">32</span>)               │            │                   │\n",
       "├─────────────────────┼───────────────────┼────────────┼───────────────────┤\n",
       "│ average_pooling2d_3 │ (<span style=\"color: #00d7ff; text-decoration-color: #00d7ff\">None</span>, <span style=\"color: #00af00; text-decoration-color: #00af00\">12</span>, <span style=\"color: #00af00; text-decoration-color: #00af00\">12</span>,    │          <span style=\"color: #00af00; text-decoration-color: #00af00\">0</span> │ conv2d_3[<span style=\"color: #00af00; text-decoration-color: #00af00\">0</span>][<span style=\"color: #00af00; text-decoration-color: #00af00\">0</span>]    │\n",
       "│ (<span style=\"color: #0087ff; text-decoration-color: #0087ff\">AveragePooling2D</span>)  │ <span style=\"color: #00af00; text-decoration-color: #00af00\">32</span>)               │            │                   │\n",
       "├─────────────────────┼───────────────────┼────────────┼───────────────────┤\n",
       "│ flatten (<span style=\"color: #0087ff; text-decoration-color: #0087ff\">Flatten</span>)   │ (<span style=\"color: #00d7ff; text-decoration-color: #00d7ff\">None</span>, <span style=\"color: #00af00; text-decoration-color: #00af00\">4608</span>)      │          <span style=\"color: #00af00; text-decoration-color: #00af00\">0</span> │ average_pooling2… │\n",
       "├─────────────────────┼───────────────────┼────────────┼───────────────────┤\n",
       "│ input_layer_1       │ (<span style=\"color: #00d7ff; text-decoration-color: #00d7ff\">None</span>, <span style=\"color: #00af00; text-decoration-color: #00af00\">7</span>, <span style=\"color: #00af00; text-decoration-color: #00af00\">17</span>)     │          <span style=\"color: #00af00; text-decoration-color: #00af00\">0</span> │ -                 │\n",
       "│ (<span style=\"color: #0087ff; text-decoration-color: #0087ff\">InputLayer</span>)        │                   │            │                   │\n",
       "├─────────────────────┼───────────────────┼────────────┼───────────────────┤\n",
       "│ dense (<span style=\"color: #0087ff; text-decoration-color: #0087ff\">Dense</span>)       │ (<span style=\"color: #00d7ff; text-decoration-color: #00d7ff\">None</span>, <span style=\"color: #00af00; text-decoration-color: #00af00\">128</span>)       │    <span style=\"color: #00af00; text-decoration-color: #00af00\">589,952</span> │ flatten[<span style=\"color: #00af00; text-decoration-color: #00af00\">0</span>][<span style=\"color: #00af00; text-decoration-color: #00af00\">0</span>]     │\n",
       "├─────────────────────┼───────────────────┼────────────┼───────────────────┤\n",
       "│ lstm (<span style=\"color: #0087ff; text-decoration-color: #0087ff\">LSTM</span>)         │ (<span style=\"color: #00d7ff; text-decoration-color: #00d7ff\">None</span>, <span style=\"color: #00af00; text-decoration-color: #00af00\">7</span>, <span style=\"color: #00af00; text-decoration-color: #00af00\">50</span>)     │     <span style=\"color: #00af00; text-decoration-color: #00af00\">13,600</span> │ input_layer_1[<span style=\"color: #00af00; text-decoration-color: #00af00\">0</span>]… │\n",
       "├─────────────────────┼───────────────────┼────────────┼───────────────────┤\n",
       "│ dropout (<span style=\"color: #0087ff; text-decoration-color: #0087ff\">Dropout</span>)   │ (<span style=\"color: #00d7ff; text-decoration-color: #00d7ff\">None</span>, <span style=\"color: #00af00; text-decoration-color: #00af00\">128</span>)       │          <span style=\"color: #00af00; text-decoration-color: #00af00\">0</span> │ dense[<span style=\"color: #00af00; text-decoration-color: #00af00\">0</span>][<span style=\"color: #00af00; text-decoration-color: #00af00\">0</span>]       │\n",
       "├─────────────────────┼───────────────────┼────────────┼───────────────────┤\n",
       "│ lstm_1 (<span style=\"color: #0087ff; text-decoration-color: #0087ff\">LSTM</span>)       │ (<span style=\"color: #00d7ff; text-decoration-color: #00d7ff\">None</span>, <span style=\"color: #00af00; text-decoration-color: #00af00\">50</span>)        │     <span style=\"color: #00af00; text-decoration-color: #00af00\">20,200</span> │ lstm[<span style=\"color: #00af00; text-decoration-color: #00af00\">0</span>][<span style=\"color: #00af00; text-decoration-color: #00af00\">0</span>]        │\n",
       "├─────────────────────┼───────────────────┼────────────┼───────────────────┤\n",
       "│ concatenate         │ (<span style=\"color: #00d7ff; text-decoration-color: #00d7ff\">None</span>, <span style=\"color: #00af00; text-decoration-color: #00af00\">178</span>)       │          <span style=\"color: #00af00; text-decoration-color: #00af00\">0</span> │ dropout[<span style=\"color: #00af00; text-decoration-color: #00af00\">0</span>][<span style=\"color: #00af00; text-decoration-color: #00af00\">0</span>],    │\n",
       "│ (<span style=\"color: #0087ff; text-decoration-color: #0087ff\">Concatenate</span>)       │                   │            │ lstm_1[<span style=\"color: #00af00; text-decoration-color: #00af00\">0</span>][<span style=\"color: #00af00; text-decoration-color: #00af00\">0</span>]      │\n",
       "├─────────────────────┼───────────────────┼────────────┼───────────────────┤\n",
       "│ dense_1 (<span style=\"color: #0087ff; text-decoration-color: #0087ff\">Dense</span>)     │ (<span style=\"color: #00d7ff; text-decoration-color: #00d7ff\">None</span>, <span style=\"color: #00af00; text-decoration-color: #00af00\">128</span>)       │     <span style=\"color: #00af00; text-decoration-color: #00af00\">22,912</span> │ concatenate[<span style=\"color: #00af00; text-decoration-color: #00af00\">0</span>][<span style=\"color: #00af00; text-decoration-color: #00af00\">0</span>] │\n",
       "├─────────────────────┼───────────────────┼────────────┼───────────────────┤\n",
       "│ dropout_1 (<span style=\"color: #0087ff; text-decoration-color: #0087ff\">Dropout</span>) │ (<span style=\"color: #00d7ff; text-decoration-color: #00d7ff\">None</span>, <span style=\"color: #00af00; text-decoration-color: #00af00\">128</span>)       │          <span style=\"color: #00af00; text-decoration-color: #00af00\">0</span> │ dense_1[<span style=\"color: #00af00; text-decoration-color: #00af00\">0</span>][<span style=\"color: #00af00; text-decoration-color: #00af00\">0</span>]     │\n",
       "├─────────────────────┼───────────────────┼────────────┼───────────────────┤\n",
       "│ dense_2 (<span style=\"color: #0087ff; text-decoration-color: #0087ff\">Dense</span>)     │ (<span style=\"color: #00d7ff; text-decoration-color: #00d7ff\">None</span>, <span style=\"color: #00af00; text-decoration-color: #00af00\">1</span>)         │        <span style=\"color: #00af00; text-decoration-color: #00af00\">129</span> │ dropout_1[<span style=\"color: #00af00; text-decoration-color: #00af00\">0</span>][<span style=\"color: #00af00; text-decoration-color: #00af00\">0</span>]   │\n",
       "└─────────────────────┴───────────────────┴────────────┴───────────────────┘\n",
       "</pre>\n"
      ],
      "text/plain": [
       "┏━━━━━━━━━━━━━━━━━━━━━┳━━━━━━━━━━━━━━━━━━━┳━━━━━━━━━━━━┳━━━━━━━━━━━━━━━━━━━┓\n",
       "┃\u001b[1m \u001b[0m\u001b[1mLayer (type)       \u001b[0m\u001b[1m \u001b[0m┃\u001b[1m \u001b[0m\u001b[1mOutput Shape     \u001b[0m\u001b[1m \u001b[0m┃\u001b[1m \u001b[0m\u001b[1m   Param #\u001b[0m\u001b[1m \u001b[0m┃\u001b[1m \u001b[0m\u001b[1mConnected to     \u001b[0m\u001b[1m \u001b[0m┃\n",
       "┡━━━━━━━━━━━━━━━━━━━━━╇━━━━━━━━━━━━━━━━━━━╇━━━━━━━━━━━━╇━━━━━━━━━━━━━━━━━━━┩\n",
       "│ input_layer         │ (\u001b[38;5;45mNone\u001b[0m, \u001b[38;5;34m224\u001b[0m, \u001b[38;5;34m224\u001b[0m,  │          \u001b[38;5;34m0\u001b[0m │ -                 │\n",
       "│ (\u001b[38;5;33mInputLayer\u001b[0m)        │ \u001b[38;5;34m6\u001b[0m)                │            │                   │\n",
       "├─────────────────────┼───────────────────┼────────────┼───────────────────┤\n",
       "│ conv2d (\u001b[38;5;33mConv2D\u001b[0m)     │ (\u001b[38;5;45mNone\u001b[0m, \u001b[38;5;34m222\u001b[0m, \u001b[38;5;34m222\u001b[0m,  │        \u001b[38;5;34m880\u001b[0m │ input_layer[\u001b[38;5;34m0\u001b[0m][\u001b[38;5;34m0\u001b[0m] │\n",
       "│                     │ \u001b[38;5;34m16\u001b[0m)               │            │                   │\n",
       "├─────────────────────┼───────────────────┼────────────┼───────────────────┤\n",
       "│ average_pooling2d   │ (\u001b[38;5;45mNone\u001b[0m, \u001b[38;5;34m111\u001b[0m, \u001b[38;5;34m111\u001b[0m,  │          \u001b[38;5;34m0\u001b[0m │ conv2d[\u001b[38;5;34m0\u001b[0m][\u001b[38;5;34m0\u001b[0m]      │\n",
       "│ (\u001b[38;5;33mAveragePooling2D\u001b[0m)  │ \u001b[38;5;34m16\u001b[0m)               │            │                   │\n",
       "├─────────────────────┼───────────────────┼────────────┼───────────────────┤\n",
       "│ conv2d_1 (\u001b[38;5;33mConv2D\u001b[0m)   │ (\u001b[38;5;45mNone\u001b[0m, \u001b[38;5;34m109\u001b[0m, \u001b[38;5;34m109\u001b[0m,  │      \u001b[38;5;34m4,640\u001b[0m │ average_pooling2… │\n",
       "│                     │ \u001b[38;5;34m32\u001b[0m)               │            │                   │\n",
       "├─────────────────────┼───────────────────┼────────────┼───────────────────┤\n",
       "│ average_pooling2d_1 │ (\u001b[38;5;45mNone\u001b[0m, \u001b[38;5;34m54\u001b[0m, \u001b[38;5;34m54\u001b[0m,    │          \u001b[38;5;34m0\u001b[0m │ conv2d_1[\u001b[38;5;34m0\u001b[0m][\u001b[38;5;34m0\u001b[0m]    │\n",
       "│ (\u001b[38;5;33mAveragePooling2D\u001b[0m)  │ \u001b[38;5;34m32\u001b[0m)               │            │                   │\n",
       "├─────────────────────┼───────────────────┼────────────┼───────────────────┤\n",
       "│ conv2d_2 (\u001b[38;5;33mConv2D\u001b[0m)   │ (\u001b[38;5;45mNone\u001b[0m, \u001b[38;5;34m52\u001b[0m, \u001b[38;5;34m52\u001b[0m,    │      \u001b[38;5;34m9,248\u001b[0m │ average_pooling2… │\n",
       "│                     │ \u001b[38;5;34m32\u001b[0m)               │            │                   │\n",
       "├─────────────────────┼───────────────────┼────────────┼───────────────────┤\n",
       "│ average_pooling2d_2 │ (\u001b[38;5;45mNone\u001b[0m, \u001b[38;5;34m26\u001b[0m, \u001b[38;5;34m26\u001b[0m,    │          \u001b[38;5;34m0\u001b[0m │ conv2d_2[\u001b[38;5;34m0\u001b[0m][\u001b[38;5;34m0\u001b[0m]    │\n",
       "│ (\u001b[38;5;33mAveragePooling2D\u001b[0m)  │ \u001b[38;5;34m32\u001b[0m)               │            │                   │\n",
       "├─────────────────────┼───────────────────┼────────────┼───────────────────┤\n",
       "│ conv2d_3 (\u001b[38;5;33mConv2D\u001b[0m)   │ (\u001b[38;5;45mNone\u001b[0m, \u001b[38;5;34m24\u001b[0m, \u001b[38;5;34m24\u001b[0m,    │      \u001b[38;5;34m9,248\u001b[0m │ average_pooling2… │\n",
       "│                     │ \u001b[38;5;34m32\u001b[0m)               │            │                   │\n",
       "├─────────────────────┼───────────────────┼────────────┼───────────────────┤\n",
       "│ average_pooling2d_3 │ (\u001b[38;5;45mNone\u001b[0m, \u001b[38;5;34m12\u001b[0m, \u001b[38;5;34m12\u001b[0m,    │          \u001b[38;5;34m0\u001b[0m │ conv2d_3[\u001b[38;5;34m0\u001b[0m][\u001b[38;5;34m0\u001b[0m]    │\n",
       "│ (\u001b[38;5;33mAveragePooling2D\u001b[0m)  │ \u001b[38;5;34m32\u001b[0m)               │            │                   │\n",
       "├─────────────────────┼───────────────────┼────────────┼───────────────────┤\n",
       "│ flatten (\u001b[38;5;33mFlatten\u001b[0m)   │ (\u001b[38;5;45mNone\u001b[0m, \u001b[38;5;34m4608\u001b[0m)      │          \u001b[38;5;34m0\u001b[0m │ average_pooling2… │\n",
       "├─────────────────────┼───────────────────┼────────────┼───────────────────┤\n",
       "│ input_layer_1       │ (\u001b[38;5;45mNone\u001b[0m, \u001b[38;5;34m7\u001b[0m, \u001b[38;5;34m17\u001b[0m)     │          \u001b[38;5;34m0\u001b[0m │ -                 │\n",
       "│ (\u001b[38;5;33mInputLayer\u001b[0m)        │                   │            │                   │\n",
       "├─────────────────────┼───────────────────┼────────────┼───────────────────┤\n",
       "│ dense (\u001b[38;5;33mDense\u001b[0m)       │ (\u001b[38;5;45mNone\u001b[0m, \u001b[38;5;34m128\u001b[0m)       │    \u001b[38;5;34m589,952\u001b[0m │ flatten[\u001b[38;5;34m0\u001b[0m][\u001b[38;5;34m0\u001b[0m]     │\n",
       "├─────────────────────┼───────────────────┼────────────┼───────────────────┤\n",
       "│ lstm (\u001b[38;5;33mLSTM\u001b[0m)         │ (\u001b[38;5;45mNone\u001b[0m, \u001b[38;5;34m7\u001b[0m, \u001b[38;5;34m50\u001b[0m)     │     \u001b[38;5;34m13,600\u001b[0m │ input_layer_1[\u001b[38;5;34m0\u001b[0m]… │\n",
       "├─────────────────────┼───────────────────┼────────────┼───────────────────┤\n",
       "│ dropout (\u001b[38;5;33mDropout\u001b[0m)   │ (\u001b[38;5;45mNone\u001b[0m, \u001b[38;5;34m128\u001b[0m)       │          \u001b[38;5;34m0\u001b[0m │ dense[\u001b[38;5;34m0\u001b[0m][\u001b[38;5;34m0\u001b[0m]       │\n",
       "├─────────────────────┼───────────────────┼────────────┼───────────────────┤\n",
       "│ lstm_1 (\u001b[38;5;33mLSTM\u001b[0m)       │ (\u001b[38;5;45mNone\u001b[0m, \u001b[38;5;34m50\u001b[0m)        │     \u001b[38;5;34m20,200\u001b[0m │ lstm[\u001b[38;5;34m0\u001b[0m][\u001b[38;5;34m0\u001b[0m]        │\n",
       "├─────────────────────┼───────────────────┼────────────┼───────────────────┤\n",
       "│ concatenate         │ (\u001b[38;5;45mNone\u001b[0m, \u001b[38;5;34m178\u001b[0m)       │          \u001b[38;5;34m0\u001b[0m │ dropout[\u001b[38;5;34m0\u001b[0m][\u001b[38;5;34m0\u001b[0m],    │\n",
       "│ (\u001b[38;5;33mConcatenate\u001b[0m)       │                   │            │ lstm_1[\u001b[38;5;34m0\u001b[0m][\u001b[38;5;34m0\u001b[0m]      │\n",
       "├─────────────────────┼───────────────────┼────────────┼───────────────────┤\n",
       "│ dense_1 (\u001b[38;5;33mDense\u001b[0m)     │ (\u001b[38;5;45mNone\u001b[0m, \u001b[38;5;34m128\u001b[0m)       │     \u001b[38;5;34m22,912\u001b[0m │ concatenate[\u001b[38;5;34m0\u001b[0m][\u001b[38;5;34m0\u001b[0m] │\n",
       "├─────────────────────┼───────────────────┼────────────┼───────────────────┤\n",
       "│ dropout_1 (\u001b[38;5;33mDropout\u001b[0m) │ (\u001b[38;5;45mNone\u001b[0m, \u001b[38;5;34m128\u001b[0m)       │          \u001b[38;5;34m0\u001b[0m │ dense_1[\u001b[38;5;34m0\u001b[0m][\u001b[38;5;34m0\u001b[0m]     │\n",
       "├─────────────────────┼───────────────────┼────────────┼───────────────────┤\n",
       "│ dense_2 (\u001b[38;5;33mDense\u001b[0m)     │ (\u001b[38;5;45mNone\u001b[0m, \u001b[38;5;34m1\u001b[0m)         │        \u001b[38;5;34m129\u001b[0m │ dropout_1[\u001b[38;5;34m0\u001b[0m][\u001b[38;5;34m0\u001b[0m]   │\n",
       "└─────────────────────┴───────────────────┴────────────┴───────────────────┘\n"
      ]
     },
     "metadata": {},
     "output_type": "display_data"
    },
    {
     "data": {
      "text/html": [
       "<pre style=\"white-space:pre;overflow-x:auto;line-height:normal;font-family:Menlo,'DejaVu Sans Mono',consolas,'Courier New',monospace\"><span style=\"font-weight: bold\"> Total params: </span><span style=\"color: #00af00; text-decoration-color: #00af00\">670,809</span> (2.56 MB)\n",
       "</pre>\n"
      ],
      "text/plain": [
       "\u001b[1m Total params: \u001b[0m\u001b[38;5;34m670,809\u001b[0m (2.56 MB)\n"
      ]
     },
     "metadata": {},
     "output_type": "display_data"
    },
    {
     "data": {
      "text/html": [
       "<pre style=\"white-space:pre;overflow-x:auto;line-height:normal;font-family:Menlo,'DejaVu Sans Mono',consolas,'Courier New',monospace\"><span style=\"font-weight: bold\"> Trainable params: </span><span style=\"color: #00af00; text-decoration-color: #00af00\">670,809</span> (2.56 MB)\n",
       "</pre>\n"
      ],
      "text/plain": [
       "\u001b[1m Trainable params: \u001b[0m\u001b[38;5;34m670,809\u001b[0m (2.56 MB)\n"
      ]
     },
     "metadata": {},
     "output_type": "display_data"
    },
    {
     "data": {
      "text/html": [
       "<pre style=\"white-space:pre;overflow-x:auto;line-height:normal;font-family:Menlo,'DejaVu Sans Mono',consolas,'Courier New',monospace\"><span style=\"font-weight: bold\"> Non-trainable params: </span><span style=\"color: #00af00; text-decoration-color: #00af00\">0</span> (0.00 B)\n",
       "</pre>\n"
      ],
      "text/plain": [
       "\u001b[1m Non-trainable params: \u001b[0m\u001b[38;5;34m0\u001b[0m (0.00 B)\n"
      ]
     },
     "metadata": {},
     "output_type": "display_data"
    }
   ],
   "source": [
    "from tensorflow.keras.models import Model\n",
    "from tensorflow.keras.layers import Input, Conv2D, AveragePooling2D, Flatten, Dense, Dropout\n",
    "from tensorflow.keras.layers import LSTM, Concatenate\n",
    "from tensorflow.keras.layers import AveragePooling2D, Flatten, Dropout\n",
    "import tensorflow as tf\n",
    "\n",
    "# Definir la métrica personalizada SMAPE\n",
    "def smape(y_true, y_pred):\n",
    "    epsilon = tf.keras.backend.epsilon()  # Pequeño valor para evitar divisiones por cero\n",
    "    denominator = (tf.abs(y_true) + tf.abs(y_pred)) / 2.0 + epsilon\n",
    "    diff = tf.abs(y_true - y_pred) / denominator\n",
    "    return 100.0 * tf.reduce_mean(diff)  # Se devuelve el error en porcentaje\n",
    "\n",
    "\n",
    "# Definir la entrada para las imágenes (224x224x6)\n",
    "image_input = Input(shape=(224, 224, 6))\n",
    "\n",
    "# Red convolucional para procesar la entrada de imágenes\n",
    "x = Conv2D(filters=16, kernel_size=(3, 3), activation='relu')(image_input)\n",
    "x = AveragePooling2D(pool_size=(2, 2))(x)\n",
    "x = Conv2D(filters=32, kernel_size=(3, 3), activation='relu')(x)\n",
    "x = AveragePooling2D(pool_size=(2, 2))(x)\n",
    "x = Conv2D(filters=32, kernel_size=(3, 3), activation='relu')(x)\n",
    "x = AveragePooling2D(pool_size=(2, 2))(x)\n",
    "x = Conv2D(filters=32, kernel_size=(3, 3), activation='relu')(x)\n",
    "x = AveragePooling2D(pool_size=(2, 2))(x)\n",
    "\n",
    "# Aplanar la salida de la capa convolucional\n",
    "x = Flatten()(x)\n",
    "x = Dense(units=128, activation='relu')(x)\n",
    "x = Dropout(rate=0.5)(x)\n",
    "\n",
    "# Definir la entrada para la LSTM (datos secuenciales)\n",
    "sequence_input = Input(shape=(7, 17))  \n",
    "\n",
    "# Red LSTM para procesar la entrada secuencial\n",
    "y = LSTM(units=50, return_sequences=True)(sequence_input)\n",
    "y = LSTM(units=50)(y)\n",
    "\n",
    "# Combinar las salidas de la CNN y la LSTM\n",
    "combined = Concatenate()([x, y])\n",
    "\n",
    "# Añadir capas densas finales para predecir el valor final\n",
    "z = Dense(units=128, activation='relu')(combined)\n",
    "z = Dropout(rate=0.5)(z)\n",
    "z = Dense(units=1, activation='linear')(z)\n",
    "\n",
    "# Crear el modelo con dos entradas\n",
    "model = Model(inputs=[image_input, sequence_input], outputs=z)\n",
    "\n",
    "# Compilar el modelo\n",
    "model.compile(optimizer='adam', loss='mean_absolute_error',metrics=['mean_squared_error','mean_absolute_percentage_error',smape])\n",
    "\n",
    "# Mostrar la arquitectura del modelo\n",
    "model.summary()\n"
   ]
  },
  {
   "cell_type": "code",
   "execution_count": 8,
   "metadata": {},
   "outputs": [],
   "source": [
    "import tensorflow as tf\n",
    "\n",
    "# Generador para combinar imágenes y secuencias\n",
    "def data_generator(image_files, sequences, labels): \n",
    "    for i in range(len(image_files)):\n",
    "        if image_files[i] != '':  # Si la imagen existe\n",
    "            image = preprocess_imagery(image_files[i])  # Cargar y preprocesar la imagen\n",
    "            image = tf.convert_to_tensor(image, dtype=tf.float32)\n",
    "        else:\n",
    "            image = tf.zeros((224, 224, 6), dtype=tf.float32)  # Si no hay imagen, usar un tensor de ceros\n",
    "            \n",
    "        sequence = tf.convert_to_tensor(sequences[i], dtype=tf.float32)  # Secuencia de datos tabulares\n",
    "        label = tf.convert_to_tensor(labels[i], dtype=tf.float32)  # Etiqueta (mp10)+\n",
    "        label=tf.squeeze(label)\n",
    "        \n",
    "        yield (image, sequence), label  # Dos entradas: imagen y secuencia\n",
    "\n",
    "# Crear el dataset\n",
    "def create_combined_dataset(image_files, sequences, labels, batch_size):\n",
    "    dataset = tf.data.Dataset.from_generator(\n",
    "        data_generator,\n",
    "        args=[image_files, sequences, labels],\n",
    "        output_signature=(\n",
    "            (tf.TensorSpec(shape=(224, 224, 6), dtype=tf.float32),  # Especificar el tamaño de las imágenes\n",
    "             tf.TensorSpec(shape=(7, sequences.shape[2]), dtype=tf.float32)),  # Secuencias de 7 días\n",
    "            tf.TensorSpec(shape=(), dtype=tf.float32)  # La etiqueta (mp10)\n",
    "        )\n",
    "    )\n",
    "    dataset = dataset.batch(batch_size)\n",
    "    dataset = dataset.prefetch(buffer_size=tf.data.AUTOTUNE)\n",
    "    return dataset\n",
    "\n",
    "# Ejemplo de uso para crear datasets de entrenamiento, validación y prueba\n",
    "batch_size = 32\n",
    "\n",
    "# Crear datasets\n",
    "train_dataset = create_combined_dataset(images_train, X_train, y_train, batch_size)\n",
    "val_dataset = create_combined_dataset(images_val, X_val, y_val, batch_size)\n",
    "test_dataset = create_combined_dataset(images_test, X_test, y_test, batch_size)\n"
   ]
  },
  {
   "cell_type": "code",
   "execution_count": 9,
   "metadata": {},
   "outputs": [],
   "source": [
    "from tensorflow.keras.callbacks import EarlyStopping\n",
    "\n",
    "# Configurar Early Stopping\n",
    "early_stopping = EarlyStopping(\n",
    "    monitor='val_loss',  # Métrica a monitorear\n",
    "    patience=10,         # Número de épocas de paciencia\n",
    "    restore_best_weights=True  # Restaurar los mejores pesos al final del entrenamiento\n",
    ")\n",
    "checkpoint_path = \"training_2/ckpt.weights.h5\"\n",
    "checkpoint_dir = os.path.dirname(checkpoint_path)\n",
    "\n",
    "# Create a callback that saves the model's weights\n",
    "cp_callback = tf.keras.callbacks.ModelCheckpoint(filepath=checkpoint_path,\n",
    "                                                 save_weights_only=True,\n",
    "                                                 verbose=1)"
   ]
  },
  {
   "cell_type": "code",
   "execution_count": 10,
   "metadata": {},
   "outputs": [
    {
     "name": "stdout",
     "output_type": "stream",
     "text": [
      "Epoch 1/50\n"
     ]
    },
    {
     "name": "stderr",
     "output_type": "stream",
     "text": [
      "C:\\Users\\benja\\AppData\\Local\\Temp\\ipykernel_21048\\3065549325.py:10: DeprecationWarning: Starting with ImageIO v3 the behavior of this function will switch to that of iio.v3.imread. To keep the current behavior (and make this warning disappear) use `import imageio.v2 as imageio` or call `imageio.v2.imread` directly.\n",
      "  image = (imageio.imread(path))\n"
     ]
    },
    {
     "name": "stdout",
     "output_type": "stream",
     "text": [
      "\u001b[1m2253/2253\u001b[0m \u001b[32m━━━━━━━━━━━━━━━━━━━━\u001b[0m\u001b[37m\u001b[0m \u001b[1m0s\u001b[0m 274ms/step - loss: 0.1878 - mean_absolute_percentage_error: 17786.3809 - mean_squared_error: 6.1066 - smape: 47.6448\n",
      "Epoch 1: saving model to training_2/ckpt.weights.h5\n",
      "\u001b[1m2253/2253\u001b[0m \u001b[32m━━━━━━━━━━━━━━━━━━━━\u001b[0m\u001b[37m\u001b[0m \u001b[1m685s\u001b[0m 303ms/step - loss: 0.1877 - mean_absolute_percentage_error: 17786.8047 - mean_squared_error: 6.1043 - smape: 47.6432 - val_loss: 0.0182 - val_mean_absolute_percentage_error: 24842.9805 - val_mean_squared_error: 7.5098e-04 - val_smape: 42.3049\n",
      "Epoch 2/50\n",
      "\u001b[1m   1/2253\u001b[0m \u001b[37m━━━━━━━━━━━━━━━━━━━━\u001b[0m \u001b[1m2:19\u001b[0m 62ms/step - loss: 0.0123 - mean_absolute_percentage_error: 18.4051 - mean_squared_error: 1.9358e-04 - smape: 32.5883\n",
      "Epoch 2: saving model to training_2/ckpt.weights.h5\n",
      "\u001b[1m2253/2253\u001b[0m \u001b[32m━━━━━━━━━━━━━━━━━━━━\u001b[0m\u001b[37m\u001b[0m \u001b[1m0s\u001b[0m 53us/step - loss: 0.0123 - mean_absolute_percentage_error: 18.4051 - mean_squared_error: 1.9358e-04 - smape: 16.3014 - val_loss: 0.0161 - val_mean_absolute_percentage_error: 19.2097 - val_mean_squared_error: 5.4818e-04 - val_smape: 17.7341\n",
      "Epoch 3/50\n"
     ]
    },
    {
     "name": "stderr",
     "output_type": "stream",
     "text": [
      "c:\\Users\\benja\\anaconda3\\envs\\ee\\Lib\\contextlib.py:158: UserWarning: Your input ran out of data; interrupting training. Make sure that your dataset or generator can generate at least `steps_per_epoch * epochs` batches. You may need to use the `.repeat()` function when building your dataset.\n",
      "  self.gen.throw(value)\n"
     ]
    },
    {
     "name": "stdout",
     "output_type": "stream",
     "text": [
      "\u001b[1m2253/2253\u001b[0m \u001b[32m━━━━━━━━━━━━━━━━━━━━\u001b[0m\u001b[37m\u001b[0m \u001b[1m0s\u001b[0m 280ms/step - loss: 0.0186 - mean_absolute_percentage_error: 17726.8203 - mean_squared_error: 7.9106e-04 - smape: 43.5688\n",
      "Epoch 3: saving model to training_2/ckpt.weights.h5\n",
      "\u001b[1m2253/2253\u001b[0m \u001b[32m━━━━━━━━━━━━━━━━━━━━\u001b[0m\u001b[37m\u001b[0m \u001b[1m695s\u001b[0m 309ms/step - loss: 0.0186 - mean_absolute_percentage_error: 17727.3164 - mean_squared_error: 7.9107e-04 - smape: 43.5688 - val_loss: 0.0176 - val_mean_absolute_percentage_error: 24629.8301 - val_mean_squared_error: 7.0024e-04 - val_smape: 44.3186\n",
      "Epoch 4/50\n",
      "\u001b[1m   1/2253\u001b[0m \u001b[37m━━━━━━━━━━━━━━━━━━━━\u001b[0m \u001b[1m2:09\u001b[0m 58ms/step - loss: 0.0113 - mean_absolute_percentage_error: 17.2241 - mean_squared_error: 1.7341e-04 - smape: 34.6346\n",
      "Epoch 4: saving model to training_2/ckpt.weights.h5\n",
      "\u001b[1m2253/2253\u001b[0m \u001b[32m━━━━━━━━━━━━━━━━━━━━\u001b[0m\u001b[37m\u001b[0m \u001b[1m0s\u001b[0m 54us/step - loss: 0.0113 - mean_absolute_percentage_error: 17.2241 - mean_squared_error: 1.7341e-04 - smape: 17.3250 - val_loss: 0.0161 - val_mean_absolute_percentage_error: 19.1212 - val_mean_squared_error: 5.1057e-04 - val_smape: 17.5887\n",
      "Epoch 5/50\n",
      "\u001b[1m2253/2253\u001b[0m \u001b[32m━━━━━━━━━━━━━━━━━━━━\u001b[0m\u001b[37m\u001b[0m \u001b[1m0s\u001b[0m 264ms/step - loss: 0.0182 - mean_absolute_percentage_error: 17964.5742 - mean_squared_error: 7.5800e-04 - smape: 43.9496\n",
      "Epoch 5: saving model to training_2/ckpt.weights.h5\n",
      "\u001b[1m2253/2253\u001b[0m \u001b[32m━━━━━━━━━━━━━━━━━━━━\u001b[0m\u001b[37m\u001b[0m \u001b[1m658s\u001b[0m 292ms/step - loss: 0.0182 - mean_absolute_percentage_error: 17965.0391 - mean_squared_error: 7.5801e-04 - smape: 43.9496 - val_loss: 0.0175 - val_mean_absolute_percentage_error: 24439.7871 - val_mean_squared_error: 7.0283e-04 - val_smape: 44.9770\n",
      "Epoch 6/50\n",
      "\u001b[1m   1/2253\u001b[0m \u001b[37m━━━━━━━━━━━━━━━━━━━━\u001b[0m \u001b[1m1:54\u001b[0m 51ms/step - loss: 0.0109 - mean_absolute_percentage_error: 15.9673 - mean_squared_error: 2.0381e-04 - smape: 30.2820\n",
      "Epoch 6: saving model to training_2/ckpt.weights.h5\n",
      "\u001b[1m2253/2253\u001b[0m \u001b[32m━━━━━━━━━━━━━━━━━━━━\u001b[0m\u001b[37m\u001b[0m \u001b[1m0s\u001b[0m 54us/step - loss: 0.0109 - mean_absolute_percentage_error: 15.9673 - mean_squared_error: 2.0381e-04 - smape: 15.1477 - val_loss: 0.0157 - val_mean_absolute_percentage_error: 18.3888 - val_mean_squared_error: 4.9615e-04 - val_smape: 17.9464\n",
      "Epoch 7/50\n",
      "\u001b[1m2253/2253\u001b[0m \u001b[32m━━━━━━━━━━━━━━━━━━━━\u001b[0m\u001b[37m\u001b[0m \u001b[1m0s\u001b[0m 264ms/step - loss: 0.0178 - mean_absolute_percentage_error: 17823.2988 - mean_squared_error: 7.3409e-04 - smape: 44.3280\n",
      "Epoch 7: saving model to training_2/ckpt.weights.h5\n",
      "\u001b[1m2253/2253\u001b[0m \u001b[32m━━━━━━━━━━━━━━━━━━━━\u001b[0m\u001b[37m\u001b[0m \u001b[1m659s\u001b[0m 293ms/step - loss: 0.0178 - mean_absolute_percentage_error: 17823.7168 - mean_squared_error: 7.3409e-04 - smape: 44.3280 - val_loss: 0.0170 - val_mean_absolute_percentage_error: 23945.5410 - val_mean_squared_error: 6.7961e-04 - val_smape: 45.2311\n",
      "Epoch 8/50\n",
      "\u001b[1m   1/2253\u001b[0m \u001b[37m━━━━━━━━━━━━━━━━━━━━\u001b[0m \u001b[1m2:09\u001b[0m 58ms/step - loss: 0.0108 - mean_absolute_percentage_error: 15.2003 - mean_squared_error: 1.8486e-04 - smape: 31.6949\n",
      "Epoch 8: saving model to training_2/ckpt.weights.h5\n",
      "\u001b[1m2253/2253\u001b[0m \u001b[32m━━━━━━━━━━━━━━━━━━━━\u001b[0m\u001b[37m\u001b[0m \u001b[1m0s\u001b[0m 51us/step - loss: 0.0108 - mean_absolute_percentage_error: 15.2003 - mean_squared_error: 1.8486e-04 - smape: 15.8545 - val_loss: 0.0173 - val_mean_absolute_percentage_error: 20.5026 - val_mean_squared_error: 5.2430e-04 - val_smape: 17.6073\n",
      "Epoch 9/50\n",
      "\u001b[1m2253/2253\u001b[0m \u001b[32m━━━━━━━━━━━━━━━━━━━━\u001b[0m\u001b[37m\u001b[0m \u001b[1m0s\u001b[0m 264ms/step - loss: 0.0173 - mean_absolute_percentage_error: 17043.9453 - mean_squared_error: 6.9923e-04 - smape: 44.5469\n",
      "Epoch 9: saving model to training_2/ckpt.weights.h5\n",
      "\u001b[1m2253/2253\u001b[0m \u001b[32m━━━━━━━━━━━━━━━━━━━━\u001b[0m\u001b[37m\u001b[0m \u001b[1m658s\u001b[0m 292ms/step - loss: 0.0173 - mean_absolute_percentage_error: 17044.4980 - mean_squared_error: 6.9923e-04 - smape: 44.5469 - val_loss: 0.0163 - val_mean_absolute_percentage_error: 25028.3848 - val_mean_squared_error: 6.0215e-04 - val_smape: 43.2641\n",
      "Epoch 10/50\n",
      "\u001b[1m   1/2253\u001b[0m \u001b[37m━━━━━━━━━━━━━━━━━━━━\u001b[0m \u001b[1m2:12\u001b[0m 59ms/step - loss: 0.0097 - mean_absolute_percentage_error: 14.7076 - mean_squared_error: 1.7808e-04 - smape: 31.8238\n",
      "Epoch 10: saving model to training_2/ckpt.weights.h5\n",
      "\u001b[1m2253/2253\u001b[0m \u001b[32m━━━━━━━━━━━━━━━━━━━━\u001b[0m\u001b[37m\u001b[0m \u001b[1m0s\u001b[0m 54us/step - loss: 0.0097 - mean_absolute_percentage_error: 14.7076 - mean_squared_error: 1.7808e-04 - smape: 15.9190 - val_loss: 0.0157 - val_mean_absolute_percentage_error: 19.6684 - val_mean_squared_error: 4.3610e-04 - val_smape: 17.0975\n",
      "Epoch 11/50\n",
      "\u001b[1m2253/2253\u001b[0m \u001b[32m━━━━━━━━━━━━━━━━━━━━\u001b[0m\u001b[37m\u001b[0m \u001b[1m0s\u001b[0m 264ms/step - loss: 0.0169 - mean_absolute_percentage_error: 17170.1562 - mean_squared_error: 6.7955e-04 - smape: 44.7892\n",
      "Epoch 11: saving model to training_2/ckpt.weights.h5\n",
      "\u001b[1m2253/2253\u001b[0m \u001b[32m━━━━━━━━━━━━━━━━━━━━\u001b[0m\u001b[37m\u001b[0m \u001b[1m659s\u001b[0m 293ms/step - loss: 0.0169 - mean_absolute_percentage_error: 17170.6660 - mean_squared_error: 6.7956e-04 - smape: 44.7892 - val_loss: 0.0164 - val_mean_absolute_percentage_error: 23900.9941 - val_mean_squared_error: 6.2540e-04 - val_smape: 43.0210\n",
      "Epoch 12/50\n",
      "\u001b[1m   1/2253\u001b[0m \u001b[37m━━━━━━━━━━━━━━━━━━━━\u001b[0m \u001b[1m1:54\u001b[0m 51ms/step - loss: 0.0086 - mean_absolute_percentage_error: 13.0003 - mean_squared_error: 1.2092e-04 - smape: 30.1682\n",
      "Epoch 12: saving model to training_2/ckpt.weights.h5\n",
      "\u001b[1m2253/2253\u001b[0m \u001b[32m━━━━━━━━━━━━━━━━━━━━\u001b[0m\u001b[37m\u001b[0m \u001b[1m0s\u001b[0m 54us/step - loss: 0.0086 - mean_absolute_percentage_error: 13.0003 - mean_squared_error: 1.2092e-04 - smape: 15.0908 - val_loss: 0.0167 - val_mean_absolute_percentage_error: 19.9519 - val_mean_squared_error: 5.1366e-04 - val_smape: 17.2782\n",
      "Epoch 13/50\n",
      "\u001b[1m2253/2253\u001b[0m \u001b[32m━━━━━━━━━━━━━━━━━━━━\u001b[0m\u001b[37m\u001b[0m \u001b[1m0s\u001b[0m 270ms/step - loss: 0.0167 - mean_absolute_percentage_error: 17044.8184 - mean_squared_error: 6.6949e-04 - smape: 44.9416\n",
      "Epoch 13: saving model to training_2/ckpt.weights.h5\n",
      "\u001b[1m2253/2253\u001b[0m \u001b[32m━━━━━━━━━━━━━━━━━━━━\u001b[0m\u001b[37m\u001b[0m \u001b[1m672s\u001b[0m 298ms/step - loss: 0.0167 - mean_absolute_percentage_error: 17045.2773 - mean_squared_error: 6.6950e-04 - smape: 44.9416 - val_loss: 0.0157 - val_mean_absolute_percentage_error: 23901.2246 - val_mean_squared_error: 5.7305e-04 - val_smape: 45.2605\n",
      "Epoch 14/50\n",
      "\u001b[1m   1/2253\u001b[0m \u001b[37m━━━━━━━━━━━━━━━━━━━━\u001b[0m \u001b[1m2:14\u001b[0m 60ms/step - loss: 0.0094 - mean_absolute_percentage_error: 13.0021 - mean_squared_error: 1.1579e-04 - smape: 28.4922\n",
      "Epoch 14: saving model to training_2/ckpt.weights.h5\n",
      "\u001b[1m2253/2253\u001b[0m \u001b[32m━━━━━━━━━━━━━━━━━━━━\u001b[0m\u001b[37m\u001b[0m \u001b[1m0s\u001b[0m 53us/step - loss: 0.0094 - mean_absolute_percentage_error: 13.0021 - mean_squared_error: 1.1579e-04 - smape: 14.2524 - val_loss: 0.0159 - val_mean_absolute_percentage_error: 19.4348 - val_mean_squared_error: 4.3891e-04 - val_smape: 18.4570\n",
      "Epoch 15/50\n",
      "\u001b[1m2253/2253\u001b[0m \u001b[32m━━━━━━━━━━━━━━━━━━━━\u001b[0m\u001b[37m\u001b[0m \u001b[1m0s\u001b[0m 267ms/step - loss: 0.0165 - mean_absolute_percentage_error: 16293.2178 - mean_squared_error: 6.5514e-04 - smape: 45.1172\n",
      "Epoch 15: saving model to training_2/ckpt.weights.h5\n",
      "\u001b[1m2253/2253\u001b[0m \u001b[32m━━━━━━━━━━━━━━━━━━━━\u001b[0m\u001b[37m\u001b[0m \u001b[1m664s\u001b[0m 295ms/step - loss: 0.0165 - mean_absolute_percentage_error: 16293.7852 - mean_squared_error: 6.5514e-04 - smape: 45.1172 - val_loss: 0.0158 - val_mean_absolute_percentage_error: 23979.0605 - val_mean_squared_error: 5.6456e-04 - val_smape: 45.9778\n",
      "Epoch 16/50\n",
      "\u001b[1m   1/2253\u001b[0m \u001b[37m━━━━━━━━━━━━━━━━━━━━\u001b[0m \u001b[1m2:15\u001b[0m 60ms/step - loss: 0.0094 - mean_absolute_percentage_error: 13.0459 - mean_squared_error: 1.3316e-04 - smape: 30.9820\n",
      "Epoch 16: saving model to training_2/ckpt.weights.h5\n",
      "\u001b[1m2253/2253\u001b[0m \u001b[32m━━━━━━━━━━━━━━━━━━━━\u001b[0m\u001b[37m\u001b[0m \u001b[1m0s\u001b[0m 54us/step - loss: 0.0094 - mean_absolute_percentage_error: 13.0459 - mean_squared_error: 1.3316e-04 - smape: 15.4979 - val_loss: 0.0150 - val_mean_absolute_percentage_error: 19.6268 - val_mean_squared_error: 3.8215e-04 - val_smape: 18.0620\n",
      "Epoch 17/50\n",
      "\u001b[1m2253/2253\u001b[0m \u001b[32m━━━━━━━━━━━━━━━━━━━━\u001b[0m\u001b[37m\u001b[0m \u001b[1m0s\u001b[0m 265ms/step - loss: 0.0162 - mean_absolute_percentage_error: 16150.6436 - mean_squared_error: 6.3779e-04 - smape: 45.2046\n",
      "Epoch 17: saving model to training_2/ckpt.weights.h5\n",
      "\u001b[1m2253/2253\u001b[0m \u001b[32m━━━━━━━━━━━━━━━━━━━━\u001b[0m\u001b[37m\u001b[0m \u001b[1m661s\u001b[0m 293ms/step - loss: 0.0162 - mean_absolute_percentage_error: 16151.0566 - mean_squared_error: 6.3780e-04 - smape: 45.2046 - val_loss: 0.0155 - val_mean_absolute_percentage_error: 23087.5625 - val_mean_squared_error: 5.6361e-04 - val_smape: 44.8913\n",
      "Epoch 18/50\n",
      "\u001b[1m   1/2253\u001b[0m \u001b[37m━━━━━━━━━━━━━━━━━━━━\u001b[0m \u001b[1m2:06\u001b[0m 56ms/step - loss: 0.0074 - mean_absolute_percentage_error: 13.1551 - mean_squared_error: 9.7899e-05 - smape: 28.5481\n",
      "Epoch 18: saving model to training_2/ckpt.weights.h5\n",
      "\u001b[1m2253/2253\u001b[0m \u001b[32m━━━━━━━━━━━━━━━━━━━━\u001b[0m\u001b[37m\u001b[0m \u001b[1m0s\u001b[0m 52us/step - loss: 0.0074 - mean_absolute_percentage_error: 13.1551 - mean_squared_error: 9.7899e-05 - smape: 14.2804 - val_loss: 0.0154 - val_mean_absolute_percentage_error: 19.2040 - val_mean_squared_error: 4.3192e-04 - val_smape: 18.0106\n",
      "Epoch 19/50\n",
      "\u001b[1m2253/2253\u001b[0m \u001b[32m━━━━━━━━━━━━━━━━━━━━\u001b[0m\u001b[37m\u001b[0m \u001b[1m0s\u001b[0m 265ms/step - loss: 0.0159 - mean_absolute_percentage_error: 15977.8740 - mean_squared_error: 6.2122e-04 - smape: 45.3879\n",
      "Epoch 19: saving model to training_2/ckpt.weights.h5\n",
      "\u001b[1m2253/2253\u001b[0m \u001b[32m━━━━━━━━━━━━━━━━━━━━\u001b[0m\u001b[37m\u001b[0m \u001b[1m660s\u001b[0m 293ms/step - loss: 0.0159 - mean_absolute_percentage_error: 15978.1914 - mean_squared_error: 6.2122e-04 - smape: 45.3879 - val_loss: 0.0150 - val_mean_absolute_percentage_error: 23168.0840 - val_mean_squared_error: 5.3276e-04 - val_smape: 45.0467\n",
      "Epoch 20/50\n",
      "\u001b[1m   1/2253\u001b[0m \u001b[37m━━━━━━━━━━━━━━━━━━━━\u001b[0m \u001b[1m1:53\u001b[0m 51ms/step - loss: 0.0089 - mean_absolute_percentage_error: 15.5288 - mean_squared_error: 1.1557e-04 - smape: 26.5291\n",
      "Epoch 20: saving model to training_2/ckpt.weights.h5\n",
      "\u001b[1m2253/2253\u001b[0m \u001b[32m━━━━━━━━━━━━━━━━━━━━\u001b[0m\u001b[37m\u001b[0m \u001b[1m0s\u001b[0m 55us/step - loss: 0.0089 - mean_absolute_percentage_error: 15.5288 - mean_squared_error: 1.1557e-04 - smape: 13.2704 - val_loss: 0.0144 - val_mean_absolute_percentage_error: 17.8765 - val_mean_squared_error: 3.9117e-04 - val_smape: 17.8939\n",
      "Epoch 21/50\n",
      "\u001b[1m2253/2253\u001b[0m \u001b[32m━━━━━━━━━━━━━━━━━━━━\u001b[0m\u001b[37m\u001b[0m \u001b[1m0s\u001b[0m 265ms/step - loss: 0.0158 - mean_absolute_percentage_error: 16177.3848 - mean_squared_error: 6.1540e-04 - smape: 45.5556\n",
      "Epoch 21: saving model to training_2/ckpt.weights.h5\n",
      "\u001b[1m2253/2253\u001b[0m \u001b[32m━━━━━━━━━━━━━━━━━━━━\u001b[0m\u001b[37m\u001b[0m \u001b[1m660s\u001b[0m 293ms/step - loss: 0.0158 - mean_absolute_percentage_error: 16177.8096 - mean_squared_error: 6.1540e-04 - smape: 45.5556 - val_loss: 0.0146 - val_mean_absolute_percentage_error: 22129.5371 - val_mean_squared_error: 5.0707e-04 - val_smape: 46.5644\n",
      "Epoch 22/50\n",
      "\u001b[1m   1/2253\u001b[0m \u001b[37m━━━━━━━━━━━━━━━━━━━━\u001b[0m \u001b[1m2:10\u001b[0m 58ms/step - loss: 0.0086 - mean_absolute_percentage_error: 12.5631 - mean_squared_error: 1.0232e-04 - smape: 32.6102\n",
      "Epoch 22: saving model to training_2/ckpt.weights.h5\n",
      "\u001b[1m2253/2253\u001b[0m \u001b[32m━━━━━━━━━━━━━━━━━━━━\u001b[0m\u001b[37m\u001b[0m \u001b[1m0s\u001b[0m 54us/step - loss: 0.0086 - mean_absolute_percentage_error: 12.5631 - mean_squared_error: 1.0232e-04 - smape: 16.3123 - val_loss: 0.0142 - val_mean_absolute_percentage_error: 17.3497 - val_mean_squared_error: 3.6703e-04 - val_smape: 19.2172\n",
      "Epoch 23/50\n",
      "\u001b[1m2253/2253\u001b[0m \u001b[32m━━━━━━━━━━━━━━━━━━━━\u001b[0m\u001b[37m\u001b[0m \u001b[1m0s\u001b[0m 265ms/step - loss: 0.0156 - mean_absolute_percentage_error: 15333.7451 - mean_squared_error: 6.0296e-04 - smape: 45.6506\n",
      "Epoch 23: saving model to training_2/ckpt.weights.h5\n",
      "\u001b[1m2253/2253\u001b[0m \u001b[32m━━━━━━━━━━━━━━━━━━━━\u001b[0m\u001b[37m\u001b[0m \u001b[1m661s\u001b[0m 293ms/step - loss: 0.0156 - mean_absolute_percentage_error: 15334.1855 - mean_squared_error: 6.0297e-04 - smape: 45.6506 - val_loss: 0.0144 - val_mean_absolute_percentage_error: 22266.1523 - val_mean_squared_error: 4.9148e-04 - val_smape: 46.3351\n",
      "Epoch 24/50\n",
      "\u001b[1m   1/2253\u001b[0m \u001b[37m━━━━━━━━━━━━━━━━━━━━\u001b[0m \u001b[1m2:07\u001b[0m 57ms/step - loss: 0.0070 - mean_absolute_percentage_error: 9.7621 - mean_squared_error: 7.2227e-05 - smape: 30.0905\n",
      "Epoch 24: saving model to training_2/ckpt.weights.h5\n",
      "\u001b[1m2253/2253\u001b[0m \u001b[32m━━━━━━━━━━━━━━━━━━━━\u001b[0m\u001b[37m\u001b[0m \u001b[1m0s\u001b[0m 54us/step - loss: 0.0070 - mean_absolute_percentage_error: 9.7621 - mean_squared_error: 7.2227e-05 - smape: 15.0519 - val_loss: 0.0133 - val_mean_absolute_percentage_error: 16.4476 - val_mean_squared_error: 3.2374e-04 - val_smape: 18.8277\n",
      "Epoch 25/50\n",
      "\u001b[1m2253/2253\u001b[0m \u001b[32m━━━━━━━━━━━━━━━━━━━━\u001b[0m\u001b[37m\u001b[0m \u001b[1m0s\u001b[0m 266ms/step - loss: 0.0155 - mean_absolute_percentage_error: 15244.5215 - mean_squared_error: 5.9733e-04 - smape: 45.7312\n",
      "Epoch 25: saving model to training_2/ckpt.weights.h5\n",
      "\u001b[1m2253/2253\u001b[0m \u001b[32m━━━━━━━━━━━━━━━━━━━━\u001b[0m\u001b[37m\u001b[0m \u001b[1m664s\u001b[0m 295ms/step - loss: 0.0155 - mean_absolute_percentage_error: 15245.0664 - mean_squared_error: 5.9734e-04 - smape: 45.7313 - val_loss: 0.0150 - val_mean_absolute_percentage_error: 21741.3496 - val_mean_squared_error: 5.3788e-04 - val_smape: 46.6727\n",
      "Epoch 26/50\n",
      "\u001b[1m   1/2253\u001b[0m \u001b[37m━━━━━━━━━━━━━━━━━━━━\u001b[0m \u001b[1m2:14\u001b[0m 60ms/step - loss: 0.0085 - mean_absolute_percentage_error: 14.1433 - mean_squared_error: 9.6645e-05 - smape: 26.8558\n",
      "Epoch 26: saving model to training_2/ckpt.weights.h5\n",
      "\u001b[1m2253/2253\u001b[0m \u001b[32m━━━━━━━━━━━━━━━━━━━━\u001b[0m\u001b[37m\u001b[0m \u001b[1m0s\u001b[0m 52us/step - loss: 0.0085 - mean_absolute_percentage_error: 14.1433 - mean_squared_error: 9.6645e-05 - smape: 13.4338 - val_loss: 0.0144 - val_mean_absolute_percentage_error: 17.3928 - val_mean_squared_error: 4.0242e-04 - val_smape: 19.6758\n",
      "Epoch 27/50\n",
      "\u001b[1m2253/2253\u001b[0m \u001b[32m━━━━━━━━━━━━━━━━━━━━\u001b[0m\u001b[37m\u001b[0m \u001b[1m0s\u001b[0m 265ms/step - loss: 0.0154 - mean_absolute_percentage_error: 15842.6855 - mean_squared_error: 5.9052e-04 - smape: 45.6966\n",
      "Epoch 27: saving model to training_2/ckpt.weights.h5\n",
      "\u001b[1m2253/2253\u001b[0m \u001b[32m━━━━━━━━━━━━━━━━━━━━\u001b[0m\u001b[37m\u001b[0m \u001b[1m660s\u001b[0m 293ms/step - loss: 0.0154 - mean_absolute_percentage_error: 15842.9385 - mean_squared_error: 5.9052e-04 - smape: 45.6966 - val_loss: 0.0144 - val_mean_absolute_percentage_error: 22185.6055 - val_mean_squared_error: 5.0210e-04 - val_smape: 45.3257\n",
      "Epoch 28/50\n",
      "\u001b[1m   1/2253\u001b[0m \u001b[37m━━━━━━━━━━━━━━━━━━━━\u001b[0m \u001b[1m1:47\u001b[0m 48ms/step - loss: 0.0091 - mean_absolute_percentage_error: 13.9948 - mean_squared_error: 9.7041e-05 - smape: 30.0838\n",
      "Epoch 28: saving model to training_2/ckpt.weights.h5\n",
      "\u001b[1m2253/2253\u001b[0m \u001b[32m━━━━━━━━━━━━━━━━━━━━\u001b[0m\u001b[37m\u001b[0m \u001b[1m0s\u001b[0m 56us/step - loss: 0.0091 - mean_absolute_percentage_error: 13.9948 - mean_squared_error: 9.7041e-05 - smape: 15.0486 - val_loss: 0.0144 - val_mean_absolute_percentage_error: 17.6470 - val_mean_squared_error: 3.6644e-04 - val_smape: 18.8668\n",
      "Epoch 29/50\n",
      "\u001b[1m2253/2253\u001b[0m \u001b[32m━━━━━━━━━━━━━━━━━━━━\u001b[0m\u001b[37m\u001b[0m \u001b[1m0s\u001b[0m 271ms/step - loss: 0.0153 - mean_absolute_percentage_error: 15567.3750 - mean_squared_error: 5.8510e-04 - smape: 45.8568\n",
      "Epoch 29: saving model to training_2/ckpt.weights.h5\n",
      "\u001b[1m2253/2253\u001b[0m \u001b[32m━━━━━━━━━━━━━━━━━━━━\u001b[0m\u001b[37m\u001b[0m \u001b[1m675s\u001b[0m 300ms/step - loss: 0.0153 - mean_absolute_percentage_error: 15567.7539 - mean_squared_error: 5.8510e-04 - smape: 45.8568 - val_loss: 0.0144 - val_mean_absolute_percentage_error: 20799.7344 - val_mean_squared_error: 4.9539e-04 - val_smape: 47.8629\n",
      "Epoch 30/50\n",
      "\u001b[1m   1/2253\u001b[0m \u001b[37m━━━━━━━━━━━━━━━━━━━━\u001b[0m \u001b[1m2:27\u001b[0m 65ms/step - loss: 0.0091 - mean_absolute_percentage_error: 14.1968 - mean_squared_error: 1.1300e-04 - smape: 30.8393\n",
      "Epoch 30: saving model to training_2/ckpt.weights.h5\n",
      "\u001b[1m2253/2253\u001b[0m \u001b[32m━━━━━━━━━━━━━━━━━━━━\u001b[0m\u001b[37m\u001b[0m \u001b[1m0s\u001b[0m 53us/step - loss: 0.0091 - mean_absolute_percentage_error: 14.1968 - mean_squared_error: 1.1300e-04 - smape: 15.4265 - val_loss: 0.0144 - val_mean_absolute_percentage_error: 17.3701 - val_mean_squared_error: 3.7075e-04 - val_smape: 19.7175\n",
      "Epoch 31/50\n",
      "\u001b[1m2253/2253\u001b[0m \u001b[32m━━━━━━━━━━━━━━━━━━━━\u001b[0m\u001b[37m\u001b[0m \u001b[1m0s\u001b[0m 267ms/step - loss: 0.0151 - mean_absolute_percentage_error: 15532.3242 - mean_squared_error: 5.7816e-04 - smape: 45.9050\n",
      "Epoch 31: saving model to training_2/ckpt.weights.h5\n",
      "\u001b[1m2253/2253\u001b[0m \u001b[32m━━━━━━━━━━━━━━━━━━━━\u001b[0m\u001b[37m\u001b[0m \u001b[1m666s\u001b[0m 295ms/step - loss: 0.0151 - mean_absolute_percentage_error: 15532.7002 - mean_squared_error: 5.7816e-04 - smape: 45.9051 - val_loss: 0.0142 - val_mean_absolute_percentage_error: 22785.6348 - val_mean_squared_error: 4.7500e-04 - val_smape: 46.3738\n",
      "Epoch 32/50\n",
      "\u001b[1m   1/2253\u001b[0m \u001b[37m━━━━━━━━━━━━━━━━━━━━\u001b[0m \u001b[1m2:26\u001b[0m 65ms/step - loss: 0.0078 - mean_absolute_percentage_error: 11.9364 - mean_squared_error: 7.6683e-05 - smape: 29.0483\n",
      "Epoch 32: saving model to training_2/ckpt.weights.h5\n",
      "\u001b[1m2253/2253\u001b[0m \u001b[32m━━━━━━━━━━━━━━━━━━━━\u001b[0m\u001b[37m\u001b[0m \u001b[1m0s\u001b[0m 54us/step - loss: 0.0078 - mean_absolute_percentage_error: 11.9364 - mean_squared_error: 7.6683e-05 - smape: 14.5306 - val_loss: 0.0129 - val_mean_absolute_percentage_error: 16.4038 - val_mean_squared_error: 3.1171e-04 - val_smape: 19.3216\n",
      "Epoch 33/50\n",
      "\u001b[1m2253/2253\u001b[0m \u001b[32m━━━━━━━━━━━━━━━━━━━━\u001b[0m\u001b[37m\u001b[0m \u001b[1m0s\u001b[0m 279ms/step - loss: 0.0150 - mean_absolute_percentage_error: 15270.1582 - mean_squared_error: 5.6935e-04 - smape: 46.0063\n",
      "Epoch 33: saving model to training_2/ckpt.weights.h5\n",
      "\u001b[1m2253/2253\u001b[0m \u001b[32m━━━━━━━━━━━━━━━━━━━━\u001b[0m\u001b[37m\u001b[0m \u001b[1m694s\u001b[0m 308ms/step - loss: 0.0150 - mean_absolute_percentage_error: 15270.5137 - mean_squared_error: 5.6935e-04 - smape: 46.0063 - val_loss: 0.0143 - val_mean_absolute_percentage_error: 21886.8516 - val_mean_squared_error: 4.9109e-04 - val_smape: 47.2645\n",
      "Epoch 34/50\n",
      "\u001b[1m   1/2253\u001b[0m \u001b[37m━━━━━━━━━━━━━━━━━━━━\u001b[0m \u001b[1m1:59\u001b[0m 53ms/step - loss: 0.0090 - mean_absolute_percentage_error: 14.1370 - mean_squared_error: 1.2013e-04 - smape: 35.0726\n",
      "Epoch 34: saving model to training_2/ckpt.weights.h5\n",
      "\u001b[1m2253/2253\u001b[0m \u001b[32m━━━━━━━━━━━━━━━━━━━━\u001b[0m\u001b[37m\u001b[0m \u001b[1m0s\u001b[0m 57us/step - loss: 0.0090 - mean_absolute_percentage_error: 14.1370 - mean_squared_error: 1.2013e-04 - smape: 17.5441 - val_loss: 0.0147 - val_mean_absolute_percentage_error: 18.8142 - val_mean_squared_error: 3.5690e-04 - val_smape: 19.1577\n",
      "Epoch 35/50\n",
      "\u001b[1m2253/2253\u001b[0m \u001b[32m━━━━━━━━━━━━━━━━━━━━\u001b[0m\u001b[37m\u001b[0m \u001b[1m0s\u001b[0m 278ms/step - loss: 0.0150 - mean_absolute_percentage_error: 15273.2354 - mean_squared_error: 5.7040e-04 - smape: 45.9207\n",
      "Epoch 35: saving model to training_2/ckpt.weights.h5\n",
      "\u001b[1m2253/2253\u001b[0m \u001b[32m━━━━━━━━━━━━━━━━━━━━\u001b[0m\u001b[37m\u001b[0m \u001b[1m692s\u001b[0m 307ms/step - loss: 0.0150 - mean_absolute_percentage_error: 15273.8447 - mean_squared_error: 5.7041e-04 - smape: 45.9207 - val_loss: 0.0141 - val_mean_absolute_percentage_error: 22287.9785 - val_mean_squared_error: 4.7577e-04 - val_smape: 45.5021\n",
      "Epoch 36/50\n",
      "\u001b[1m   1/2253\u001b[0m \u001b[37m━━━━━━━━━━━━━━━━━━━━\u001b[0m \u001b[1m1:55\u001b[0m 51ms/step - loss: 0.0066 - mean_absolute_percentage_error: 10.2534 - mean_squared_error: 5.8475e-05 - smape: 30.4075\n",
      "Epoch 36: saving model to training_2/ckpt.weights.h5\n",
      "\u001b[1m2253/2253\u001b[0m \u001b[32m━━━━━━━━━━━━━━━━━━━━\u001b[0m\u001b[37m\u001b[0m \u001b[1m0s\u001b[0m 55us/step - loss: 0.0066 - mean_absolute_percentage_error: 10.2534 - mean_squared_error: 5.8475e-05 - smape: 15.2105 - val_loss: 0.0136 - val_mean_absolute_percentage_error: 17.3455 - val_mean_squared_error: 3.5517e-04 - val_smape: 18.6673\n",
      "Epoch 37/50\n",
      "\u001b[1m2253/2253\u001b[0m \u001b[32m━━━━━━━━━━━━━━━━━━━━\u001b[0m\u001b[37m\u001b[0m \u001b[1m0s\u001b[0m 269ms/step - loss: 0.0149 - mean_absolute_percentage_error: 14876.5518 - mean_squared_error: 5.6250e-04 - smape: 46.0990\n",
      "Epoch 37: saving model to training_2/ckpt.weights.h5\n",
      "\u001b[1m2253/2253\u001b[0m \u001b[32m━━━━━━━━━━━━━━━━━━━━\u001b[0m\u001b[37m\u001b[0m \u001b[1m671s\u001b[0m 298ms/step - loss: 0.0149 - mean_absolute_percentage_error: 14877.1191 - mean_squared_error: 5.6251e-04 - smape: 46.0990 - val_loss: 0.0140 - val_mean_absolute_percentage_error: 21382.0527 - val_mean_squared_error: 4.7325e-04 - val_smape: 46.2255\n",
      "Epoch 38/50\n",
      "\u001b[1m   1/2253\u001b[0m \u001b[37m━━━━━━━━━━━━━━━━━━━━\u001b[0m \u001b[1m1:58\u001b[0m 53ms/step - loss: 0.0077 - mean_absolute_percentage_error: 11.5701 - mean_squared_error: 7.9959e-05 - smape: 28.6683\n",
      "Epoch 38: saving model to training_2/ckpt.weights.h5\n",
      "\u001b[1m2253/2253\u001b[0m \u001b[32m━━━━━━━━━━━━━━━━━━━━\u001b[0m\u001b[37m\u001b[0m \u001b[1m0s\u001b[0m 55us/step - loss: 0.0077 - mean_absolute_percentage_error: 11.5701 - mean_squared_error: 7.9959e-05 - smape: 14.3405 - val_loss: 0.0139 - val_mean_absolute_percentage_error: 17.4482 - val_mean_squared_error: 3.4085e-04 - val_smape: 19.1102\n",
      "Epoch 39/50\n",
      "\u001b[1m2253/2253\u001b[0m \u001b[32m━━━━━━━━━━━━━━━━━━━━\u001b[0m\u001b[37m\u001b[0m \u001b[1m0s\u001b[0m 268ms/step - loss: 0.0148 - mean_absolute_percentage_error: 15474.4697 - mean_squared_error: 5.6084e-04 - smape: 46.1247\n",
      "Epoch 39: saving model to training_2/ckpt.weights.h5\n",
      "\u001b[1m2253/2253\u001b[0m \u001b[32m━━━━━━━━━━━━━━━━━━━━\u001b[0m\u001b[37m\u001b[0m \u001b[1m669s\u001b[0m 297ms/step - loss: 0.0148 - mean_absolute_percentage_error: 15474.8301 - mean_squared_error: 5.6084e-04 - smape: 46.1247 - val_loss: 0.0142 - val_mean_absolute_percentage_error: 22414.6992 - val_mean_squared_error: 4.7762e-04 - val_smape: 46.5954\n",
      "Epoch 40/50\n",
      "\u001b[1m   1/2253\u001b[0m \u001b[37m━━━━━━━━━━━━━━━━━━━━\u001b[0m \u001b[1m2:33\u001b[0m 68ms/step - loss: 0.0073 - mean_absolute_percentage_error: 12.1577 - mean_squared_error: 6.5816e-05 - smape: 28.2279\n",
      "Epoch 40: saving model to training_2/ckpt.weights.h5\n",
      "\u001b[1m2253/2253\u001b[0m \u001b[32m━━━━━━━━━━━━━━━━━━━━\u001b[0m\u001b[37m\u001b[0m \u001b[1m0s\u001b[0m 52us/step - loss: 0.0073 - mean_absolute_percentage_error: 12.1577 - mean_squared_error: 6.5816e-05 - smape: 14.1202 - val_loss: 0.0137 - val_mean_absolute_percentage_error: 18.2431 - val_mean_squared_error: 3.4411e-04 - val_smape: 18.9746\n",
      "Epoch 41/50\n",
      "\u001b[1m2253/2253\u001b[0m \u001b[32m━━━━━━━━━━━━━━━━━━━━\u001b[0m\u001b[37m\u001b[0m \u001b[1m0s\u001b[0m 268ms/step - loss: 0.0148 - mean_absolute_percentage_error: 15947.2295 - mean_squared_error: 5.5763e-04 - smape: 46.0297\n",
      "Epoch 41: saving model to training_2/ckpt.weights.h5\n",
      "\u001b[1m2253/2253\u001b[0m \u001b[32m━━━━━━━━━━━━━━━━━━━━\u001b[0m\u001b[37m\u001b[0m \u001b[1m667s\u001b[0m 296ms/step - loss: 0.0148 - mean_absolute_percentage_error: 15947.4697 - mean_squared_error: 5.5763e-04 - smape: 46.0297 - val_loss: 0.0140 - val_mean_absolute_percentage_error: 21940.8105 - val_mean_squared_error: 4.6646e-04 - val_smape: 46.3251\n",
      "Epoch 42/50\n",
      "\u001b[1m   1/2253\u001b[0m \u001b[37m━━━━━━━━━━━━━━━━━━━━\u001b[0m \u001b[1m1:50\u001b[0m 49ms/step - loss: 0.0070 - mean_absolute_percentage_error: 11.2055 - mean_squared_error: 6.0314e-05 - smape: 28.6300\n",
      "Epoch 42: saving model to training_2/ckpt.weights.h5\n",
      "\u001b[1m2253/2253\u001b[0m \u001b[32m━━━━━━━━━━━━━━━━━━━━\u001b[0m\u001b[37m\u001b[0m \u001b[1m0s\u001b[0m 55us/step - loss: 0.0070 - mean_absolute_percentage_error: 11.2055 - mean_squared_error: 6.0314e-05 - smape: 14.3214 - val_loss: 0.0131 - val_mean_absolute_percentage_error: 16.6044 - val_mean_squared_error: 3.1592e-04 - val_smape: 19.4276\n"
     ]
    }
   ],
   "source": [
    "history=model.fit(train_dataset, batch_size=32,epochs=50,steps_per_epoch=len(X_train)//32, validation_data=val_dataset,callbacks=[early_stopping,cp_callback],validation_steps=len(X_val)//32)\n"
   ]
  },
  {
   "cell_type": "code",
   "execution_count": 11,
   "metadata": {},
   "outputs": [],
   "source": [
    "df_Scaled=df['mp10'].copy()\n",
    "df_Scaled = df_Scaled  / df_Scaled.abs().max()"
   ]
  },
  {
   "cell_type": "code",
   "execution_count": 12,
   "metadata": {},
   "outputs": [
    {
     "data": {
      "image/png": "[encoded data removed]",
      "text/plain": [
       "<Figure size 640x480 with 1 Axes>"
      ]
     },
     "metadata": {},
     "output_type": "display_data"
    }
   ],
   "source": [
    "import matplotlib.pyplot as plt\n",
    "s=[df_Scaled.std()]*32\n",
    "colors = ['b', 'g', 'r', 'c', 'm', 'y','k','orange', 'purple', 'brown', 'pink', 'lime', 'teal', 'gray', 'olive', 'navy']\n",
    "\n",
    "    # Grafica los valores de loss\n",
    "plt.plot(history.history['loss'],  color='purple',label='Loss')\n",
    "plt.plot(history.history['val_loss'],color='olive',label='Val_Loss')\n",
    "plt.plot(s,label='Standard Deviation',color='pink')\n",
    "# Agrega etiquetas al gráfico\n",
    "plt.xlabel('Epoch')\n",
    "plt.ylabel('Value')\n",
    "plt.ylim(0,0.06)\n",
    "plt.title('Training & Validation Loss per Epoch')\n",
    "plt.xlim(0,32)\n",
    "\n",
    "plt.legend()\n",
    "\n",
    "plt.grid(True)\n",
    "plt.savefig('val_loss_whole.png',format='png')\n",
    "# Muestra el gráfico\n",
    "plt.show()"
   ]
  },
  {
   "cell_type": "code",
   "execution_count": 13,
   "metadata": {},
   "outputs": [
    {
     "name": "stderr",
     "output_type": "stream",
     "text": [
      "C:\\Users\\benja\\AppData\\Local\\Temp\\ipykernel_21048\\3065549325.py:10: DeprecationWarning: Starting with ImageIO v3 the behavior of this function will switch to that of iio.v3.imread. To keep the current behavior (and make this warning disappear) use `import imageio.v2 as imageio` or call `imageio.v2.imread` directly.\n",
      "  image = (imageio.imread(path))\n"
     ]
    },
    {
     "name": "stdout",
     "output_type": "stream",
     "text": [
      "\u001b[1m20706/20706\u001b[0m \u001b[32m━━━━━━━━━━━━━━━━━━━━\u001b[0m\u001b[37m\u001b[0m \u001b[1m138s\u001b[0m 7ms/step\n"
     ]
    }
   ],
   "source": [
    "test_dataset = create_combined_dataset(images_test, X_test, y_test, 1)\n",
    "predict = model.predict(test_dataset,steps=len(y_test))"
   ]
  },
  {
   "cell_type": "code",
   "execution_count": 14,
   "metadata": {},
   "outputs": [
    {
     "name": "stdout",
     "output_type": "stream",
     "text": [
      "MAE: 0.01453073541751304\n",
      "MSE: 0.0006105665594593441\n",
      "R-squared: 0.5965173125621652\n",
      "SMAPE: 19.5470523928035%\n"
     ]
    }
   ],
   "source": [
    "from sklearn.metrics import mean_absolute_error, r2_score, mean_squared_error\n",
    "import numpy as np\n",
    "\n",
    "# Calcular MAE\n",
    "mae = mean_absolute_error(y_test, predict)\n",
    "mse= mean_squared_error(y_test, predict)\n",
    "# Calcular R-squared\n",
    "r2 = r2_score(y_test, predict)\n",
    "def smape(y_true, y_pred):\n",
    "    \"\"\"\n",
    "    Calcula el Symmetric Mean Absolute Percentage Error.\n",
    "    \"\"\"\n",
    "    return 100 * np.mean(2 * np.abs(y_pred - y_true) / (np.abs(y_true) + np.abs(y_pred) + 1e-6))\n",
    "\n",
    "smape = smape(y_test, predict)\n",
    "\n",
    "# Imprimir las métricas\n",
    "print(f\"MAE: {mae}\")\n",
    "print(f\"MSE: {mse}\")\n",
    "print(f\"R-squared: {r2}\")\n",
    "print(f\"SMAPE: {smape}%\")"
   ]
  },
  {
   "cell_type": "code",
   "execution_count": 15,
   "metadata": {},
   "outputs": [
    {
     "data": {
      "image/png": "[encoded data removed]",
      "text/plain": [
       "<Figure size 640x480 with 1 Axes>"
      ]
     },
     "metadata": {},
     "output_type": "display_data"
    }
   ],
   "source": [
    "plt.scatter(y_test, predict, color='blue', alpha=0.5)\n",
    "\n",
    "plt.xlabel('Valores Reales')\n",
    "plt.ylabel('predicciones')\n",
    "plt.xlim(0,1)\n",
    "plt.ylim(0,1)\n",
    "\n",
    "plt.show()"
   ]
  },
  {
   "cell_type": "code",
   "execution_count": 16,
   "metadata": {},
   "outputs": [
    {
     "name": "stderr",
     "output_type": "stream",
     "text": [
      "C:\\Users\\benja\\AppData\\Local\\Temp\\ipykernel_21048\\2569167324.py:3: DeprecationWarning: Conversion of an array with ndim > 0 to a scalar is deprecated, and will error in future. Ensure you extract a single element from your array before performing this operation. (Deprecated NumPy 1.25.)\n",
      "  residuos.append(float(y_test[a])-float(y_test[a]))\n",
      "C:\\Users\\benja\\AppData\\Local\\Temp\\ipykernel_21048\\2569167324.py:3: DeprecationWarning: Conversion of an array with ndim > 0 to a scalar is deprecated, and will error in future. Ensure you extract a single element from your array before performing this operation. (Deprecated NumPy 1.25.)\n",
      "  residuos.append(float(y_test[a])-float(y_test[a]))\n"
     ]
    },
    {
     "data": {
      "image/png": "[encoded data removed]",
      "text/plain": [
       "<Figure size 640x480 with 1 Axes>"
      ]
     },
     "metadata": {},
     "output_type": "display_data"
    }
   ],
   "source": [
    "residuos = []\n",
    "for a in range(len(y_test)):\n",
    "    residuos.append(float(y_test[a])-float(y_test[a]))\n",
    "    import seaborn as sns\n",
    "sns.histplot(residuos,kde=True,bins=600)\n",
    "plt.xlim(-0.1,0.1)\n",
    "plt.show()"
   ]
  },
  {
   "cell_type": "markdown",
   "metadata": {},
   "source": [
    "### Usando 7 días para predecir día siguiente (Capping)"
   ]
  },
  {
   "cell_type": "code",
   "execution_count": 17,
   "metadata": {},
   "outputs": [],
   "source": [
    "# Calcular la media y la desviación estándar\n",
    "mean = df['mp10'].mean()\n",
    "std = df['mp10'].std()\n",
    "\n",
    "# Definir límites usando múltiplos de la desviación estándar (ej. 3 desviaciones estándar)\n",
    "lower_cap = mean - 3 * std  # Límite inferior: media - 3 veces la desviación estándar\n",
    "upper_cap = mean + 3 * std  # Límite superior: media + 3 veces la desviación estándar\n",
    "\n",
    "# Aplicar el capping\n",
    "df['mp10'] = df['mp10'].clip(lower=lower_cap, upper=upper_cap)"
   ]
  },
  {
   "cell_type": "code",
   "execution_count": 18,
   "metadata": {},
   "outputs": [
    {
     "name": "stdout",
     "output_type": "stream",
     "text": [
      "Forma de X: (103015, 7, 17), Forma de y: (103015, 1), Total de imágenes: (103015,)\n",
      "Train set: X=(72110, 7, 17), y=(72110, 1), images=(72110,)\n",
      "Test set: X=(20706, 7, 17), y=(20706, 1), images=(20706,)\n",
      "Validation set: X=(10199, 7, 17), y=(10199, 1), images=(10199,)\n"
     ]
    }
   ],
   "source": [
    "from sklearn.model_selection import train_test_split\n",
    "import numpy as np\n",
    "from sklearn.preprocessing import MinMaxScaler\n",
    "\n",
    "\n",
    "# Definir la longitud de la secuencia para la LSTM\n",
    "sequence_length = 7  # Supongamos que usas 7 días para la LSTM\n",
    "\n",
    "# Variables para almacenar las secuencias, el target y las imágenes\n",
    "X, y, images = [], [], []\n",
    "\n",
    "# Recorre los datos por locación\n",
    "for location, location_df in grouped_data.items():\n",
    "    features = location_df.drop(['Date', 'station', 'mp10', 'image'], axis=1).values\n",
    "    target = location_df['mp10'].values\n",
    "    image_series = location_df['image'].values\n",
    "\n",
    "    for i in range(sequence_length, len(features)):\n",
    "        # Crear secuencia de entrada de `sequence_length` días\n",
    "        sequence_features = features[i-sequence_length:i]\n",
    "        sequence_target = target[i]\n",
    "        \n",
    "        # Buscar una imagen en la secuencia (la más cercana al último día de la secuencia)\n",
    "        image_associated = image_series[i-sequence_length:i]\n",
    "        image_file = next((img for img in reversed(image_associated) if img != 0), None)\n",
    "        \n",
    "        # Añadir solo si hay una imagen válida asociada\n",
    "        if image_file:\n",
    "            X.append(sequence_features)\n",
    "            y.append(sequence_target)\n",
    "            images.append(image_file)\n",
    "\n",
    "# Convertir las listas a arrays de numpy\n",
    "X, y = np.array(X), np.array(y)\n",
    "images = np.array(images)\n",
    "\n",
    "# Normalizar características de entrada\n",
    "scaler_X = MinMaxScaler()\n",
    "X_reshaped = X.reshape(-1, X.shape[-1])\n",
    "X_normalized = scaler_X.fit_transform(X_reshaped)\n",
    "X = X_normalized.reshape(X.shape)\n",
    "\n",
    "scaler_y = MinMaxScaler()\n",
    "y = scaler_y.fit_transform(y.reshape(-1, 1))\n",
    "\n",
    "print(f\"Forma de X: {X.shape}, Forma de y: {y.shape}, Total de imágenes: {images.shape}\")\n",
    "\n",
    "# Dividir los datos en 70% entrenamiento, 20% test, 10% validación\n",
    "X_train, X_temp, y_train, y_temp, images_train, images_temp = train_test_split(X, y, images, test_size=0.30, random_state=42)\n",
    "\n",
    "# Dividir el 30% restante en 20% test y 10% validación\n",
    "X_test, X_val, y_test, y_val, images_test, images_val = train_test_split(X_temp, y_temp, images_temp, test_size=0.33, random_state=42)  # 0.33 * 0.30 = ~0.10\n",
    "\n",
    "# Imprimir las formas para verificar las divisiones\n",
    "print(f\"Train set: X={X_train.shape}, y={y_train.shape}, images={images_train.shape}\")\n",
    "print(f\"Test set: X={X_test.shape}, y={y_test.shape}, images={images_test.shape}\")\n",
    "print(f\"Validation set: X={X_val.shape}, y={y_val.shape}, images={images_val.shape}\")\n"
   ]
  },
  {
   "cell_type": "code",
   "execution_count": 19,
   "metadata": {},
   "outputs": [
    {
     "data": {
      "text/html": [
       "<pre style=\"white-space:pre;overflow-x:auto;line-height:normal;font-family:Menlo,'DejaVu Sans Mono',consolas,'Courier New',monospace\"><span style=\"font-weight: bold\">Model: \"functional_3\"</span>\n",
       "</pre>\n"
      ],
      "text/plain": [
       "\u001b[1mModel: \"functional_3\"\u001b[0m\n"
      ]
     },
     "metadata": {},
     "output_type": "display_data"
    },
    {
     "data": {
      "text/html": [
       "<pre style=\"white-space:pre;overflow-x:auto;line-height:normal;font-family:Menlo,'DejaVu Sans Mono',consolas,'Courier New',monospace\">┏━━━━━━━━━━━━━━━━━━━━━┳━━━━━━━━━━━━━━━━━━━┳━━━━━━━━━━━━┳━━━━━━━━━━━━━━━━━━━┓\n",
       "┃<span style=\"font-weight: bold\"> Layer (type)        </span>┃<span style=\"font-weight: bold\"> Output Shape      </span>┃<span style=\"font-weight: bold\">    Param # </span>┃<span style=\"font-weight: bold\"> Connected to      </span>┃\n",
       "┡━━━━━━━━━━━━━━━━━━━━━╇━━━━━━━━━━━━━━━━━━━╇━━━━━━━━━━━━╇━━━━━━━━━━━━━━━━━━━┩\n",
       "│ input_layer_2       │ (<span style=\"color: #00d7ff; text-decoration-color: #00d7ff\">None</span>, <span style=\"color: #00af00; text-decoration-color: #00af00\">224</span>, <span style=\"color: #00af00; text-decoration-color: #00af00\">224</span>,  │          <span style=\"color: #00af00; text-decoration-color: #00af00\">0</span> │ -                 │\n",
       "│ (<span style=\"color: #0087ff; text-decoration-color: #0087ff\">InputLayer</span>)        │ <span style=\"color: #00af00; text-decoration-color: #00af00\">6</span>)                │            │                   │\n",
       "├─────────────────────┼───────────────────┼────────────┼───────────────────┤\n",
       "│ conv2d_4 (<span style=\"color: #0087ff; text-decoration-color: #0087ff\">Conv2D</span>)   │ (<span style=\"color: #00d7ff; text-decoration-color: #00d7ff\">None</span>, <span style=\"color: #00af00; text-decoration-color: #00af00\">222</span>, <span style=\"color: #00af00; text-decoration-color: #00af00\">222</span>,  │        <span style=\"color: #00af00; text-decoration-color: #00af00\">880</span> │ input_layer_2[<span style=\"color: #00af00; text-decoration-color: #00af00\">0</span>]… │\n",
       "│                     │ <span style=\"color: #00af00; text-decoration-color: #00af00\">16</span>)               │            │                   │\n",
       "├─────────────────────┼───────────────────┼────────────┼───────────────────┤\n",
       "│ average_pooling2d_4 │ (<span style=\"color: #00d7ff; text-decoration-color: #00d7ff\">None</span>, <span style=\"color: #00af00; text-decoration-color: #00af00\">111</span>, <span style=\"color: #00af00; text-decoration-color: #00af00\">111</span>,  │          <span style=\"color: #00af00; text-decoration-color: #00af00\">0</span> │ conv2d_4[<span style=\"color: #00af00; text-decoration-color: #00af00\">0</span>][<span style=\"color: #00af00; text-decoration-color: #00af00\">0</span>]    │\n",
       "│ (<span style=\"color: #0087ff; text-decoration-color: #0087ff\">AveragePooling2D</span>)  │ <span style=\"color: #00af00; text-decoration-color: #00af00\">16</span>)               │            │                   │\n",
       "├─────────────────────┼───────────────────┼────────────┼───────────────────┤\n",
       "│ conv2d_5 (<span style=\"color: #0087ff; text-decoration-color: #0087ff\">Conv2D</span>)   │ (<span style=\"color: #00d7ff; text-decoration-color: #00d7ff\">None</span>, <span style=\"color: #00af00; text-decoration-color: #00af00\">109</span>, <span style=\"color: #00af00; text-decoration-color: #00af00\">109</span>,  │      <span style=\"color: #00af00; text-decoration-color: #00af00\">4,640</span> │ average_pooling2… │\n",
       "│                     │ <span style=\"color: #00af00; text-decoration-color: #00af00\">32</span>)               │            │                   │\n",
       "├─────────────────────┼───────────────────┼────────────┼───────────────────┤\n",
       "│ average_pooling2d_5 │ (<span style=\"color: #00d7ff; text-decoration-color: #00d7ff\">None</span>, <span style=\"color: #00af00; text-decoration-color: #00af00\">54</span>, <span style=\"color: #00af00; text-decoration-color: #00af00\">54</span>,    │          <span style=\"color: #00af00; text-decoration-color: #00af00\">0</span> │ conv2d_5[<span style=\"color: #00af00; text-decoration-color: #00af00\">0</span>][<span style=\"color: #00af00; text-decoration-color: #00af00\">0</span>]    │\n",
       "│ (<span style=\"color: #0087ff; text-decoration-color: #0087ff\">AveragePooling2D</span>)  │ <span style=\"color: #00af00; text-decoration-color: #00af00\">32</span>)               │            │                   │\n",
       "├─────────────────────┼───────────────────┼────────────┼───────────────────┤\n",
       "│ conv2d_6 (<span style=\"color: #0087ff; text-decoration-color: #0087ff\">Conv2D</span>)   │ (<span style=\"color: #00d7ff; text-decoration-color: #00d7ff\">None</span>, <span style=\"color: #00af00; text-decoration-color: #00af00\">52</span>, <span style=\"color: #00af00; text-decoration-color: #00af00\">52</span>,    │      <span style=\"color: #00af00; text-decoration-color: #00af00\">9,248</span> │ average_pooling2… │\n",
       "│                     │ <span style=\"color: #00af00; text-decoration-color: #00af00\">32</span>)               │            │                   │\n",
       "├─────────────────────┼───────────────────┼────────────┼───────────────────┤\n",
       "│ average_pooling2d_6 │ (<span style=\"color: #00d7ff; text-decoration-color: #00d7ff\">None</span>, <span style=\"color: #00af00; text-decoration-color: #00af00\">26</span>, <span style=\"color: #00af00; text-decoration-color: #00af00\">26</span>,    │          <span style=\"color: #00af00; text-decoration-color: #00af00\">0</span> │ conv2d_6[<span style=\"color: #00af00; text-decoration-color: #00af00\">0</span>][<span style=\"color: #00af00; text-decoration-color: #00af00\">0</span>]    │\n",
       "│ (<span style=\"color: #0087ff; text-decoration-color: #0087ff\">AveragePooling2D</span>)  │ <span style=\"color: #00af00; text-decoration-color: #00af00\">32</span>)               │            │                   │\n",
       "├─────────────────────┼───────────────────┼────────────┼───────────────────┤\n",
       "│ conv2d_7 (<span style=\"color: #0087ff; text-decoration-color: #0087ff\">Conv2D</span>)   │ (<span style=\"color: #00d7ff; text-decoration-color: #00d7ff\">None</span>, <span style=\"color: #00af00; text-decoration-color: #00af00\">24</span>, <span style=\"color: #00af00; text-decoration-color: #00af00\">24</span>,    │      <span style=\"color: #00af00; text-decoration-color: #00af00\">9,248</span> │ average_pooling2… │\n",
       "│                     │ <span style=\"color: #00af00; text-decoration-color: #00af00\">32</span>)               │            │                   │\n",
       "├─────────────────────┼───────────────────┼────────────┼───────────────────┤\n",
       "│ average_pooling2d_7 │ (<span style=\"color: #00d7ff; text-decoration-color: #00d7ff\">None</span>, <span style=\"color: #00af00; text-decoration-color: #00af00\">12</span>, <span style=\"color: #00af00; text-decoration-color: #00af00\">12</span>,    │          <span style=\"color: #00af00; text-decoration-color: #00af00\">0</span> │ conv2d_7[<span style=\"color: #00af00; text-decoration-color: #00af00\">0</span>][<span style=\"color: #00af00; text-decoration-color: #00af00\">0</span>]    │\n",
       "│ (<span style=\"color: #0087ff; text-decoration-color: #0087ff\">AveragePooling2D</span>)  │ <span style=\"color: #00af00; text-decoration-color: #00af00\">32</span>)               │            │                   │\n",
       "├─────────────────────┼───────────────────┼────────────┼───────────────────┤\n",
       "│ flatten_1 (<span style=\"color: #0087ff; text-decoration-color: #0087ff\">Flatten</span>) │ (<span style=\"color: #00d7ff; text-decoration-color: #00d7ff\">None</span>, <span style=\"color: #00af00; text-decoration-color: #00af00\">4608</span>)      │          <span style=\"color: #00af00; text-decoration-color: #00af00\">0</span> │ average_pooling2… │\n",
       "├─────────────────────┼───────────────────┼────────────┼───────────────────┤\n",
       "│ input_layer_3       │ (<span style=\"color: #00d7ff; text-decoration-color: #00d7ff\">None</span>, <span style=\"color: #00af00; text-decoration-color: #00af00\">7</span>, <span style=\"color: #00af00; text-decoration-color: #00af00\">17</span>)     │          <span style=\"color: #00af00; text-decoration-color: #00af00\">0</span> │ -                 │\n",
       "│ (<span style=\"color: #0087ff; text-decoration-color: #0087ff\">InputLayer</span>)        │                   │            │                   │\n",
       "├─────────────────────┼───────────────────┼────────────┼───────────────────┤\n",
       "│ dense_3 (<span style=\"color: #0087ff; text-decoration-color: #0087ff\">Dense</span>)     │ (<span style=\"color: #00d7ff; text-decoration-color: #00d7ff\">None</span>, <span style=\"color: #00af00; text-decoration-color: #00af00\">128</span>)       │    <span style=\"color: #00af00; text-decoration-color: #00af00\">589,952</span> │ flatten_1[<span style=\"color: #00af00; text-decoration-color: #00af00\">0</span>][<span style=\"color: #00af00; text-decoration-color: #00af00\">0</span>]   │\n",
       "├─────────────────────┼───────────────────┼────────────┼───────────────────┤\n",
       "│ lstm_2 (<span style=\"color: #0087ff; text-decoration-color: #0087ff\">LSTM</span>)       │ (<span style=\"color: #00d7ff; text-decoration-color: #00d7ff\">None</span>, <span style=\"color: #00af00; text-decoration-color: #00af00\">7</span>, <span style=\"color: #00af00; text-decoration-color: #00af00\">50</span>)     │     <span style=\"color: #00af00; text-decoration-color: #00af00\">13,600</span> │ input_layer_3[<span style=\"color: #00af00; text-decoration-color: #00af00\">0</span>]… │\n",
       "├─────────────────────┼───────────────────┼────────────┼───────────────────┤\n",
       "│ dropout_2 (<span style=\"color: #0087ff; text-decoration-color: #0087ff\">Dropout</span>) │ (<span style=\"color: #00d7ff; text-decoration-color: #00d7ff\">None</span>, <span style=\"color: #00af00; text-decoration-color: #00af00\">128</span>)       │          <span style=\"color: #00af00; text-decoration-color: #00af00\">0</span> │ dense_3[<span style=\"color: #00af00; text-decoration-color: #00af00\">0</span>][<span style=\"color: #00af00; text-decoration-color: #00af00\">0</span>]     │\n",
       "├─────────────────────┼───────────────────┼────────────┼───────────────────┤\n",
       "│ lstm_3 (<span style=\"color: #0087ff; text-decoration-color: #0087ff\">LSTM</span>)       │ (<span style=\"color: #00d7ff; text-decoration-color: #00d7ff\">None</span>, <span style=\"color: #00af00; text-decoration-color: #00af00\">50</span>)        │     <span style=\"color: #00af00; text-decoration-color: #00af00\">20,200</span> │ lstm_2[<span style=\"color: #00af00; text-decoration-color: #00af00\">0</span>][<span style=\"color: #00af00; text-decoration-color: #00af00\">0</span>]      │\n",
       "├─────────────────────┼───────────────────┼────────────┼───────────────────┤\n",
       "│ concatenate_1       │ (<span style=\"color: #00d7ff; text-decoration-color: #00d7ff\">None</span>, <span style=\"color: #00af00; text-decoration-color: #00af00\">178</span>)       │          <span style=\"color: #00af00; text-decoration-color: #00af00\">0</span> │ dropout_2[<span style=\"color: #00af00; text-decoration-color: #00af00\">0</span>][<span style=\"color: #00af00; text-decoration-color: #00af00\">0</span>],  │\n",
       "│ (<span style=\"color: #0087ff; text-decoration-color: #0087ff\">Concatenate</span>)       │                   │            │ lstm_3[<span style=\"color: #00af00; text-decoration-color: #00af00\">0</span>][<span style=\"color: #00af00; text-decoration-color: #00af00\">0</span>]      │\n",
       "├─────────────────────┼───────────────────┼────────────┼───────────────────┤\n",
       "│ dense_4 (<span style=\"color: #0087ff; text-decoration-color: #0087ff\">Dense</span>)     │ (<span style=\"color: #00d7ff; text-decoration-color: #00d7ff\">None</span>, <span style=\"color: #00af00; text-decoration-color: #00af00\">128</span>)       │     <span style=\"color: #00af00; text-decoration-color: #00af00\">22,912</span> │ concatenate_1[<span style=\"color: #00af00; text-decoration-color: #00af00\">0</span>]… │\n",
       "├─────────────────────┼───────────────────┼────────────┼───────────────────┤\n",
       "│ dropout_3 (<span style=\"color: #0087ff; text-decoration-color: #0087ff\">Dropout</span>) │ (<span style=\"color: #00d7ff; text-decoration-color: #00d7ff\">None</span>, <span style=\"color: #00af00; text-decoration-color: #00af00\">128</span>)       │          <span style=\"color: #00af00; text-decoration-color: #00af00\">0</span> │ dense_4[<span style=\"color: #00af00; text-decoration-color: #00af00\">0</span>][<span style=\"color: #00af00; text-decoration-color: #00af00\">0</span>]     │\n",
       "├─────────────────────┼───────────────────┼────────────┼───────────────────┤\n",
       "│ dense_5 (<span style=\"color: #0087ff; text-decoration-color: #0087ff\">Dense</span>)     │ (<span style=\"color: #00d7ff; text-decoration-color: #00d7ff\">None</span>, <span style=\"color: #00af00; text-decoration-color: #00af00\">1</span>)         │        <span style=\"color: #00af00; text-decoration-color: #00af00\">129</span> │ dropout_3[<span style=\"color: #00af00; text-decoration-color: #00af00\">0</span>][<span style=\"color: #00af00; text-decoration-color: #00af00\">0</span>]   │\n",
       "└─────────────────────┴───────────────────┴────────────┴───────────────────┘\n",
       "</pre>\n"
      ],
      "text/plain": [
       "┏━━━━━━━━━━━━━━━━━━━━━┳━━━━━━━━━━━━━━━━━━━┳━━━━━━━━━━━━┳━━━━━━━━━━━━━━━━━━━┓\n",
       "┃\u001b[1m \u001b[0m\u001b[1mLayer (type)       \u001b[0m\u001b[1m \u001b[0m┃\u001b[1m \u001b[0m\u001b[1mOutput Shape     \u001b[0m\u001b[1m \u001b[0m┃\u001b[1m \u001b[0m\u001b[1m   Param #\u001b[0m\u001b[1m \u001b[0m┃\u001b[1m \u001b[0m\u001b[1mConnected to     \u001b[0m\u001b[1m \u001b[0m┃\n",
       "┡━━━━━━━━━━━━━━━━━━━━━╇━━━━━━━━━━━━━━━━━━━╇━━━━━━━━━━━━╇━━━━━━━━━━━━━━━━━━━┩\n",
       "│ input_layer_2       │ (\u001b[38;5;45mNone\u001b[0m, \u001b[38;5;34m224\u001b[0m, \u001b[38;5;34m224\u001b[0m,  │          \u001b[38;5;34m0\u001b[0m │ -                 │\n",
       "│ (\u001b[38;5;33mInputLayer\u001b[0m)        │ \u001b[38;5;34m6\u001b[0m)                │            │                   │\n",
       "├─────────────────────┼───────────────────┼────────────┼───────────────────┤\n",
       "│ conv2d_4 (\u001b[38;5;33mConv2D\u001b[0m)   │ (\u001b[38;5;45mNone\u001b[0m, \u001b[38;5;34m222\u001b[0m, \u001b[38;5;34m222\u001b[0m,  │        \u001b[38;5;34m880\u001b[0m │ input_layer_2[\u001b[38;5;34m0\u001b[0m]… │\n",
       "│                     │ \u001b[38;5;34m16\u001b[0m)               │            │                   │\n",
       "├─────────────────────┼───────────────────┼────────────┼───────────────────┤\n",
       "│ average_pooling2d_4 │ (\u001b[38;5;45mNone\u001b[0m, \u001b[38;5;34m111\u001b[0m, \u001b[38;5;34m111\u001b[0m,  │          \u001b[38;5;34m0\u001b[0m │ conv2d_4[\u001b[38;5;34m0\u001b[0m][\u001b[38;5;34m0\u001b[0m]    │\n",
       "│ (\u001b[38;5;33mAveragePooling2D\u001b[0m)  │ \u001b[38;5;34m16\u001b[0m)               │            │                   │\n",
       "├─────────────────────┼───────────────────┼────────────┼───────────────────┤\n",
       "│ conv2d_5 (\u001b[38;5;33mConv2D\u001b[0m)   │ (\u001b[38;5;45mNone\u001b[0m, \u001b[38;5;34m109\u001b[0m, \u001b[38;5;34m109\u001b[0m,  │      \u001b[38;5;34m4,640\u001b[0m │ average_pooling2… │\n",
       "│                     │ \u001b[38;5;34m32\u001b[0m)               │            │                   │\n",
       "├─────────────────────┼───────────────────┼────────────┼───────────────────┤\n",
       "│ average_pooling2d_5 │ (\u001b[38;5;45mNone\u001b[0m, \u001b[38;5;34m54\u001b[0m, \u001b[38;5;34m54\u001b[0m,    │          \u001b[38;5;34m0\u001b[0m │ conv2d_5[\u001b[38;5;34m0\u001b[0m][\u001b[38;5;34m0\u001b[0m]    │\n",
       "│ (\u001b[38;5;33mAveragePooling2D\u001b[0m)  │ \u001b[38;5;34m32\u001b[0m)               │            │                   │\n",
       "├─────────────────────┼───────────────────┼────────────┼───────────────────┤\n",
       "│ conv2d_6 (\u001b[38;5;33mConv2D\u001b[0m)   │ (\u001b[38;5;45mNone\u001b[0m, \u001b[38;5;34m52\u001b[0m, \u001b[38;5;34m52\u001b[0m,    │      \u001b[38;5;34m9,248\u001b[0m │ average_pooling2… │\n",
       "│                     │ \u001b[38;5;34m32\u001b[0m)               │            │                   │\n",
       "├─────────────────────┼───────────────────┼────────────┼───────────────────┤\n",
       "│ average_pooling2d_6 │ (\u001b[38;5;45mNone\u001b[0m, \u001b[38;5;34m26\u001b[0m, \u001b[38;5;34m26\u001b[0m,    │          \u001b[38;5;34m0\u001b[0m │ conv2d_6[\u001b[38;5;34m0\u001b[0m][\u001b[38;5;34m0\u001b[0m]    │\n",
       "│ (\u001b[38;5;33mAveragePooling2D\u001b[0m)  │ \u001b[38;5;34m32\u001b[0m)               │            │                   │\n",
       "├─────────────────────┼───────────────────┼────────────┼───────────────────┤\n",
       "│ conv2d_7 (\u001b[38;5;33mConv2D\u001b[0m)   │ (\u001b[38;5;45mNone\u001b[0m, \u001b[38;5;34m24\u001b[0m, \u001b[38;5;34m24\u001b[0m,    │      \u001b[38;5;34m9,248\u001b[0m │ average_pooling2… │\n",
       "│                     │ \u001b[38;5;34m32\u001b[0m)               │            │                   │\n",
       "├─────────────────────┼───────────────────┼────────────┼───────────────────┤\n",
       "│ average_pooling2d_7 │ (\u001b[38;5;45mNone\u001b[0m, \u001b[38;5;34m12\u001b[0m, \u001b[38;5;34m12\u001b[0m,    │          \u001b[38;5;34m0\u001b[0m │ conv2d_7[\u001b[38;5;34m0\u001b[0m][\u001b[38;5;34m0\u001b[0m]    │\n",
       "│ (\u001b[38;5;33mAveragePooling2D\u001b[0m)  │ \u001b[38;5;34m32\u001b[0m)               │            │                   │\n",
       "├─────────────────────┼───────────────────┼────────────┼───────────────────┤\n",
       "│ flatten_1 (\u001b[38;5;33mFlatten\u001b[0m) │ (\u001b[38;5;45mNone\u001b[0m, \u001b[38;5;34m4608\u001b[0m)      │          \u001b[38;5;34m0\u001b[0m │ average_pooling2… │\n",
       "├─────────────────────┼───────────────────┼────────────┼───────────────────┤\n",
       "│ input_layer_3       │ (\u001b[38;5;45mNone\u001b[0m, \u001b[38;5;34m7\u001b[0m, \u001b[38;5;34m17\u001b[0m)     │          \u001b[38;5;34m0\u001b[0m │ -                 │\n",
       "│ (\u001b[38;5;33mInputLayer\u001b[0m)        │                   │            │                   │\n",
       "├─────────────────────┼───────────────────┼────────────┼───────────────────┤\n",
       "│ dense_3 (\u001b[38;5;33mDense\u001b[0m)     │ (\u001b[38;5;45mNone\u001b[0m, \u001b[38;5;34m128\u001b[0m)       │    \u001b[38;5;34m589,952\u001b[0m │ flatten_1[\u001b[38;5;34m0\u001b[0m][\u001b[38;5;34m0\u001b[0m]   │\n",
       "├─────────────────────┼───────────────────┼────────────┼───────────────────┤\n",
       "│ lstm_2 (\u001b[38;5;33mLSTM\u001b[0m)       │ (\u001b[38;5;45mNone\u001b[0m, \u001b[38;5;34m7\u001b[0m, \u001b[38;5;34m50\u001b[0m)     │     \u001b[38;5;34m13,600\u001b[0m │ input_layer_3[\u001b[38;5;34m0\u001b[0m]… │\n",
       "├─────────────────────┼───────────────────┼────────────┼───────────────────┤\n",
       "│ dropout_2 (\u001b[38;5;33mDropout\u001b[0m) │ (\u001b[38;5;45mNone\u001b[0m, \u001b[38;5;34m128\u001b[0m)       │          \u001b[38;5;34m0\u001b[0m │ dense_3[\u001b[38;5;34m0\u001b[0m][\u001b[38;5;34m0\u001b[0m]     │\n",
       "├─────────────────────┼───────────────────┼────────────┼───────────────────┤\n",
       "│ lstm_3 (\u001b[38;5;33mLSTM\u001b[0m)       │ (\u001b[38;5;45mNone\u001b[0m, \u001b[38;5;34m50\u001b[0m)        │     \u001b[38;5;34m20,200\u001b[0m │ lstm_2[\u001b[38;5;34m0\u001b[0m][\u001b[38;5;34m0\u001b[0m]      │\n",
       "├─────────────────────┼───────────────────┼────────────┼───────────────────┤\n",
       "│ concatenate_1       │ (\u001b[38;5;45mNone\u001b[0m, \u001b[38;5;34m178\u001b[0m)       │          \u001b[38;5;34m0\u001b[0m │ dropout_2[\u001b[38;5;34m0\u001b[0m][\u001b[38;5;34m0\u001b[0m],  │\n",
       "│ (\u001b[38;5;33mConcatenate\u001b[0m)       │                   │            │ lstm_3[\u001b[38;5;34m0\u001b[0m][\u001b[38;5;34m0\u001b[0m]      │\n",
       "├─────────────────────┼───────────────────┼────────────┼───────────────────┤\n",
       "│ dense_4 (\u001b[38;5;33mDense\u001b[0m)     │ (\u001b[38;5;45mNone\u001b[0m, \u001b[38;5;34m128\u001b[0m)       │     \u001b[38;5;34m22,912\u001b[0m │ concatenate_1[\u001b[38;5;34m0\u001b[0m]… │\n",
       "├─────────────────────┼───────────────────┼────────────┼───────────────────┤\n",
       "│ dropout_3 (\u001b[38;5;33mDropout\u001b[0m) │ (\u001b[38;5;45mNone\u001b[0m, \u001b[38;5;34m128\u001b[0m)       │          \u001b[38;5;34m0\u001b[0m │ dense_4[\u001b[38;5;34m0\u001b[0m][\u001b[38;5;34m0\u001b[0m]     │\n",
       "├─────────────────────┼───────────────────┼────────────┼───────────────────┤\n",
       "│ dense_5 (\u001b[38;5;33mDense\u001b[0m)     │ (\u001b[38;5;45mNone\u001b[0m, \u001b[38;5;34m1\u001b[0m)         │        \u001b[38;5;34m129\u001b[0m │ dropout_3[\u001b[38;5;34m0\u001b[0m][\u001b[38;5;34m0\u001b[0m]   │\n",
       "└─────────────────────┴───────────────────┴────────────┴───────────────────┘\n"
      ]
     },
     "metadata": {},
     "output_type": "display_data"
    },
    {
     "data": {
      "text/html": [
       "<pre style=\"white-space:pre;overflow-x:auto;line-height:normal;font-family:Menlo,'DejaVu Sans Mono',consolas,'Courier New',monospace\"><span style=\"font-weight: bold\"> Total params: </span><span style=\"color: #00af00; text-decoration-color: #00af00\">670,809</span> (2.56 MB)\n",
       "</pre>\n"
      ],
      "text/plain": [
       "\u001b[1m Total params: \u001b[0m\u001b[38;5;34m670,809\u001b[0m (2.56 MB)\n"
      ]
     },
     "metadata": {},
     "output_type": "display_data"
    },
    {
     "data": {
      "text/html": [
       "<pre style=\"white-space:pre;overflow-x:auto;line-height:normal;font-family:Menlo,'DejaVu Sans Mono',consolas,'Courier New',monospace\"><span style=\"font-weight: bold\"> Trainable params: </span><span style=\"color: #00af00; text-decoration-color: #00af00\">670,809</span> (2.56 MB)\n",
       "</pre>\n"
      ],
      "text/plain": [
       "\u001b[1m Trainable params: \u001b[0m\u001b[38;5;34m670,809\u001b[0m (2.56 MB)\n"
      ]
     },
     "metadata": {},
     "output_type": "display_data"
    },
    {
     "data": {
      "text/html": [
       "<pre style=\"white-space:pre;overflow-x:auto;line-height:normal;font-family:Menlo,'DejaVu Sans Mono',consolas,'Courier New',monospace\"><span style=\"font-weight: bold\"> Non-trainable params: </span><span style=\"color: #00af00; text-decoration-color: #00af00\">0</span> (0.00 B)\n",
       "</pre>\n"
      ],
      "text/plain": [
       "\u001b[1m Non-trainable params: \u001b[0m\u001b[38;5;34m0\u001b[0m (0.00 B)\n"
      ]
     },
     "metadata": {},
     "output_type": "display_data"
    }
   ],
   "source": [
    "from tensorflow.keras.models import Model\n",
    "from tensorflow.keras.layers import Input, Conv2D, AveragePooling2D, Flatten, Dense, Dropout\n",
    "from tensorflow.keras.layers import LSTM, Concatenate\n",
    "from tensorflow.keras.layers import AveragePooling2D, Flatten, Dropout\n",
    "import tensorflow as tf\n",
    "\n",
    "# Definir la métrica personalizada SMAPE\n",
    "def smape(y_true, y_pred):\n",
    "    epsilon = tf.keras.backend.epsilon()  # Pequeño valor para evitar divisiones por cero\n",
    "    denominator = (tf.abs(y_true) + tf.abs(y_pred)) / 2.0 + epsilon\n",
    "    diff = tf.abs(y_true - y_pred) / denominator\n",
    "    return 100.0 * tf.reduce_mean(diff)  # Se devuelve el error en porcentaje\n",
    "\n",
    "\n",
    "# Definir la entrada para las imágenes (224x224x6)\n",
    "image_input = Input(shape=(224, 224, 6))\n",
    "\n",
    "# Red convolucional para procesar la entrada de imágenes\n",
    "x = Conv2D(filters=16, kernel_size=(3, 3), activation='relu')(image_input)\n",
    "x = AveragePooling2D(pool_size=(2, 2))(x)\n",
    "x = Conv2D(filters=32, kernel_size=(3, 3), activation='relu')(x)\n",
    "x = AveragePooling2D(pool_size=(2, 2))(x)\n",
    "x = Conv2D(filters=32, kernel_size=(3, 3), activation='relu')(x)\n",
    "x = AveragePooling2D(pool_size=(2, 2))(x)\n",
    "x = Conv2D(filters=32, kernel_size=(3, 3), activation='relu')(x)\n",
    "x = AveragePooling2D(pool_size=(2, 2))(x)\n",
    "\n",
    "# Aplanar la salida de la capa convolucional\n",
    "x = Flatten()(x)\n",
    "x = Dense(units=128, activation='relu')(x)\n",
    "x = Dropout(rate=0.5)(x)\n",
    "\n",
    "# Definir la entrada para la LSTM (datos secuenciales)\n",
    "sequence_input = Input(shape=(7, 17))  \n",
    "\n",
    "# Red LSTM para procesar la entrada secuencial\n",
    "y = LSTM(units=50, return_sequences=True)(sequence_input)\n",
    "y = LSTM(units=50)(y)\n",
    "\n",
    "# Combinar las salidas de la CNN y la LSTM\n",
    "combined = Concatenate()([x, y])\n",
    "\n",
    "# Añadir capas densas finales para predecir el valor final\n",
    "z = Dense(units=128, activation='relu')(combined)\n",
    "z = Dropout(rate=0.5)(z)\n",
    "z = Dense(units=1, activation='linear')(z)\n",
    "\n",
    "# Crear el modelo con dos entradas\n",
    "model = Model(inputs=[image_input, sequence_input], outputs=z)\n",
    "\n",
    "# Compilar el modelo\n",
    "model.compile(optimizer='adam', loss='mean_absolute_error',metrics=['mean_squared_error','mean_absolute_percentage_error',smape])\n",
    "\n",
    "# Mostrar la arquitectura del modelo\n",
    "model.summary()\n"
   ]
  },
  {
   "cell_type": "code",
   "execution_count": 20,
   "metadata": {},
   "outputs": [],
   "source": [
    "import tensorflow as tf\n",
    "\n",
    "# Generador para combinar imágenes y secuencias\n",
    "def data_generator(image_files, sequences, labels): \n",
    "    for i in range(len(image_files)):\n",
    "        if image_files[i] != '':  # Si la imagen existe\n",
    "            image = preprocess_imagery(image_files[i])  # Cargar y preprocesar la imagen\n",
    "            image = tf.convert_to_tensor(image, dtype=tf.float32)\n",
    "        else:\n",
    "            image = tf.zeros((224, 224, 6), dtype=tf.float32)  # Si no hay imagen, usar un tensor de ceros\n",
    "            \n",
    "        sequence = tf.convert_to_tensor(sequences[i], dtype=tf.float32)  # Secuencia de datos tabulares\n",
    "        label = tf.convert_to_tensor(labels[i], dtype=tf.float32)  # Etiqueta (mp10)+\n",
    "        label=tf.squeeze(label)\n",
    "        \n",
    "        yield (image, sequence), label  # Dos entradas: imagen y secuencia\n",
    "\n",
    "# Crear el dataset\n",
    "def create_combined_dataset(image_files, sequences, labels, batch_size):\n",
    "    dataset = tf.data.Dataset.from_generator(\n",
    "        data_generator,\n",
    "        args=[image_files, sequences, labels],\n",
    "        output_signature=(\n",
    "            (tf.TensorSpec(shape=(224, 224, 6), dtype=tf.float32),  # Especificar el tamaño de las imágenes\n",
    "             tf.TensorSpec(shape=(7, sequences.shape[2]), dtype=tf.float32)),  # Secuencias de 7 días\n",
    "            tf.TensorSpec(shape=(), dtype=tf.float32)  # La etiqueta (mp10)\n",
    "        )\n",
    "    )\n",
    "    dataset = dataset.batch(batch_size)\n",
    "    dataset = dataset.prefetch(buffer_size=tf.data.AUTOTUNE)\n",
    "    return dataset\n",
    "\n",
    "# Ejemplo de uso para crear datasets de entrenamiento, validación y prueba\n",
    "batch_size = 32\n",
    "\n",
    "# Crear datasets\n",
    "train_dataset = create_combined_dataset(images_train, X_train, y_train, batch_size)\n",
    "val_dataset = create_combined_dataset(images_val, X_val, y_val, batch_size)\n",
    "test_dataset = create_combined_dataset(images_test, X_test, y_test, batch_size)\n"
   ]
  },
  {
   "cell_type": "code",
   "execution_count": 21,
   "metadata": {},
   "outputs": [],
   "source": [
    "from tensorflow.keras.callbacks import EarlyStopping\n",
    "\n",
    "# Configurar Early Stopping\n",
    "early_stopping = EarlyStopping(\n",
    "    monitor='val_loss',  # Métrica a monitorear\n",
    "    patience=10,         # Número de épocas de paciencia\n",
    "    restore_best_weights=True  # Restaurar los mejores pesos al final del entrenamiento\n",
    ")\n"
   ]
  },
  {
   "cell_type": "code",
   "execution_count": 22,
   "metadata": {},
   "outputs": [],
   "source": [
    "checkpoint_path = \"training_2/ckpt.weights.h5\"\n",
    "checkpoint_dir = os.path.dirname(checkpoint_path)\n",
    "\n",
    "# Create a callback that saves the model's weights\n",
    "cp_callback = tf.keras.callbacks.ModelCheckpoint(filepath=checkpoint_path,\n",
    "                                                 save_weights_only=True,\n",
    "                                                 verbose=1)"
   ]
  },
  {
   "cell_type": "code",
   "execution_count": 23,
   "metadata": {},
   "outputs": [
    {
     "name": "stdout",
     "output_type": "stream",
     "text": [
      "Epoch 1/50\n"
     ]
    },
    {
     "name": "stderr",
     "output_type": "stream",
     "text": [
      "C:\\Users\\benja\\AppData\\Local\\Temp\\ipykernel_21048\\3065549325.py:10: DeprecationWarning: Starting with ImageIO v3 the behavior of this function will switch to that of iio.v3.imread. To keep the current behavior (and make this warning disappear) use `import imageio.v2 as imageio` or call `imageio.v2.imread` directly.\n",
      "  image = (imageio.imread(path))\n"
     ]
    },
    {
     "name": "stdout",
     "output_type": "stream",
     "text": [
      "\u001b[1m2253/2253\u001b[0m \u001b[32m━━━━━━━━━━━━━━━━━━━━\u001b[0m\u001b[37m\u001b[0m \u001b[1m0s\u001b[0m 267ms/step - loss: 0.1387 - mean_absolute_percentage_error: 339714.2812 - mean_squared_error: 2.3545 - smape: 52.4940\n",
      "Epoch 1: saving model to training_2/ckpt.weights.h5\n",
      "\u001b[1m2253/2253\u001b[0m \u001b[32m━━━━━━━━━━━━━━━━━━━━\u001b[0m\u001b[37m\u001b[0m \u001b[1m670s\u001b[0m 296ms/step - loss: 0.1387 - mean_absolute_percentage_error: 339617.2188 - mean_squared_error: 2.3536 - smape: 52.4923 - val_loss: 0.0183 - val_mean_absolute_percentage_error: 97878.9609 - val_mean_squared_error: 8.9195e-04 - val_smape: 48.6066\n",
      "Epoch 2/50\n",
      "\u001b[1m   1/2253\u001b[0m \u001b[37m━━━━━━━━━━━━━━━━━━━━\u001b[0m \u001b[1m2:00\u001b[0m 54ms/step - loss: 0.0144 - mean_absolute_percentage_error: 23.8320 - mean_squared_error: 3.1865e-04 - smape: 41.5443\n",
      "Epoch 2: saving model to training_2/ckpt.weights.h5\n",
      "\u001b[1m2253/2253\u001b[0m \u001b[32m━━━━━━━━━━━━━━━━━━━━\u001b[0m\u001b[37m\u001b[0m \u001b[1m0s\u001b[0m 62us/step - loss: 0.0144 - mean_absolute_percentage_error: 23.8320 - mean_squared_error: 3.1865e-04 - smape: 20.7814 - val_loss: 0.0188 - val_mean_absolute_percentage_error: 43.5011 - val_mean_squared_error: 6.3684e-04 - val_smape: 20.0398\n",
      "Epoch 3/50\n"
     ]
    },
    {
     "name": "stderr",
     "output_type": "stream",
     "text": [
      "c:\\Users\\benja\\anaconda3\\envs\\ee\\Lib\\contextlib.py:158: UserWarning: Your input ran out of data; interrupting training. Make sure that your dataset or generator can generate at least `steps_per_epoch * epochs` batches. You may need to use the `.repeat()` function when building your dataset.\n",
      "  self.gen.throw(value)\n"
     ]
    },
    {
     "name": "stdout",
     "output_type": "stream",
     "text": [
      "\u001b[1m2253/2253\u001b[0m \u001b[32m━━━━━━━━━━━━━━━━━━━━\u001b[0m\u001b[37m\u001b[0m \u001b[1m0s\u001b[0m 266ms/step - loss: 0.0186 - mean_absolute_percentage_error: 63194.9531 - mean_squared_error: 8.3579e-04 - smape: 48.5833\n",
      "Epoch 3: saving model to training_2/ckpt.weights.h5\n",
      "\u001b[1m2253/2253\u001b[0m \u001b[32m━━━━━━━━━━━━━━━━━━━━\u001b[0m\u001b[37m\u001b[0m \u001b[1m664s\u001b[0m 295ms/step - loss: 0.0186 - mean_absolute_percentage_error: 63198.5938 - mean_squared_error: 8.3578e-04 - smape: 48.5834 - val_loss: 0.0174 - val_mean_absolute_percentage_error: 91453.2422 - val_mean_squared_error: 8.3301e-04 - val_smape: 48.4352\n",
      "Epoch 4/50\n",
      "\u001b[1m   1/2253\u001b[0m \u001b[37m━━━━━━━━━━━━━━━━━━━━\u001b[0m \u001b[1m1:54\u001b[0m 51ms/step - loss: 0.0138 - mean_absolute_percentage_error: 21.8048 - mean_squared_error: 2.8800e-04 - smape: 39.8280\n",
      "Epoch 4: saving model to training_2/ckpt.weights.h5\n",
      "\u001b[1m2253/2253\u001b[0m \u001b[32m━━━━━━━━━━━━━━━━━━━━\u001b[0m\u001b[37m\u001b[0m \u001b[1m0s\u001b[0m 55us/step - loss: 0.0138 - mean_absolute_percentage_error: 21.8048 - mean_squared_error: 2.8800e-04 - smape: 19.9228 - val_loss: 0.0167 - val_mean_absolute_percentage_error: 37.4584 - val_mean_squared_error: 4.7958e-04 - val_smape: 19.5525\n",
      "Epoch 5/50\n",
      "\u001b[1m2253/2253\u001b[0m \u001b[32m━━━━━━━━━━━━━━━━━━━━\u001b[0m\u001b[37m\u001b[0m \u001b[1m0s\u001b[0m 268ms/step - loss: 0.0178 - mean_absolute_percentage_error: 59270.5859 - mean_squared_error: 0.0012 - smape: 49.4066\n",
      "Epoch 5: saving model to training_2/ckpt.weights.h5\n",
      "\u001b[1m2253/2253\u001b[0m \u001b[32m━━━━━━━━━━━━━━━━━━━━\u001b[0m\u001b[37m\u001b[0m \u001b[1m666s\u001b[0m 296ms/step - loss: 0.0178 - mean_absolute_percentage_error: 59274.1133 - mean_squared_error: 0.0012 - smape: 49.4066 - val_loss: 0.0170 - val_mean_absolute_percentage_error: 89427.4375 - val_mean_squared_error: 8.1212e-04 - val_smape: 49.3648\n",
      "Epoch 6/50\n",
      "\u001b[1m   1/2253\u001b[0m \u001b[37m━━━━━━━━━━━━━━━━━━━━\u001b[0m \u001b[1m2:28\u001b[0m 66ms/step - loss: 0.0161 - mean_absolute_percentage_error: 25.8521 - mean_squared_error: 4.1508e-04 - smape: 44.2315\n",
      "Epoch 6: saving model to training_2/ckpt.weights.h5\n",
      "\u001b[1m2253/2253\u001b[0m \u001b[32m━━━━━━━━━━━━━━━━━━━━\u001b[0m\u001b[37m\u001b[0m \u001b[1m0s\u001b[0m 50us/step - loss: 0.0161 - mean_absolute_percentage_error: 25.8521 - mean_squared_error: 4.1508e-04 - smape: 22.1256 - val_loss: 0.0166 - val_mean_absolute_percentage_error: 37.0072 - val_mean_squared_error: 4.7302e-04 - val_smape: 19.6084\n",
      "Epoch 7/50\n",
      "\u001b[1m2253/2253\u001b[0m \u001b[32m━━━━━━━━━━━━━━━━━━━━\u001b[0m\u001b[37m\u001b[0m \u001b[1m0s\u001b[0m 269ms/step - loss: 0.0172 - mean_absolute_percentage_error: 57941.5391 - mean_squared_error: 7.2826e-04 - smape: 49.6112\n",
      "Epoch 7: saving model to training_2/ckpt.weights.h5\n",
      "\u001b[1m2253/2253\u001b[0m \u001b[32m━━━━━━━━━━━━━━━━━━━━\u001b[0m\u001b[37m\u001b[0m \u001b[1m673s\u001b[0m 299ms/step - loss: 0.0172 - mean_absolute_percentage_error: 57944.7500 - mean_squared_error: 7.2825e-04 - smape: 49.6113 - val_loss: 0.0166 - val_mean_absolute_percentage_error: 90322.1094 - val_mean_squared_error: 7.6375e-04 - val_smape: 48.0466\n",
      "Epoch 8/50\n",
      "\u001b[1m   1/2253\u001b[0m \u001b[37m━━━━━━━━━━━━━━━━━━━━\u001b[0m \u001b[1m1:56\u001b[0m 52ms/step - loss: 0.0134 - mean_absolute_percentage_error: 22.0650 - mean_squared_error: 2.8739e-04 - smape: 42.6615\n",
      "Epoch 8: saving model to training_2/ckpt.weights.h5\n",
      "\u001b[1m2253/2253\u001b[0m \u001b[32m━━━━━━━━━━━━━━━━━━━━\u001b[0m\u001b[37m\u001b[0m \u001b[1m0s\u001b[0m 61us/step - loss: 0.0134 - mean_absolute_percentage_error: 22.0650 - mean_squared_error: 2.8739e-04 - smape: 21.3402 - val_loss: 0.0158 - val_mean_absolute_percentage_error: 37.5142 - val_mean_squared_error: 5.0985e-04 - val_smape: 19.5770\n",
      "Epoch 9/50\n",
      "\u001b[1m  28/2253\u001b[0m \u001b[37m━━━━━━━━━━━━━━━━━━━━\u001b[0m \u001b[1m10:30\u001b[0m 283ms/step - loss: 0.0179 - mean_absolute_percentage_error: 55648.5664 - mean_squared_error: 7.9644e-04 - smape: 48.6089"
     ]
    },
    {
     "ename": "KeyboardInterrupt",
     "evalue": "",
     "output_type": "error",
     "traceback": [
      "\u001b[1;31m---------------------------------------------------------------------------\u001b[0m",
      "\u001b[1;31mKeyboardInterrupt\u001b[0m                         Traceback (most recent call last)",
      "Cell \u001b[1;32mIn[23], line 2\u001b[0m\n\u001b[0;32m      1\u001b[0m \u001b[38;5;28;01mimport\u001b[39;00m \u001b[38;5;21;01mpickle\u001b[39;00m\n\u001b[1;32m----> 2\u001b[0m history\u001b[38;5;241m=\u001b[39m\u001b[43mmodel\u001b[49m\u001b[38;5;241;43m.\u001b[39;49m\u001b[43mfit\u001b[49m\u001b[43m(\u001b[49m\u001b[43mtrain_dataset\u001b[49m\u001b[43m,\u001b[49m\u001b[43m \u001b[49m\u001b[43mbatch_size\u001b[49m\u001b[38;5;241;43m=\u001b[39;49m\u001b[38;5;241;43m32\u001b[39;49m\u001b[43m,\u001b[49m\u001b[43mepochs\u001b[49m\u001b[38;5;241;43m=\u001b[39;49m\u001b[38;5;241;43m50\u001b[39;49m\u001b[43m,\u001b[49m\u001b[43msteps_per_epoch\u001b[49m\u001b[38;5;241;43m=\u001b[39;49m\u001b[38;5;28;43mlen\u001b[39;49m\u001b[43m(\u001b[49m\u001b[43mX_train\u001b[49m\u001b[43m)\u001b[49m\u001b[38;5;241;43m/\u001b[39;49m\u001b[38;5;241;43m/\u001b[39;49m\u001b[38;5;241;43m32\u001b[39;49m\u001b[43m,\u001b[49m\u001b[43m \u001b[49m\u001b[43mvalidation_data\u001b[49m\u001b[38;5;241;43m=\u001b[39;49m\u001b[43mval_dataset\u001b[49m\u001b[43m,\u001b[49m\u001b[43mcallbacks\u001b[49m\u001b[38;5;241;43m=\u001b[39;49m\u001b[43m[\u001b[49m\u001b[43mearly_stopping\u001b[49m\u001b[43m,\u001b[49m\u001b[43mcp_callback\u001b[49m\u001b[43m]\u001b[49m\u001b[43m,\u001b[49m\u001b[43mvalidation_steps\u001b[49m\u001b[38;5;241;43m=\u001b[39;49m\u001b[38;5;28;43mlen\u001b[39;49m\u001b[43m(\u001b[49m\u001b[43mX_val\u001b[49m\u001b[43m)\u001b[49m\u001b[38;5;241;43m/\u001b[39;49m\u001b[38;5;241;43m/\u001b[39;49m\u001b[38;5;241;43m32\u001b[39;49m\u001b[43m)\u001b[49m\n",
      "File \u001b[1;32mc:\\Users\\benja\\anaconda3\\envs\\ee\\Lib\\site-packages\\keras\\src\\utils\\traceback_utils.py:117\u001b[0m, in \u001b[0;36mfilter_traceback.<locals>.error_handler\u001b[1;34m(*args, **kwargs)\u001b[0m\n\u001b[0;32m    115\u001b[0m filtered_tb \u001b[38;5;241m=\u001b[39m \u001b[38;5;28;01mNone\u001b[39;00m\n\u001b[0;32m    116\u001b[0m \u001b[38;5;28;01mtry\u001b[39;00m:\n\u001b[1;32m--> 117\u001b[0m     \u001b[38;5;28;01mreturn\u001b[39;00m \u001b[43mfn\u001b[49m\u001b[43m(\u001b[49m\u001b[38;5;241;43m*\u001b[39;49m\u001b[43margs\u001b[49m\u001b[43m,\u001b[49m\u001b[43m \u001b[49m\u001b[38;5;241;43m*\u001b[39;49m\u001b[38;5;241;43m*\u001b[39;49m\u001b[43mkwargs\u001b[49m\u001b[43m)\u001b[49m\n\u001b[0;32m    118\u001b[0m \u001b[38;5;28;01mexcept\u001b[39;00m \u001b[38;5;167;01mException\u001b[39;00m \u001b[38;5;28;01mas\u001b[39;00m e:\n\u001b[0;32m    119\u001b[0m     filtered_tb \u001b[38;5;241m=\u001b[39m _process_traceback_frames(e\u001b[38;5;241m.\u001b[39m__traceback__)\n",
      "File \u001b[1;32mc:\\Users\\benja\\anaconda3\\envs\\ee\\Lib\\site-packages\\keras\\src\\backend\\tensorflow\\trainer.py:314\u001b[0m, in \u001b[0;36mTensorFlowTrainer.fit\u001b[1;34m(self, x, y, batch_size, epochs, verbose, callbacks, validation_split, validation_data, shuffle, class_weight, sample_weight, initial_epoch, steps_per_epoch, validation_steps, validation_batch_size, validation_freq)\u001b[0m\n\u001b[0;32m    312\u001b[0m \u001b[38;5;28;01mfor\u001b[39;00m step, iterator \u001b[38;5;129;01min\u001b[39;00m epoch_iterator\u001b[38;5;241m.\u001b[39menumerate_epoch():\n\u001b[0;32m    313\u001b[0m     callbacks\u001b[38;5;241m.\u001b[39mon_train_batch_begin(step)\n\u001b[1;32m--> 314\u001b[0m     logs \u001b[38;5;241m=\u001b[39m \u001b[38;5;28;43mself\u001b[39;49m\u001b[38;5;241;43m.\u001b[39;49m\u001b[43mtrain_function\u001b[49m\u001b[43m(\u001b[49m\u001b[43miterator\u001b[49m\u001b[43m)\u001b[49m\n\u001b[0;32m    315\u001b[0m     logs \u001b[38;5;241m=\u001b[39m \u001b[38;5;28mself\u001b[39m\u001b[38;5;241m.\u001b[39m_pythonify_logs(logs)\n\u001b[0;32m    316\u001b[0m     callbacks\u001b[38;5;241m.\u001b[39mon_train_batch_end(step, logs)\n",
      "File \u001b[1;32mc:\\Users\\benja\\anaconda3\\envs\\ee\\Lib\\site-packages\\tensorflow\\python\\util\\traceback_utils.py:150\u001b[0m, in \u001b[0;36mfilter_traceback.<locals>.error_handler\u001b[1;34m(*args, **kwargs)\u001b[0m\n\u001b[0;32m    148\u001b[0m filtered_tb \u001b[38;5;241m=\u001b[39m \u001b[38;5;28;01mNone\u001b[39;00m\n\u001b[0;32m    149\u001b[0m \u001b[38;5;28;01mtry\u001b[39;00m:\n\u001b[1;32m--> 150\u001b[0m   \u001b[38;5;28;01mreturn\u001b[39;00m \u001b[43mfn\u001b[49m\u001b[43m(\u001b[49m\u001b[38;5;241;43m*\u001b[39;49m\u001b[43margs\u001b[49m\u001b[43m,\u001b[49m\u001b[43m \u001b[49m\u001b[38;5;241;43m*\u001b[39;49m\u001b[38;5;241;43m*\u001b[39;49m\u001b[43mkwargs\u001b[49m\u001b[43m)\u001b[49m\n\u001b[0;32m    151\u001b[0m \u001b[38;5;28;01mexcept\u001b[39;00m \u001b[38;5;167;01mException\u001b[39;00m \u001b[38;5;28;01mas\u001b[39;00m e:\n\u001b[0;32m    152\u001b[0m   filtered_tb \u001b[38;5;241m=\u001b[39m _process_traceback_frames(e\u001b[38;5;241m.\u001b[39m__traceback__)\n",
      "File \u001b[1;32mc:\\Users\\benja\\anaconda3\\envs\\ee\\Lib\\site-packages\\tensorflow\\python\\eager\\polymorphic_function\\polymorphic_function.py:833\u001b[0m, in \u001b[0;36mFunction.__call__\u001b[1;34m(self, *args, **kwds)\u001b[0m\n\u001b[0;32m    830\u001b[0m compiler \u001b[38;5;241m=\u001b[39m \u001b[38;5;124m\"\u001b[39m\u001b[38;5;124mxla\u001b[39m\u001b[38;5;124m\"\u001b[39m \u001b[38;5;28;01mif\u001b[39;00m \u001b[38;5;28mself\u001b[39m\u001b[38;5;241m.\u001b[39m_jit_compile \u001b[38;5;28;01melse\u001b[39;00m \u001b[38;5;124m\"\u001b[39m\u001b[38;5;124mnonXla\u001b[39m\u001b[38;5;124m\"\u001b[39m\n\u001b[0;32m    832\u001b[0m \u001b[38;5;28;01mwith\u001b[39;00m OptionalXlaContext(\u001b[38;5;28mself\u001b[39m\u001b[38;5;241m.\u001b[39m_jit_compile):\n\u001b[1;32m--> 833\u001b[0m   result \u001b[38;5;241m=\u001b[39m \u001b[38;5;28;43mself\u001b[39;49m\u001b[38;5;241;43m.\u001b[39;49m\u001b[43m_call\u001b[49m\u001b[43m(\u001b[49m\u001b[38;5;241;43m*\u001b[39;49m\u001b[43margs\u001b[49m\u001b[43m,\u001b[49m\u001b[43m \u001b[49m\u001b[38;5;241;43m*\u001b[39;49m\u001b[38;5;241;43m*\u001b[39;49m\u001b[43mkwds\u001b[49m\u001b[43m)\u001b[49m\n\u001b[0;32m    835\u001b[0m new_tracing_count \u001b[38;5;241m=\u001b[39m \u001b[38;5;28mself\u001b[39m\u001b[38;5;241m.\u001b[39mexperimental_get_tracing_count()\n\u001b[0;32m    836\u001b[0m without_tracing \u001b[38;5;241m=\u001b[39m (tracing_count \u001b[38;5;241m==\u001b[39m new_tracing_count)\n",
      "File \u001b[1;32mc:\\Users\\benja\\anaconda3\\envs\\ee\\Lib\\site-packages\\tensorflow\\python\\eager\\polymorphic_function\\polymorphic_function.py:878\u001b[0m, in \u001b[0;36mFunction._call\u001b[1;34m(self, *args, **kwds)\u001b[0m\n\u001b[0;32m    875\u001b[0m \u001b[38;5;28mself\u001b[39m\u001b[38;5;241m.\u001b[39m_lock\u001b[38;5;241m.\u001b[39mrelease()\n\u001b[0;32m    876\u001b[0m \u001b[38;5;66;03m# In this case we have not created variables on the first call. So we can\u001b[39;00m\n\u001b[0;32m    877\u001b[0m \u001b[38;5;66;03m# run the first trace but we should fail if variables are created.\u001b[39;00m\n\u001b[1;32m--> 878\u001b[0m results \u001b[38;5;241m=\u001b[39m \u001b[43mtracing_compilation\u001b[49m\u001b[38;5;241;43m.\u001b[39;49m\u001b[43mcall_function\u001b[49m\u001b[43m(\u001b[49m\n\u001b[0;32m    879\u001b[0m \u001b[43m    \u001b[49m\u001b[43margs\u001b[49m\u001b[43m,\u001b[49m\u001b[43m \u001b[49m\u001b[43mkwds\u001b[49m\u001b[43m,\u001b[49m\u001b[43m \u001b[49m\u001b[38;5;28;43mself\u001b[39;49m\u001b[38;5;241;43m.\u001b[39;49m\u001b[43m_variable_creation_config\u001b[49m\n\u001b[0;32m    880\u001b[0m \u001b[43m\u001b[49m\u001b[43m)\u001b[49m\n\u001b[0;32m    881\u001b[0m \u001b[38;5;28;01mif\u001b[39;00m \u001b[38;5;28mself\u001b[39m\u001b[38;5;241m.\u001b[39m_created_variables:\n\u001b[0;32m    882\u001b[0m   \u001b[38;5;28;01mraise\u001b[39;00m \u001b[38;5;167;01mValueError\u001b[39;00m(\u001b[38;5;124m\"\u001b[39m\u001b[38;5;124mCreating variables on a non-first call to a function\u001b[39m\u001b[38;5;124m\"\u001b[39m\n\u001b[0;32m    883\u001b[0m                    \u001b[38;5;124m\"\u001b[39m\u001b[38;5;124m decorated with tf.function.\u001b[39m\u001b[38;5;124m\"\u001b[39m)\n",
      "File \u001b[1;32mc:\\Users\\benja\\anaconda3\\envs\\ee\\Lib\\site-packages\\tensorflow\\python\\eager\\polymorphic_function\\tracing_compilation.py:139\u001b[0m, in \u001b[0;36mcall_function\u001b[1;34m(args, kwargs, tracing_options)\u001b[0m\n\u001b[0;32m    137\u001b[0m bound_args \u001b[38;5;241m=\u001b[39m function\u001b[38;5;241m.\u001b[39mfunction_type\u001b[38;5;241m.\u001b[39mbind(\u001b[38;5;241m*\u001b[39margs, \u001b[38;5;241m*\u001b[39m\u001b[38;5;241m*\u001b[39mkwargs)\n\u001b[0;32m    138\u001b[0m flat_inputs \u001b[38;5;241m=\u001b[39m function\u001b[38;5;241m.\u001b[39mfunction_type\u001b[38;5;241m.\u001b[39munpack_inputs(bound_args)\n\u001b[1;32m--> 139\u001b[0m \u001b[38;5;28;01mreturn\u001b[39;00m \u001b[43mfunction\u001b[49m\u001b[38;5;241;43m.\u001b[39;49m\u001b[43m_call_flat\u001b[49m\u001b[43m(\u001b[49m\u001b[43m  \u001b[49m\u001b[38;5;66;43;03m# pylint: disable=protected-access\u001b[39;49;00m\n\u001b[0;32m    140\u001b[0m \u001b[43m    \u001b[49m\u001b[43mflat_inputs\u001b[49m\u001b[43m,\u001b[49m\u001b[43m \u001b[49m\u001b[43mcaptured_inputs\u001b[49m\u001b[38;5;241;43m=\u001b[39;49m\u001b[43mfunction\u001b[49m\u001b[38;5;241;43m.\u001b[39;49m\u001b[43mcaptured_inputs\u001b[49m\n\u001b[0;32m    141\u001b[0m \u001b[43m\u001b[49m\u001b[43m)\u001b[49m\n",
      "File \u001b[1;32mc:\\Users\\benja\\anaconda3\\envs\\ee\\Lib\\site-packages\\tensorflow\\python\\eager\\polymorphic_function\\concrete_function.py:1322\u001b[0m, in \u001b[0;36mConcreteFunction._call_flat\u001b[1;34m(self, tensor_inputs, captured_inputs)\u001b[0m\n\u001b[0;32m   1318\u001b[0m possible_gradient_type \u001b[38;5;241m=\u001b[39m gradients_util\u001b[38;5;241m.\u001b[39mPossibleTapeGradientTypes(args)\n\u001b[0;32m   1319\u001b[0m \u001b[38;5;28;01mif\u001b[39;00m (possible_gradient_type \u001b[38;5;241m==\u001b[39m gradients_util\u001b[38;5;241m.\u001b[39mPOSSIBLE_GRADIENT_TYPES_NONE\n\u001b[0;32m   1320\u001b[0m     \u001b[38;5;129;01mand\u001b[39;00m executing_eagerly):\n\u001b[0;32m   1321\u001b[0m   \u001b[38;5;66;03m# No tape is watching; skip to running the function.\u001b[39;00m\n\u001b[1;32m-> 1322\u001b[0m   \u001b[38;5;28;01mreturn\u001b[39;00m \u001b[38;5;28;43mself\u001b[39;49m\u001b[38;5;241;43m.\u001b[39;49m\u001b[43m_inference_function\u001b[49m\u001b[38;5;241;43m.\u001b[39;49m\u001b[43mcall_preflattened\u001b[49m\u001b[43m(\u001b[49m\u001b[43margs\u001b[49m\u001b[43m)\u001b[49m\n\u001b[0;32m   1323\u001b[0m forward_backward \u001b[38;5;241m=\u001b[39m \u001b[38;5;28mself\u001b[39m\u001b[38;5;241m.\u001b[39m_select_forward_and_backward_functions(\n\u001b[0;32m   1324\u001b[0m     args,\n\u001b[0;32m   1325\u001b[0m     possible_gradient_type,\n\u001b[0;32m   1326\u001b[0m     executing_eagerly)\n\u001b[0;32m   1327\u001b[0m forward_function, args_with_tangents \u001b[38;5;241m=\u001b[39m forward_backward\u001b[38;5;241m.\u001b[39mforward()\n",
      "File \u001b[1;32mc:\\Users\\benja\\anaconda3\\envs\\ee\\Lib\\site-packages\\tensorflow\\python\\eager\\polymorphic_function\\atomic_function.py:216\u001b[0m, in \u001b[0;36mAtomicFunction.call_preflattened\u001b[1;34m(self, args)\u001b[0m\n\u001b[0;32m    214\u001b[0m \u001b[38;5;28;01mdef\u001b[39;00m \u001b[38;5;21mcall_preflattened\u001b[39m(\u001b[38;5;28mself\u001b[39m, args: Sequence[core\u001b[38;5;241m.\u001b[39mTensor]) \u001b[38;5;241m-\u001b[39m\u001b[38;5;241m>\u001b[39m Any:\n\u001b[0;32m    215\u001b[0m \u001b[38;5;250m  \u001b[39m\u001b[38;5;124;03m\"\"\"Calls with flattened tensor inputs and returns the structured output.\"\"\"\u001b[39;00m\n\u001b[1;32m--> 216\u001b[0m   flat_outputs \u001b[38;5;241m=\u001b[39m \u001b[38;5;28;43mself\u001b[39;49m\u001b[38;5;241;43m.\u001b[39;49m\u001b[43mcall_flat\u001b[49m\u001b[43m(\u001b[49m\u001b[38;5;241;43m*\u001b[39;49m\u001b[43margs\u001b[49m\u001b[43m)\u001b[49m\n\u001b[0;32m    217\u001b[0m   \u001b[38;5;28;01mreturn\u001b[39;00m \u001b[38;5;28mself\u001b[39m\u001b[38;5;241m.\u001b[39mfunction_type\u001b[38;5;241m.\u001b[39mpack_output(flat_outputs)\n",
      "File \u001b[1;32mc:\\Users\\benja\\anaconda3\\envs\\ee\\Lib\\site-packages\\tensorflow\\python\\eager\\polymorphic_function\\atomic_function.py:251\u001b[0m, in \u001b[0;36mAtomicFunction.call_flat\u001b[1;34m(self, *args)\u001b[0m\n\u001b[0;32m    249\u001b[0m \u001b[38;5;28;01mwith\u001b[39;00m record\u001b[38;5;241m.\u001b[39mstop_recording():\n\u001b[0;32m    250\u001b[0m   \u001b[38;5;28;01mif\u001b[39;00m \u001b[38;5;28mself\u001b[39m\u001b[38;5;241m.\u001b[39m_bound_context\u001b[38;5;241m.\u001b[39mexecuting_eagerly():\n\u001b[1;32m--> 251\u001b[0m     outputs \u001b[38;5;241m=\u001b[39m \u001b[38;5;28;43mself\u001b[39;49m\u001b[38;5;241;43m.\u001b[39;49m\u001b[43m_bound_context\u001b[49m\u001b[38;5;241;43m.\u001b[39;49m\u001b[43mcall_function\u001b[49m\u001b[43m(\u001b[49m\n\u001b[0;32m    252\u001b[0m \u001b[43m        \u001b[49m\u001b[38;5;28;43mself\u001b[39;49m\u001b[38;5;241;43m.\u001b[39;49m\u001b[43mname\u001b[49m\u001b[43m,\u001b[49m\n\u001b[0;32m    253\u001b[0m \u001b[43m        \u001b[49m\u001b[38;5;28;43mlist\u001b[39;49m\u001b[43m(\u001b[49m\u001b[43margs\u001b[49m\u001b[43m)\u001b[49m\u001b[43m,\u001b[49m\n\u001b[0;32m    254\u001b[0m \u001b[43m        \u001b[49m\u001b[38;5;28;43mlen\u001b[39;49m\u001b[43m(\u001b[49m\u001b[38;5;28;43mself\u001b[39;49m\u001b[38;5;241;43m.\u001b[39;49m\u001b[43mfunction_type\u001b[49m\u001b[38;5;241;43m.\u001b[39;49m\u001b[43mflat_outputs\u001b[49m\u001b[43m)\u001b[49m\u001b[43m,\u001b[49m\n\u001b[0;32m    255\u001b[0m \u001b[43m    \u001b[49m\u001b[43m)\u001b[49m\n\u001b[0;32m    256\u001b[0m   \u001b[38;5;28;01melse\u001b[39;00m:\n\u001b[0;32m    257\u001b[0m     outputs \u001b[38;5;241m=\u001b[39m make_call_op_in_graph(\n\u001b[0;32m    258\u001b[0m         \u001b[38;5;28mself\u001b[39m,\n\u001b[0;32m    259\u001b[0m         \u001b[38;5;28mlist\u001b[39m(args),\n\u001b[0;32m    260\u001b[0m         \u001b[38;5;28mself\u001b[39m\u001b[38;5;241m.\u001b[39m_bound_context\u001b[38;5;241m.\u001b[39mfunction_call_options\u001b[38;5;241m.\u001b[39mas_attrs(),\n\u001b[0;32m    261\u001b[0m     )\n",
      "File \u001b[1;32mc:\\Users\\benja\\anaconda3\\envs\\ee\\Lib\\site-packages\\tensorflow\\python\\eager\\context.py:1500\u001b[0m, in \u001b[0;36mContext.call_function\u001b[1;34m(self, name, tensor_inputs, num_outputs)\u001b[0m\n\u001b[0;32m   1498\u001b[0m cancellation_context \u001b[38;5;241m=\u001b[39m cancellation\u001b[38;5;241m.\u001b[39mcontext()\n\u001b[0;32m   1499\u001b[0m \u001b[38;5;28;01mif\u001b[39;00m cancellation_context \u001b[38;5;129;01mis\u001b[39;00m \u001b[38;5;28;01mNone\u001b[39;00m:\n\u001b[1;32m-> 1500\u001b[0m   outputs \u001b[38;5;241m=\u001b[39m \u001b[43mexecute\u001b[49m\u001b[38;5;241;43m.\u001b[39;49m\u001b[43mexecute\u001b[49m\u001b[43m(\u001b[49m\n\u001b[0;32m   1501\u001b[0m \u001b[43m      \u001b[49m\u001b[43mname\u001b[49m\u001b[38;5;241;43m.\u001b[39;49m\u001b[43mdecode\u001b[49m\u001b[43m(\u001b[49m\u001b[38;5;124;43m\"\u001b[39;49m\u001b[38;5;124;43mutf-8\u001b[39;49m\u001b[38;5;124;43m\"\u001b[39;49m\u001b[43m)\u001b[49m\u001b[43m,\u001b[49m\n\u001b[0;32m   1502\u001b[0m \u001b[43m      \u001b[49m\u001b[43mnum_outputs\u001b[49m\u001b[38;5;241;43m=\u001b[39;49m\u001b[43mnum_outputs\u001b[49m\u001b[43m,\u001b[49m\n\u001b[0;32m   1503\u001b[0m \u001b[43m      \u001b[49m\u001b[43minputs\u001b[49m\u001b[38;5;241;43m=\u001b[39;49m\u001b[43mtensor_inputs\u001b[49m\u001b[43m,\u001b[49m\n\u001b[0;32m   1504\u001b[0m \u001b[43m      \u001b[49m\u001b[43mattrs\u001b[49m\u001b[38;5;241;43m=\u001b[39;49m\u001b[43mattrs\u001b[49m\u001b[43m,\u001b[49m\n\u001b[0;32m   1505\u001b[0m \u001b[43m      \u001b[49m\u001b[43mctx\u001b[49m\u001b[38;5;241;43m=\u001b[39;49m\u001b[38;5;28;43mself\u001b[39;49m\u001b[43m,\u001b[49m\n\u001b[0;32m   1506\u001b[0m \u001b[43m  \u001b[49m\u001b[43m)\u001b[49m\n\u001b[0;32m   1507\u001b[0m \u001b[38;5;28;01melse\u001b[39;00m:\n\u001b[0;32m   1508\u001b[0m   outputs \u001b[38;5;241m=\u001b[39m execute\u001b[38;5;241m.\u001b[39mexecute_with_cancellation(\n\u001b[0;32m   1509\u001b[0m       name\u001b[38;5;241m.\u001b[39mdecode(\u001b[38;5;124m\"\u001b[39m\u001b[38;5;124mutf-8\u001b[39m\u001b[38;5;124m\"\u001b[39m),\n\u001b[0;32m   1510\u001b[0m       num_outputs\u001b[38;5;241m=\u001b[39mnum_outputs,\n\u001b[1;32m   (...)\u001b[0m\n\u001b[0;32m   1514\u001b[0m       cancellation_manager\u001b[38;5;241m=\u001b[39mcancellation_context,\n\u001b[0;32m   1515\u001b[0m   )\n",
      "File \u001b[1;32mc:\\Users\\benja\\anaconda3\\envs\\ee\\Lib\\site-packages\\tensorflow\\python\\eager\\execute.py:53\u001b[0m, in \u001b[0;36mquick_execute\u001b[1;34m(op_name, num_outputs, inputs, attrs, ctx, name)\u001b[0m\n\u001b[0;32m     51\u001b[0m \u001b[38;5;28;01mtry\u001b[39;00m:\n\u001b[0;32m     52\u001b[0m   ctx\u001b[38;5;241m.\u001b[39mensure_initialized()\n\u001b[1;32m---> 53\u001b[0m   tensors \u001b[38;5;241m=\u001b[39m \u001b[43mpywrap_tfe\u001b[49m\u001b[38;5;241;43m.\u001b[39;49m\u001b[43mTFE_Py_Execute\u001b[49m\u001b[43m(\u001b[49m\u001b[43mctx\u001b[49m\u001b[38;5;241;43m.\u001b[39;49m\u001b[43m_handle\u001b[49m\u001b[43m,\u001b[49m\u001b[43m \u001b[49m\u001b[43mdevice_name\u001b[49m\u001b[43m,\u001b[49m\u001b[43m \u001b[49m\u001b[43mop_name\u001b[49m\u001b[43m,\u001b[49m\n\u001b[0;32m     54\u001b[0m \u001b[43m                                      \u001b[49m\u001b[43minputs\u001b[49m\u001b[43m,\u001b[49m\u001b[43m \u001b[49m\u001b[43mattrs\u001b[49m\u001b[43m,\u001b[49m\u001b[43m \u001b[49m\u001b[43mnum_outputs\u001b[49m\u001b[43m)\u001b[49m\n\u001b[0;32m     55\u001b[0m \u001b[38;5;28;01mexcept\u001b[39;00m core\u001b[38;5;241m.\u001b[39m_NotOkStatusException \u001b[38;5;28;01mas\u001b[39;00m e:\n\u001b[0;32m     56\u001b[0m   \u001b[38;5;28;01mif\u001b[39;00m name \u001b[38;5;129;01mis\u001b[39;00m \u001b[38;5;129;01mnot\u001b[39;00m \u001b[38;5;28;01mNone\u001b[39;00m:\n",
      "\u001b[1;31mKeyboardInterrupt\u001b[0m: "
     ]
    }
   ],
   "source": [
    "import pickle\n",
    "history=model.fit(train_dataset, batch_size=32,epochs=50,steps_per_epoch=len(X_train)//32, validation_data=val_dataset,callbacks=[early_stopping,cp_callback],validation_steps=len(X_val)//32)\n",
    "\n",
    "\n"
   ]
  },
  {
   "cell_type": "code",
   "execution_count": null,
   "metadata": {},
   "outputs": [],
   "source": [
    "import matplotlib.pyplot as plt\n",
    "s=[df_Scaled.std()]*32\n",
    "colors = ['b', 'g', 'r', 'c', 'm', 'y','k','orange', 'purple', 'brown', 'pink', 'lime', 'teal', 'gray', 'olive', 'navy']\n",
    "\n",
    "    # Grafica los valores de loss\n",
    "plt.plot(history.history['loss'],  color='purple',label='Loss')\n",
    "plt.plot(history.history['val_loss'],color='olive',label='Val_Loss')\n",
    "plt.plot(s,label='Standard Deviation',color='pink')\n",
    "# Agrega etiquetas al gráfico\n",
    "plt.xlabel('Epoch')\n",
    "plt.ylabel('Value')\n",
    "plt.ylim(0,0.06)\n",
    "plt.title('Training & Validation Loss per Epoch')\n",
    "plt.xlim(0,32)\n",
    "\n",
    "plt.legend()\n",
    "\n",
    "plt.grid(True)\n",
    "plt.savefig('val_loss_whole.png',format='png')\n",
    "# Muestra el gráfico\n",
    "plt.show()"
   ]
  },
  {
   "cell_type": "code",
   "execution_count": null,
   "metadata": {},
   "outputs": [],
   "source": [
    "test_dataset = create_combined_dataset(images_test, X_test, y_test, 1)\n",
    "predict = model.predict(test_dataset,steps=len(y_test))"
   ]
  },
  {
   "cell_type": "code",
   "execution_count": null,
   "metadata": {},
   "outputs": [],
   "source": [
    "from sklearn.metrics import mean_absolute_error, r2_score, mean_squared_error\n",
    "import numpy as np\n",
    "\n",
    "# Calcular MAE\n",
    "mae = mean_absolute_error(y_test, predict)\n",
    "mse= mean_squared_error(y_test, predict)\n",
    "# Calcular R-squared\n",
    "r2 = r2_score(y_test, predict)\n",
    "def smape(y_true, y_pred):\n",
    "    \"\"\"\n",
    "    Calcula el Symmetric Mean Absolute Percentage Error.\n",
    "    \"\"\"\n",
    "    return 100 * np.mean(2 * np.abs(y_pred - y_true) / (np.abs(y_true) + np.abs(y_pred) + 1e-6))\n",
    "\n",
    "smape = smape(y_test, predict)\n",
    "\n",
    "# Imprimir las métricas\n",
    "print(f\"MAE: {mae}\")\n",
    "print(f\"MSE: {mse}\")\n",
    "print(f\"R-squared: {r2}\")\n",
    "print(f\"SMAPE: {smape}%\")"
   ]
  },
  {
   "cell_type": "code",
   "execution_count": null,
   "metadata": {},
   "outputs": [],
   "source": [
    "plt.scatter(y_test, predict, color='blue', alpha=0.5)\n",
    "\n",
    "plt.xlabel('Valores Reales')\n",
    "plt.ylabel('predicciones')\n",
    "plt.xlim(0,1)\n",
    "plt.ylim(0,1)\n",
    "\n",
    "plt.show()"
   ]
  },
  {
   "cell_type": "code",
   "execution_count": null,
   "metadata": {},
   "outputs": [],
   "source": [
    "residuos = []\n",
    "for a in range(len(y_test)):\n",
    "    residuos.append(float(y_test[a])-float(y_test[a]))\n",
    "    import seaborn as sns\n",
    "sns.histplot(residuos,kde=True,bins=600)\n",
    "plt.xlim(-0.1,0.1)\n",
    "plt.show()"
   ]
  }
 ],
 "metadata": {
  "kernelspec": {
   "display_name": "ee",
   "language": "python",
   "name": "python3"
  },
  "language_info": {
   "codemirror_mode": {
    "name": "ipython",
    "version": 3
   },
   "file_extension": ".py",
   "mimetype": "text/x-python",
   "name": "python",
   "nbconvert_exporter": "python",
   "pygments_lexer": "ipython3",
   "version": "3.12.3"
  }
 },
 "nbformat": 4,
 "nbformat_minor": 2
}
