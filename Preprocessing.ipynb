{
  "nbformat": 4,
  "nbformat_minor": 0,
  "metadata": {
    "colab": {
      "provenance": []
    },
    "kernelspec": {
      "name": "python3",
      "display_name": "Python 3"
    },
    "language_info": {
      "name": "python"
    },
    "widgets": {
      "application/vnd.jupyter.widget-state+json": {
        "157764a7cd814a0e887bf1cde12f2e70": {
          "model_module": "jupyter-leaflet",
          "model_name": "LeafletMapModel",
          "model_module_version": "^0.18",
          "state": {
            "_dom_classes": [],
            "_model_module": "jupyter-leaflet",
            "_model_module_version": "^0.18",
            "_model_name": "LeafletMapModel",
            "_view_count": null,
            "_view_module": "jupyter-leaflet",
            "_view_module_version": "^0.18",
            "_view_name": "LeafletMapView",
            "bottom": 37266,
            "bounce_at_zoom_limits": true,
            "box_zoom": true,
            "center": [
              -22.46,
              -68.93
            ],
            "close_popup_on_click": true,
            "controls": [
              "IPY_MODEL_7f4913f42f034cb5846532843b1c8bb6",
              "IPY_MODEL_e90817740eef454f9846545980bc53e4",
              "IPY_MODEL_202c57950cd143ec9836b3cc86c9bc4c",
              "IPY_MODEL_fd21a42883bf4086bff52018db06b4cb",
              "IPY_MODEL_6ade661599274ca79eee62455539686b",
              "IPY_MODEL_a8d7c7c4a88f46dfbe9a65f08413a760"
            ],
            "crs": {
              "name": "EPSG3857",
              "custom": false
            },
            "default_style": "IPY_MODEL_7505788d830045de915ebe937bafb92a",
            "double_click_zoom": true,
            "dragging": true,
            "dragging_style": "IPY_MODEL_d4f24cd658d348d5b66e23303054366e",
            "east": -64.48425292968751,
            "fullscreen": false,
            "inertia": true,
            "inertia_deceleration": 3000,
            "inertia_max_speed": 1500,
            "interpolation": "bilinear",
            "keyboard": true,
            "keyboard_pan_offset": 80,
            "keyboard_zoom_offset": 1,
            "layers": [
              "IPY_MODEL_c512f2f3b25c4eb580e61940d6896482",
              "IPY_MODEL_4e23818a752e4ea4b6311ee430b9808c",
              "IPY_MODEL_728bcec2b1074b97afdd7fa42eff625f"
            ],
            "layout": "IPY_MODEL_32a708b45a6a496994fe02fdf687fe4c",
            "left": 19411,
            "max_zoom": null,
            "min_zoom": null,
            "modisdate": "2023-12-12",
            "north": -20.930658643632874,
            "options": [
              "bounce_at_zoom_limits",
              "box_zoom",
              "center",
              "close_popup_on_click",
              "double_click_zoom",
              "dragging",
              "fullscreen",
              "inertia",
              "inertia_deceleration",
              "inertia_max_speed",
              "interpolation",
              "keyboard",
              "keyboard_pan_offset",
              "keyboard_zoom_offset",
              "max_zoom",
              "min_zoom",
              "prefer_canvas",
              "scroll_wheel_zoom",
              "tap",
              "tap_tolerance",
              "touch_zoom",
              "world_copy_jump",
              "zoom",
              "zoom_animation_threshold",
              "zoom_delta",
              "zoom_snap"
            ],
            "panes": {},
            "prefer_canvas": false,
            "right": 21029,
            "scroll_wheel_zoom": true,
            "south": -23.976214626638292,
            "style": "IPY_MODEL_2c1aef1bd6ba45d6af130ae7d4efd80e",
            "tap": true,
            "tap_tolerance": 15,
            "top": 36666,
            "touch_zoom": true,
            "west": -73.37219238281251,
            "window_url": "https://89dzt6zg95j-496ff2e9c6d22116-0-colab.googleusercontent.com/outputframe.html?vrz=colab_20231211-060141_RC00_589772369",
            "world_copy_jump": false,
            "zoom": 8,
            "zoom_animation_threshold": 4,
            "zoom_delta": 1,
            "zoom_snap": 1
          }
        },
        "7f4913f42f034cb5846532843b1c8bb6": {
          "model_module": "jupyter-leaflet",
          "model_name": "LeafletZoomControlModel",
          "model_module_version": "^0.18",
          "state": {
            "_model_module": "jupyter-leaflet",
            "_model_module_version": "^0.18",
            "_model_name": "LeafletZoomControlModel",
            "_view_count": null,
            "_view_module": "jupyter-leaflet",
            "_view_module_version": "^0.18",
            "_view_name": "LeafletZoomControlView",
            "options": [
              "position",
              "zoom_in_text",
              "zoom_in_title",
              "zoom_out_text",
              "zoom_out_title"
            ],
            "position": "topleft",
            "zoom_in_text": "+",
            "zoom_in_title": "Zoom in",
            "zoom_out_text": "-",
            "zoom_out_title": "Zoom out"
          }
        },
        "e90817740eef454f9846545980bc53e4": {
          "model_module": "jupyter-leaflet",
          "model_name": "LeafletFullScreenControlModel",
          "model_module_version": "^0.18",
          "state": {
            "_model_module": "jupyter-leaflet",
            "_model_module_version": "^0.18",
            "_model_name": "LeafletFullScreenControlModel",
            "_view_count": null,
            "_view_module": "jupyter-leaflet",
            "_view_module_version": "^0.18",
            "_view_name": "LeafletFullScreenControlView",
            "options": [
              "position"
            ],
            "position": "topleft"
          }
        },
        "202c57950cd143ec9836b3cc86c9bc4c": {
          "model_module": "jupyter-leaflet",
          "model_name": "LeafletDrawControlModel",
          "model_module_version": "^0.18",
          "state": {
            "_model_module": "jupyter-leaflet",
            "_model_module_version": "^0.18",
            "_model_name": "LeafletDrawControlModel",
            "_view_count": null,
            "_view_module": "jupyter-leaflet",
            "_view_module_version": "^0.18",
            "_view_name": "LeafletDrawControlView",
            "circle": {},
            "circlemarker": {},
            "data": [],
            "edit": true,
            "marker": {
              "shapeOptions": {
                "color": "#3388ff"
              }
            },
            "options": [
              "position"
            ],
            "polygon": {
              "shapeOptions": {}
            },
            "polyline": {
              "shapeOptions": {}
            },
            "position": "topleft",
            "rectangle": {
              "shapeOptions": {
                "color": "#3388ff"
              }
            },
            "remove": true
          }
        },
        "fd21a42883bf4086bff52018db06b4cb": {
          "model_module": "jupyter-leaflet",
          "model_name": "LeafletScaleControlModel",
          "model_module_version": "^0.18",
          "state": {
            "_model_module": "jupyter-leaflet",
            "_model_module_version": "^0.18",
            "_model_name": "LeafletScaleControlModel",
            "_view_count": null,
            "_view_module": "jupyter-leaflet",
            "_view_module_version": "^0.18",
            "_view_name": "LeafletScaleControlView",
            "imperial": true,
            "max_width": 100,
            "metric": true,
            "options": [
              "imperial",
              "max_width",
              "metric",
              "position",
              "update_when_idle"
            ],
            "position": "bottomleft",
            "update_when_idle": false
          }
        },
        "6ade661599274ca79eee62455539686b": {
          "model_module": "jupyter-leaflet",
          "model_name": "LeafletWidgetControlModel",
          "model_module_version": "^0.18",
          "state": {
            "_model_module": "jupyter-leaflet",
            "_model_module_version": "^0.18",
            "_model_name": "LeafletWidgetControlModel",
            "_view_count": null,
            "_view_module": "jupyter-leaflet",
            "_view_module_version": "^0.18",
            "_view_name": "LeafletWidgetControlView",
            "max_height": null,
            "max_width": null,
            "min_height": null,
            "min_width": null,
            "options": [
              "position",
              "transparent_bg"
            ],
            "position": "topright",
            "transparent_bg": false,
            "widget": "IPY_MODEL_23491b8d15704682a9534c04fd873f91"
          }
        },
        "a8d7c7c4a88f46dfbe9a65f08413a760": {
          "model_module": "jupyter-leaflet",
          "model_name": "LeafletAttributionControlModel",
          "model_module_version": "^0.18",
          "state": {
            "_model_module": "jupyter-leaflet",
            "_model_module_version": "^0.18",
            "_model_name": "LeafletAttributionControlModel",
            "_view_count": null,
            "_view_module": "jupyter-leaflet",
            "_view_module_version": "^0.18",
            "_view_name": "LeafletAttributionControlView",
            "options": [
              "position",
              "prefix"
            ],
            "position": "bottomright",
            "prefix": "ipyleaflet"
          }
        },
        "7505788d830045de915ebe937bafb92a": {
          "model_module": "jupyter-leaflet",
          "model_name": "LeafletMapStyleModel",
          "model_module_version": "^0.18",
          "state": {
            "_model_module": "jupyter-leaflet",
            "_model_module_version": "^0.18",
            "_model_name": "LeafletMapStyleModel",
            "_view_count": null,
            "_view_module": "@jupyter-widgets/base",
            "_view_module_version": "1.2.0",
            "_view_name": "StyleView",
            "cursor": "grab"
          }
        },
        "d4f24cd658d348d5b66e23303054366e": {
          "model_module": "jupyter-leaflet",
          "model_name": "LeafletMapStyleModel",
          "model_module_version": "^0.18",
          "state": {
            "_model_module": "jupyter-leaflet",
            "_model_module_version": "^0.18",
            "_model_name": "LeafletMapStyleModel",
            "_view_count": null,
            "_view_module": "@jupyter-widgets/base",
            "_view_module_version": "1.2.0",
            "_view_name": "StyleView",
            "cursor": "move"
          }
        },
        "c512f2f3b25c4eb580e61940d6896482": {
          "model_module": "jupyter-leaflet",
          "model_name": "LeafletTileLayerModel",
          "model_module_version": "^0.18",
          "state": {
            "_model_module": "jupyter-leaflet",
            "_model_module_version": "^0.18",
            "_model_name": "LeafletTileLayerModel",
            "_view_count": null,
            "_view_module": "jupyter-leaflet",
            "_view_module_version": "^0.18",
            "_view_name": "LeafletTileLayerView",
            "attribution": "&copy; <a href=\"https://www.openstreetmap.org/copyright\">OpenStreetMap</a> contributors",
            "base": true,
            "bottom": true,
            "bounds": null,
            "detect_retina": false,
            "loading": false,
            "max_native_zoom": null,
            "max_zoom": 19,
            "min_native_zoom": null,
            "min_zoom": 1,
            "name": "OpenStreetMap.Mapnik",
            "no_wrap": false,
            "opacity": 1,
            "options": [
              "attribution",
              "bounds",
              "detect_retina",
              "max_native_zoom",
              "max_zoom",
              "min_native_zoom",
              "min_zoom",
              "no_wrap",
              "tile_size",
              "tms",
              "zoom_offset"
            ],
            "pane": "",
            "popup": null,
            "popup_max_height": null,
            "popup_max_width": 300,
            "popup_min_width": 50,
            "show_loading": false,
            "subitems": [],
            "tile_size": 256,
            "tms": false,
            "url": "https://tile.openstreetmap.org/{z}/{x}/{y}.png",
            "visible": true,
            "zoom_offset": 0
          }
        },
        "4e23818a752e4ea4b6311ee430b9808c": {
          "model_module": "jupyter-leaflet",
          "model_name": "LeafletTileLayerModel",
          "model_module_version": "^0.18",
          "state": {
            "_model_module": "jupyter-leaflet",
            "_model_module_version": "^0.18",
            "_model_name": "LeafletTileLayerModel",
            "_view_count": null,
            "_view_module": "jupyter-leaflet",
            "_view_module_version": "^0.18",
            "_view_name": "LeafletTileLayerView",
            "attribution": "Google Earth Engine",
            "base": false,
            "bottom": true,
            "bounds": null,
            "detect_retina": false,
            "loading": false,
            "max_native_zoom": null,
            "max_zoom": 24,
            "min_native_zoom": null,
            "min_zoom": 0,
            "name": "True Color (432)",
            "no_wrap": false,
            "opacity": 1,
            "options": [
              "attribution",
              "bounds",
              "detect_retina",
              "max_native_zoom",
              "max_zoom",
              "min_native_zoom",
              "min_zoom",
              "no_wrap",
              "tile_size",
              "tms",
              "zoom_offset"
            ],
            "pane": "",
            "popup": null,
            "popup_max_height": null,
            "popup_max_width": 300,
            "popup_min_width": 50,
            "show_loading": false,
            "subitems": [],
            "tile_size": 256,
            "tms": false,
            "url": "https://earthengine.googleapis.com/v1/projects/earthengine-legacy/maps/489bbb60f39a53940f683a2c2a284bf5-424bbad2fe6847216b8588e88aebceb7/tiles/{z}/{x}/{y}",
            "visible": true,
            "zoom_offset": 0
          }
        },
        "728bcec2b1074b97afdd7fa42eff625f": {
          "model_module": "jupyter-leaflet",
          "model_name": "LeafletTileLayerModel",
          "model_module_version": "^0.18",
          "state": {
            "_model_module": "jupyter-leaflet",
            "_model_module_version": "^0.18",
            "_model_name": "LeafletTileLayerModel",
            "_view_count": null,
            "_view_module": "jupyter-leaflet",
            "_view_module_version": "^0.18",
            "_view_name": "LeafletTileLayerView",
            "attribution": "Google Earth Engine",
            "base": false,
            "bottom": true,
            "bounds": null,
            "detect_retina": false,
            "loading": false,
            "max_native_zoom": null,
            "max_zoom": 24,
            "min_native_zoom": null,
            "min_zoom": 0,
            "name": "Geometry [black]: point",
            "no_wrap": false,
            "opacity": 1,
            "options": [
              "attribution",
              "bounds",
              "detect_retina",
              "max_native_zoom",
              "max_zoom",
              "min_native_zoom",
              "min_zoom",
              "no_wrap",
              "tile_size",
              "tms",
              "zoom_offset"
            ],
            "pane": "",
            "popup": null,
            "popup_max_height": null,
            "popup_max_width": 300,
            "popup_min_width": 50,
            "show_loading": false,
            "subitems": [],
            "tile_size": 256,
            "tms": false,
            "url": "https://earthengine.googleapis.com/v1/projects/earthengine-legacy/maps/af2c5fcd9e741b1df4850debb34f781b-e018524928ddc07728c5d07e9d0a638f/tiles/{z}/{x}/{y}",
            "visible": true,
            "zoom_offset": 0
          }
        },
        "32a708b45a6a496994fe02fdf687fe4c": {
          "model_module": "@jupyter-widgets/base",
          "model_name": "LayoutModel",
          "model_module_version": "1.2.0",
          "state": {
            "_model_module": "@jupyter-widgets/base",
            "_model_module_version": "1.2.0",
            "_model_name": "LayoutModel",
            "_view_count": null,
            "_view_module": "@jupyter-widgets/base",
            "_view_module_version": "1.2.0",
            "_view_name": "LayoutView",
            "align_content": null,
            "align_items": null,
            "align_self": null,
            "border": null,
            "bottom": null,
            "display": null,
            "flex": null,
            "flex_flow": null,
            "grid_area": null,
            "grid_auto_columns": null,
            "grid_auto_flow": null,
            "grid_auto_rows": null,
            "grid_column": null,
            "grid_gap": null,
            "grid_row": null,
            "grid_template_areas": null,
            "grid_template_columns": null,
            "grid_template_rows": null,
            "height": "600px",
            "justify_content": null,
            "justify_items": null,
            "left": null,
            "margin": null,
            "max_height": null,
            "max_width": null,
            "min_height": null,
            "min_width": null,
            "object_fit": null,
            "object_position": null,
            "order": null,
            "overflow": null,
            "overflow_x": null,
            "overflow_y": null,
            "padding": null,
            "right": null,
            "top": null,
            "visibility": null,
            "width": null
          }
        },
        "2c1aef1bd6ba45d6af130ae7d4efd80e": {
          "model_module": "jupyter-leaflet",
          "model_name": "LeafletMapStyleModel",
          "model_module_version": "^0.18",
          "state": {
            "_model_module": "jupyter-leaflet",
            "_model_module_version": "^0.18",
            "_model_name": "LeafletMapStyleModel",
            "_view_count": null,
            "_view_module": "@jupyter-widgets/base",
            "_view_module_version": "1.2.0",
            "_view_name": "StyleView",
            "cursor": "grab"
          }
        },
        "23491b8d15704682a9534c04fd873f91": {
          "model_module": "@jupyter-widgets/controls",
          "model_name": "VBoxModel",
          "model_module_version": "1.5.0",
          "state": {
            "_dom_classes": [
              "geemap-colab"
            ],
            "_model_module": "@jupyter-widgets/controls",
            "_model_module_version": "1.5.0",
            "_model_name": "VBoxModel",
            "_view_count": null,
            "_view_module": "@jupyter-widgets/controls",
            "_view_module_version": "1.5.0",
            "_view_name": "VBoxView",
            "box_style": "",
            "children": [
              "IPY_MODEL_67cd0055b619489693b5286adf7b9c03"
            ],
            "layout": "IPY_MODEL_35d7b0423eb04d89925545316e28aa00"
          }
        },
        "67cd0055b619489693b5286adf7b9c03": {
          "model_module": "@jupyter-widgets/controls",
          "model_name": "ToggleButtonModel",
          "model_module_version": "1.5.0",
          "state": {
            "_dom_classes": [],
            "_model_module": "@jupyter-widgets/controls",
            "_model_module_version": "1.5.0",
            "_model_name": "ToggleButtonModel",
            "_view_count": null,
            "_view_module": "@jupyter-widgets/controls",
            "_view_module_version": "1.5.0",
            "_view_name": "ToggleButtonView",
            "button_style": "",
            "description": "",
            "description_tooltip": null,
            "disabled": false,
            "icon": "wrench",
            "layout": "IPY_MODEL_cd47ac5649544a42a1719c9d9d0de8a7",
            "style": "IPY_MODEL_3f127b0ab02f40f69e85a7efc03c08e5",
            "tooltip": "Toolbar",
            "value": false
          }
        },
        "35d7b0423eb04d89925545316e28aa00": {
          "model_module": "@jupyter-widgets/base",
          "model_name": "LayoutModel",
          "model_module_version": "1.2.0",
          "state": {
            "_model_module": "@jupyter-widgets/base",
            "_model_module_version": "1.2.0",
            "_model_name": "LayoutModel",
            "_view_count": null,
            "_view_module": "@jupyter-widgets/base",
            "_view_module_version": "1.2.0",
            "_view_name": "LayoutView",
            "align_content": null,
            "align_items": null,
            "align_self": null,
            "border": null,
            "bottom": null,
            "display": null,
            "flex": null,
            "flex_flow": null,
            "grid_area": null,
            "grid_auto_columns": null,
            "grid_auto_flow": null,
            "grid_auto_rows": null,
            "grid_column": null,
            "grid_gap": null,
            "grid_row": null,
            "grid_template_areas": null,
            "grid_template_columns": null,
            "grid_template_rows": null,
            "height": null,
            "justify_content": null,
            "justify_items": null,
            "left": null,
            "margin": null,
            "max_height": null,
            "max_width": null,
            "min_height": null,
            "min_width": null,
            "object_fit": null,
            "object_position": null,
            "order": null,
            "overflow": null,
            "overflow_x": null,
            "overflow_y": null,
            "padding": null,
            "right": null,
            "top": null,
            "visibility": null,
            "width": null
          }
        },
        "cd47ac5649544a42a1719c9d9d0de8a7": {
          "model_module": "@jupyter-widgets/base",
          "model_name": "LayoutModel",
          "model_module_version": "1.2.0",
          "state": {
            "_model_module": "@jupyter-widgets/base",
            "_model_module_version": "1.2.0",
            "_model_name": "LayoutModel",
            "_view_count": null,
            "_view_module": "@jupyter-widgets/base",
            "_view_module_version": "1.2.0",
            "_view_name": "LayoutView",
            "align_content": null,
            "align_items": null,
            "align_self": null,
            "border": null,
            "bottom": null,
            "display": null,
            "flex": null,
            "flex_flow": null,
            "grid_area": null,
            "grid_auto_columns": null,
            "grid_auto_flow": null,
            "grid_auto_rows": null,
            "grid_column": null,
            "grid_gap": null,
            "grid_row": null,
            "grid_template_areas": null,
            "grid_template_columns": null,
            "grid_template_rows": null,
            "height": "28px",
            "justify_content": null,
            "justify_items": null,
            "left": null,
            "margin": null,
            "max_height": null,
            "max_width": null,
            "min_height": null,
            "min_width": null,
            "object_fit": null,
            "object_position": null,
            "order": null,
            "overflow": null,
            "overflow_x": null,
            "overflow_y": null,
            "padding": "0px 0px 0px 4px",
            "right": null,
            "top": null,
            "visibility": null,
            "width": "28px"
          }
        },
        "3f127b0ab02f40f69e85a7efc03c08e5": {
          "model_module": "@jupyter-widgets/controls",
          "model_name": "DescriptionStyleModel",
          "model_module_version": "1.5.0",
          "state": {
            "_model_module": "@jupyter-widgets/controls",
            "_model_module_version": "1.5.0",
            "_model_name": "DescriptionStyleModel",
            "_view_count": null,
            "_view_module": "@jupyter-widgets/base",
            "_view_module_version": "1.2.0",
            "_view_name": "StyleView",
            "description_width": ""
          }
        }
      }
    }
  },
  "cells": [
    {
      "cell_type": "code",
      "execution_count": null,
      "metadata": {
        "id": "lkyJqIWPZvAS"
      },
      "outputs": [],
      "source": [
        "import pandas as pd"
      ]
    },
    {
      "cell_type": "code",
      "source": [
        "velviento04 = pd.read_csv('velviento04.csv',sep=';')\n",
        "velviento10 = pd.read_csv('velviento10.csv',sep=';')"
      ],
      "metadata": {
        "id": "iGw4rhc6Z7aS"
      },
      "execution_count": null,
      "outputs": []
    },
    {
      "cell_type": "code",
      "source": [
        "# Drop rows with two NaN values\n",
        "velviento04 = velviento04.dropna(subset=['Unnamed: 2', 'Unnamed: 3'], how='all')\n",
        "velviento04['velviento04'] = velviento04['Unnamed: 2'].combine_first(velviento04['Unnamed: 3'])\n",
        "# Drop the original 'Unnamed: 2' and 'Unnamed: 3' columns if needed\n",
        "velviento04 = velviento04.drop(['Unnamed: 2', 'Unnamed: 3','HORA (HHMM)'], axis=1)\n",
        "velviento04['velviento04'] = velviento04['velviento04'].str.replace(',', '.').astype(float)\n",
        "velviento04['FECHA (YYMMDD)'] =pd.to_datetime(velviento04['FECHA (YYMMDD)'],format='%y%m%d')\n",
        "velviento04 = velviento04.groupby(velviento04['FECHA (YYMMDD)'])['velviento04'].mean()\n",
        "# Drop rows with two NaN values\n",
        "velviento10 = velviento10.dropna(subset=['Unnamed: 2', 'Unnamed: 3'], how='all')\n",
        "velviento10['velviento10'] = velviento10['Unnamed: 2'].combine_first(velviento10['Unnamed: 3'])\n",
        "# Drop the original 'Unnamed: 2' and 'Unnamed: 3' columns if needed\n",
        "velviento10 = velviento10.drop(['Unnamed: 2', 'Unnamed: 3','HORA (HHMM)'], axis=1)\n",
        "velviento10['velviento10'] = velviento10['velviento10'].str.replace(',', '.').astype(float)\n",
        "velviento10['FECHA (YYMMDD)'] =pd.to_datetime(velviento10['FECHA (YYMMDD)'],format='%y%m%d')\n",
        "velviento10 = velviento10.groupby(velviento10['FECHA (YYMMDD)'])['velviento10'].mean()"
      ],
      "metadata": {
        "colab": {
          "base_uri": "https://localhost:8080/"
        },
        "id": "Dmc8mTS5LCNC",
        "outputId": "f26b5b72-8751-47b2-ec78-83d9cc72a18c"
      },
      "execution_count": null,
      "outputs": [
        {
          "output_type": "stream",
          "name": "stderr",
          "text": [
            "<ipython-input-29-2e79961fdf7f>:3: SettingWithCopyWarning: \n",
            "A value is trying to be set on a copy of a slice from a DataFrame.\n",
            "Try using .loc[row_indexer,col_indexer] = value instead\n",
            "\n",
            "See the caveats in the documentation: https://pandas.pydata.org/pandas-docs/stable/user_guide/indexing.html#returning-a-view-versus-a-copy\n",
            "  velviento04['velviento04'] = velviento04['Unnamed: 2'].combine_first(velviento04['Unnamed: 3'])\n",
            "<ipython-input-29-2e79961fdf7f>:11: SettingWithCopyWarning: \n",
            "A value is trying to be set on a copy of a slice from a DataFrame.\n",
            "Try using .loc[row_indexer,col_indexer] = value instead\n",
            "\n",
            "See the caveats in the documentation: https://pandas.pydata.org/pandas-docs/stable/user_guide/indexing.html#returning-a-view-versus-a-copy\n",
            "  velviento10['velviento10'] = velviento10['Unnamed: 2'].combine_first(velviento10['Unnamed: 3'])\n"
          ]
        }
      ]
    },
    {
      "cell_type": "code",
      "source": [
        "no = pd.read_csv('NO.csv',sep=';')\n",
        "no.drop('Unnamed: 5',axis=1,inplace=True)\n",
        "no.dropna(subset=['Registros preliminares', 'Registros no validados','Registros validados'], how='all',inplace=True)\n",
        "no['NO'] = no['Registros preliminares'].combine_first(no['Registros no validados'])\n",
        "no['NO'] = no['Registros validados'].combine_first(no['NO'])\n",
        "no.drop(['Registros preliminares','Registros no validados', 'Registros validados','HORA (HHMM)' ],axis=1,inplace=True)\n",
        "no['FECHA (YYMMDD)'] =pd.to_datetime(no['FECHA (YYMMDD)'],format='%y%m%d')\n",
        "no['NO'] = no['NO'].str.replace(',', '.').astype(float)\n",
        "nox = pd.read_csv('NOX.csv',sep=';')\n",
        "nox.drop('Unnamed: 5',axis=1,inplace=True)\n",
        "nox.dropna(subset=['Registros preliminares', 'Registros no validados','Registros validados'], how='all',inplace=True)\n",
        "nox['NOX'] = nox['Registros preliminares'].combine_first(nox['Registros no validados'])\n",
        "nox['NOX'] = nox['Registros validados'].combine_first(nox['NOX'])\n",
        "nox.drop(['Registros preliminares','Registros no validados', 'Registros validados','HORA (HHMM)' ],axis=1,inplace=True)\n",
        "nox['FECHA (YYMMDD)'] =pd.to_datetime(nox['FECHA (YYMMDD)'],format='%y%m%d')\n",
        "nox['NOX'] = nox['NOX'].str.replace(',', '.').astype(float)\n",
        "no2 = pd.read_csv('no2.csv',sep=';')\n",
        "no2.drop('Unnamed: 5',axis=1,inplace=True)\n",
        "no2.dropna(subset=['Registros preliminares', 'Registros no validados','Registros validados'], how='all',inplace=True)\n",
        "no2['NO2'] = no2['Registros preliminares'].combine_first(no2['Registros no validados'])\n",
        "no2['NO2'] = no2['Registros validados'].combine_first(no2['NO2'])\n",
        "no2.drop(['Registros preliminares','Registros no validados', 'Registros validados','HORA (HHMM)' ],axis=1,inplace=True)\n",
        "no2['FECHA (YYMMDD)'] =pd.to_datetime(no2['FECHA (YYMMDD)'],format='%y%m%d')\n",
        "no2['NO2'] = no2['NO2'].str.replace(',', '.').astype(float)"
      ],
      "metadata": {
        "id": "73mlogQ8Z-8x"
      },
      "execution_count": null,
      "outputs": []
    },
    {
      "cell_type": "code",
      "source": [
        "co = pd.read_csv('co.csv',sep=';')\n",
        "co.drop('Unnamed: 5',axis=1,inplace=True)\n",
        "co.dropna(subset=['Registros preliminares', 'Registros no validados','Registros validados'], how='all',inplace=True)\n",
        "co['CO'] = co['Registros preliminares'].combine_first(co['Registros no validados'])\n",
        "co['CO'] = co['Registros validados'].combine_first(co['CO'])\n",
        "co.drop(['Registros preliminares','Registros no validados', 'Registros validados','HORA (HHMM)' ],axis=1,inplace=True)\n",
        "co['FECHA (YYMMDD)'] =pd.to_datetime(co['FECHA (YYMMDD)'],format='%y%m%d')\n",
        "co['CO'] = co['CO'].str.replace(',', '.').astype(float)\n"
      ],
      "metadata": {
        "id": "7URUri7HZHJh"
      },
      "execution_count": null,
      "outputs": []
    },
    {
      "cell_type": "code",
      "source": [
        "o3 = pd.read_csv('o3.csv',sep=';')\n",
        "o3.drop('Unnamed: 5',axis=1,inplace=True)\n",
        "o3.dropna(subset=['Registros preliminares', 'Registros no validados','Registros validados'], how='all',inplace=True)\n",
        "o3['O3'] = o3['Registros preliminares'].combine_first(o3['Registros no validados'])\n",
        "o3['O3'] = o3['Registros validados'].combine_first(o3['O3'])\n",
        "o3.drop(['Registros preliminares','Registros no validados', 'Registros validados','HORA (HHMM)' ],axis=1,inplace=True)\n",
        "o3['FECHA (YYMMDD)'] =pd.to_datetime(o3['FECHA (YYMMDD)'],format='%y%m%d')\n",
        "o3['O3'] = o3['O3'].str.replace(',', '.').astype(float)\n"
      ],
      "metadata": {
        "id": "GZ0rVcWhgc_Z"
      },
      "execution_count": null,
      "outputs": []
    },
    {
      "cell_type": "code",
      "source": [
        "so2 = pd.read_csv('so2.csv',sep=';')\n",
        "so2.drop('Unnamed: 5',axis=1,inplace=True)\n",
        "so2.dropna(subset=['Registros preliminares', 'Registros no validados','Registros validados'], how='all',inplace=True)\n",
        "so2['SO2'] = so2['Registros preliminares'].combine_first(so2['Registros no validados'])\n",
        "so2['SO2'] = so2['Registros validados'].combine_first(so2['SO2'])\n",
        "so2.drop(['Registros preliminares','Registros no validados', 'Registros validados','HORA (HHMM)' ],axis=1,inplace=True)\n",
        "so2['FECHA (YYMMDD)'] =pd.to_datetime(so2['FECHA (YYMMDD)'],format='%y%m%d')\n",
        "so2['SO2'] = so2['SO2'].str.replace(',', '.').astype(float)"
      ],
      "metadata": {
        "id": "7tdcHR_qgvD4"
      },
      "execution_count": null,
      "outputs": []
    },
    {
      "cell_type": "code",
      "source": [
        "hrel2 = pd.read_csv('hrel2.csv',sep=';')\n",
        "hrel2 = hrel2.dropna(subset=['Unnamed: 2', 'Unnamed: 3'], how='all')\n",
        "hrel2['hrel2'] = hrel2['Unnamed: 2'].combine_first(hrel2['Unnamed: 3'])\n",
        "# Drop the original 'Unnamed: 2' and 'Unnamed: 3' columns if needed\n",
        "hrel2 = hrel2.drop(['Unnamed: 2', 'Unnamed: 3','HORA (HHMM)'], axis=1)\n",
        "hrel2['hrel2'] = hrel2['hrel2'].str.replace(',', '.').astype(float)\n",
        "hrel2['FECHA (YYMMDD)'] =pd.to_datetime(hrel2['FECHA (YYMMDD)'],format='%y%m%d')\n",
        "hrel2 = hrel2.groupby(hrel2['FECHA (YYMMDD)'])['hrel2'].mean()"
      ],
      "metadata": {
        "id": "QkHyEFQNnOxg"
      },
      "execution_count": null,
      "outputs": []
    },
    {
      "cell_type": "code",
      "source": [
        "hrel4 = pd.read_csv('hrel4.csv',sep=';')\n",
        "hrel4 = hrel4.dropna(subset=['Unnamed: 2', 'Unnamed: 3'], how='all')\n",
        "hrel4['hrel4'] = hrel4['Unnamed: 2'].combine_first(hrel4['Unnamed: 3'])\n",
        "# Drop the original 'Unnamed: 2' and 'Unnamed: 3' columns if needed\n",
        "hrel4 = hrel4.drop(['Unnamed: 2', 'Unnamed: 3','HORA (HHMM)'], axis=1)\n",
        "hrel4['hrel4'] = hrel4['hrel4'].str.replace(',', '.').astype(float)\n",
        "hrel4['FECHA (YYMMDD)'] =pd.to_datetime(hrel4['FECHA (YYMMDD)'],format='%y%m%d')\n",
        "hrel4 = hrel4.groupby(hrel4['FECHA (YYMMDD)'])['hrel4'].mean()"
      ],
      "metadata": {
        "id": "PC0iQtEvekgf"
      },
      "execution_count": null,
      "outputs": []
    },
    {
      "cell_type": "code",
      "source": [
        "mp10= pd.read_csv('mp10.csv',sep=';')\n",
        "mp10.drop('Unnamed: 5',axis=1,inplace=True)\n",
        "mp10.dropna(subset=['Registros preliminares', 'Registros no validados','Registros validados'], how='all',inplace=True)\n",
        "mp10['MP10'] = mp10['Registros preliminares'].combine_first(mp10['Registros no validados'])\n",
        "mp10['MP10'] = mp10['Registros validados'].combine_first(mp10['MP10'])\n",
        "mp10.drop(['Registros preliminares','Registros no validados', 'Registros validados','HORA (HHMM)' ],axis=1,inplace=True)\n",
        "mp10['FECHA (YYMMDD)'] =pd.to_datetime(mp10['FECHA (YYMMDD)'],format='%y%m%d')\n",
        "mp10['MP10'] = mp10['MP10'].str.replace(',', '.').astype(float)\n"
      ],
      "metadata": {
        "id": "ksbrQxNQlrJc"
      },
      "execution_count": null,
      "outputs": []
    },
    {
      "cell_type": "code",
      "source": [
        "mp25= pd.read_csv('mp25.csv',sep=';')\n",
        "mp25.drop('Unnamed: 5',axis=1,inplace=True)\n",
        "mp25.dropna(subset=['Registros preliminares', 'Registros no validados','Registros validados'], how='all',inplace=True)\n",
        "mp25['MP25'] = mp25['Registros preliminares'].combine_first(mp25['Registros no validados'])\n",
        "mp25['MP25'] = mp25['Registros validados'].combine_first(mp25['MP25'])\n",
        "mp25.drop(['Registros preliminares','Registros no validados', 'Registros validados','HORA (HHMM)' ],axis=1,inplace=True)\n",
        "mp25['FECHA (YYMMDD)'] =pd.to_datetime(mp25['FECHA (YYMMDD)'],format='%y%m%d')\n",
        "mp25['MP25'] = mp25['MP25'].str.replace(',', '.').astype(float)"
      ],
      "metadata": {
        "id": "y0ktMU1gfdRd"
      },
      "execution_count": null,
      "outputs": []
    },
    {
      "cell_type": "code",
      "source": [
        "tamb10 = pd.read_csv('tamb10.csv',sep=';')\n",
        "tamb10 = tamb10.dropna(subset=['Unnamed: 2', 'Unnamed: 3'], how='all')\n",
        "tamb10['tamb10'] = tamb10['Unnamed: 2'].combine_first(tamb10['Unnamed: 3'])\n",
        "# Drop the original 'Unnamed: 2' and 'Unnamed: 3' columns if needed\n",
        "tamb10 = tamb10.drop(['Unnamed: 2', 'Unnamed: 3','HORA (HHMM)'], axis=1)\n",
        "tamb10['tamb10'] = tamb10['tamb10'].str.replace(',', '.').astype(float)\n",
        "tamb10['FECHA (YYMMDD)'] =pd.to_datetime(tamb10['FECHA (YYMMDD)'],format='%y%m%d')\n",
        "tamb10 = tamb10.groupby(tamb10['FECHA (YYMMDD)'])['tamb10'].mean()\n",
        "tamb2 = pd.read_csv('tamb2.csv',sep=';')\n",
        "tamb2 = tamb2.dropna(subset=['Unnamed: 2', 'Unnamed: 3'], how='all')\n",
        "tamb2['tamb2'] = tamb2['Unnamed: 2'].combine_first(tamb2['Unnamed: 3'])\n",
        "# Drop the original 'Unnamed: 2' and 'Unnamed: 3' columns if needed\n",
        "tamb2 = tamb2.drop(['Unnamed: 2', 'Unnamed: 3','HORA (HHMM)'], axis=1)\n",
        "tamb2['tamb2'] = tamb2['tamb2'].str.replace(',', '.').astype(float)\n",
        "tamb2['FECHA (YYMMDD)'] =pd.to_datetime(tamb2['FECHA (YYMMDD)'],format='%y%m%d')\n",
        "tamb2 = tamb2.groupby(tamb2['FECHA (YYMMDD)'])['tamb2'].mean()\n",
        "tamb4 = pd.read_csv('tamb4.csv',sep=';')\n",
        "tamb4 = tamb4.dropna(subset=['Unnamed: 2', 'Unnamed: 3'], how='all')\n",
        "tamb4['tamb4'] = tamb4['Unnamed: 2'].combine_first(tamb4['Unnamed: 3'])\n",
        "# Drop the original 'Unnamed: 2' and 'Unnamed: 3' columns if needed\n",
        "tamb4 = tamb4.drop(['Unnamed: 2', 'Unnamed: 3','HORA (HHMM)'], axis=1)\n",
        "tamb4['tamb4'] = tamb4['tamb4'].str.replace(',', '.').astype(float)\n",
        "tamb4['FECHA (YYMMDD)'] =pd.to_datetime(tamb4['FECHA (YYMMDD)'],format='%y%m%d')\n",
        "tamb4 = tamb4.groupby(tamb4['FECHA (YYMMDD)'])['tamb4'].mean()"
      ],
      "metadata": {
        "id": "B4SMLOM3g2ME"
      },
      "execution_count": null,
      "outputs": []
    },
    {
      "cell_type": "code",
      "source": [
        "import pandas as pd\n",
        "\n",
        "# Supongamos que tienes tus DataFrames co, hrel2, hrel4, mp10, mp25, no, no2, nox, o3, so2, tamb10, tamb2, tamb4, velviento01 y velviento10\n",
        "\n",
        "# Lista de DataFrames\n",
        "dataframes = [co, hrel2, hrel4, mp10, mp25, no, no2, nox, o3, so2, tamb10, tamb2, tamb4, velviento04, velviento10]\n",
        "\n",
        "\n",
        "# Unir los DataFrames en base a la columna de fecha\n",
        "merged_df = pd.DataFrame({'FECHA (YYMMDD)': co['FECHA (YYMMDD)']})  # Tomamos la columna de fecha de un DataFrame como base\n",
        "\n",
        "for df in dataframes:\n",
        "    merged_df = pd.merge(merged_df, df, on='FECHA (YYMMDD)', how='outer')\n",
        "\n",
        "# Ordenar por la columna de fecha\n",
        "merged_df.sort_values(by='FECHA (YYMMDD)', inplace=True)\n",
        "\n",
        "# Llenar los valores NaN utilizando la función combine_first\n",
        "for i in range(1, len(dataframes)):\n",
        "    suffix = f'_df{i}'  # Sufijo para distinguir las columnas\n",
        "    merged_df.iloc[:, 1:].update(merged_df.filter(like=suffix).combine_first(merged_df.filter(like='_df0')))\n",
        "\n",
        "# Eliminar las columnas duplicadas (excepto la primera)\n",
        "merged_df = merged_df.loc[:,~merged_df.columns.duplicated()]\n",
        "\n",
        "# El DataFrame merged_df ahora contiene todas las columnas de los DataFrames originales\n",
        "print(merged_df)"
      ],
      "metadata": {
        "colab": {
          "base_uri": "https://localhost:8080/"
        },
        "id": "d9gQeBcCiMK8",
        "outputId": "2494837f-bdb7-4e97-80de-523772d2a6cb"
      },
      "execution_count": null,
      "outputs": [
        {
          "output_type": "stream",
          "name": "stdout",
          "text": [
            "     FECHA (YYMMDD)    CO     hrel2      hrel4  MP10     MP25       NO   NO2  \\\n",
            "3944     2012-10-18   NaN       NaN   7.515301   NaN      NaN      NaN   NaN   \n",
            "3838     2012-10-19   NaN  8.016803  13.931972   NaN  13.7634      NaN   NaN   \n",
            "3945     2012-10-20   NaN       NaN  13.326577   NaN  12.6464      NaN   NaN   \n",
            "3946     2012-10-21   NaN       NaN  16.004156   NaN  13.0615      NaN   NaN   \n",
            "3947     2012-10-22   NaN       NaN  17.714846   NaN  12.2582      NaN   NaN   \n",
            "...             ...   ...       ...        ...   ...      ...      ...   ...   \n",
            "3835     2023-12-08  0.23       NaN  12.935504  32.0   6.0000  3.01643  8.16   \n",
            "3836     2023-12-09  0.23       NaN  13.733349  33.0   7.0000  3.04807  8.05   \n",
            "3837     2023-12-10  0.22       NaN  14.855127  30.0   5.0000  3.13992  8.42   \n",
            "3994     2023-12-11   NaN       NaN  13.073820   NaN      NaN      NaN   NaN   \n",
            "3995     2023-12-12   NaN       NaN  12.579744   NaN      NaN      NaN   NaN   \n",
            "\n",
            "          NOX    O3   SO2     tamb10      tamb2      tamb4  velviento04  \\\n",
            "3944      NaN   NaN   NaN        NaN        NaN        NaN          NaN   \n",
            "3838      NaN   NaN   NaN  18.117033  18.690967        NaN          NaN   \n",
            "3945      NaN   NaN   NaN        NaN        NaN        NaN          NaN   \n",
            "3946      NaN   NaN   NaN        NaN        NaN        NaN          NaN   \n",
            "3947      NaN   NaN   NaN        NaN        NaN        NaN          NaN   \n",
            "...       ...   ...   ...        ...        ...        ...          ...   \n",
            "3835  11.1729  34.0  1.22  18.730377        NaN  19.083387     2.281483   \n",
            "3836  11.0971  35.0  1.04  19.831799        NaN  20.230020     2.207022   \n",
            "3837  11.5575  32.0  1.55  19.378692        NaN  19.840358     2.252747   \n",
            "3994      NaN   NaN   NaN  19.664687        NaN  20.051696     2.204642   \n",
            "3995      NaN   NaN   NaN  18.531364        NaN  18.737243     1.674540   \n",
            "\n",
            "      velviento10  \n",
            "3944          NaN  \n",
            "3838     1.487117  \n",
            "3945          NaN  \n",
            "3946          NaN  \n",
            "3947          NaN  \n",
            "...           ...  \n",
            "3835     3.004314  \n",
            "3836     2.915798  \n",
            "3837     2.937747  \n",
            "3994     2.904519  \n",
            "3995     2.286066  \n",
            "\n",
            "[3996 rows x 16 columns]\n"
          ]
        }
      ]
    },
    {
      "cell_type": "code",
      "source": [
        "nan_count = merged_df.isna().sum()\n",
        "print(nan_count)\n"
      ],
      "metadata": {
        "colab": {
          "base_uri": "https://localhost:8080/"
        },
        "id": "H9AGuBeSiYYP",
        "outputId": "59670acc-f97d-4864-8216-35a4b3e12368"
      },
      "execution_count": null,
      "outputs": [
        {
          "output_type": "stream",
          "name": "stdout",
          "text": [
            "FECHA (YYMMDD)       0\n",
            "CO                 158\n",
            "hrel2             1415\n",
            "hrel4                0\n",
            "MP10              1606\n",
            "MP25              1560\n",
            "NO                 193\n",
            "NO2                191\n",
            "NOX                189\n",
            "O3                1565\n",
            "SO2                139\n",
            "tamb10              37\n",
            "tamb2             1415\n",
            "tamb4               41\n",
            "velviento04       2853\n",
            "velviento10         37\n",
            "dtype: int64\n"
          ]
        }
      ]
    },
    {
      "cell_type": "code",
      "source": [
        "import matplotlib.pyplot as plt\n",
        "import seaborn as sns\n",
        "\n",
        "# Calculate the count of NaN for each column\n",
        "nan_count = merged_df.isna().sum()\n",
        "\n",
        "# Set seaborn style (optional)\n",
        "sns.set(style=\"whitegrid\")\n",
        "\n",
        "# Create a bar plot\n",
        "plt.figure(figsize=(12, 6))\n",
        "nan_count.plot(kind='bar', color='skyblue')\n",
        "plt.title('Number of NaN Values per Column')\n",
        "plt.xlabel('Column')\n",
        "plt.ylabel('Number of NaN Values')\n",
        "plt.xticks(rotation=45, ha='right')  # Rotate x-axis labels for better readability\n",
        "\n",
        "# Show the plot\n",
        "plt.show()\n"
      ],
      "metadata": {
        "colab": {
          "base_uri": "https://localhost:8080/",
          "height": 664
        },
        "id": "GXtGIwhdj40v",
        "outputId": "d0cd31b7-d4c3-4e1a-decc-9374293adf9f"
      },
      "execution_count": null,
      "outputs": [
        {
          "output_type": "display_data",
          "data": {
            "text/plain": [
              "<Figure size 1200x600 with 1 Axes>"
            ],
            "image/png": "[encoded data removed]"
          },
          "metadata": {}
        }
      ]
    },
    {
      "cell_type": "code",
      "source": [
        "merged_df.dropna(subset=['MP25'], how='all',inplace=True)\n",
        "merged_df = merged_df.drop(['velviento04'], axis=1)\n",
        "nan_count = merged_df.isna().sum()\n",
        "print(nan_count)"
      ],
      "metadata": {
        "colab": {
          "base_uri": "https://localhost:8080/"
        },
        "id": "4KoMiff5mcHC",
        "outputId": "8336e54e-d08b-4aa7-9d1d-583b9fee14d8"
      },
      "execution_count": null,
      "outputs": [
        {
          "output_type": "stream",
          "name": "stdout",
          "text": [
            "FECHA (YYMMDD)      0\n",
            "CO                 98\n",
            "hrel2              45\n",
            "hrel4               0\n",
            "MP10               47\n",
            "MP25                0\n",
            "NO                130\n",
            "NO2               128\n",
            "NOX               126\n",
            "O3                120\n",
            "SO2                96\n",
            "tamb10             35\n",
            "tamb2              45\n",
            "tamb4              38\n",
            "velviento10        35\n",
            "dtype: int64\n"
          ]
        }
      ]
    },
    {
      "cell_type": "code",
      "source": [
        "# Calcular la cantidad de NaN y no NaN por cada columna\n",
        "nan_count = merged_df.isna().sum()\n",
        "non_nan_count = merged_df.count()\n",
        "\n",
        "# Calcular la proporción de NaN versus no NaN\n",
        "nan_proportion = nan_count / (nan_count + non_nan_count)\n",
        "\n",
        "# Configurar el gráfico de pastel\n",
        "plt.figure(figsize=(8, 8))\n",
        "plt.pie([nan_proportion.sum(), 1 - nan_proportion.sum()], labels=['NaN', 'Non-NaN'], autopct='%1.1f%%', colors=['skyblue', 'lightcoral'])\n",
        "plt.title('Proportion of NaN Values vs Non-NaN Values')\n",
        "\n",
        "# Mostrar el gráfico\n",
        "plt.show()"
      ],
      "metadata": {
        "colab": {
          "base_uri": "https://localhost:8080/",
          "height": 675
        },
        "id": "wqLizd4FoGlQ",
        "outputId": "99550f78-3d34-41f3-a1e4-af3ca80a5656"
      },
      "execution_count": null,
      "outputs": [
        {
          "output_type": "display_data",
          "data": {
            "text/plain": [
              "<Figure size 800x800 with 1 Axes>"
            ],
            "image/png": "[encoded data removed]"
          },
          "metadata": {}
        }
      ]
    },
    {
      "cell_type": "code",
      "source": [
        "merged_df = merged_df.sort_values(by='FECHA (YYMMDD)')\n",
        "columns_to_interpolate = merged_df.columns.difference(['FECHA (YYMMDD)'])\n",
        "merged_df[columns_to_interpolate]=merged_df[columns_to_interpolate] = merged_df[columns_to_interpolate].interpolate(method=\"values\", limit_direction=\"both\")\n",
        "# Crear nuevas columnas para año, mes y día\n",
        "merged_df['Year'] = merged_df['FECHA (YYMMDD)'].dt.year\n",
        "merged_df['Month'] = merged_df['FECHA (YYMMDD)'].dt.month\n",
        "merged_df['Day'] = merged_df['FECHA (YYMMDD)'].dt.day\n",
        "\n",
        "# Puedes eliminar la columna original de fecha si así lo deseas\n",
        "merged_df.drop('FECHA (YYMMDD)', axis=1, inplace=True)\n",
        "\n",
        "# Visualizar el DataFrame resultante\n",
        "print(merged_df.head())"
      ],
      "metadata": {
        "colab": {
          "base_uri": "https://localhost:8080/"
        },
        "id": "gKSrJU15qq6o",
        "outputId": "7887cb19-b11c-4558-cfc1-2f541744ed86"
      },
      "execution_count": null,
      "outputs": [
        {
          "output_type": "stream",
          "name": "stdout",
          "text": [
            "        CO      hrel2      hrel4      MP10     MP25        NO       NO2  \\\n",
            "3838  0.22   8.016803  13.931972  31.31366  13.7634  3.362754   8.64628   \n",
            "3945  0.22  23.483688  13.326577  35.00000  12.6464  6.653680  12.02000   \n",
            "3946  0.22  23.483688  16.004156  35.00000  13.0615  6.636150  12.02000   \n",
            "3947  0.22  23.483688  17.714846  35.00000  12.2582  6.618620  12.02000   \n",
            "3948  0.22  23.483688  13.992642  35.00000  14.4128  6.601090  12.02000   \n",
            "\n",
            "            NOX         O3       SO2     tamb10      tamb2      tamb4  \\\n",
            "3838  12.006796  31.821348  1.572432  18.117033  18.690967  19.576523   \n",
            "3945  18.746100  28.000000  0.520000  13.925997  14.362601  14.362601   \n",
            "3946  18.746100  28.000000  0.520000  13.925997  14.362601  14.362601   \n",
            "3947  18.746100  28.000000  0.520000  13.925997  14.362601  14.362601   \n",
            "3948  18.746100  28.000000  0.520000  13.925997  14.362601  14.362601   \n",
            "\n",
            "      velviento10  Year  Month  Day  \n",
            "3838     1.487117  2012     10   19  \n",
            "3945     2.680598  2012     10   20  \n",
            "3946     2.680598  2012     10   21  \n",
            "3947     2.680598  2012     10   22  \n",
            "3948     2.680598  2012     10   23  \n"
          ]
        }
      ]
    },
    {
      "cell_type": "code",
      "source": [
        "# Calcular la cantidad de NaN y no NaN por cada columna\n",
        "nan_count = merged_df.isna().sum()\n",
        "non_nan_count = merged_df.count()\n",
        "\n",
        "# Calcular la proporción de NaN versus no NaN\n",
        "nan_proportion = nan_count / (nan_count + non_nan_count)\n",
        "\n",
        "# Configurar el gráfico de pastel\n",
        "plt.figure(figsize=(8, 8))\n",
        "plt.pie([nan_proportion.sum(), 1 - nan_proportion.sum()], labels=['NaN', 'Non-NaN'], autopct='%1.1f%%', colors=['skyblue', 'lightcoral'])\n",
        "plt.title('Proportion of NaN Values vs Non-NaN Values')\n",
        "\n",
        "# Mostrar el gráfico\n",
        "plt.show()"
      ],
      "metadata": {
        "colab": {
          "base_uri": "https://localhost:8080/",
          "height": 675
        },
        "id": "Up0qGtaPsxGW",
        "outputId": "821521ea-7f6d-4190-843f-9adddd3ae7d2"
      },
      "execution_count": null,
      "outputs": [
        {
          "output_type": "display_data",
          "data": {
            "text/plain": [
              "<Figure size 800x800 with 1 Axes>"
            ],
            "image/png": "[encoded data removed]"
          },
          "metadata": {}
        }
      ]
    },
    {
      "cell_type": "code",
      "source": [
        "import ee\n",
        "import geemap.core as geemap\n",
        "!earthengine authenticate\n",
        "ee.Initialize()"
      ],
      "metadata": {
        "colab": {
          "base_uri": "https://localhost:8080/",
          "height": 183
        },
        "id": "yL3TCUXPr0Yj",
        "outputId": "2c269d8b-9dd6-4a7f-849a-8c09d3d75daf"
      },
      "execution_count": null,
      "outputs": [
        {
          "output_type": "display_data",
          "data": {
            "text/plain": [
              "<IPython.core.display.HTML object>"
            ],
            "text/html": [
              "\n",
              "            <style>\n",
              "                .geemap-dark {\n",
              "                    --jp-widgets-color: white;\n",
              "                    --jp-widgets-label-color: white;\n",
              "                    --jp-ui-font-color1: white;\n",
              "                    --jp-layout-color2: #454545;\n",
              "                    background-color: #383838;\n",
              "                }\n",
              "                    \n",
              "                .geemap-dark .jupyter-button {\n",
              "                    --jp-layout-color3: #383838;\n",
              "                }\n",
              "                \n",
              "                .geemap-colab {\n",
              "                    background-color: var(--colab-primary-surface-color, white);\n",
              "                }\n",
              "                    \n",
              "                .geemap-colab .jupyter-button {\n",
              "                    --jp-layout-color3: var(--colab-primary-surface-color, white);\n",
              "                }\n",
              "            </style>\n",
              "            "
            ]
          },
          "metadata": {}
        },
        {
          "output_type": "stream",
          "name": "stdout",
          "text": [
            "To authorize access needed by Earth Engine, open the following URL in a web browser and follow the instructions. If the web browser does not start automatically, please manually browse the URL below.\n",
            "\n",
            "    https://code.earthengine.google.com/client-auth?scopes=https%3A//www.googleapis.com/auth/earthengine%20https%3A//www.googleapis.com/auth/devstorage.full_control&request_id=qkzQo-TBz6fiG4JvigMT5Y_x0UvKq8_jIkajZ2XoHOU&tc=USIeT1sWcPOkktesNruaHL0BqhzBE3nviD6W1NEw6Ng&cc=mO-d_8xKo50WaHrYdo-l4LzmJVtmy5OIBE8RceTovJ4\n",
            "\n",
            "The authorization workflow will generate a code, which you should paste in the box below.\n",
            "Enter verification code: 4/1AfJohXla9YlEGEIuCASQMFCy57AhgFeBoYhLzruyLwU0L2rY7_pjIcPw_Mk\n",
            "\n",
            "Successfully saved authorization token.\n"
          ]
        }
      ]
    },
    {
      "cell_type": "code",
      "source": [
        "\n",
        "dataset = ee.ImageCollection('LANDSAT/LC08/C02/T1_L2')\n",
        "filtered = dataset.filterDate('2021-05-01', '2021-06-01')\n",
        "\n",
        "\n",
        "# Applies scaling factors.\n",
        "def apply_scale_factors(image):\n",
        "  optical_bands = image.select('SR_B.').multiply(0.0000275).add(-0.2)\n",
        "  thermal_bands = image.select('ST_B.*').multiply(0.00341802).add(149.0)\n",
        "  return image.addBands(optical_bands, None, True).addBands(\n",
        "      thermal_bands, None, True\n",
        "  )\n",
        "\n",
        "\n",
        "dataset = filtered.map(apply_scale_factors)\n",
        "image = ee.Image(filtered.sort('system:time_start', False).first())\n",
        "visualization = {\n",
        "    'bands': ['SR_B4', 'SR_B3', 'SR_B2'],\n",
        "    'min': 0.0,\n",
        "    'max': 0.3,\n",
        "}\n",
        "\n",
        "m = geemap.Map()\n",
        "point = ee.Geometry.Point(-68.93, -22.46)\n",
        "\n",
        "# Apply the coordinates method to the Point object.\n",
        "point_coordinates = point.coordinates()\n",
        "m.set_center(-68.93, -22.46, 8)\n",
        "m.add_layer(dataset, visualization, 'True Color (432)')\n",
        "m.add_layer(point, {'color': 'black'}, 'Geometry [black]: point')\n",
        "\n",
        "m"
      ],
      "metadata": {
        "id": "X7m0XMI_z-Nz",
        "colab": {
          "base_uri": "https://localhost:8080/",
          "height": 621,
          "referenced_widgets": [
            "157764a7cd814a0e887bf1cde12f2e70",
            "7f4913f42f034cb5846532843b1c8bb6",
            "e90817740eef454f9846545980bc53e4",
            "202c57950cd143ec9836b3cc86c9bc4c",
            "fd21a42883bf4086bff52018db06b4cb",
            "6ade661599274ca79eee62455539686b",
            "a8d7c7c4a88f46dfbe9a65f08413a760",
            "7505788d830045de915ebe937bafb92a",
            "d4f24cd658d348d5b66e23303054366e",
            "c512f2f3b25c4eb580e61940d6896482",
            "4e23818a752e4ea4b6311ee430b9808c",
            "728bcec2b1074b97afdd7fa42eff625f",
            "32a708b45a6a496994fe02fdf687fe4c",
            "2c1aef1bd6ba45d6af130ae7d4efd80e",
            "23491b8d15704682a9534c04fd873f91",
            "67cd0055b619489693b5286adf7b9c03",
            "35d7b0423eb04d89925545316e28aa00",
            "cd47ac5649544a42a1719c9d9d0de8a7",
            "3f127b0ab02f40f69e85a7efc03c08e5"
          ]
        },
        "outputId": "d14f91e0-a750-4bea-9cf8-0ff7308a5e57"
      },
      "execution_count": null,
      "outputs": [
        {
          "output_type": "display_data",
          "data": {
            "text/plain": [
              "<IPython.core.display.HTML object>"
            ],
            "text/html": [
              "\n",
              "            <style>\n",
              "                .geemap-dark {\n",
              "                    --jp-widgets-color: white;\n",
              "                    --jp-widgets-label-color: white;\n",
              "                    --jp-ui-font-color1: white;\n",
              "                    --jp-layout-color2: #454545;\n",
              "                    background-color: #383838;\n",
              "                }\n",
              "                    \n",
              "                .geemap-dark .jupyter-button {\n",
              "                    --jp-layout-color3: #383838;\n",
              "                }\n",
              "                \n",
              "                .geemap-colab {\n",
              "                    background-color: var(--colab-primary-surface-color, white);\n",
              "                }\n",
              "                    \n",
              "                .geemap-colab .jupyter-button {\n",
              "                    --jp-layout-color3: var(--colab-primary-surface-color, white);\n",
              "                }\n",
              "            </style>\n",
              "            "
            ]
          },
          "metadata": {}
        },
        {
          "output_type": "display_data",
          "data": {
            "text/plain": [
              "Map(center=[-22.46, -68.93], controls=(ZoomControl(options=['position', 'zoom_in_text', 'zoom_in_title', 'zoom…"
            ],
            "application/vnd.jupyter.widget-view+json": {
              "version_major": 2,
              "version_minor": 0,
              "model_id": "157764a7cd814a0e887bf1cde12f2e70"
            }
          },
          "metadata": {
            "application/vnd.jupyter.widget-view+json": {
              "colab": {
                "custom_widget_manager": {
                  "url": "https://ssl.gstatic.com/colaboratory-static/widgets/colab-cdn-widget-manager/b3e629b1971e1542/manager.min.js"
                }
              }
            }
          }
        }
      ]
    },
    {
      "cell_type": "code",
      "source": [
        "# Define una geometría de 5 km x 5 km centrada en el punto de interés\n",
        ") # 5000 metros = 5 km\n",
        "\n",
        "# Recorta la imagen según la geometría definida\n",
        "clipped_image = image.clip(square)\n",
        "# Define los parámetros de exportación\n",
        "export_params = {\n",
        "    'image': clipped_image,\n",
        "    'description': 'clipped_image',\n",
        "    'folder': 'GEE_Images',\n",
        "    'scale': 30,\n",
        "    'region': square.getInfo()['coordinates']\n",
        "}\n",
        "\n",
        "# Exporta la imagen a Google Drive\n"
      ],
      "metadata": {
        "colab": {
          "base_uri": "https://localhost:8080/",
          "height": 17
        },
        "id": "aXccywiBwJqF",
        "outputId": "a4c0cdd1-080e-4d85-cb65-db315265cbd4"
      },
      "execution_count": null,
      "outputs": [
        {
          "output_type": "display_data",
          "data": {
            "text/plain": [
              "<IPython.core.display.HTML object>"
            ],
            "text/html": [
              "\n",
              "            <style>\n",
              "                .geemap-dark {\n",
              "                    --jp-widgets-color: white;\n",
              "                    --jp-widgets-label-color: white;\n",
              "                    --jp-ui-font-color1: white;\n",
              "                    --jp-layout-color2: #454545;\n",
              "                    background-color: #383838;\n",
              "                }\n",
              "                    \n",
              "                .geemap-dark .jupyter-button {\n",
              "                    --jp-layout-color3: #383838;\n",
              "                }\n",
              "                \n",
              "                .geemap-colab {\n",
              "                    background-color: var(--colab-primary-surface-color, white);\n",
              "                }\n",
              "                    \n",
              "                .geemap-colab .jupyter-button {\n",
              "                    --jp-layout-color3: var(--colab-primary-surface-color, white);\n",
              "                }\n",
              "            </style>\n",
              "            "
            ]
          },
          "metadata": {}
        }
      ]
    },
    {
      "cell_type": "code",
      "source": [
        "from keras.models import Model\n",
        "from keras.layers import TimeDistributed, Conv2D, MaxPooling2D, Flatten, LSTM, Dense, Dropout, Bidirectional, Input, concatenate,Reshape\n",
        "from keras.utils import plot_model\n",
        "\n",
        "# Definición del modelo CNN\n",
        "input1 = Input(shape=(None, 100, 100, 8)) # Asume que tus imágenes son de 100x100 con 8 canales\n",
        "cnn = TimeDistributed(Conv2D(64, kernel_size=3, activation='relu'))(input1)\n",
        "cnn = TimeDistributed(MaxPooling2D(2))(cnn)\n",
        "cnn = TimeDistributed(Conv2D(128, kernel_size=3, activation='relu'))(cnn)\n",
        "cnn = TimeDistributed(MaxPooling2D(2))(cnn)\n",
        "cnn = TimeDistributed(Conv2D(64, kernel_size=3, activation='relu'))(cnn)\n",
        "cnn = TimeDistributed(MaxPooling2D(2))(cnn)\n",
        "cnn = TimeDistributed(Flatten())(cnn)\n",
        "\n",
        "# Definición del modelo LSTM\n",
        "input2 = Input(shape=(None, 14)) # Asume que tienes 14 características tabuladas\n",
        "dense = TimeDistributed(Dense(128, activation='relu'))(input2)\n",
        "dense = TimeDistributed(Dropout(0.5))(dense)\n",
        "dense = TimeDistributed(Dense(64, activation='relu'))(dense)\n",
        "dense = TimeDistributed(Dropout(0.5))(dense)\n",
        "dense = TimeDistributed(Dense(32, activation='relu'))(dense)\n",
        "\n",
        "# Combinación de los modelos\n",
        "merge = concatenate([cnn, dense])\n",
        "lstm = Bidirectional(LSTM(100, return_sequences=True))(merge)\n",
        "lstm = Dropout(0.5)(lstm)\n",
        "lstm = Bidirectional(LSTM(100, return_sequences=False))(lstm)\n",
        "lstm = Dropout(0.5)(lstm)\n",
        "\n",
        "# Capa de salida\n",
        "output = Dense(1, activation='linear')(lstm) # Asume que estás haciendo una regresión\n",
        "\n",
        "# Creación del modelo\n",
        "model = Model([input1, input2], output)\n",
        "model.compile(optimizer='adam', loss='mse', metrics=['mse', 'mae'])\n",
        "\n"
      ],
      "metadata": {
        "id": "Lwm66-iYtUjZ"
      },
      "execution_count": null,
      "outputs": []
    },
    {
      "cell_type": "code",
      "source": [
        "plot_model(model, to_file='model_plot.png', show_shapes=True, show_layer_names=True)"
      ],
      "metadata": {
        "id": "0FV4eKGUuqUS"
      },
      "execution_count": null,
      "outputs": []
    }
  ]
}